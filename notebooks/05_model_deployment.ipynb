{
 "cells": [
  {
   "cell_type": "markdown",
   "id": "59f30888-f40c-41d1-863a-8ecd460a58c2",
   "metadata": {},
   "source": [
    "## Imports and Setup"
   ]
  },
  {
   "cell_type": "code",
   "execution_count": 1,
   "id": "7c20ef0f-efe6-418d-9c8e-dfa1cf99e810",
   "metadata": {},
   "outputs": [
    {
     "name": "stderr",
     "output_type": "stream",
     "text": [
      "Intel(R) Extension for Scikit-learn* enabled (https://github.com/intel/scikit-learn-intelex)\n"
     ]
    }
   ],
   "source": [
    "import os\n",
    "import pandas as pd\n",
    "import geopandas as gpd\n",
    "import logging\n",
    "import joblib\n",
    "import torch\n",
    "\n",
    "import sys\n",
    "sys.path.insert(0, \"../src\")\n",
    "import sat_download\n",
    "\n",
    "sys.path.insert(0, \"../utils/\")\n",
    "import data_utils\n",
    "import config_utils\n",
    "import pred_utils\n",
    "import embed_utils\n",
    "\n",
    "%load_ext autoreload\n",
    "%autoreload 2"
   ]
  },
  {
   "cell_type": "markdown",
   "id": "43efdc61-1b10-4da4-b1f0-6d1c9af9ba07",
   "metadata": {},
   "source": [
    "## Load Config Files"
   ]
  },
  {
   "cell_type": "code",
   "execution_count": 2,
   "id": "ca7440cb-3df9-49cf-ab2e-458b459865b1",
   "metadata": {},
   "outputs": [],
   "source": [
    "iso_code = \"SEN\"\n",
    "adm_level = \"ADM2\"\n",
    "shapename = \"Foundiougne\"\n",
    "spacing = 150\n",
    "buffer_size = 150\n",
    "\n",
    "cwd = os.path.dirname(os.getcwd())\n",
    "data_config_file = os.path.join(cwd, \"configs/data_config.yaml\")\n",
    "data_config = config_utils.load_config(data_config_file)\n",
    "\n",
    "sat_config_file = os.path.join(cwd, \"configs/sat_configs/sat_config_500x500_60cm.yaml\")\n",
    "sat_creds_file = os.path.join(cwd, \"configs/sat_configs/issa_sat_creds.yaml\")\n",
    "\n",
    "sat_config = config_utils.load_config(sat_config_file)\n",
    "sat_creds = config_utils.create_config(sat_creds_file)"
   ]
  },
  {
   "cell_type": "markdown",
   "id": "a86dc38f-094b-43eb-b003-0e0f478abec9",
   "metadata": {},
   "source": [
    "## Generate Prediction Tiles"
   ]
  },
  {
   "cell_type": "code",
   "execution_count": 3,
   "id": "6d992e3f-280f-45d3-8273-efb7868af8bd",
   "metadata": {},
   "outputs": [
    {
     "name": "stderr",
     "output_type": "stream",
     "text": [
      "100%|████████████████████| 36/36 [04:28<00:00,  7.45s/it]                                                               \n"
     ]
    },
    {
     "name": "stdout",
     "output_type": "stream",
     "text": [
      "Total tiles: (6977, 12)\n"
     ]
    },
    {
     "data": {
      "text/html": [
       "<div>\n",
       "<style scoped>\n",
       "    .dataframe tbody tr th:only-of-type {\n",
       "        vertical-align: middle;\n",
       "    }\n",
       "\n",
       "    .dataframe tbody tr th {\n",
       "        vertical-align: top;\n",
       "    }\n",
       "\n",
       "    .dataframe thead th {\n",
       "        text-align: right;\n",
       "    }\n",
       "</style>\n",
       "<table border=\"1\" class=\"dataframe\">\n",
       "  <thead>\n",
       "    <tr style=\"text-align: right;\">\n",
       "      <th></th>\n",
       "      <th>index</th>\n",
       "      <th>geometry</th>\n",
       "      <th>shapeName</th>\n",
       "      <th>shapeISO</th>\n",
       "      <th>shapeID</th>\n",
       "      <th>shapeGroup</th>\n",
       "      <th>shapeType</th>\n",
       "      <th>points</th>\n",
       "      <th>index_right</th>\n",
       "      <th>type</th>\n",
       "      <th>properties</th>\n",
       "      <th>UID</th>\n",
       "    </tr>\n",
       "  </thead>\n",
       "  <tbody>\n",
       "    <tr>\n",
       "      <th>0</th>\n",
       "      <td>191015</td>\n",
       "      <td>POLYGON ((-1800166.608 1538399.613, -1800166.6...</td>\n",
       "      <td>Foundiougne</td>\n",
       "      <td></td>\n",
       "      <td>32543966B99473740404621</td>\n",
       "      <td>SEN</td>\n",
       "      <td>ADM2</td>\n",
       "      <td>POINT (-1800316.608 1538249.613)</td>\n",
       "      <td>50224</td>\n",
       "      <td>Feature</td>\n",
       "      <td>{'height': -1.0, 'confidence': -1.0}</td>\n",
       "      <td>0</td>\n",
       "    </tr>\n",
       "    <tr>\n",
       "      <th>1</th>\n",
       "      <td>191016</td>\n",
       "      <td>POLYGON ((-1800166.608 1538549.613, -1800166.6...</td>\n",
       "      <td>Foundiougne</td>\n",
       "      <td></td>\n",
       "      <td>32543966B99473740404621</td>\n",
       "      <td>SEN</td>\n",
       "      <td>ADM2</td>\n",
       "      <td>POINT (-1800316.608 1538399.613)</td>\n",
       "      <td>50224</td>\n",
       "      <td>Feature</td>\n",
       "      <td>{'height': -1.0, 'confidence': -1.0}</td>\n",
       "      <td>1</td>\n",
       "    </tr>\n",
       "    <tr>\n",
       "      <th>2</th>\n",
       "      <td>191457</td>\n",
       "      <td>POLYGON ((-1800016.608 1538399.613, -1800016.6...</td>\n",
       "      <td>Foundiougne</td>\n",
       "      <td></td>\n",
       "      <td>32543966B99473740404621</td>\n",
       "      <td>SEN</td>\n",
       "      <td>ADM2</td>\n",
       "      <td>POINT (-1800166.608 1538249.613)</td>\n",
       "      <td>50224</td>\n",
       "      <td>Feature</td>\n",
       "      <td>{'height': -1.0, 'confidence': -1.0}</td>\n",
       "      <td>2</td>\n",
       "    </tr>\n",
       "  </tbody>\n",
       "</table>\n",
       "</div>"
      ],
      "text/plain": [
       "    index                                           geometry    shapeName  \\\n",
       "0  191015  POLYGON ((-1800166.608 1538399.613, -1800166.6...  Foundiougne   \n",
       "1  191016  POLYGON ((-1800166.608 1538549.613, -1800166.6...  Foundiougne   \n",
       "2  191457  POLYGON ((-1800016.608 1538399.613, -1800016.6...  Foundiougne   \n",
       "\n",
       "  shapeISO                  shapeID shapeGroup shapeType  \\\n",
       "0           32543966B99473740404621        SEN      ADM2   \n",
       "1           32543966B99473740404621        SEN      ADM2   \n",
       "2           32543966B99473740404621        SEN      ADM2   \n",
       "\n",
       "                             points  index_right     type  \\\n",
       "0  POINT (-1800316.608 1538249.613)        50224  Feature   \n",
       "1  POINT (-1800316.608 1538399.613)        50224  Feature   \n",
       "2  POINT (-1800166.608 1538249.613)        50224  Feature   \n",
       "\n",
       "                             properties  UID  \n",
       "0  {'height': -1.0, 'confidence': -1.0}    0  \n",
       "1  {'height': -1.0, 'confidence': -1.0}    1  \n",
       "2  {'height': -1.0, 'confidence': -1.0}    2  "
      ]
     },
     "execution_count": 3,
     "metadata": {},
     "output_type": "execute_result"
    }
   ],
   "source": [
    "tiles = pred_utils.generate_pred_tiles(\n",
    "    data_config, iso_code, spacing, buffer_size, adm_level, shapename\n",
    ").reset_index()\n",
    "tiles[\"UID\"] = list(tiles.index)\n",
    "\n",
    "out_dir = data_utils._makedir(os.path.join(cwd, \"output\", iso_code, \"tiles\"))\n",
    "out_file = os.path.join(out_dir, f\"{iso_code}_{shapename}.gpkg\")\n",
    "tiles[[\"geometry\"]].to_file(out_file, driver=\"GPKG\")\n",
    "\n",
    "print(f\"Total tiles: {tiles.shape}\")\n",
    "tiles.head(3)"
   ]
  },
  {
   "cell_type": "markdown",
   "id": "c92170dc-0a4a-46d0-b319-b74ceff6cf1d",
   "metadata": {},
   "source": [
    "## Download Satellite Images"
   ]
  },
  {
   "cell_type": "code",
   "execution_count": 4,
   "id": "c53d9e7c-4027-4368-bbf3-1a07484b3fa6",
   "metadata": {},
   "outputs": [
    {
     "name": "stderr",
     "output_type": "stream",
     "text": [
      "INFO:root:Data dimensions: (6977, 14), CRS: EPSG:3857\n",
      "100%|████████████████████| 6977/6977 [2:02:17<00:00,  1.05s/it]                                                         \n"
     ]
    }
   ],
   "source": [
    "data = tiles.copy()\n",
    "data[\"geometry\"] = data[\"points\"]\n",
    "sat_dir = os.path.join(cwd, \"output\", iso_code, \"images\", shapename)\n",
    "sat_download.download_sat_images(sat_creds, sat_config, data=data, out_dir=sat_dir)"
   ]
  },
  {
   "cell_type": "markdown",
   "id": "7932aee9-7308-4736-93fd-8bd0c91475ae",
   "metadata": {},
   "source": [
    "## CNN Model"
   ]
  },
  {
   "cell_type": "code",
   "execution_count": null,
   "id": "aaf0d3b0-b3d6-438c-a4db-3fbbea2823d4",
   "metadata": {},
   "outputs": [],
   "source": [
    "model_config_file = os.path.join(cwd, f\"configs/cnn_configs/vgg16.yaml\")\n",
    "model_config = config_utils.load_config(model_config_file)\n",
    "\n",
    "result = pred_utils.cnn_predict(tiles, iso_code, shapename, model_config, sat_dir, n_classes=2)"
   ]
  },
  {
   "cell_type": "markdown",
   "id": "a0ae9e20-6425-491e-99ee-2ae80ddf7044",
   "metadata": {},
   "source": [
    "## ViT Model"
   ]
  },
  {
   "cell_type": "code",
   "execution_count": 7,
   "id": "17ac87ea-d5fc-47e8-8383-85f67cafff48",
   "metadata": {},
   "outputs": [
    {
     "data": {
      "text/html": [
       "<div>\n",
       "<style scoped>\n",
       "    .dataframe tbody tr th:only-of-type {\n",
       "        vertical-align: middle;\n",
       "    }\n",
       "\n",
       "    .dataframe tbody tr th {\n",
       "        vertical-align: top;\n",
       "    }\n",
       "\n",
       "    .dataframe thead th {\n",
       "        text-align: right;\n",
       "    }\n",
       "</style>\n",
       "<table border=\"1\" class=\"dataframe\">\n",
       "  <thead>\n",
       "    <tr style=\"text-align: right;\">\n",
       "      <th></th>\n",
       "      <th>UID</th>\n",
       "      <th>0</th>\n",
       "      <th>1</th>\n",
       "      <th>2</th>\n",
       "      <th>3</th>\n",
       "      <th>4</th>\n",
       "      <th>5</th>\n",
       "      <th>6</th>\n",
       "      <th>7</th>\n",
       "      <th>8</th>\n",
       "      <th>...</th>\n",
       "      <th>1014</th>\n",
       "      <th>1015</th>\n",
       "      <th>1016</th>\n",
       "      <th>1017</th>\n",
       "      <th>1018</th>\n",
       "      <th>1019</th>\n",
       "      <th>1020</th>\n",
       "      <th>1021</th>\n",
       "      <th>1022</th>\n",
       "      <th>1023</th>\n",
       "    </tr>\n",
       "  </thead>\n",
       "  <tbody>\n",
       "    <tr>\n",
       "      <th>0</th>\n",
       "      <td>0</td>\n",
       "      <td>-0.648580</td>\n",
       "      <td>0.812641</td>\n",
       "      <td>1.782041</td>\n",
       "      <td>0.807176</td>\n",
       "      <td>-3.058083</td>\n",
       "      <td>-1.385760</td>\n",
       "      <td>3.914548</td>\n",
       "      <td>-0.628538</td>\n",
       "      <td>0.135209</td>\n",
       "      <td>...</td>\n",
       "      <td>-0.008649</td>\n",
       "      <td>-1.208241</td>\n",
       "      <td>-0.556140</td>\n",
       "      <td>0.089280</td>\n",
       "      <td>0.474727</td>\n",
       "      <td>1.490318</td>\n",
       "      <td>-2.104061</td>\n",
       "      <td>2.907655</td>\n",
       "      <td>-1.761186</td>\n",
       "      <td>-0.607599</td>\n",
       "    </tr>\n",
       "    <tr>\n",
       "      <th>1</th>\n",
       "      <td>1</td>\n",
       "      <td>-0.699730</td>\n",
       "      <td>-0.506200</td>\n",
       "      <td>1.284234</td>\n",
       "      <td>0.239414</td>\n",
       "      <td>-3.430830</td>\n",
       "      <td>-2.106042</td>\n",
       "      <td>3.507945</td>\n",
       "      <td>-0.659336</td>\n",
       "      <td>0.407805</td>\n",
       "      <td>...</td>\n",
       "      <td>-0.126094</td>\n",
       "      <td>-0.827913</td>\n",
       "      <td>-0.731924</td>\n",
       "      <td>-1.200732</td>\n",
       "      <td>-0.637605</td>\n",
       "      <td>1.696903</td>\n",
       "      <td>-1.839007</td>\n",
       "      <td>2.544005</td>\n",
       "      <td>-2.341905</td>\n",
       "      <td>0.052718</td>\n",
       "    </tr>\n",
       "    <tr>\n",
       "      <th>2</th>\n",
       "      <td>2</td>\n",
       "      <td>-1.781758</td>\n",
       "      <td>0.943659</td>\n",
       "      <td>1.433975</td>\n",
       "      <td>0.744863</td>\n",
       "      <td>-2.330132</td>\n",
       "      <td>-0.812688</td>\n",
       "      <td>3.586650</td>\n",
       "      <td>-1.658279</td>\n",
       "      <td>-0.423982</td>\n",
       "      <td>...</td>\n",
       "      <td>0.714072</td>\n",
       "      <td>-1.961411</td>\n",
       "      <td>-0.747469</td>\n",
       "      <td>0.978079</td>\n",
       "      <td>1.232219</td>\n",
       "      <td>2.570768</td>\n",
       "      <td>-1.366836</td>\n",
       "      <td>2.529151</td>\n",
       "      <td>-1.476436</td>\n",
       "      <td>-0.096525</td>\n",
       "    </tr>\n",
       "  </tbody>\n",
       "</table>\n",
       "<p>3 rows × 1025 columns</p>\n",
       "</div>"
      ],
      "text/plain": [
       "   UID         0         1         2         3         4         5         6  \\\n",
       "0    0 -0.648580  0.812641  1.782041  0.807176 -3.058083 -1.385760  3.914548   \n",
       "1    1 -0.699730 -0.506200  1.284234  0.239414 -3.430830 -2.106042  3.507945   \n",
       "2    2 -1.781758  0.943659  1.433975  0.744863 -2.330132 -0.812688  3.586650   \n",
       "\n",
       "          7         8  ...      1014      1015      1016      1017      1018  \\\n",
       "0 -0.628538  0.135209  ... -0.008649 -1.208241 -0.556140  0.089280  0.474727   \n",
       "1 -0.659336  0.407805  ... -0.126094 -0.827913 -0.731924 -1.200732 -0.637605   \n",
       "2 -1.658279 -0.423982  ...  0.714072 -1.961411 -0.747469  0.978079  1.232219   \n",
       "\n",
       "       1019      1020      1021      1022      1023  \n",
       "0  1.490318 -2.104061  2.907655 -1.761186 -0.607599  \n",
       "1  1.696903 -1.839007  2.544005 -2.341905  0.052718  \n",
       "2  2.570768 -1.366836  2.529151 -1.476436 -0.096525  \n",
       "\n",
       "[3 rows x 1025 columns]"
      ]
     },
     "execution_count": 7,
     "metadata": {},
     "output_type": "execute_result"
    }
   ],
   "source": [
    "temp = pd.read_csv(\"/home/itingzon.unicef/giga/output/SEN/embeddings/SEN_Foundiougne_dinov2_vitl14_embeds.csv\")\n",
    "temp.head(3)"
   ]
  },
  {
   "cell_type": "code",
   "execution_count": 13,
   "id": "44dbcf6b-3bfa-4759-add7-601f878ed777",
   "metadata": {},
   "outputs": [
    {
     "name": "stderr",
     "output_type": "stream",
     "text": [
      "Using cache found in /home/itingzon.unicef/.cache/torch/hub/facebookresearch_dinov2_main\n",
      "INFO:dinov2:using MLP layer as FFN\n",
      "INFO:root:Device: cpu\n",
      "INFO:root:Generating embeddings...\n",
      "INFO:root:Reading file /home/itingzon.unicef/giga/output/SEN/embeddings/SEN_Foundiougne_dinov2_vitl14_embeds.csv\n",
      "INFO:root:Loaded /home/itingzon.unicef/giga/exp/SEN-dinov2_vitl14-LR/SEN-dinov2_vitl14-LR.pkl\n",
      "INFO:sklearnex: sklearn.utils.validation._assert_all_finite: running accelerated version on CPU\n",
      "INFO:sklearnex:sklearn.utils.validation._assert_all_finite: running accelerated version on CPU\n",
      "INFO:root:Generated /home/itingzon.unicef/giga/output/SEN/results/SEN_Foundiougne_dinov2_vitl14-LR_results.gpkg\n"
     ]
    }
   ],
   "source": [
    "model_config_file = os.path.join(cwd, f\"configs/model_configs/dinov2_vitl14-LR.yaml\")\n",
    "model_config = config_utils.load_config(model_config_file)\n",
    "result = pred_utils.vit_pred(tiles, model_config, iso_code, shapename, sat_dir)"
   ]
  }
 ],
 "metadata": {
  "kernelspec": {
   "display_name": "giga2",
   "language": "python",
   "name": "giga2"
  },
  "language_info": {
   "codemirror_mode": {
    "name": "ipython",
    "version": 3
   },
   "file_extension": ".py",
   "mimetype": "text/x-python",
   "name": "python",
   "nbconvert_exporter": "python",
   "pygments_lexer": "ipython3",
   "version": "3.10.13"
  }
 },
 "nbformat": 4,
 "nbformat_minor": 5
}
