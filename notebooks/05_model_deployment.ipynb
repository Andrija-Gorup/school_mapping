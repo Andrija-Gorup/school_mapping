{
 "cells": [
  {
   "cell_type": "markdown",
   "id": "59f30888-f40c-41d1-863a-8ecd460a58c2",
   "metadata": {},
   "source": [
    "## Imports and Setup"
   ]
  },
  {
   "cell_type": "code",
   "execution_count": 1,
   "id": "76d98ad9-b913-431d-b2c2-c8c122245e20",
   "metadata": {},
   "outputs": [],
   "source": [
    "import os\n",
    "import pandas as pd\n",
    "import geopandas as gpd\n",
    "import logging\n",
    "import joblib\n",
    "import torch\n",
    "\n",
    "import sys\n",
    "sys.path.insert(0, \"../src\")\n",
    "import sat_download\n",
    "\n",
    "sys.path.insert(0, \"../utils/\")\n",
    "import data_utils\n",
    "import config_utils\n",
    "import pred_utils\n",
    "import embed_utils\n",
    "\n",
    "%load_ext autoreload\n",
    "%autoreload 2"
   ]
  },
  {
   "cell_type": "markdown",
   "id": "43efdc61-1b10-4da4-b1f0-6d1c9af9ba07",
   "metadata": {},
   "source": [
    "## Load Config Files"
   ]
  },
  {
   "cell_type": "code",
   "execution_count": 10,
   "id": "ca7440cb-3df9-49cf-ab2e-458b459865b1",
   "metadata": {},
   "outputs": [],
   "source": [
    "iso_code = \"BWA\"\n",
    "adm_level = \"ADM2\"\n",
    "shapename = \"Mahalapye\"\n",
    "spacing = 150\n",
    "buffer_size = 150\n",
    "\n",
    "cwd = os.path.dirname(os.getcwd())\n",
    "data_config_file = os.path.join(cwd, \"configs/data_config.yaml\")\n",
    "data_config = config_utils.load_config(data_config_file)\n",
    "\n",
    "sat_config_file = os.path.join(cwd, \"configs/sat_configs/sat_config_500x500_60cm.yaml\")\n",
    "sat_creds_file = os.path.join(cwd, \"configs/sat_configs/sat_creds.yaml\")\n",
    "\n",
    "sat_config = config_utils.load_config(sat_config_file)\n",
    "sat_creds = config_utils.create_config(sat_creds_file)\n",
    "\n",
    "model_config_file = os.path.join(cwd, f\"configs/model_configs/{iso_code}-dinov2_vitl14-SVC.yaml\")\n",
    "model_config = config_utils.load_config(model_config_file)"
   ]
  },
  {
   "cell_type": "markdown",
   "id": "a86dc38f-094b-43eb-b003-0e0f478abec9",
   "metadata": {},
   "source": [
    "## Generate Prediction Tiles"
   ]
  },
  {
   "cell_type": "code",
   "execution_count": 11,
   "id": "6d992e3f-280f-45d3-8273-efb7868af8bd",
   "metadata": {},
   "outputs": [
    {
     "name": "stderr",
     "output_type": "stream",
     "text": [
      "100%|████████████████████| 136/136 [03:45<00:00,  1.66s/it]                                                              \n"
     ]
    },
    {
     "name": "stdout",
     "output_type": "stream",
     "text": [
      "Total tiles: (32263, 12)\n"
     ]
    },
    {
     "data": {
      "text/html": [
       "<div>\n",
       "<style scoped>\n",
       "    .dataframe tbody tr th:only-of-type {\n",
       "        vertical-align: middle;\n",
       "    }\n",
       "\n",
       "    .dataframe tbody tr th {\n",
       "        vertical-align: top;\n",
       "    }\n",
       "\n",
       "    .dataframe thead th {\n",
       "        text-align: right;\n",
       "    }\n",
       "</style>\n",
       "<table border=\"1\" class=\"dataframe\">\n",
       "  <thead>\n",
       "    <tr style=\"text-align: right;\">\n",
       "      <th></th>\n",
       "      <th>index</th>\n",
       "      <th>geometry</th>\n",
       "      <th>shapeName</th>\n",
       "      <th>shapeISO</th>\n",
       "      <th>shapeID</th>\n",
       "      <th>shapeGroup</th>\n",
       "      <th>shapeType</th>\n",
       "      <th>points</th>\n",
       "      <th>index_right</th>\n",
       "      <th>type</th>\n",
       "      <th>properties</th>\n",
       "      <th>UID</th>\n",
       "    </tr>\n",
       "  </thead>\n",
       "  <tbody>\n",
       "    <tr>\n",
       "      <th>0</th>\n",
       "      <td>1496156</td>\n",
       "      <td>POLYGON ((3052469.260 -2622595.005, 3052469.26...</td>\n",
       "      <td>Mahalapye</td>\n",
       "      <td></td>\n",
       "      <td>29308430B30543037727108</td>\n",
       "      <td>BWA</td>\n",
       "      <td>ADM2</td>\n",
       "      <td>POINT (3052319.260 -2622745.005)</td>\n",
       "      <td>1037</td>\n",
       "      <td>Feature</td>\n",
       "      <td>{'height': -1.0, 'confidence': -1.0}</td>\n",
       "      <td>0</td>\n",
       "    </tr>\n",
       "    <tr>\n",
       "      <th>1</th>\n",
       "      <td>1496157</td>\n",
       "      <td>POLYGON ((3052469.260 -2622445.005, 3052469.26...</td>\n",
       "      <td>Mahalapye</td>\n",
       "      <td></td>\n",
       "      <td>29308430B30543037727108</td>\n",
       "      <td>BWA</td>\n",
       "      <td>ADM2</td>\n",
       "      <td>POINT (3052319.260 -2622595.005)</td>\n",
       "      <td>1037</td>\n",
       "      <td>Feature</td>\n",
       "      <td>{'height': -1.0, 'confidence': -1.0}</td>\n",
       "      <td>1</td>\n",
       "    </tr>\n",
       "    <tr>\n",
       "      <th>2</th>\n",
       "      <td>1497176</td>\n",
       "      <td>POLYGON ((3052619.260 -2622595.005, 3052619.26...</td>\n",
       "      <td>Mahalapye</td>\n",
       "      <td></td>\n",
       "      <td>29308430B30543037727108</td>\n",
       "      <td>BWA</td>\n",
       "      <td>ADM2</td>\n",
       "      <td>POINT (3052469.260 -2622745.005)</td>\n",
       "      <td>1037</td>\n",
       "      <td>Feature</td>\n",
       "      <td>{'height': -1.0, 'confidence': -1.0}</td>\n",
       "      <td>2</td>\n",
       "    </tr>\n",
       "  </tbody>\n",
       "</table>\n",
       "</div>"
      ],
      "text/plain": [
       "     index                                           geometry  shapeName  \\\n",
       "0  1496156  POLYGON ((3052469.260 -2622595.005, 3052469.26...  Mahalapye   \n",
       "1  1496157  POLYGON ((3052469.260 -2622445.005, 3052469.26...  Mahalapye   \n",
       "2  1497176  POLYGON ((3052619.260 -2622595.005, 3052619.26...  Mahalapye   \n",
       "\n",
       "  shapeISO                  shapeID shapeGroup shapeType  \\\n",
       "0           29308430B30543037727108        BWA      ADM2   \n",
       "1           29308430B30543037727108        BWA      ADM2   \n",
       "2           29308430B30543037727108        BWA      ADM2   \n",
       "\n",
       "                             points  index_right     type  \\\n",
       "0  POINT (3052319.260 -2622745.005)         1037  Feature   \n",
       "1  POINT (3052319.260 -2622595.005)         1037  Feature   \n",
       "2  POINT (3052469.260 -2622745.005)         1037  Feature   \n",
       "\n",
       "                             properties  UID  \n",
       "0  {'height': -1.0, 'confidence': -1.0}    0  \n",
       "1  {'height': -1.0, 'confidence': -1.0}    1  \n",
       "2  {'height': -1.0, 'confidence': -1.0}    2  "
      ]
     },
     "execution_count": 11,
     "metadata": {},
     "output_type": "execute_result"
    }
   ],
   "source": [
    "tiles = pred_utils.generate_pred_tiles(\n",
    "    data_config, iso_code, spacing, buffer_size, adm_level, shapename\n",
    ").reset_index()\n",
    "tiles[\"UID\"] = list(tiles.index)\n",
    "\n",
    "out_dir = data_utils._makedir(os.path.join(cwd, \"output\", iso_code))\n",
    "out_file = os.path.join(out_dir, f\"{iso_code}_{shapename}.gpkg\")\n",
    "tiles[[\"geometry\"]].to_file(out_file, driver=\"GPKG\")\n",
    "\n",
    "print(f\"Total tiles: {tiles.shape}\")\n",
    "tiles.head(3)"
   ]
  },
  {
   "cell_type": "markdown",
   "id": "c92170dc-0a4a-46d0-b319-b74ceff6cf1d",
   "metadata": {},
   "source": [
    "## Download Satellite Images"
   ]
  },
  {
   "cell_type": "code",
   "execution_count": 12,
   "id": "85318feb-fb88-4d28-88be-73bcb663a077",
   "metadata": {},
   "outputs": [
    {
     "name": "stderr",
     "output_type": "stream",
     "text": [
      "INFO:root:Data dimensions: (32263, 14), CRS: EPSG:3857\n",
      "100%|████████████████████| 32263/32263 [8:56:05<00:00,  1.00it/s]                                                        \n"
     ]
    }
   ],
   "source": [
    "data = tiles.copy()\n",
    "data[\"geometry\"] = data[\"points\"]\n",
    "sat_dir = os.path.join(cwd, \"output\", iso_code, shapename)\n",
    "sat_download.download_sat_images(sat_creds, sat_config, data=data, out_dir=sat_dir)"
   ]
  },
  {
   "cell_type": "markdown",
   "id": "264d1114-1185-4ebe-b74a-6b284c0a350f",
   "metadata": {},
   "source": [
    "## Load Model"
   ]
  },
  {
   "cell_type": "code",
   "execution_count": 13,
   "id": "ecda30dd-a6d0-4eb9-a91e-d61952d28e9f",
   "metadata": {},
   "outputs": [
    {
     "name": "stderr",
     "output_type": "stream",
     "text": [
      "Using cache found in /home/itingzon.unicef/.cache/torch/hub/facebookresearch_dinov2_main\n",
      "INFO:dinov2:using MLP layer as FFN\n"
     ]
    },
    {
     "data": {
      "text/plain": [
       "DinoVisionTransformer(\n",
       "  (patch_embed): PatchEmbed(\n",
       "    (proj): Conv2d(3, 1024, kernel_size=(14, 14), stride=(14, 14))\n",
       "    (norm): Identity()\n",
       "  )\n",
       "  (blocks): ModuleList(\n",
       "    (0-23): 24 x NestedTensorBlock(\n",
       "      (norm1): LayerNorm((1024,), eps=1e-06, elementwise_affine=True)\n",
       "      (attn): MemEffAttention(\n",
       "        (qkv): Linear(in_features=1024, out_features=3072, bias=True)\n",
       "        (attn_drop): Dropout(p=0.0, inplace=False)\n",
       "        (proj): Linear(in_features=1024, out_features=1024, bias=True)\n",
       "        (proj_drop): Dropout(p=0.0, inplace=False)\n",
       "      )\n",
       "      (ls1): LayerScale()\n",
       "      (drop_path1): Identity()\n",
       "      (norm2): LayerNorm((1024,), eps=1e-06, elementwise_affine=True)\n",
       "      (mlp): Mlp(\n",
       "        (fc1): Linear(in_features=1024, out_features=4096, bias=True)\n",
       "        (act): GELU(approximate='none')\n",
       "        (fc2): Linear(in_features=4096, out_features=1024, bias=True)\n",
       "        (drop): Dropout(p=0.0, inplace=False)\n",
       "      )\n",
       "      (ls2): LayerScale()\n",
       "      (drop_path2): Identity()\n",
       "    )\n",
       "  )\n",
       "  (norm): LayerNorm((1024,), eps=1e-06, elementwise_affine=True)\n",
       "  (head): Identity()\n",
       ")"
      ]
     },
     "execution_count": 13,
     "metadata": {},
     "output_type": "execute_result"
    }
   ],
   "source": [
    "model = torch.hub.load(\"facebookresearch/dinov2\", model_config[\"embed_model\"])\n",
    "model.name = model_config[\"embed_model\"]\n",
    "device = torch.device('cuda' if torch.cuda.is_available() else \"cpu\")\n",
    "model.to(device)"
   ]
  },
  {
   "cell_type": "markdown",
   "id": "c79b441a-b7e8-4ada-83e8-2df9c9c32ec1",
   "metadata": {},
   "source": [
    "## Generate Embeddings"
   ]
  },
  {
   "cell_type": "code",
   "execution_count": 14,
   "id": "edd2001d-67aa-4eb7-acdb-34b9ac85d104",
   "metadata": {},
   "outputs": [
    {
     "name": "stderr",
     "output_type": "stream",
     "text": [
      "100%|████████████████████| 32263/32263 [11:18:13<00:00,  1.26s/it]                                                       \n",
      "INFO:root:Saved to /home/itingzon.unicef/giga/output/BWA/BWA_Mahalapye_dinov2_vitl14_embeds.csv\n"
     ]
    },
    {
     "data": {
      "text/html": [
       "<div>\n",
       "<style scoped>\n",
       "    .dataframe tbody tr th:only-of-type {\n",
       "        vertical-align: middle;\n",
       "    }\n",
       "\n",
       "    .dataframe tbody tr th {\n",
       "        vertical-align: top;\n",
       "    }\n",
       "\n",
       "    .dataframe thead th {\n",
       "        text-align: right;\n",
       "    }\n",
       "</style>\n",
       "<table border=\"1\" class=\"dataframe\">\n",
       "  <thead>\n",
       "    <tr style=\"text-align: right;\">\n",
       "      <th></th>\n",
       "      <th>0</th>\n",
       "      <th>1</th>\n",
       "      <th>2</th>\n",
       "      <th>3</th>\n",
       "      <th>4</th>\n",
       "      <th>5</th>\n",
       "      <th>6</th>\n",
       "      <th>7</th>\n",
       "      <th>8</th>\n",
       "      <th>9</th>\n",
       "      <th>...</th>\n",
       "      <th>1014</th>\n",
       "      <th>1015</th>\n",
       "      <th>1016</th>\n",
       "      <th>1017</th>\n",
       "      <th>1018</th>\n",
       "      <th>1019</th>\n",
       "      <th>1020</th>\n",
       "      <th>1021</th>\n",
       "      <th>1022</th>\n",
       "      <th>1023</th>\n",
       "    </tr>\n",
       "    <tr>\n",
       "      <th>UID</th>\n",
       "      <th></th>\n",
       "      <th></th>\n",
       "      <th></th>\n",
       "      <th></th>\n",
       "      <th></th>\n",
       "      <th></th>\n",
       "      <th></th>\n",
       "      <th></th>\n",
       "      <th></th>\n",
       "      <th></th>\n",
       "      <th></th>\n",
       "      <th></th>\n",
       "      <th></th>\n",
       "      <th></th>\n",
       "      <th></th>\n",
       "      <th></th>\n",
       "      <th></th>\n",
       "      <th></th>\n",
       "      <th></th>\n",
       "      <th></th>\n",
       "      <th></th>\n",
       "    </tr>\n",
       "  </thead>\n",
       "  <tbody>\n",
       "    <tr>\n",
       "      <th>0</th>\n",
       "      <td>-1.059438</td>\n",
       "      <td>0.446116</td>\n",
       "      <td>0.020766</td>\n",
       "      <td>1.392747</td>\n",
       "      <td>-0.249886</td>\n",
       "      <td>-1.723373</td>\n",
       "      <td>2.270530</td>\n",
       "      <td>-1.628880</td>\n",
       "      <td>-1.021884</td>\n",
       "      <td>0.576728</td>\n",
       "      <td>...</td>\n",
       "      <td>-1.078665</td>\n",
       "      <td>-0.836093</td>\n",
       "      <td>0.212806</td>\n",
       "      <td>2.260133</td>\n",
       "      <td>0.243320</td>\n",
       "      <td>2.158025</td>\n",
       "      <td>-2.131413</td>\n",
       "      <td>2.603458</td>\n",
       "      <td>-0.511640</td>\n",
       "      <td>-0.500217</td>\n",
       "    </tr>\n",
       "    <tr>\n",
       "      <th>1</th>\n",
       "      <td>-2.290388</td>\n",
       "      <td>0.361234</td>\n",
       "      <td>-0.721791</td>\n",
       "      <td>1.683992</td>\n",
       "      <td>-0.079404</td>\n",
       "      <td>-1.542805</td>\n",
       "      <td>2.641819</td>\n",
       "      <td>-1.111953</td>\n",
       "      <td>-0.351990</td>\n",
       "      <td>1.120521</td>\n",
       "      <td>...</td>\n",
       "      <td>-0.568002</td>\n",
       "      <td>-1.913545</td>\n",
       "      <td>1.192743</td>\n",
       "      <td>1.682427</td>\n",
       "      <td>0.953533</td>\n",
       "      <td>2.066180</td>\n",
       "      <td>-1.291087</td>\n",
       "      <td>2.015403</td>\n",
       "      <td>-0.649356</td>\n",
       "      <td>-0.908426</td>\n",
       "    </tr>\n",
       "    <tr>\n",
       "      <th>2</th>\n",
       "      <td>-2.168535</td>\n",
       "      <td>1.645123</td>\n",
       "      <td>-0.601397</td>\n",
       "      <td>0.786744</td>\n",
       "      <td>0.165029</td>\n",
       "      <td>-2.241012</td>\n",
       "      <td>2.956747</td>\n",
       "      <td>-1.955167</td>\n",
       "      <td>-1.214654</td>\n",
       "      <td>1.435781</td>\n",
       "      <td>...</td>\n",
       "      <td>-1.044319</td>\n",
       "      <td>-1.749654</td>\n",
       "      <td>0.450145</td>\n",
       "      <td>2.253536</td>\n",
       "      <td>0.956275</td>\n",
       "      <td>2.374974</td>\n",
       "      <td>-1.587729</td>\n",
       "      <td>1.885100</td>\n",
       "      <td>-0.265138</td>\n",
       "      <td>0.014655</td>\n",
       "    </tr>\n",
       "  </tbody>\n",
       "</table>\n",
       "<p>3 rows × 1024 columns</p>\n",
       "</div>"
      ],
      "text/plain": [
       "         0         1         2         3         4         5         6     \\\n",
       "UID                                                                         \n",
       "0   -1.059438  0.446116  0.020766  1.392747 -0.249886 -1.723373  2.270530   \n",
       "1   -2.290388  0.361234 -0.721791  1.683992 -0.079404 -1.542805  2.641819   \n",
       "2   -2.168535  1.645123 -0.601397  0.786744  0.165029 -2.241012  2.956747   \n",
       "\n",
       "         7         8         9     ...      1014      1015      1016  \\\n",
       "UID                                ...                                 \n",
       "0   -1.628880 -1.021884  0.576728  ... -1.078665 -0.836093  0.212806   \n",
       "1   -1.111953 -0.351990  1.120521  ... -0.568002 -1.913545  1.192743   \n",
       "2   -1.955167 -1.214654  1.435781  ... -1.044319 -1.749654  0.450145   \n",
       "\n",
       "         1017      1018      1019      1020      1021      1022      1023  \n",
       "UID                                                                        \n",
       "0    2.260133  0.243320  2.158025 -2.131413  2.603458 -0.511640 -0.500217  \n",
       "1    1.682427  0.953533  2.066180 -1.291087  2.015403 -0.649356 -0.908426  \n",
       "2    2.253536  0.956275  2.374974 -1.587729  1.885100 -0.265138  0.014655  \n",
       "\n",
       "[3 rows x 1024 columns]"
      ]
     },
     "execution_count": 14,
     "metadata": {},
     "output_type": "execute_result"
    }
   ],
   "source": [
    "out_dir = os.path.join(\"output\", iso_code)\n",
    "name = f\"{iso_code}_{shapename}\"\n",
    "embeddings = embed_utils.get_image_embeddings(\n",
    "    model_config, data, model, in_dir=sat_dir, out_dir=out_dir, name=name\n",
    ")\n",
    "embeddings.head(3)"
   ]
  },
  {
   "cell_type": "markdown",
   "id": "797ecfbd-100c-4a2e-8aa2-acb05c1b66c8",
   "metadata": {},
   "source": [
    "## Model Prediction"
   ]
  },
  {
   "cell_type": "code",
   "execution_count": 15,
   "id": "822c5562-1cb2-487e-87cd-50af1e229b7d",
   "metadata": {},
   "outputs": [
    {
     "data": {
      "text/html": [
       "<style>#sk-container-id-2 {color: black;}#sk-container-id-2 pre{padding: 0;}#sk-container-id-2 div.sk-toggleable {background-color: white;}#sk-container-id-2 label.sk-toggleable__label {cursor: pointer;display: block;width: 100%;margin-bottom: 0;padding: 0.3em;box-sizing: border-box;text-align: center;}#sk-container-id-2 label.sk-toggleable__label-arrow:before {content: \"▸\";float: left;margin-right: 0.25em;color: #696969;}#sk-container-id-2 label.sk-toggleable__label-arrow:hover:before {color: black;}#sk-container-id-2 div.sk-estimator:hover label.sk-toggleable__label-arrow:before {color: black;}#sk-container-id-2 div.sk-toggleable__content {max-height: 0;max-width: 0;overflow: hidden;text-align: left;background-color: #f0f8ff;}#sk-container-id-2 div.sk-toggleable__content pre {margin: 0.2em;color: black;border-radius: 0.25em;background-color: #f0f8ff;}#sk-container-id-2 input.sk-toggleable__control:checked~div.sk-toggleable__content {max-height: 200px;max-width: 100%;overflow: auto;}#sk-container-id-2 input.sk-toggleable__control:checked~label.sk-toggleable__label-arrow:before {content: \"▾\";}#sk-container-id-2 div.sk-estimator input.sk-toggleable__control:checked~label.sk-toggleable__label {background-color: #d4ebff;}#sk-container-id-2 div.sk-label input.sk-toggleable__control:checked~label.sk-toggleable__label {background-color: #d4ebff;}#sk-container-id-2 input.sk-hidden--visually {border: 0;clip: rect(1px 1px 1px 1px);clip: rect(1px, 1px, 1px, 1px);height: 1px;margin: -1px;overflow: hidden;padding: 0;position: absolute;width: 1px;}#sk-container-id-2 div.sk-estimator {font-family: monospace;background-color: #f0f8ff;border: 1px dotted black;border-radius: 0.25em;box-sizing: border-box;margin-bottom: 0.5em;}#sk-container-id-2 div.sk-estimator:hover {background-color: #d4ebff;}#sk-container-id-2 div.sk-parallel-item::after {content: \"\";width: 100%;border-bottom: 1px solid gray;flex-grow: 1;}#sk-container-id-2 div.sk-label:hover label.sk-toggleable__label {background-color: #d4ebff;}#sk-container-id-2 div.sk-serial::before {content: \"\";position: absolute;border-left: 1px solid gray;box-sizing: border-box;top: 0;bottom: 0;left: 50%;z-index: 0;}#sk-container-id-2 div.sk-serial {display: flex;flex-direction: column;align-items: center;background-color: white;padding-right: 0.2em;padding-left: 0.2em;position: relative;}#sk-container-id-2 div.sk-item {position: relative;z-index: 1;}#sk-container-id-2 div.sk-parallel {display: flex;align-items: stretch;justify-content: center;background-color: white;position: relative;}#sk-container-id-2 div.sk-item::before, #sk-container-id-2 div.sk-parallel-item::before {content: \"\";position: absolute;border-left: 1px solid gray;box-sizing: border-box;top: 0;bottom: 0;left: 50%;z-index: -1;}#sk-container-id-2 div.sk-parallel-item {display: flex;flex-direction: column;z-index: 1;position: relative;background-color: white;}#sk-container-id-2 div.sk-parallel-item:first-child::after {align-self: flex-end;width: 50%;}#sk-container-id-2 div.sk-parallel-item:last-child::after {align-self: flex-start;width: 50%;}#sk-container-id-2 div.sk-parallel-item:only-child::after {width: 0;}#sk-container-id-2 div.sk-dashed-wrapped {border: 1px dashed gray;margin: 0 0.4em 0.5em 0.4em;box-sizing: border-box;padding-bottom: 0.4em;background-color: white;}#sk-container-id-2 div.sk-label label {font-family: monospace;font-weight: bold;display: inline-block;line-height: 1.2em;}#sk-container-id-2 div.sk-label-container {text-align: center;}#sk-container-id-2 div.sk-container {/* jupyter's `normalize.less` sets `[hidden] { display: none; }` but bootstrap.min.css set `[hidden] { display: none !important; }` so we also need the `!important` here to be able to override the default hidden behavior on the sphinx rendered scikit-learn.org. See: https://github.com/scikit-learn/scikit-learn/issues/21755 */display: inline-block !important;position: relative;}#sk-container-id-2 div.sk-text-repr-fallback {display: none;}</style><div id=\"sk-container-id-2\" class=\"sk-top-container\"><div class=\"sk-text-repr-fallback\"><pre>Pipeline(steps=[(&#x27;scaler&#x27;, None), (&#x27;selector&#x27;, None),\n",
       "                (&#x27;model&#x27;, SVC(C=10, gamma=0.001, random_state=42))])</pre><b>In a Jupyter environment, please rerun this cell to show the HTML representation or trust the notebook. <br />On GitHub, the HTML representation is unable to render, please try loading this page with nbviewer.org.</b></div><div class=\"sk-container\" hidden><div class=\"sk-item sk-dashed-wrapped\"><div class=\"sk-label-container\"><div class=\"sk-label sk-toggleable\"><input class=\"sk-toggleable__control sk-hidden--visually\" id=\"sk-estimator-id-5\" type=\"checkbox\" ><label for=\"sk-estimator-id-5\" class=\"sk-toggleable__label sk-toggleable__label-arrow\">Pipeline</label><div class=\"sk-toggleable__content\"><pre>Pipeline(steps=[(&#x27;scaler&#x27;, None), (&#x27;selector&#x27;, None),\n",
       "                (&#x27;model&#x27;, SVC(C=10, gamma=0.001, random_state=42))])</pre></div></div></div><div class=\"sk-serial\"><div class=\"sk-item\"><div class=\"sk-estimator sk-toggleable\"><input class=\"sk-toggleable__control sk-hidden--visually\" id=\"sk-estimator-id-6\" type=\"checkbox\" ><label for=\"sk-estimator-id-6\" class=\"sk-toggleable__label sk-toggleable__label-arrow\">None</label><div class=\"sk-toggleable__content\"><pre>None</pre></div></div></div><div class=\"sk-item\"><div class=\"sk-estimator sk-toggleable\"><input class=\"sk-toggleable__control sk-hidden--visually\" id=\"sk-estimator-id-7\" type=\"checkbox\" ><label for=\"sk-estimator-id-7\" class=\"sk-toggleable__label sk-toggleable__label-arrow\">None</label><div class=\"sk-toggleable__content\"><pre>None</pre></div></div></div><div class=\"sk-item\"><div class=\"sk-estimator sk-toggleable\"><input class=\"sk-toggleable__control sk-hidden--visually\" id=\"sk-estimator-id-8\" type=\"checkbox\" ><label for=\"sk-estimator-id-8\" class=\"sk-toggleable__label sk-toggleable__label-arrow\">SVC</label><div class=\"sk-toggleable__content\"><pre>SVC(C=10, gamma=0.001, random_state=42)</pre></div></div></div></div></div></div></div>"
      ],
      "text/plain": [
       "Pipeline(steps=[('scaler', None), ('selector', None),\n",
       "                ('model', SVC(C=10, gamma=0.001, random_state=42))])"
      ]
     },
     "execution_count": 15,
     "metadata": {},
     "output_type": "execute_result"
    }
   ],
   "source": [
    "exp_dir = os.path.join(cwd, model_config[\"exp_dir\"], model_config['config_name'])\n",
    "model_file = os.path.join(exp_dir, f\"{model_config['config_name']}.pkl\")\n",
    "model = joblib.load(model_file)\n",
    "model"
   ]
  },
  {
   "cell_type": "code",
   "execution_count": 16,
   "id": "5180e578-ff8f-4e57-a98d-dfea230921d5",
   "metadata": {},
   "outputs": [
    {
     "name": "stderr",
     "output_type": "stream",
     "text": [
      "/home/itingzon.unicef/miniconda3/envs/giga2/lib/python3.10/site-packages/sklearn/base.py:465: UserWarning: X does not have valid feature names, but SVC was fitted with feature names\n",
      "  warnings.warn(\n"
     ]
    },
    {
     "data": {
      "text/html": [
       "<div>\n",
       "<style scoped>\n",
       "    .dataframe tbody tr th:only-of-type {\n",
       "        vertical-align: middle;\n",
       "    }\n",
       "\n",
       "    .dataframe tbody tr th {\n",
       "        vertical-align: top;\n",
       "    }\n",
       "\n",
       "    .dataframe thead th {\n",
       "        text-align: right;\n",
       "    }\n",
       "</style>\n",
       "<table border=\"1\" class=\"dataframe\">\n",
       "  <thead>\n",
       "    <tr style=\"text-align: right;\">\n",
       "      <th></th>\n",
       "      <th>UID</th>\n",
       "      <th>geometry</th>\n",
       "      <th>shapeName</th>\n",
       "      <th>pred</th>\n",
       "    </tr>\n",
       "  </thead>\n",
       "  <tbody>\n",
       "    <tr>\n",
       "      <th>0</th>\n",
       "      <td>0</td>\n",
       "      <td>POLYGON ((3052469.260 -2622595.005, 3052469.26...</td>\n",
       "      <td>Mahalapye</td>\n",
       "      <td>non_school</td>\n",
       "    </tr>\n",
       "    <tr>\n",
       "      <th>1</th>\n",
       "      <td>1</td>\n",
       "      <td>POLYGON ((3052469.260 -2622445.005, 3052469.26...</td>\n",
       "      <td>Mahalapye</td>\n",
       "      <td>non_school</td>\n",
       "    </tr>\n",
       "    <tr>\n",
       "      <th>2</th>\n",
       "      <td>2</td>\n",
       "      <td>POLYGON ((3052619.260 -2622595.005, 3052619.26...</td>\n",
       "      <td>Mahalapye</td>\n",
       "      <td>non_school</td>\n",
       "    </tr>\n",
       "  </tbody>\n",
       "</table>\n",
       "</div>"
      ],
      "text/plain": [
       "   UID                                           geometry  shapeName  \\\n",
       "0    0  POLYGON ((3052469.260 -2622595.005, 3052469.26...  Mahalapye   \n",
       "1    1  POLYGON ((3052469.260 -2622445.005, 3052469.26...  Mahalapye   \n",
       "2    2  POLYGON ((3052619.260 -2622595.005, 3052619.26...  Mahalapye   \n",
       "\n",
       "         pred  \n",
       "0  non_school  \n",
       "1  non_school  \n",
       "2  non_school  "
      ]
     },
     "execution_count": 16,
     "metadata": {},
     "output_type": "execute_result"
    }
   ],
   "source": [
    "preds = model.predict(embeddings)\n",
    "tiles[\"pred\"] = preds\n",
    "results = tiles[[\"UID\", \"geometry\", \"shapeName\", \"pred\"]]\n",
    "results = gpd.GeoDataFrame(results, geometry=\"geometry\")\n",
    "results.head(3)"
   ]
  },
  {
   "cell_type": "code",
   "execution_count": 17,
   "id": "7ed5a2b3-eede-48a7-b8c8-1be51fb0d1f8",
   "metadata": {},
   "outputs": [],
   "source": [
    "outfile = os.path.join(cwd, \"output\", iso_code, f\"{name}_results.gpkg\")\n",
    "results.to_file(outfile, driver=\"GPKG\")"
   ]
  }
 ],
 "metadata": {
  "kernelspec": {
   "display_name": "giga2",
   "language": "python",
   "name": "giga2"
  },
  "language_info": {
   "codemirror_mode": {
    "name": "ipython",
    "version": 3
   },
   "file_extension": ".py",
   "mimetype": "text/x-python",
   "name": "python",
   "nbconvert_exporter": "python",
   "pygments_lexer": "ipython3",
   "version": "3.10.13"
  }
 },
 "nbformat": 4,
 "nbformat_minor": 5
}
