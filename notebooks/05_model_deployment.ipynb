{
 "cells": [
  {
   "cell_type": "markdown",
   "id": "59f30888-f40c-41d1-863a-8ecd460a58c2",
   "metadata": {},
   "source": [
    "## Imports and Setup"
   ]
  },
  {
   "cell_type": "code",
   "execution_count": 1,
   "id": "7c20ef0f-efe6-418d-9c8e-dfa1cf99e810",
   "metadata": {},
   "outputs": [],
   "source": [
    "import os\n",
    "import pandas as pd\n",
    "import geopandas as gpd\n",
    "import logging\n",
    "import joblib\n",
    "import torch\n",
    "\n",
    "import sys\n",
    "sys.path.insert(0, \"../src\")\n",
    "import sat_download\n",
    "\n",
    "sys.path.insert(0, \"../utils/\")\n",
    "import data_utils\n",
    "import config_utils\n",
    "import pred_utils\n",
    "import embed_utils\n",
    "\n",
    "%load_ext autoreload\n",
    "%autoreload 2"
   ]
  },
  {
   "cell_type": "markdown",
   "id": "43efdc61-1b10-4da4-b1f0-6d1c9af9ba07",
   "metadata": {},
   "source": [
    "## Load Config Files"
   ]
  },
  {
   "cell_type": "code",
   "execution_count": 19,
   "id": "ca7440cb-3df9-49cf-ab2e-458b459865b1",
   "metadata": {},
   "outputs": [],
   "source": [
    "iso_code = \"BWA\"\n",
    "adm_level = \"ADM2\"\n",
    "shapename = \"Mahalapye\"\n",
    "spacing = 150\n",
    "buffer_size = 150\n",
    "\n",
    "cwd = os.path.dirname(os.getcwd())\n",
    "data_config_file = os.path.join(cwd, \"configs/data_config.yaml\")\n",
    "data_config = config_utils.load_config(data_config_file)\n",
    "\n",
    "sat_config_file = os.path.join(cwd, \"configs/sat_configs/sat_config_500x500_60cm.yaml\")\n",
    "sat_creds_file = os.path.join(cwd, \"configs/sat_configs/sat_creds.yaml\")\n",
    "\n",
    "sat_config = config_utils.load_config(sat_config_file)\n",
    "sat_creds = config_utils.create_config(sat_creds_file)"
   ]
  },
  {
   "cell_type": "markdown",
   "id": "a86dc38f-094b-43eb-b003-0e0f478abec9",
   "metadata": {},
   "source": [
    "## Generate Prediction Tiles"
   ]
  },
  {
   "cell_type": "code",
   "execution_count": 20,
   "id": "6d992e3f-280f-45d3-8273-efb7868af8bd",
   "metadata": {},
   "outputs": [
    {
     "name": "stderr",
     "output_type": "stream",
     "text": [
      "100%|████████████████████| 136/136 [03:25<00:00,  1.51s/it]                                                             \n"
     ]
    },
    {
     "name": "stdout",
     "output_type": "stream",
     "text": [
      "Total tiles: (32263, 12)\n"
     ]
    },
    {
     "data": {
      "text/html": [
       "<div>\n",
       "<style scoped>\n",
       "    .dataframe tbody tr th:only-of-type {\n",
       "        vertical-align: middle;\n",
       "    }\n",
       "\n",
       "    .dataframe tbody tr th {\n",
       "        vertical-align: top;\n",
       "    }\n",
       "\n",
       "    .dataframe thead th {\n",
       "        text-align: right;\n",
       "    }\n",
       "</style>\n",
       "<table border=\"1\" class=\"dataframe\">\n",
       "  <thead>\n",
       "    <tr style=\"text-align: right;\">\n",
       "      <th></th>\n",
       "      <th>index</th>\n",
       "      <th>geometry</th>\n",
       "      <th>shapeName</th>\n",
       "      <th>shapeISO</th>\n",
       "      <th>shapeID</th>\n",
       "      <th>shapeGroup</th>\n",
       "      <th>shapeType</th>\n",
       "      <th>points</th>\n",
       "      <th>index_right</th>\n",
       "      <th>type</th>\n",
       "      <th>properties</th>\n",
       "      <th>UID</th>\n",
       "    </tr>\n",
       "  </thead>\n",
       "  <tbody>\n",
       "    <tr>\n",
       "      <th>0</th>\n",
       "      <td>1496156</td>\n",
       "      <td>POLYGON ((3052469.260 -2622595.005, 3052469.26...</td>\n",
       "      <td>Mahalapye</td>\n",
       "      <td></td>\n",
       "      <td>29308430B30543037727108</td>\n",
       "      <td>BWA</td>\n",
       "      <td>ADM2</td>\n",
       "      <td>POINT (3052319.260 -2622745.005)</td>\n",
       "      <td>1037</td>\n",
       "      <td>Feature</td>\n",
       "      <td>{'height': -1.0, 'confidence': -1.0}</td>\n",
       "      <td>0</td>\n",
       "    </tr>\n",
       "    <tr>\n",
       "      <th>1</th>\n",
       "      <td>1496157</td>\n",
       "      <td>POLYGON ((3052469.260 -2622445.005, 3052469.26...</td>\n",
       "      <td>Mahalapye</td>\n",
       "      <td></td>\n",
       "      <td>29308430B30543037727108</td>\n",
       "      <td>BWA</td>\n",
       "      <td>ADM2</td>\n",
       "      <td>POINT (3052319.260 -2622595.005)</td>\n",
       "      <td>1037</td>\n",
       "      <td>Feature</td>\n",
       "      <td>{'height': -1.0, 'confidence': -1.0}</td>\n",
       "      <td>1</td>\n",
       "    </tr>\n",
       "    <tr>\n",
       "      <th>2</th>\n",
       "      <td>1497176</td>\n",
       "      <td>POLYGON ((3052619.260 -2622595.005, 3052619.26...</td>\n",
       "      <td>Mahalapye</td>\n",
       "      <td></td>\n",
       "      <td>29308430B30543037727108</td>\n",
       "      <td>BWA</td>\n",
       "      <td>ADM2</td>\n",
       "      <td>POINT (3052469.260 -2622745.005)</td>\n",
       "      <td>1037</td>\n",
       "      <td>Feature</td>\n",
       "      <td>{'height': -1.0, 'confidence': -1.0}</td>\n",
       "      <td>2</td>\n",
       "    </tr>\n",
       "  </tbody>\n",
       "</table>\n",
       "</div>"
      ],
      "text/plain": [
       "     index                                           geometry  shapeName  \\\n",
       "0  1496156  POLYGON ((3052469.260 -2622595.005, 3052469.26...  Mahalapye   \n",
       "1  1496157  POLYGON ((3052469.260 -2622445.005, 3052469.26...  Mahalapye   \n",
       "2  1497176  POLYGON ((3052619.260 -2622595.005, 3052619.26...  Mahalapye   \n",
       "\n",
       "  shapeISO                  shapeID shapeGroup shapeType  \\\n",
       "0           29308430B30543037727108        BWA      ADM2   \n",
       "1           29308430B30543037727108        BWA      ADM2   \n",
       "2           29308430B30543037727108        BWA      ADM2   \n",
       "\n",
       "                             points  index_right     type  \\\n",
       "0  POINT (3052319.260 -2622745.005)         1037  Feature   \n",
       "1  POINT (3052319.260 -2622595.005)         1037  Feature   \n",
       "2  POINT (3052469.260 -2622745.005)         1037  Feature   \n",
       "\n",
       "                             properties  UID  \n",
       "0  {'height': -1.0, 'confidence': -1.0}    0  \n",
       "1  {'height': -1.0, 'confidence': -1.0}    1  \n",
       "2  {'height': -1.0, 'confidence': -1.0}    2  "
      ]
     },
     "execution_count": 20,
     "metadata": {},
     "output_type": "execute_result"
    }
   ],
   "source": [
    "tiles = pred_utils.generate_pred_tiles(\n",
    "    data_config, iso_code, spacing, buffer_size, adm_level, shapename\n",
    ").reset_index()\n",
    "tiles[\"UID\"] = list(tiles.index)\n",
    "\n",
    "out_dir = data_utils._makedir(os.path.join(cwd, \"output\", iso_code, \"tiles\"))\n",
    "out_file = os.path.join(out_dir, f\"{iso_code}_{shapename}.gpkg\")\n",
    "tiles[[\"geometry\"]].to_file(out_file, driver=\"GPKG\")\n",
    "\n",
    "print(f\"Total tiles: {tiles.shape}\")\n",
    "tiles.head(3)"
   ]
  },
  {
   "cell_type": "markdown",
   "id": "c92170dc-0a4a-46d0-b319-b74ceff6cf1d",
   "metadata": {},
   "source": [
    "## Download Satellite Images"
   ]
  },
  {
   "cell_type": "code",
   "execution_count": 22,
   "id": "c53d9e7c-4027-4368-bbf3-1a07484b3fa6",
   "metadata": {},
   "outputs": [
    {
     "name": "stderr",
     "output_type": "stream",
     "text": [
      "INFO:root:Data dimensions: (32263, 14), CRS: EPSG:3857\n",
      "100%|████████████████████| 32263/32263 [00:01<00:00, 19564.83it/s]                                                      \n"
     ]
    }
   ],
   "source": [
    "data = tiles.copy()\n",
    "data[\"geometry\"] = data[\"points\"]\n",
    "sat_dir = os.path.join(cwd, \"output\", iso_code, \"images\", shapename)\n",
    "sat_download.download_sat_images(sat_creds, sat_config, data=data, out_dir=sat_dir)"
   ]
  },
  {
   "cell_type": "markdown",
   "id": "7932aee9-7308-4736-93fd-8bd0c91475ae",
   "metadata": {},
   "source": [
    "## CNN Model"
   ]
  },
  {
   "cell_type": "code",
   "execution_count": 18,
   "id": "8cbe393f-d06c-46d7-a071-4f083058a86c",
   "metadata": {},
   "outputs": [
    {
     "name": "stderr",
     "output_type": "stream",
     "text": [
      "INFO:root:Model file /home/itingzon.unicef/giga/exp/BWA_vgg16/BWA_vgg16.pth successfully loaded.\n",
      "100%|████████████████████| 9417/9417 [25:15<00:00,  6.22it/s]                                                           \n"
     ]
    }
   ],
   "source": [
    "model_config_file = os.path.join(cwd, f\"configs/cnn_configs/vgg16.yaml\")\n",
    "model_config = config_utils.load_config(model_config_file)\n",
    "model_file = os.path.join(cwd, f\"configs/cnn_configs/vgg16.yaml\")\n",
    "\n",
    "result = pred_utils.cnn_predict(\n",
    "    tiles, iso_code, shapename, model_config, sat_dir, n_classes=2, model_file=model_file\n",
    ")"
   ]
  },
  {
   "cell_type": "markdown",
   "id": "a0ae9e20-6425-491e-99ee-2ae80ddf7044",
   "metadata": {},
   "source": [
    "## ViT Model"
   ]
  },
  {
   "cell_type": "code",
   "execution_count": 27,
   "id": "44dbcf6b-3bfa-4759-add7-601f878ed777",
   "metadata": {},
   "outputs": [
    {
     "name": "stderr",
     "output_type": "stream",
     "text": [
      "Using cache found in /home/itingzon.unicef/.cache/torch/hub/facebookresearch_dinov2_main\n",
      "INFO:dinov2:using MLP layer as FFN\n",
      "INFO:root:Device: cpu\n",
      "INFO:root:Generating embeddings...\n",
      "INFO:root:Reading file /home/itingzon.unicef/giga/output/BWA/embeddings/BWA_Mahalapye_dinov2_vitl14_embeds.csv\n",
      "INFO:root:Loaded /home/itingzon.unicef/giga/exp/BWA-dinov2_vitl14-SVC/BWA-dinov2_vitl14-SVC.pkl\n",
      "INFO:root:Generated /home/itingzon.unicef/giga/output/BWA/results/BWA_Mahalapye_dinov2_vitl14-SVC_results.gpkg\n"
     ]
    }
   ],
   "source": [
    "model_config_file = os.path.join(cwd, f\"configs/model_configs/dinov2_vitl14-SVC.yaml\")\n",
    "model_config = config_utils.load_config(model_config_file)\n",
    "\n",
    "result = pred_utils.vit_pred(tiles, model_config, iso_code, shapename, sat_dir)"
   ]
  },
  {
   "cell_type": "code",
   "execution_count": null,
   "id": "5461bd3c-4c62-4a57-934e-13f9b05d40cc",
   "metadata": {},
   "outputs": [],
   "source": []
  }
 ],
 "metadata": {
  "kernelspec": {
   "display_name": "giga2",
   "language": "python",
   "name": "giga2"
  },
  "language_info": {
   "codemirror_mode": {
    "name": "ipython",
    "version": 3
   },
   "file_extension": ".py",
   "mimetype": "text/x-python",
   "name": "python",
   "nbconvert_exporter": "python",
   "pygments_lexer": "ipython3",
   "version": "3.10.13"
  }
 },
 "nbformat": 4,
 "nbformat_minor": 5
}
