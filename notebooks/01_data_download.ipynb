{
 "cells": [
  {
   "cell_type": "markdown",
   "id": "f8cf4143-2526-44f2-980d-27a390191008",
   "metadata": {},
   "source": [
    "## Imports and Setup"
   ]
  },
  {
   "cell_type": "code",
   "execution_count": 1,
   "id": "634532cb-af3f-4083-8472-a09030e5897c",
   "metadata": {
    "tags": []
   },
   "outputs": [],
   "source": [
    "import os\n",
    "import pandas as pd\n",
    "import geopandas as gpd\n",
    "\n",
    "import sys\n",
    "sys.path.insert(0, \"../utils/\")\n",
    "import download_utils\n",
    "import config_utils\n",
    "\n",
    "import warnings\n",
    "warnings.filterwarnings('ignore')\n",
    "warnings.simplefilter('ignore')\n",
    "\n",
    "%load_ext autoreload\n",
    "%autoreload 2"
   ]
  },
  {
   "cell_type": "markdown",
   "id": "de83468e-d5da-48ae-a5f0-79a79dc83b49",
   "metadata": {},
   "source": [
    "## Data Configurations"
   ]
  },
  {
   "cell_type": "code",
   "execution_count": 2,
   "id": "a4a724d8-57da-4c7b-b964-60ae1f7e7eca",
   "metadata": {},
   "outputs": [],
   "source": [
    "cwd = os.path.dirname(os.getcwd())\n",
    "filename=\"configs/unicef_config.yaml\"\n",
    "\n",
    "config_file = os.path.join(cwd, filename)\n",
    "config = config_utils.load_config(config_file)"
   ]
  },
  {
   "cell_type": "markdown",
   "id": "46e00581-63db-42b5-b765-ca3a761ad6f7",
   "metadata": {},
   "source": [
    "## Load UNICEF Data "
   ]
  },
  {
   "cell_type": "code",
   "execution_count": 3,
   "id": "d54d4593-32d0-424e-88be-b9efab25d87b",
   "metadata": {
    "tags": []
   },
   "outputs": [
    {
     "name": "stderr",
     "output_type": "stream",
     "text": [
      "INFO:root:Number of CSV files: 1\n",
      "Processing BRA: 100%|████████████████████| 1/1 [00:02<00:00,  2.23s/it]                                                 \n"
     ]
    },
    {
     "data": {
      "text/html": [
       "<div>\n",
       "<style scoped>\n",
       "    .dataframe tbody tr th:only-of-type {\n",
       "        vertical-align: middle;\n",
       "    }\n",
       "\n",
       "    .dataframe tbody tr th {\n",
       "        vertical-align: top;\n",
       "    }\n",
       "\n",
       "    .dataframe thead th {\n",
       "        text-align: right;\n",
       "    }\n",
       "</style>\n",
       "<table border=\"1\" class=\"dataframe\">\n",
       "  <thead>\n",
       "    <tr style=\"text-align: right;\">\n",
       "      <th></th>\n",
       "      <th>UID</th>\n",
       "      <th>source</th>\n",
       "      <th>iso</th>\n",
       "      <th>country</th>\n",
       "      <th>region</th>\n",
       "      <th>subregion</th>\n",
       "      <th>name</th>\n",
       "      <th>geometry</th>\n",
       "      <th>giga_id_school</th>\n",
       "    </tr>\n",
       "  </thead>\n",
       "  <tbody>\n",
       "    <tr>\n",
       "      <th>122743</th>\n",
       "      <td>UNICEF-BRA-SCHOOL-00122743</td>\n",
       "      <td>UNICEF</td>\n",
       "      <td>BRA</td>\n",
       "      <td>Brazil</td>\n",
       "      <td>Americas</td>\n",
       "      <td>Latin America and the Caribbean</td>\n",
       "      <td>None</td>\n",
       "      <td>POINT (-52.35253 -31.76653)</td>\n",
       "      <td>122743</td>\n",
       "    </tr>\n",
       "    <tr>\n",
       "      <th>76230</th>\n",
       "      <td>UNICEF-BRA-SCHOOL-00076230</td>\n",
       "      <td>UNICEF</td>\n",
       "      <td>BRA</td>\n",
       "      <td>Brazil</td>\n",
       "      <td>Americas</td>\n",
       "      <td>Latin America and the Caribbean</td>\n",
       "      <td>None</td>\n",
       "      <td>POINT (-48.24363 -18.95644)</td>\n",
       "      <td>76230</td>\n",
       "    </tr>\n",
       "    <tr>\n",
       "      <th>109251</th>\n",
       "      <td>UNICEF-BRA-SCHOOL-00109251</td>\n",
       "      <td>UNICEF</td>\n",
       "      <td>BRA</td>\n",
       "      <td>Brazil</td>\n",
       "      <td>Americas</td>\n",
       "      <td>Latin America and the Caribbean</td>\n",
       "      <td>None</td>\n",
       "      <td>POINT (-50.00232 -25.42589)</td>\n",
       "      <td>109251</td>\n",
       "    </tr>\n",
       "  </tbody>\n",
       "</table>\n",
       "</div>"
      ],
      "text/plain": [
       "                               UID  source  iso country    region  \\\n",
       "122743  UNICEF-BRA-SCHOOL-00122743  UNICEF  BRA  Brazil  Americas   \n",
       "76230   UNICEF-BRA-SCHOOL-00076230  UNICEF  BRA  Brazil  Americas   \n",
       "109251  UNICEF-BRA-SCHOOL-00109251  UNICEF  BRA  Brazil  Americas   \n",
       "\n",
       "                              subregion  name                     geometry  \\\n",
       "122743  Latin America and the Caribbean  None  POINT (-52.35253 -31.76653)   \n",
       "76230   Latin America and the Caribbean  None  POINT (-48.24363 -18.95644)   \n",
       "109251  Latin America and the Caribbean  None  POINT (-50.00232 -25.42589)   \n",
       "\n",
       "        giga_id_school  \n",
       "122743          122743  \n",
       "76230            76230  \n",
       "109251          109251  "
      ]
     },
     "execution_count": 3,
     "metadata": {},
     "output_type": "execute_result"
    }
   ],
   "source": [
    "unicef = download_utils.load_unicef(config)\n",
    "unicef.sample(3)"
   ]
  },
  {
   "cell_type": "markdown",
   "id": "67680692-4ca8-46ae-89ff-5ed340fcd6f2",
   "metadata": {},
   "source": [
    "## Download Overture Maps Data"
   ]
  },
  {
   "cell_type": "code",
   "execution_count": 5,
   "id": "acfa6b0b-152d-4138-94d0-47308b370f95",
   "metadata": {
    "tags": []
   },
   "outputs": [
    {
     "name": "stderr",
     "output_type": "stream",
     "text": [
      "Processing BRA: 100%|████████████████████| 42/42 [00:47<00:00,  1.14s/it]                                               \n"
     ]
    },
    {
     "data": {
      "text/html": [
       "<div>\n",
       "<style scoped>\n",
       "    .dataframe tbody tr th:only-of-type {\n",
       "        vertical-align: middle;\n",
       "    }\n",
       "\n",
       "    .dataframe tbody tr th {\n",
       "        vertical-align: top;\n",
       "    }\n",
       "\n",
       "    .dataframe thead th {\n",
       "        text-align: right;\n",
       "    }\n",
       "</style>\n",
       "<table border=\"1\" class=\"dataframe\">\n",
       "  <thead>\n",
       "    <tr style=\"text-align: right;\">\n",
       "      <th></th>\n",
       "      <th>UID</th>\n",
       "      <th>source</th>\n",
       "      <th>iso</th>\n",
       "      <th>country</th>\n",
       "      <th>region</th>\n",
       "      <th>subregion</th>\n",
       "      <th>name</th>\n",
       "      <th>geometry</th>\n",
       "      <th>giga_id_school</th>\n",
       "    </tr>\n",
       "  </thead>\n",
       "  <tbody>\n",
       "    <tr>\n",
       "      <th>158886</th>\n",
       "      <td>OVERTURE-BRA-SCHOOL-00039755</td>\n",
       "      <td>OVERTURE</td>\n",
       "      <td>BRA</td>\n",
       "      <td>Brazil</td>\n",
       "      <td>Americas</td>\n",
       "      <td>Latin America and the Caribbean</td>\n",
       "      <td>Caixa Escolar C M e I Menino Deus</td>\n",
       "      <td>POINT (-44.22571 -19.44823)</td>\n",
       "      <td>None</td>\n",
       "    </tr>\n",
       "    <tr>\n",
       "      <th>38038</th>\n",
       "      <td>OVERTURE-THA-SCHOOL-00015549</td>\n",
       "      <td>OVERTURE</td>\n",
       "      <td>THA</td>\n",
       "      <td>Thailand</td>\n",
       "      <td>Asia</td>\n",
       "      <td>South-eastern Asia</td>\n",
       "      <td>โรงเรียนเมืองกลางวิทยาคม</td>\n",
       "      <td>POINT (101.26592 16.61291)</td>\n",
       "      <td>None</td>\n",
       "    </tr>\n",
       "    <tr>\n",
       "      <th>93117</th>\n",
       "      <td>OVERTURE-UKR-SCHOOL-00002529</td>\n",
       "      <td>OVERTURE</td>\n",
       "      <td>UKR</td>\n",
       "      <td>Ukraine</td>\n",
       "      <td>Europe</td>\n",
       "      <td>Eastern Europe</td>\n",
       "      <td>Дитяча Музична школа</td>\n",
       "      <td>POINT (33.87071 50.83334)</td>\n",
       "      <td>None</td>\n",
       "    </tr>\n",
       "  </tbody>\n",
       "</table>\n",
       "</div>"
      ],
      "text/plain": [
       "                                 UID    source  iso   country    region  \\\n",
       "158886  OVERTURE-BRA-SCHOOL-00039755  OVERTURE  BRA    Brazil  Americas   \n",
       "38038   OVERTURE-THA-SCHOOL-00015549  OVERTURE  THA  Thailand      Asia   \n",
       "93117   OVERTURE-UKR-SCHOOL-00002529  OVERTURE  UKR   Ukraine    Europe   \n",
       "\n",
       "                              subregion                               name  \\\n",
       "158886  Latin America and the Caribbean  Caixa Escolar C M e I Menino Deus   \n",
       "38038                South-eastern Asia           โรงเรียนเมืองกลางวิทยาคม   \n",
       "93117                    Eastern Europe               Дитяча Музична школа   \n",
       "\n",
       "                           geometry giga_id_school  \n",
       "158886  POINT (-44.22571 -19.44823)           None  \n",
       "38038    POINT (101.26592 16.61291)           None  \n",
       "93117     POINT (33.87071 50.83334)           None  "
      ]
     },
     "execution_count": 5,
     "metadata": {},
     "output_type": "execute_result"
    }
   ],
   "source": [
    "overture_schools = download_utils.download_overture(config, category=\"school\")\n",
    "overture_schools.sample(3)"
   ]
  },
  {
   "cell_type": "code",
   "execution_count": 5,
   "id": "189c8518-d896-4472-88a5-971422aa7f3c",
   "metadata": {
    "tags": []
   },
   "outputs": [
    {
     "name": "stderr",
     "output_type": "stream",
     "text": [
      "Processing BRA: 100%|████████████████████| 42/42 [02:32<00:00,  3.64s/it]                                               \n",
      "INFO:root:Generated /home/itingzon.unicef/giga/data/vectors/non_school/overture.geojson\n",
      "INFO:root:Data dimensions: (660525, 9), CRS: EPSG:4326\n"
     ]
    },
    {
     "data": {
      "text/html": [
       "<div>\n",
       "<style scoped>\n",
       "    .dataframe tbody tr th:only-of-type {\n",
       "        vertical-align: middle;\n",
       "    }\n",
       "\n",
       "    .dataframe tbody tr th {\n",
       "        vertical-align: top;\n",
       "    }\n",
       "\n",
       "    .dataframe thead th {\n",
       "        text-align: right;\n",
       "    }\n",
       "</style>\n",
       "<table border=\"1\" class=\"dataframe\">\n",
       "  <thead>\n",
       "    <tr style=\"text-align: right;\">\n",
       "      <th></th>\n",
       "      <th>UID</th>\n",
       "      <th>source</th>\n",
       "      <th>iso</th>\n",
       "      <th>country</th>\n",
       "      <th>region</th>\n",
       "      <th>subregion</th>\n",
       "      <th>name</th>\n",
       "      <th>geometry</th>\n",
       "      <th>giga_id_school</th>\n",
       "    </tr>\n",
       "  </thead>\n",
       "  <tbody>\n",
       "    <tr>\n",
       "      <th>5382</th>\n",
       "      <td>OVERTURE-BIH-NON_SCHOOL-00002402</td>\n",
       "      <td>OVERTURE</td>\n",
       "      <td>BIH</td>\n",
       "      <td>Bosnia and Herzegovina</td>\n",
       "      <td>Europe</td>\n",
       "      <td>Southern Europe</td>\n",
       "      <td>Baraćuša</td>\n",
       "      <td>POINT (16.01257 44.70676)</td>\n",
       "      <td>None</td>\n",
       "    </tr>\n",
       "    <tr>\n",
       "      <th>605258</th>\n",
       "      <td>OVERTURE-BRA-NON_SCHOOL-00334784</td>\n",
       "      <td>OVERTURE</td>\n",
       "      <td>BRA</td>\n",
       "      <td>Brazil</td>\n",
       "      <td>Americas</td>\n",
       "      <td>Latin America and the Caribbean</td>\n",
       "      <td>Al Mare Restaurante</td>\n",
       "      <td>POINT (-48.68347 -26.64404)</td>\n",
       "      <td>None</td>\n",
       "    </tr>\n",
       "    <tr>\n",
       "      <th>366212</th>\n",
       "      <td>OVERTURE-BRA-NON_SCHOOL-00095738</td>\n",
       "      <td>OVERTURE</td>\n",
       "      <td>BRA</td>\n",
       "      <td>Brazil</td>\n",
       "      <td>Americas</td>\n",
       "      <td>Latin America and the Caribbean</td>\n",
       "      <td>Private Pub</td>\n",
       "      <td>POINT (-34.84614 -7.14704)</td>\n",
       "      <td>None</td>\n",
       "    </tr>\n",
       "  </tbody>\n",
       "</table>\n",
       "</div>"
      ],
      "text/plain": [
       "                                     UID    source  iso  \\\n",
       "5382    OVERTURE-BIH-NON_SCHOOL-00002402  OVERTURE  BIH   \n",
       "605258  OVERTURE-BRA-NON_SCHOOL-00334784  OVERTURE  BRA   \n",
       "366212  OVERTURE-BRA-NON_SCHOOL-00095738  OVERTURE  BRA   \n",
       "\n",
       "                       country    region                        subregion  \\\n",
       "5382    Bosnia and Herzegovina    Europe                  Southern Europe   \n",
       "605258                  Brazil  Americas  Latin America and the Caribbean   \n",
       "366212                  Brazil  Americas  Latin America and the Caribbean   \n",
       "\n",
       "                       name                     geometry giga_id_school  \n",
       "5382               Baraćuša    POINT (16.01257 44.70676)           None  \n",
       "605258  Al Mare Restaurante  POINT (-48.68347 -26.64404)           None  \n",
       "366212          Private Pub   POINT (-34.84614 -7.14704)           None  "
      ]
     },
     "execution_count": 5,
     "metadata": {},
     "output_type": "execute_result"
    }
   ],
   "source": [
    "overture_nonschools = download_utils.download_overture(config, category=\"non_school\", exclude=\"school\")\n",
    "overture_nonschools.sample(3)"
   ]
  },
  {
   "cell_type": "markdown",
   "id": "90aa0884-c872-413f-b014-3b246dd6b321",
   "metadata": {},
   "source": [
    "## Download OpenStreetMap (OSM) Data"
   ]
  },
  {
   "cell_type": "code",
   "execution_count": 6,
   "id": "b999ce0c-567c-4c8b-91f1-32a44aa7752f",
   "metadata": {
    "tags": []
   },
   "outputs": [
    {
     "name": "stderr",
     "output_type": "stream",
     "text": [
      "Processing BRA: 100%|████████████████████| 42/42 [00:16<00:00,  2.52it/s]                                               \n",
      "INFO:root:Generated /home/itingzon.unicef/giga/data/vectors/school/osm.geojson\n",
      "INFO:root:Data dimensions: (53094, 9), CRS: EPSG:4326\n"
     ]
    },
    {
     "data": {
      "text/html": [
       "<div>\n",
       "<style scoped>\n",
       "    .dataframe tbody tr th:only-of-type {\n",
       "        vertical-align: middle;\n",
       "    }\n",
       "\n",
       "    .dataframe tbody tr th {\n",
       "        vertical-align: top;\n",
       "    }\n",
       "\n",
       "    .dataframe thead th {\n",
       "        text-align: right;\n",
       "    }\n",
       "</style>\n",
       "<table border=\"1\" class=\"dataframe\">\n",
       "  <thead>\n",
       "    <tr style=\"text-align: right;\">\n",
       "      <th></th>\n",
       "      <th>UID</th>\n",
       "      <th>source</th>\n",
       "      <th>iso</th>\n",
       "      <th>country</th>\n",
       "      <th>region</th>\n",
       "      <th>subregion</th>\n",
       "      <th>name</th>\n",
       "      <th>geometry</th>\n",
       "      <th>giga_id_school</th>\n",
       "    </tr>\n",
       "  </thead>\n",
       "  <tbody>\n",
       "    <tr>\n",
       "      <th>36473</th>\n",
       "      <td>OSM-BRA-SCHOOL-00005521</td>\n",
       "      <td>OSM</td>\n",
       "      <td>BRA</td>\n",
       "      <td>Brazil</td>\n",
       "      <td>Americas</td>\n",
       "      <td>Latin America and the Caribbean</td>\n",
       "      <td>EM Boa União</td>\n",
       "      <td>POINT (-40.80898 -18.72364)</td>\n",
       "      <td>None</td>\n",
       "    </tr>\n",
       "    <tr>\n",
       "      <th>5543</th>\n",
       "      <td>OSM-CRI-SCHOOL-00000400</td>\n",
       "      <td>OSM</td>\n",
       "      <td>CRI</td>\n",
       "      <td>Costa Rica</td>\n",
       "      <td>Americas</td>\n",
       "      <td>Latin America and the Caribbean</td>\n",
       "      <td>Academia Tica</td>\n",
       "      <td>POINT (-84.62352 9.61934)</td>\n",
       "      <td>None</td>\n",
       "    </tr>\n",
       "    <tr>\n",
       "      <th>49459</th>\n",
       "      <td>OSM-BRA-SCHOOL-00018507</td>\n",
       "      <td>OSM</td>\n",
       "      <td>BRA</td>\n",
       "      <td>Brazil</td>\n",
       "      <td>Americas</td>\n",
       "      <td>Latin America and the Caribbean</td>\n",
       "      <td>Ec Nice Lobao</td>\n",
       "      <td>POINT (-44.20108 -2.60638)</td>\n",
       "      <td>None</td>\n",
       "    </tr>\n",
       "  </tbody>\n",
       "</table>\n",
       "</div>"
      ],
      "text/plain": [
       "                           UID source  iso     country    region  \\\n",
       "36473  OSM-BRA-SCHOOL-00005521    OSM  BRA      Brazil  Americas   \n",
       "5543   OSM-CRI-SCHOOL-00000400    OSM  CRI  Costa Rica  Americas   \n",
       "49459  OSM-BRA-SCHOOL-00018507    OSM  BRA      Brazil  Americas   \n",
       "\n",
       "                             subregion           name  \\\n",
       "36473  Latin America and the Caribbean   EM Boa União   \n",
       "5543   Latin America and the Caribbean  Academia Tica   \n",
       "49459  Latin America and the Caribbean  Ec Nice Lobao   \n",
       "\n",
       "                          geometry giga_id_school  \n",
       "36473  POINT (-40.80898 -18.72364)           None  \n",
       "5543     POINT (-84.62352 9.61934)           None  \n",
       "49459   POINT (-44.20108 -2.60638)           None  "
      ]
     },
     "execution_count": 6,
     "metadata": {},
     "output_type": "execute_result"
    }
   ],
   "source": [
    "osm_schools = download_utils.download_osm(config, category=\"school\")\n",
    "osm_schools.sample(3)"
   ]
  },
  {
   "cell_type": "code",
   "execution_count": 7,
   "id": "9120693a-ec23-4347-bacc-93178b4af087",
   "metadata": {
    "tags": []
   },
   "outputs": [
    {
     "name": "stderr",
     "output_type": "stream",
     "text": [
      "Processing ZAF:  90%|██████████████████  | 38/42 [01:08<00:15,  3.94s/it]                                               WARNING:fiona.ogrext:Expecting property name enclosed in double quotes: line 1 column 2 (char 1)\n",
      "Processing BRA: 100%|████████████████████| 42/42 [01:37<00:00,  2.31s/it]                                               \n",
      "INFO:root:Generated /home/itingzon.unicef/giga/data/vectors/non_school/osm.geojson\n",
      "INFO:root:Data dimensions: (432023, 9), CRS: EPSG:4326\n"
     ]
    },
    {
     "data": {
      "text/html": [
       "<div>\n",
       "<style scoped>\n",
       "    .dataframe tbody tr th:only-of-type {\n",
       "        vertical-align: middle;\n",
       "    }\n",
       "\n",
       "    .dataframe tbody tr th {\n",
       "        vertical-align: top;\n",
       "    }\n",
       "\n",
       "    .dataframe thead th {\n",
       "        text-align: right;\n",
       "    }\n",
       "</style>\n",
       "<table border=\"1\" class=\"dataframe\">\n",
       "  <thead>\n",
       "    <tr style=\"text-align: right;\">\n",
       "      <th></th>\n",
       "      <th>UID</th>\n",
       "      <th>source</th>\n",
       "      <th>iso</th>\n",
       "      <th>country</th>\n",
       "      <th>region</th>\n",
       "      <th>subregion</th>\n",
       "      <th>name</th>\n",
       "      <th>geometry</th>\n",
       "      <th>giga_id_school</th>\n",
       "    </tr>\n",
       "  </thead>\n",
       "  <tbody>\n",
       "    <tr>\n",
       "      <th>267859</th>\n",
       "      <td>OSM-UKR-NON_SCHOOL-00052389</td>\n",
       "      <td>OSM</td>\n",
       "      <td>UKR</td>\n",
       "      <td>Ukraine</td>\n",
       "      <td>Europe</td>\n",
       "      <td>Eastern Europe</td>\n",
       "      <td>Мед-сервіс-buaty</td>\n",
       "      <td>POINT (27.62054 50.59192)</td>\n",
       "      <td>None</td>\n",
       "    </tr>\n",
       "    <tr>\n",
       "      <th>114796</th>\n",
       "      <td>OSM-KEN-NON_SCHOOL-00009741</td>\n",
       "      <td>OSM</td>\n",
       "      <td>KEN</td>\n",
       "      <td>Kenya</td>\n",
       "      <td>Africa</td>\n",
       "      <td>Sub-Saharan Africa</td>\n",
       "      <td>Garden Park</td>\n",
       "      <td>POINT (39.74298 -3.95407)</td>\n",
       "      <td>None</td>\n",
       "    </tr>\n",
       "    <tr>\n",
       "      <th>351573</th>\n",
       "      <td>OSM-BRA-NON_SCHOOL-00035392</td>\n",
       "      <td>OSM</td>\n",
       "      <td>BRA</td>\n",
       "      <td>Brazil</td>\n",
       "      <td>Americas</td>\n",
       "      <td>Latin America and the Caribbean</td>\n",
       "      <td>Paulinho Muquifu</td>\n",
       "      <td>POINT (-45.08585 -21.88101)</td>\n",
       "      <td>None</td>\n",
       "    </tr>\n",
       "  </tbody>\n",
       "</table>\n",
       "</div>"
      ],
      "text/plain": [
       "                                UID source  iso  country    region  \\\n",
       "267859  OSM-UKR-NON_SCHOOL-00052389    OSM  UKR  Ukraine    Europe   \n",
       "114796  OSM-KEN-NON_SCHOOL-00009741    OSM  KEN    Kenya    Africa   \n",
       "351573  OSM-BRA-NON_SCHOOL-00035392    OSM  BRA   Brazil  Americas   \n",
       "\n",
       "                              subregion              name  \\\n",
       "267859                   Eastern Europe  Мед-сервіс-buaty   \n",
       "114796               Sub-Saharan Africa       Garden Park   \n",
       "351573  Latin America and the Caribbean  Paulinho Muquifu   \n",
       "\n",
       "                           geometry giga_id_school  \n",
       "267859    POINT (27.62054 50.59192)           None  \n",
       "114796    POINT (39.74298 -3.95407)           None  \n",
       "351573  POINT (-45.08585 -21.88101)           None  "
      ]
     },
     "execution_count": 7,
     "metadata": {},
     "output_type": "execute_result"
    }
   ],
   "source": [
    "osm_nonschools = download_utils.download_osm(config, category=\"non_school\")\n",
    "osm_nonschools.sample(3)"
   ]
  },
  {
   "cell_type": "markdown",
   "id": "ee5e52a4-4ba1-418b-aaa9-0111670bf516",
   "metadata": {},
   "source": [
    "## Download Microsoft Building Footprints (MS) Data"
   ]
  },
  {
   "cell_type": "code",
   "execution_count": 3,
   "id": "13db8bc7-4a12-4436-a717-3033feff84ea",
   "metadata": {},
   "outputs": [
    {
     "name": "stderr",
     "output_type": "stream",
     "text": [
      "Processing BRA: 100%|████████████████████| 41/41 [00:00<00:00, 1106.16it/s]                                             \n"
     ]
    }
   ],
   "source": [
    "download_utils.download_ms(config, verbose=True)"
   ]
  },
  {
   "cell_type": "markdown",
   "id": "42c1634b-b8ac-4293-a3b3-01910c1b5f92",
   "metadata": {},
   "source": [
    "## Download Global Human Settlements Layer"
   ]
  },
  {
   "cell_type": "code",
   "execution_count": 3,
   "id": "c51f0bed-4fd4-4c17-806c-3a2e2e96d875",
   "metadata": {},
   "outputs": [
    {
     "name": "stdout",
     "output_type": "stream",
     "text": [
      "--2023-12-17 09:19:09--  https://jeodpp.jrc.ec.europa.eu/ftp/jrc-opendata/GHSL/GHS_BUILT_C_GLOBE_R2023A/GHS_BUILT_C_FUN_E2018_GLOBE_R2023A_54009_10/V1-0/GHS_BUILT_C_FUN_E2018_GLOBE_R2023A_54009_10_V1_0.zip\n",
      "Resolving jeodpp.jrc.ec.europa.eu (jeodpp.jrc.ec.europa.eu)... 139.191.241.87\n",
      "Connecting to jeodpp.jrc.ec.europa.eu (jeodpp.jrc.ec.europa.eu)|139.191.241.87|:443... connected.\n",
      "HTTP request sent, awaiting response... 200 OK\n",
      "Length: 9505003782 (8.9G) [application/zip]\n",
      "Saving to: ‘/home/itingzon.unicef/giga/data/rasters/ghsl/ghsl.zip’\n",
      "\n",
      "/home/itingzon.unic 100%[===================>]   8.85G  19.7MB/s    in 11m 47s \n",
      "\n",
      "2023-12-17 09:30:58 (12.8 MB/s) - ‘/home/itingzon.unicef/giga/data/rasters/ghsl/ghsl.zip’ saved [9505003782/9505003782]\n",
      "\n",
      "Archive:  /home/itingzon.unicef/giga/data/rasters/ghsl/ghsl.zip\n",
      "  inflating: /home/itingzon.unicef/giga/data/rasters/ghsl/GHS_BUILT_C_FUN_E2018_GLOBE_R2023A_54009_10_V1_0.tif  \n",
      "  inflating: /home/itingzon.unicef/giga/data/rasters/ghsl/GHS_BUILT_C_FUN_E2018_GLOBE_R2023A_54009_10_V1_0.tif.ovr  \n",
      "  inflating: /home/itingzon.unicef/giga/data/rasters/ghsl/GHSL_Data_Package_2023.pdf  \n"
     ]
    }
   ],
   "source": [
    "download_utils.download_ghsl(config)"
   ]
  },
  {
   "cell_type": "code",
   "execution_count": 7,
   "id": "788993b4-d620-459b-a453-4e51753c38a8",
   "metadata": {},
   "outputs": [],
   "source": [
    "download_utils.download_ghsl(config, type=\"smod\")"
   ]
  }
 ],
 "metadata": {
  "kernelspec": {
   "display_name": "giga2",
   "language": "python",
   "name": "giga2"
  },
  "language_info": {
   "codemirror_mode": {
    "name": "ipython",
    "version": 3
   },
   "file_extension": ".py",
   "mimetype": "text/x-python",
   "name": "python",
   "nbconvert_exporter": "python",
   "pygments_lexer": "ipython3",
   "version": "3.10.13"
  }
 },
 "nbformat": 4,
 "nbformat_minor": 5
}
