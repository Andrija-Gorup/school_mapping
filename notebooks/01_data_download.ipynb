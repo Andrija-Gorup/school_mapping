{
 "cells": [
  {
   "cell_type": "markdown",
   "id": "f8cf4143-2526-44f2-980d-27a390191008",
   "metadata": {},
   "source": [
    "## Imports and Setup"
   ]
  },
  {
   "cell_type": "code",
   "execution_count": 1,
   "id": "634532cb-af3f-4083-8472-a09030e5897c",
   "metadata": {
    "tags": []
   },
   "outputs": [],
   "source": [
    "import os\n",
    "import pandas as pd\n",
    "import geopandas as gpd\n",
    "\n",
    "import sys\n",
    "sys.path.insert(0, \"../utils/\")\n",
    "import download_utils\n",
    "import config_utils\n",
    "\n",
    "import warnings\n",
    "warnings.filterwarnings('ignore')\n",
    "warnings.simplefilter('ignore')\n",
    "\n",
    "%load_ext autoreload\n",
    "%autoreload 2"
   ]
  },
  {
   "cell_type": "markdown",
   "id": "de83468e-d5da-48ae-a5f0-79a79dc83b49",
   "metadata": {},
   "source": [
    "## Data Configurations"
   ]
  },
  {
   "cell_type": "code",
   "execution_count": 2,
   "id": "a4a724d8-57da-4c7b-b964-60ae1f7e7eca",
   "metadata": {},
   "outputs": [],
   "source": [
    "cwd = os.path.dirname(os.getcwd())\n",
    "filename=\"configs/data_config.yaml\"\n",
    "\n",
    "config_file = os.path.join(cwd, filename)\n",
    "config = config_utils.create_config(config_file)"
   ]
  },
  {
   "cell_type": "markdown",
   "id": "46e00581-63db-42b5-b765-ca3a761ad6f7",
   "metadata": {},
   "source": [
    "## Load UNICEF Data "
   ]
  },
  {
   "cell_type": "code",
   "execution_count": 3,
   "id": "f61c6272-7e1c-46a7-b86d-a2016f341909",
   "metadata": {
    "tags": []
   },
   "outputs": [
    {
     "name": "stderr",
     "output_type": "stream",
     "text": [
      "INFO:root:Number of CSV files: 41\n",
      "Processing SLV: 100%|████████████████████| 41/41 [00:19<00:00,  2.13it/s]                                                                                                   \n",
      "INFO:root:Generated /home/itingzon.unicef/giga/data/vectors/school/unicef.geojson\n",
      "INFO:root:Data dimensions: (471606, 9), CRS: EPSG:4326\n"
     ]
    },
    {
     "data": {
      "text/html": [
       "<div>\n",
       "<style scoped>\n",
       "    .dataframe tbody tr th:only-of-type {\n",
       "        vertical-align: middle;\n",
       "    }\n",
       "\n",
       "    .dataframe tbody tr th {\n",
       "        vertical-align: top;\n",
       "    }\n",
       "\n",
       "    .dataframe thead th {\n",
       "        text-align: right;\n",
       "    }\n",
       "</style>\n",
       "<table border=\"1\" class=\"dataframe\">\n",
       "  <thead>\n",
       "    <tr style=\"text-align: right;\">\n",
       "      <th></th>\n",
       "      <th>UID</th>\n",
       "      <th>source</th>\n",
       "      <th>iso</th>\n",
       "      <th>country</th>\n",
       "      <th>region</th>\n",
       "      <th>subregion</th>\n",
       "      <th>name</th>\n",
       "      <th>geometry</th>\n",
       "      <th>giga_id_school</th>\n",
       "    </tr>\n",
       "  </thead>\n",
       "  <tbody>\n",
       "    <tr>\n",
       "      <th>149610</th>\n",
       "      <td>UNICEF-UZB-SCHOOL-00006250</td>\n",
       "      <td>UNICEF</td>\n",
       "      <td>UZB</td>\n",
       "      <td>Uzbekistan</td>\n",
       "      <td>Asia</td>\n",
       "      <td>Central Asia</td>\n",
       "      <td>62,Beruniy,Karakalpakstan</td>\n",
       "      <td>POINT (60.74413 41.68336)</td>\n",
       "      <td>95ade0cb-ebea-3ecd-8026-bd0b3299d81f</td>\n",
       "    </tr>\n",
       "    <tr>\n",
       "      <th>319263</th>\n",
       "      <td>UNICEF-BRA-SCHOOL-00092794</td>\n",
       "      <td>UNICEF</td>\n",
       "      <td>BRA</td>\n",
       "      <td>Brazil</td>\n",
       "      <td>Americas</td>\n",
       "      <td>Latin America and the Caribbean</td>\n",
       "      <td>OTTONIEL JUNQUEIRA PROFESSOR</td>\n",
       "      <td>POINT (-47.00281 -24.31819)</td>\n",
       "      <td>4a2e3bbc-7330-3de0-a90d-0962e06f9855</td>\n",
       "    </tr>\n",
       "    <tr>\n",
       "      <th>393669</th>\n",
       "      <td>UNICEF-SSD-SCHOOL-00000975</td>\n",
       "      <td>UNICEF</td>\n",
       "      <td>SSD</td>\n",
       "      <td>South Sudan</td>\n",
       "      <td>Africa</td>\n",
       "      <td>Sub-Saharan Africa</td>\n",
       "      <td>Malual One Primary school</td>\n",
       "      <td>POINT (29.29315 7.00136)</td>\n",
       "      <td>d187d673-ee99-3c00-83bb-e46ceccbe31f</td>\n",
       "    </tr>\n",
       "  </tbody>\n",
       "</table>\n",
       "</div>"
      ],
      "text/plain": [
       "                               UID  source  iso      country    region  \\\n",
       "149610  UNICEF-UZB-SCHOOL-00006250  UNICEF  UZB   Uzbekistan      Asia   \n",
       "319263  UNICEF-BRA-SCHOOL-00092794  UNICEF  BRA       Brazil  Americas   \n",
       "393669  UNICEF-SSD-SCHOOL-00000975  UNICEF  SSD  South Sudan    Africa   \n",
       "\n",
       "                              subregion                          name  \\\n",
       "149610                     Central Asia     62,Beruniy,Karakalpakstan   \n",
       "319263  Latin America and the Caribbean  OTTONIEL JUNQUEIRA PROFESSOR   \n",
       "393669               Sub-Saharan Africa    Malual One Primary school    \n",
       "\n",
       "                           geometry                        giga_id_school  \n",
       "149610    POINT (60.74413 41.68336)  95ade0cb-ebea-3ecd-8026-bd0b3299d81f  \n",
       "319263  POINT (-47.00281 -24.31819)  4a2e3bbc-7330-3de0-a90d-0962e06f9855  \n",
       "393669     POINT (29.29315 7.00136)  d187d673-ee99-3c00-83bb-e46ceccbe31f  "
      ]
     },
     "execution_count": 3,
     "metadata": {},
     "output_type": "execute_result"
    }
   ],
   "source": [
    "unicef = download_utils.load_unicef(config)\n",
    "unicef.sample(3)"
   ]
  },
  {
   "cell_type": "markdown",
   "id": "67680692-4ca8-46ae-89ff-5ed340fcd6f2",
   "metadata": {},
   "source": [
    "## Download Overture Maps Data"
   ]
  },
  {
   "cell_type": "code",
   "execution_count": 3,
   "id": "acfa6b0b-152d-4138-94d0-47308b370f95",
   "metadata": {
    "tags": []
   },
   "outputs": [
    {
     "name": "stderr",
     "output_type": "stream",
     "text": [
      "Processing ZWE: 100%|████████████████████| 42/42 [00:24<00:00,  1.71it/s]                                               \n",
      "INFO:root:Generated /home/itingzon.unicef/giga/data/vectors/school/overture.geojson\n",
      "INFO:root:Data dimensions: (90075, 9), CRS: EPSG:4326\n"
     ]
    },
    {
     "data": {
      "text/html": [
       "<div>\n",
       "<style scoped>\n",
       "    .dataframe tbody tr th:only-of-type {\n",
       "        vertical-align: middle;\n",
       "    }\n",
       "\n",
       "    .dataframe tbody tr th {\n",
       "        vertical-align: top;\n",
       "    }\n",
       "\n",
       "    .dataframe thead th {\n",
       "        text-align: right;\n",
       "    }\n",
       "</style>\n",
       "<table border=\"1\" class=\"dataframe\">\n",
       "  <thead>\n",
       "    <tr style=\"text-align: right;\">\n",
       "      <th></th>\n",
       "      <th>UID</th>\n",
       "      <th>source</th>\n",
       "      <th>iso</th>\n",
       "      <th>country</th>\n",
       "      <th>region</th>\n",
       "      <th>subregion</th>\n",
       "      <th>name</th>\n",
       "      <th>geometry</th>\n",
       "      <th>giga_id_school</th>\n",
       "    </tr>\n",
       "  </thead>\n",
       "  <tbody>\n",
       "    <tr>\n",
       "      <th>72468</th>\n",
       "      <td>OVERTURE-ZAF-SCHOOL-00006631</td>\n",
       "      <td>OVERTURE</td>\n",
       "      <td>ZAF</td>\n",
       "      <td>South Africa</td>\n",
       "      <td>Africa</td>\n",
       "      <td>Sub-Saharan Africa</td>\n",
       "      <td>Thaba Morula High School</td>\n",
       "      <td>POINT (22.23735 -33.60360)</td>\n",
       "      <td>None</td>\n",
       "    </tr>\n",
       "    <tr>\n",
       "      <th>2012</th>\n",
       "      <td>OVERTURE-BRA-SCHOOL-00001412</td>\n",
       "      <td>OVERTURE</td>\n",
       "      <td>BRA</td>\n",
       "      <td>Brazil</td>\n",
       "      <td>Americas</td>\n",
       "      <td>Latin America and the Caribbean</td>\n",
       "      <td>Amanda Instituto de Beleza</td>\n",
       "      <td>POINT (-45.51610 -21.35730)</td>\n",
       "      <td>None</td>\n",
       "    </tr>\n",
       "    <tr>\n",
       "      <th>35043</th>\n",
       "      <td>OVERTURE-KEN-SCHOOL-00000436</td>\n",
       "      <td>OVERTURE</td>\n",
       "      <td>KEN</td>\n",
       "      <td>Kenya</td>\n",
       "      <td>Africa</td>\n",
       "      <td>Sub-Saharan Africa</td>\n",
       "      <td>North Airport Schools</td>\n",
       "      <td>POINT (36.97234 -1.28482)</td>\n",
       "      <td>None</td>\n",
       "    </tr>\n",
       "  </tbody>\n",
       "</table>\n",
       "</div>"
      ],
      "text/plain": [
       "                                UID    source  iso       country    region  \\\n",
       "72468  OVERTURE-ZAF-SCHOOL-00006631  OVERTURE  ZAF  South Africa    Africa   \n",
       "2012   OVERTURE-BRA-SCHOOL-00001412  OVERTURE  BRA        Brazil  Americas   \n",
       "35043  OVERTURE-KEN-SCHOOL-00000436  OVERTURE  KEN         Kenya    Africa   \n",
       "\n",
       "                             subregion                        name  \\\n",
       "72468               Sub-Saharan Africa    Thaba Morula High School   \n",
       "2012   Latin America and the Caribbean  Amanda Instituto de Beleza   \n",
       "35043               Sub-Saharan Africa       North Airport Schools   \n",
       "\n",
       "                          geometry giga_id_school  \n",
       "72468   POINT (22.23735 -33.60360)           None  \n",
       "2012   POINT (-45.51610 -21.35730)           None  \n",
       "35043    POINT (36.97234 -1.28482)           None  "
      ]
     },
     "execution_count": 3,
     "metadata": {},
     "output_type": "execute_result"
    }
   ],
   "source": [
    "overture_schools = download_utils.download_overture(config, category=\"school\")\n",
    "overture_schools.sample(3)"
   ]
  },
  {
   "cell_type": "code",
   "execution_count": 4,
   "id": "c4694058-d734-4a1f-9ae2-246bf962385e",
   "metadata": {
    "tags": []
   },
   "outputs": [
    {
     "name": "stderr",
     "output_type": "stream",
     "text": [
      "Processing ZWE: 100%|████████████████████| 42/42 [02:48<00:00,  4.02s/it]                                               \n",
      "INFO:root:Generated /home/itingzon.unicef/giga/data/vectors/non_school/overture.geojson\n",
      "INFO:root:Data dimensions: (734990, 9), CRS: EPSG:4326\n"
     ]
    },
    {
     "data": {
      "text/html": [
       "<div>\n",
       "<style scoped>\n",
       "    .dataframe tbody tr th:only-of-type {\n",
       "        vertical-align: middle;\n",
       "    }\n",
       "\n",
       "    .dataframe tbody tr th {\n",
       "        vertical-align: top;\n",
       "    }\n",
       "\n",
       "    .dataframe thead th {\n",
       "        text-align: right;\n",
       "    }\n",
       "</style>\n",
       "<table border=\"1\" class=\"dataframe\">\n",
       "  <thead>\n",
       "    <tr style=\"text-align: right;\">\n",
       "      <th></th>\n",
       "      <th>UID</th>\n",
       "      <th>source</th>\n",
       "      <th>iso</th>\n",
       "      <th>country</th>\n",
       "      <th>region</th>\n",
       "      <th>subregion</th>\n",
       "      <th>name</th>\n",
       "      <th>geometry</th>\n",
       "      <th>giga_id_school</th>\n",
       "    </tr>\n",
       "  </thead>\n",
       "  <tbody>\n",
       "    <tr>\n",
       "      <th>169043</th>\n",
       "      <td>OVERTURE-BRA-NON_SCHOOL-00161936</td>\n",
       "      <td>OVERTURE</td>\n",
       "      <td>BRA</td>\n",
       "      <td>Brazil</td>\n",
       "      <td>Americas</td>\n",
       "      <td>Latin America and the Caribbean</td>\n",
       "      <td>Balacobaco ROCK Burger - Hamburgueria e PUB</td>\n",
       "      <td>POINT (-46.03531 -23.41346)</td>\n",
       "      <td>None</td>\n",
       "    </tr>\n",
       "    <tr>\n",
       "      <th>35695</th>\n",
       "      <td>OVERTURE-BRA-NON_SCHOOL-00028588</td>\n",
       "      <td>OVERTURE</td>\n",
       "      <td>BRA</td>\n",
       "      <td>Brazil</td>\n",
       "      <td>Americas</td>\n",
       "      <td>Latin America and the Caribbean</td>\n",
       "      <td>Barbearia Brother's</td>\n",
       "      <td>POINT (-42.70625 -18.82322)</td>\n",
       "      <td>None</td>\n",
       "    </tr>\n",
       "    <tr>\n",
       "      <th>427210</th>\n",
       "      <td>OVERTURE-HND-NON_SCHOOL-00004926</td>\n",
       "      <td>OVERTURE</td>\n",
       "      <td>HND</td>\n",
       "      <td>Honduras</td>\n",
       "      <td>Americas</td>\n",
       "      <td>Latin America and the Caribbean</td>\n",
       "      <td>Restaurante Agua Verdosa</td>\n",
       "      <td>POINT (-87.32534 13.95012)</td>\n",
       "      <td>None</td>\n",
       "    </tr>\n",
       "  </tbody>\n",
       "</table>\n",
       "</div>"
      ],
      "text/plain": [
       "                                     UID    source  iso   country    region  \\\n",
       "169043  OVERTURE-BRA-NON_SCHOOL-00161936  OVERTURE  BRA    Brazil  Americas   \n",
       "35695   OVERTURE-BRA-NON_SCHOOL-00028588  OVERTURE  BRA    Brazil  Americas   \n",
       "427210  OVERTURE-HND-NON_SCHOOL-00004926  OVERTURE  HND  Honduras  Americas   \n",
       "\n",
       "                              subregion  \\\n",
       "169043  Latin America and the Caribbean   \n",
       "35695   Latin America and the Caribbean   \n",
       "427210  Latin America and the Caribbean   \n",
       "\n",
       "                                               name  \\\n",
       "169043  Balacobaco ROCK Burger - Hamburgueria e PUB   \n",
       "35695                           Barbearia Brother's   \n",
       "427210                     Restaurante Agua Verdosa   \n",
       "\n",
       "                           geometry giga_id_school  \n",
       "169043  POINT (-46.03531 -23.41346)           None  \n",
       "35695   POINT (-42.70625 -18.82322)           None  \n",
       "427210   POINT (-87.32534 13.95012)           None  "
      ]
     },
     "execution_count": 4,
     "metadata": {},
     "output_type": "execute_result"
    }
   ],
   "source": [
    "overture_nonschools = download_utils.download_overture(config, category=\"non_school\", exclude=\"school\")\n",
    "overture_nonschools.sample(3)"
   ]
  },
  {
   "cell_type": "markdown",
   "id": "185e6672-9816-4b91-9393-4f9497b3e674",
   "metadata": {},
   "source": [
    "## Download OpenStreetMap (OSM) Data"
   ]
  },
  {
   "cell_type": "code",
   "execution_count": 6,
   "id": "1fee42f5-642c-483c-9aab-7f33524bc969",
   "metadata": {
    "tags": []
   },
   "outputs": [
    {
     "name": "stderr",
     "output_type": "stream",
     "text": [
      "Processing ZWE: 100%|████████████████████| 42/42 [00:13<00:00,  3.22it/s]                                               \n",
      "INFO:root:Generated /home/itingzon.unicef/giga/data/vectors/school/osm.geojson\n",
      "INFO:root:Data dimensions: (44405, 9), CRS: EPSG:4326\n"
     ]
    },
    {
     "data": {
      "text/html": [
       "<div>\n",
       "<style scoped>\n",
       "    .dataframe tbody tr th:only-of-type {\n",
       "        vertical-align: middle;\n",
       "    }\n",
       "\n",
       "    .dataframe tbody tr th {\n",
       "        vertical-align: top;\n",
       "    }\n",
       "\n",
       "    .dataframe thead th {\n",
       "        text-align: right;\n",
       "    }\n",
       "</style>\n",
       "<table border=\"1\" class=\"dataframe\">\n",
       "  <thead>\n",
       "    <tr style=\"text-align: right;\">\n",
       "      <th></th>\n",
       "      <th>UID</th>\n",
       "      <th>source</th>\n",
       "      <th>iso</th>\n",
       "      <th>country</th>\n",
       "      <th>region</th>\n",
       "      <th>subregion</th>\n",
       "      <th>name</th>\n",
       "      <th>geometry</th>\n",
       "      <th>giga_id_school</th>\n",
       "    </tr>\n",
       "  </thead>\n",
       "  <tbody>\n",
       "    <tr>\n",
       "      <th>12406</th>\n",
       "      <td>OSM-BRA-SCHOOL-00011009</td>\n",
       "      <td>OSM</td>\n",
       "      <td>BRA</td>\n",
       "      <td>Brazil</td>\n",
       "      <td>Americas</td>\n",
       "      <td>Latin America and the Caribbean</td>\n",
       "      <td>CEJA Prof Milton Marques Curvo</td>\n",
       "      <td>POINT (-57.69096 -16.07752)</td>\n",
       "      <td>None</td>\n",
       "    </tr>\n",
       "    <tr>\n",
       "      <th>40006</th>\n",
       "      <td>OSM-THA-SCHOOL-00001422</td>\n",
       "      <td>OSM</td>\n",
       "      <td>THA</td>\n",
       "      <td>Thailand</td>\n",
       "      <td>Asia</td>\n",
       "      <td>South-eastern Asia</td>\n",
       "      <td>โรงเรียนบ้านหนองพรหม</td>\n",
       "      <td>POINT (101.24692 13.36741)</td>\n",
       "      <td>None</td>\n",
       "    </tr>\n",
       "    <tr>\n",
       "      <th>43926</th>\n",
       "      <td>OSM-ZAF-SCHOOL-00000825</td>\n",
       "      <td>OSM</td>\n",
       "      <td>ZAF</td>\n",
       "      <td>South Africa</td>\n",
       "      <td>Africa</td>\n",
       "      <td>Sub-Saharan Africa</td>\n",
       "      <td>Hoerskool Diamant</td>\n",
       "      <td>POINT (24.77248 -28.75135)</td>\n",
       "      <td>None</td>\n",
       "    </tr>\n",
       "  </tbody>\n",
       "</table>\n",
       "</div>"
      ],
      "text/plain": [
       "                           UID source  iso       country    region  \\\n",
       "12406  OSM-BRA-SCHOOL-00011009    OSM  BRA        Brazil  Americas   \n",
       "40006  OSM-THA-SCHOOL-00001422    OSM  THA      Thailand      Asia   \n",
       "43926  OSM-ZAF-SCHOOL-00000825    OSM  ZAF  South Africa    Africa   \n",
       "\n",
       "                             subregion                            name  \\\n",
       "12406  Latin America and the Caribbean  CEJA Prof Milton Marques Curvo   \n",
       "40006               South-eastern Asia            โรงเรียนบ้านหนองพรหม   \n",
       "43926               Sub-Saharan Africa               Hoerskool Diamant   \n",
       "\n",
       "                          geometry giga_id_school  \n",
       "12406  POINT (-57.69096 -16.07752)           None  \n",
       "40006   POINT (101.24692 13.36741)           None  \n",
       "43926   POINT (24.77248 -28.75135)           None  "
      ]
     },
     "execution_count": 6,
     "metadata": {},
     "output_type": "execute_result"
    }
   ],
   "source": [
    "osm_schools = download_utils.download_osm(config, category=\"school\")\n",
    "osm_schools.sample(3)"
   ]
  },
  {
   "cell_type": "code",
   "execution_count": 7,
   "id": "caf74f52-d62d-40e4-ae8a-2dac5ac4d82a",
   "metadata": {
    "tags": []
   },
   "outputs": [
    {
     "name": "stderr",
     "output_type": "stream",
     "text": [
      "Processing ZAF:  95%|███████████████████ | 40/42 [01:25<00:04,  2.38s/it]                                               WARNING:fiona.ogrext:Expecting property name enclosed in double quotes: line 1 column 2 (char 1)\n",
      "Processing ZWE: 100%|████████████████████| 42/42 [01:29<00:00,  2.12s/it]                                               \n",
      "INFO:root:Generated /home/itingzon.unicef/giga/data/vectors/non_school/osm.geojson\n",
      "INFO:root:Data dimensions: (429344, 9), CRS: EPSG:4326\n"
     ]
    },
    {
     "data": {
      "text/html": [
       "<div>\n",
       "<style scoped>\n",
       "    .dataframe tbody tr th:only-of-type {\n",
       "        vertical-align: middle;\n",
       "    }\n",
       "\n",
       "    .dataframe tbody tr th {\n",
       "        vertical-align: top;\n",
       "    }\n",
       "\n",
       "    .dataframe thead th {\n",
       "        text-align: right;\n",
       "    }\n",
       "</style>\n",
       "<table border=\"1\" class=\"dataframe\">\n",
       "  <thead>\n",
       "    <tr style=\"text-align: right;\">\n",
       "      <th></th>\n",
       "      <th>UID</th>\n",
       "      <th>source</th>\n",
       "      <th>iso</th>\n",
       "      <th>country</th>\n",
       "      <th>region</th>\n",
       "      <th>subregion</th>\n",
       "      <th>name</th>\n",
       "      <th>geometry</th>\n",
       "      <th>giga_id_school</th>\n",
       "    </tr>\n",
       "  </thead>\n",
       "  <tbody>\n",
       "    <tr>\n",
       "      <th>84016</th>\n",
       "      <td>OSM-BRA-NON_SCHOOL-00071259</td>\n",
       "      <td>OSM</td>\n",
       "      <td>BRA</td>\n",
       "      <td>Brazil</td>\n",
       "      <td>Americas</td>\n",
       "      <td>Latin America and the Caribbean</td>\n",
       "      <td>Rei do Sushi</td>\n",
       "      <td>POINT (-38.54053 -3.73940)</td>\n",
       "      <td>None</td>\n",
       "    </tr>\n",
       "    <tr>\n",
       "      <th>65427</th>\n",
       "      <td>OSM-BRA-NON_SCHOOL-00052670</td>\n",
       "      <td>OSM</td>\n",
       "      <td>BRA</td>\n",
       "      <td>Brazil</td>\n",
       "      <td>Americas</td>\n",
       "      <td>Latin America and the Caribbean</td>\n",
       "      <td>Posto Azevedo</td>\n",
       "      <td>POINT (-42.69013 -13.01851)</td>\n",
       "      <td>None</td>\n",
       "    </tr>\n",
       "    <tr>\n",
       "      <th>80196</th>\n",
       "      <td>OSM-BRA-NON_SCHOOL-00067439</td>\n",
       "      <td>OSM</td>\n",
       "      <td>BRA</td>\n",
       "      <td>Brazil</td>\n",
       "      <td>Americas</td>\n",
       "      <td>Latin America and the Caribbean</td>\n",
       "      <td>Salgados CWB</td>\n",
       "      <td>POINT (-49.25052 -25.38093)</td>\n",
       "      <td>None</td>\n",
       "    </tr>\n",
       "  </tbody>\n",
       "</table>\n",
       "</div>"
      ],
      "text/plain": [
       "                               UID source  iso country    region  \\\n",
       "84016  OSM-BRA-NON_SCHOOL-00071259    OSM  BRA  Brazil  Americas   \n",
       "65427  OSM-BRA-NON_SCHOOL-00052670    OSM  BRA  Brazil  Americas   \n",
       "80196  OSM-BRA-NON_SCHOOL-00067439    OSM  BRA  Brazil  Americas   \n",
       "\n",
       "                             subregion           name  \\\n",
       "84016  Latin America and the Caribbean   Rei do Sushi   \n",
       "65427  Latin America and the Caribbean  Posto Azevedo   \n",
       "80196  Latin America and the Caribbean   Salgados CWB   \n",
       "\n",
       "                          geometry giga_id_school  \n",
       "84016   POINT (-38.54053 -3.73940)           None  \n",
       "65427  POINT (-42.69013 -13.01851)           None  \n",
       "80196  POINT (-49.25052 -25.38093)           None  "
      ]
     },
     "execution_count": 7,
     "metadata": {},
     "output_type": "execute_result"
    }
   ],
   "source": [
    "osm_nonschools = download_utils.download_osm(config, category=\"non_school\")\n",
    "osm_nonschools.sample(3)"
   ]
  },
  {
   "cell_type": "markdown",
   "id": "ee5e52a4-4ba1-418b-aaa9-0111670bf516",
   "metadata": {},
   "source": [
    "## Download Microsoft Building Footprints (MS) Data"
   ]
  },
  {
   "cell_type": "code",
   "execution_count": null,
   "id": "e8ca2340-ac21-49af-aa83-45c0247b2e88",
   "metadata": {},
   "outputs": [],
   "source": [
    "download_utils.download_msf(config, verbose=True)"
   ]
  }
 ],
 "metadata": {
  "kernelspec": {
   "display_name": "giga2",
   "language": "python",
   "name": "giga2"
  },
  "language_info": {
   "codemirror_mode": {
    "name": "ipython",
    "version": 3
   },
   "file_extension": ".py",
   "mimetype": "text/x-python",
   "name": "python",
   "nbconvert_exporter": "python",
   "pygments_lexer": "ipython3",
   "version": "3.10.13"
  }
 },
 "nbformat": 4,
 "nbformat_minor": 5
}
