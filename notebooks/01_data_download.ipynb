{
 "cells": [
  {
   "cell_type": "markdown",
   "id": "f8cf4143-2526-44f2-980d-27a390191008",
   "metadata": {},
   "source": [
    "## Imports and Setup"
   ]
  },
  {
   "cell_type": "code",
   "execution_count": 1,
   "id": "634532cb-af3f-4083-8472-a09030e5897c",
   "metadata": {
    "tags": []
   },
   "outputs": [],
   "source": [
    "import os\n",
    "import pandas as pd\n",
    "\n",
    "import sys\n",
    "sys.path.insert(0, \"../utils/\")\n",
    "import data_utils\n",
    "import config_utils\n",
    "\n",
    "%load_ext autoreload\n",
    "%autoreload 2"
   ]
  },
  {
   "cell_type": "markdown",
   "id": "46e00581-63db-42b5-b765-ca3a761ad6f7",
   "metadata": {},
   "source": [
    "## Load Data Files"
   ]
  },
  {
   "cell_type": "code",
   "execution_count": 2,
   "id": "f61c6272-7e1c-46a7-b86d-a2016f341909",
   "metadata": {
    "tags": []
   },
   "outputs": [
    {
     "name": "stdout",
     "output_type": "stream",
     "text": [
      "Number of CSV files: 39\n"
     ]
    },
    {
     "data": {
      "application/vnd.jupyter.widget-view+json": {
       "model_id": "2712b6270c5a4bcabda1ec4c6020acba",
       "version_major": 2,
       "version_minor": 0
      },
      "text/plain": [
       "  0%|          | 0/39 [00:00<?, ?it/s]"
      ]
     },
     "metadata": {},
     "output_type": "display_data"
    },
    {
     "name": "stdout",
     "output_type": "stream",
     "text": [
      "Data dimensions: (489988, 7), CRS: EPSG:4326\n",
      "Generated /home/itingzon.unicef/giga/data/schools/giga.geojson\n"
     ]
    },
    {
     "data": {
      "text/html": [
       "<div>\n",
       "<style scoped>\n",
       "    .dataframe tbody tr th:only-of-type {\n",
       "        vertical-align: middle;\n",
       "    }\n",
       "\n",
       "    .dataframe tbody tr th {\n",
       "        vertical-align: top;\n",
       "    }\n",
       "\n",
       "    .dataframe thead th {\n",
       "        text-align: right;\n",
       "    }\n",
       "</style>\n",
       "<table border=\"1\" class=\"dataframe\">\n",
       "  <thead>\n",
       "    <tr style=\"text-align: right;\">\n",
       "      <th></th>\n",
       "      <th>UID</th>\n",
       "      <th>source</th>\n",
       "      <th>iso</th>\n",
       "      <th>country</th>\n",
       "      <th>subregion</th>\n",
       "      <th>region</th>\n",
       "      <th>geometry</th>\n",
       "    </tr>\n",
       "  </thead>\n",
       "  <tbody>\n",
       "    <tr>\n",
       "      <th>326102</th>\n",
       "      <td>unicef-326102</td>\n",
       "      <td>UNICEF</td>\n",
       "      <td>BRA</td>\n",
       "      <td>Brazil</td>\n",
       "      <td>Latin America and the Caribbean</td>\n",
       "      <td>Americas</td>\n",
       "      <td>POINT (-34.91738 -8.04492)</td>\n",
       "    </tr>\n",
       "    <tr>\n",
       "      <th>324490</th>\n",
       "      <td>unicef-324490</td>\n",
       "      <td>UNICEF</td>\n",
       "      <td>BRA</td>\n",
       "      <td>Brazil</td>\n",
       "      <td>Latin America and the Caribbean</td>\n",
       "      <td>Americas</td>\n",
       "      <td>POINT (-36.29024 -8.70378)</td>\n",
       "    </tr>\n",
       "    <tr>\n",
       "      <th>437172</th>\n",
       "      <td>unicef-437172</td>\n",
       "      <td>UNICEF</td>\n",
       "      <td>MWI</td>\n",
       "      <td>Malawi</td>\n",
       "      <td>Sub-Saharan Africa</td>\n",
       "      <td>Africa</td>\n",
       "      <td>POINT (32.99347 -9.48044)</td>\n",
       "    </tr>\n",
       "  </tbody>\n",
       "</table>\n",
       "</div>"
      ],
      "text/plain": [
       "                  UID  source  iso country                        subregion  \\\n",
       "326102  unicef-326102  UNICEF  BRA  Brazil  Latin America and the Caribbean   \n",
       "324490  unicef-324490  UNICEF  BRA  Brazil  Latin America and the Caribbean   \n",
       "437172  unicef-437172  UNICEF  MWI  Malawi               Sub-Saharan Africa   \n",
       "\n",
       "          region                    geometry  \n",
       "326102  Americas  POINT (-34.91738 -8.04492)  \n",
       "324490  Americas  POINT (-36.29024 -8.70378)  \n",
       "437172    Africa   POINT (32.99347 -9.48044)  "
      ]
     },
     "execution_count": 2,
     "metadata": {},
     "output_type": "execute_result"
    }
   ],
   "source": [
    "giga_schools = data_utils.load_files(\n",
    "    data_dir=\"data/schools/giga\", \n",
    "    out_file=\"giga.geojson\"\n",
    ")\n",
    "giga_schools.sample(3)"
   ]
  },
  {
   "cell_type": "markdown",
   "id": "67680692-4ca8-46ae-89ff-5ed340fcd6f2",
   "metadata": {},
   "source": [
    "## Download Overture Maps Data"
   ]
  },
  {
   "cell_type": "code",
   "execution_count": 3,
   "id": "40dd93e3-d252-4c83-9f4d-95ebadbe6747",
   "metadata": {
    "tags": []
   },
   "outputs": [
    {
     "data": {
      "application/vnd.jupyter.widget-view+json": {
       "model_id": "bf3b99c07cfc43a4b139337f8771cf10",
       "version_major": 2,
       "version_minor": 0
      },
      "text/plain": [
       "  0%|          | 0/39 [00:00<?, ?it/s]"
      ]
     },
     "metadata": {},
     "output_type": "display_data"
    },
    {
     "name": "stdout",
     "output_type": "stream",
     "text": [
      "Data dimensions: (64337, 5) CRS: EPSG:4326\n",
      "Generated /home/itingzon.unicef/giga/data/schools/overture.geojson\n"
     ]
    },
    {
     "data": {
      "text/html": [
       "<div>\n",
       "<style scoped>\n",
       "    .dataframe tbody tr th:only-of-type {\n",
       "        vertical-align: middle;\n",
       "    }\n",
       "\n",
       "    .dataframe tbody tr th {\n",
       "        vertical-align: top;\n",
       "    }\n",
       "\n",
       "    .dataframe thead th {\n",
       "        text-align: right;\n",
       "    }\n",
       "</style>\n",
       "<table border=\"1\" class=\"dataframe\">\n",
       "  <thead>\n",
       "    <tr style=\"text-align: right;\">\n",
       "      <th></th>\n",
       "      <th>UID</th>\n",
       "      <th>iso</th>\n",
       "      <th>source</th>\n",
       "      <th>name</th>\n",
       "      <th>geometry</th>\n",
       "    </tr>\n",
       "  </thead>\n",
       "  <tbody>\n",
       "    <tr>\n",
       "      <th>7699</th>\n",
       "      <td>overture-7699</td>\n",
       "      <td>NGA</td>\n",
       "      <td>OVERTURE</td>\n",
       "      <td>Yakasai, Shekara Secondary School</td>\n",
       "      <td>POINT (8.53052 11.99816)</td>\n",
       "    </tr>\n",
       "    <tr>\n",
       "      <th>12513</th>\n",
       "      <td>overture-12513</td>\n",
       "      <td>NGA</td>\n",
       "      <td>OVERTURE</td>\n",
       "      <td>Ikenna Stars Academy</td>\n",
       "      <td>POINT (3.13915 6.45606)</td>\n",
       "    </tr>\n",
       "    <tr>\n",
       "      <th>21792</th>\n",
       "      <td>overture-21792</td>\n",
       "      <td>THA</td>\n",
       "      <td>OVERTURE</td>\n",
       "      <td>School Hub</td>\n",
       "      <td>POINT (100.64115 13.73929)</td>\n",
       "    </tr>\n",
       "  </tbody>\n",
       "</table>\n",
       "</div>"
      ],
      "text/plain": [
       "                  UID  iso    source                               name  \\\n",
       "7699    overture-7699  NGA  OVERTURE  Yakasai, Shekara Secondary School   \n",
       "12513  overture-12513  NGA  OVERTURE               Ikenna Stars Academy   \n",
       "21792  overture-21792  THA  OVERTURE                         School Hub   \n",
       "\n",
       "                         geometry  \n",
       "7699     POINT (8.53052 11.99816)  \n",
       "12513     POINT (3.13915 6.45606)  \n",
       "21792  POINT (100.64115 13.73929)  "
      ]
     },
     "execution_count": 3,
     "metadata": {},
     "output_type": "execute_result"
    }
   ],
   "source": [
    "overture_schools = data_utils.download_overture(\n",
    "    giga_schools.iso.unique(), \n",
    "    out_dir='data/schools/overture', \n",
    "    category=\"SCHOOL\"\n",
    ")\n",
    "overture_schools.sample(3)"
   ]
  },
  {
   "cell_type": "markdown",
   "id": "185e6672-9816-4b91-9393-4f9497b3e674",
   "metadata": {},
   "source": [
    "## Download OpenStreetMap Data"
   ]
  },
  {
   "cell_type": "code",
   "execution_count": 4,
   "id": "1fee42f5-642c-483c-9aab-7f33524bc969",
   "metadata": {
    "tags": []
   },
   "outputs": [
    {
     "data": {
      "application/vnd.jupyter.widget-view+json": {
       "model_id": "49717fd7347742b4b864e084aa53f6a9",
       "version_major": 2,
       "version_minor": 0
      },
      "text/plain": [
       "  0%|          | 0/39 [00:00<?, ?it/s]"
      ]
     },
     "metadata": {},
     "output_type": "display_data"
    },
    {
     "name": "stdout",
     "output_type": "stream",
     "text": [
      "Data dimensions: (98626, 5) CRS: EPSG:4326\n",
      "Generated /home/itingzon.unicef/giga/data/schools/osm.geojson\n"
     ]
    },
    {
     "data": {
      "text/html": [
       "<div>\n",
       "<style scoped>\n",
       "    .dataframe tbody tr th:only-of-type {\n",
       "        vertical-align: middle;\n",
       "    }\n",
       "\n",
       "    .dataframe tbody tr th {\n",
       "        vertical-align: top;\n",
       "    }\n",
       "\n",
       "    .dataframe thead th {\n",
       "        text-align: right;\n",
       "    }\n",
       "</style>\n",
       "<table border=\"1\" class=\"dataframe\">\n",
       "  <thead>\n",
       "    <tr style=\"text-align: right;\">\n",
       "      <th></th>\n",
       "      <th>UID</th>\n",
       "      <th>iso</th>\n",
       "      <th>source</th>\n",
       "      <th>name</th>\n",
       "      <th>geometry</th>\n",
       "    </tr>\n",
       "  </thead>\n",
       "  <tbody>\n",
       "    <tr>\n",
       "      <th>6818</th>\n",
       "      <td>osm-6818</td>\n",
       "      <td>GIN</td>\n",
       "      <td>OSM</td>\n",
       "      <td>EP Franco-Arabe El Hadj Momo Camara</td>\n",
       "      <td>POINT (-13.66332 9.57957)</td>\n",
       "    </tr>\n",
       "    <tr>\n",
       "      <th>47229</th>\n",
       "      <td>osm-47229</td>\n",
       "      <td>BRA</td>\n",
       "      <td>OSM</td>\n",
       "      <td>Emeb Dr Mario Henrique Simonsen</td>\n",
       "      <td>POINT (-45.99673 -3.66343)</td>\n",
       "    </tr>\n",
       "    <tr>\n",
       "      <th>15868</th>\n",
       "      <td>osm-15868</td>\n",
       "      <td>THA</td>\n",
       "      <td>OSM</td>\n",
       "      <td>None</td>\n",
       "      <td>POINT (102.80905 11.88771)</td>\n",
       "    </tr>\n",
       "  </tbody>\n",
       "</table>\n",
       "</div>"
      ],
      "text/plain": [
       "             UID  iso source                                 name  \\\n",
       "6818    osm-6818  GIN    OSM  EP Franco-Arabe El Hadj Momo Camara   \n",
       "47229  osm-47229  BRA    OSM      Emeb Dr Mario Henrique Simonsen   \n",
       "15868  osm-15868  THA    OSM                                 None   \n",
       "\n",
       "                         geometry  \n",
       "6818    POINT (-13.66332 9.57957)  \n",
       "47229  POINT (-45.99673 -3.66343)  \n",
       "15868  POINT (102.80905 11.88771)  "
      ]
     },
     "execution_count": 4,
     "metadata": {},
     "output_type": "execute_result"
    }
   ],
   "source": [
    "osm_schools = data_utils.download_osm(\n",
    "    giga_schools.iso.unique(), \n",
    "    out_dir='data/schools/osm',\n",
    "    category=\"SCHOOL\"\n",
    ")\n",
    "osm_schools.sample(3)"
   ]
  },
  {
   "cell_type": "markdown",
   "id": "b556327a-3d6a-4e36-9eb6-cbfb01b289ec",
   "metadata": {},
   "source": [
    "## Data Inspection"
   ]
  },
  {
   "cell_type": "code",
   "execution_count": 6,
   "id": "9fbeac6a-3adf-4c3c-af0c-e14582292aa4",
   "metadata": {},
   "outputs": [
    {
     "data": {
      "text/plain": [
       "region\n",
       "Africa      268030\n",
       "Americas    167423\n",
       "Asia         42169\n",
       "Europe       12248\n",
       "Oceania        118\n",
       "Name: count, dtype: int64"
      ]
     },
     "execution_count": 6,
     "metadata": {},
     "output_type": "execute_result"
    }
   ],
   "source": [
    "giga_schools.region.value_counts()"
   ]
  },
  {
   "cell_type": "code",
   "execution_count": 7,
   "id": "b32aa2c1-d06e-4074-a9d4-eb02be3922f2",
   "metadata": {},
   "outputs": [
    {
     "data": {
      "text/plain": [
       "subregion\n",
       "Sub-Saharan Africa                 268030\n",
       "Latin America and the Caribbean    167423\n",
       "South-eastern Asia                  24298\n",
       "Central Asia                        17026\n",
       "Eastern Europe                      10238\n",
       "Southern Europe                      2010\n",
       "Eastern Asia                          845\n",
       "Micronesia                            118\n",
       "Name: count, dtype: int64"
      ]
     },
     "execution_count": 7,
     "metadata": {},
     "output_type": "execute_result"
    }
   ],
   "source": [
    "giga_schools.subregion.value_counts()"
   ]
  },
  {
   "cell_type": "code",
   "execution_count": 8,
   "id": "9b3b1813-07c6-4960-a78f-a1802b80f812",
   "metadata": {},
   "outputs": [
    {
     "data": {
      "text/plain": [
       "country\n",
       "Brazil                              136173\n",
       "Nigeria                             109407\n",
       "Ghana                                34712\n",
       "South Africa                         32925\n",
       "Thailand                             24298\n",
       "Niger                                19492\n",
       "Honduras                             16516\n",
       "Guinea                               15591\n",
       "Sierra Leone                         11941\n",
       "Uzbekistan                           10111\n",
       "Benin                                 8858\n",
       "Zimbabwe                              7913\n",
       "Ukraine                               7845\n",
       "Malawi                                7062\n",
       "Kazakhstan                            6915\n",
       "Kenya                                 6861\n",
       "South Sudan                           6363\n",
       "El Salvador                           5162\n",
       "Costa Rica                            4598\n",
       "Rwanda                                4095\n",
       "Panama                                3178\n",
       "Hungary                               2393\n",
       "Bosnia and Herzegovina                2010\n",
       "Namibia                               1779\n",
       "Botswana                              1031\n",
       "Mongolia                               845\n",
       "Trinidad and Tobago                    761\n",
       "Belize                                 372\n",
       "Grenada                                154\n",
       "Kiribati                               118\n",
       "Barbados                               106\n",
       "Saint Vincent and the Grenadines        94\n",
       "Saint Lucia                             93\n",
       "Dominica                                69\n",
       "Saint Kitts and Nevis                   44\n",
       "Antigua and Barbuda                     43\n",
       "Virgin Islands (British)                23\n",
       "Anguilla                                20\n",
       "Montserrat                              17\n",
       "Name: count, dtype: int64"
      ]
     },
     "execution_count": 8,
     "metadata": {},
     "output_type": "execute_result"
    }
   ],
   "source": [
    "giga_schools.country.value_counts()"
   ]
  }
 ],
 "metadata": {
  "kernelspec": {
   "display_name": "giga",
   "language": "python",
   "name": "giga"
  },
  "language_info": {
   "codemirror_mode": {
    "name": "ipython",
    "version": 3
   },
   "file_extension": ".py",
   "mimetype": "text/x-python",
   "name": "python",
   "nbconvert_exporter": "python",
   "pygments_lexer": "ipython3",
   "version": "3.11.5"
  }
 },
 "nbformat": 4,
 "nbformat_minor": 5
}
