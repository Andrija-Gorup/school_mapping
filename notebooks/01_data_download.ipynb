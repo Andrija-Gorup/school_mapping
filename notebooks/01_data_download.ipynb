{
 "cells": [
  {
   "cell_type": "markdown",
   "id": "f8cf4143-2526-44f2-980d-27a390191008",
   "metadata": {},
   "source": [
    "## Imports and Setup"
   ]
  },
  {
   "cell_type": "code",
   "execution_count": 1,
   "id": "634532cb-af3f-4083-8472-a09030e5897c",
   "metadata": {
    "tags": []
   },
   "outputs": [],
   "source": [
    "import os\n",
    "import pandas as pd\n",
    "import geopandas as gpd\n",
    "\n",
    "import sys\n",
    "sys.path.insert(0, \"../utils/\")\n",
    "import download_utils\n",
    "\n",
    "%load_ext autoreload\n",
    "%autoreload 2"
   ]
  },
  {
   "cell_type": "markdown",
   "id": "46e00581-63db-42b5-b765-ca3a761ad6f7",
   "metadata": {},
   "source": [
    "## Load Data Files"
   ]
  },
  {
   "cell_type": "code",
   "execution_count": 2,
   "id": "f61c6272-7e1c-46a7-b86d-a2016f341909",
   "metadata": {
    "tags": []
   },
   "outputs": [
    {
     "name": "stderr",
     "output_type": "stream",
     "text": [
      "INFO:root:Number of CSV files: 39\n"
     ]
    },
    {
     "data": {
      "application/vnd.jupyter.widget-view+json": {
       "model_id": "42918e9279f445e093b3ddda1f4b8946",
       "version_major": 2,
       "version_minor": 0
      },
      "text/plain": [
       "  0%|          | 0/39 [00:00<?, ?it/s]"
      ]
     },
     "metadata": {},
     "output_type": "display_data"
    },
    {
     "name": "stderr",
     "output_type": "stream",
     "text": [
      "INFO:root:Data dimensions: (437362, 9), CRS: EPSG:4326\n",
      "INFO:root:Generated /home/itingzon.unicef/giga/data/vectors/school/unicef.geojson\n"
     ]
    },
    {
     "data": {
      "text/html": [
       "<div>\n",
       "<style scoped>\n",
       "    .dataframe tbody tr th:only-of-type {\n",
       "        vertical-align: middle;\n",
       "    }\n",
       "\n",
       "    .dataframe tbody tr th {\n",
       "        vertical-align: top;\n",
       "    }\n",
       "\n",
       "    .dataframe thead th {\n",
       "        text-align: right;\n",
       "    }\n",
       "</style>\n",
       "<table border=\"1\" class=\"dataframe\">\n",
       "  <thead>\n",
       "    <tr style=\"text-align: right;\">\n",
       "      <th></th>\n",
       "      <th>UID</th>\n",
       "      <th>source</th>\n",
       "      <th>iso</th>\n",
       "      <th>country</th>\n",
       "      <th>region</th>\n",
       "      <th>subregion</th>\n",
       "      <th>name</th>\n",
       "      <th>geometry</th>\n",
       "      <th>giga_id_school</th>\n",
       "    </tr>\n",
       "  </thead>\n",
       "  <tbody>\n",
       "    <tr>\n",
       "      <th>377068</th>\n",
       "      <td>UNICEF-NER-SCHOOL-00010920</td>\n",
       "      <td>UNICEF</td>\n",
       "      <td>NER</td>\n",
       "      <td>Niger</td>\n",
       "      <td>Africa</td>\n",
       "      <td>Sub-Saharan Africa</td>\n",
       "      <td>babbal chaya</td>\n",
       "      <td>POINT (9.34504 13.59748)</td>\n",
       "      <td>e0b4bca3-3835-31b2-95bc-7386f0a1923e</td>\n",
       "    </tr>\n",
       "    <tr>\n",
       "      <th>33371</th>\n",
       "      <td>UNICEF-NGA-SCHOOL-00008494</td>\n",
       "      <td>UNICEF</td>\n",
       "      <td>NGA</td>\n",
       "      <td>Nigeria</td>\n",
       "      <td>Africa</td>\n",
       "      <td>Sub-Saharan Africa</td>\n",
       "      <td>Aribor Migrant Fishermrn School</td>\n",
       "      <td>POINT (6.78583 6.21206)</td>\n",
       "      <td>616af707-7370-3e1b-b91b-f9056ce53064</td>\n",
       "    </tr>\n",
       "    <tr>\n",
       "      <th>418549</th>\n",
       "      <td>UNICEF-ZWE-SCHOOL-00001892</td>\n",
       "      <td>UNICEF</td>\n",
       "      <td>ZWE</td>\n",
       "      <td>Zimbabwe</td>\n",
       "      <td>Africa</td>\n",
       "      <td>Sub-Saharan Africa</td>\n",
       "      <td>BANDIMBA  PRY</td>\n",
       "      <td>POINT (31.85575 -16.38803)</td>\n",
       "      <td>6c3c7c3b-5610-3168-afb7-f327bc52d057</td>\n",
       "    </tr>\n",
       "  </tbody>\n",
       "</table>\n",
       "</div>"
      ],
      "text/plain": [
       "                               UID  source  iso   country  region  \\\n",
       "377068  UNICEF-NER-SCHOOL-00010920  UNICEF  NER     Niger  Africa   \n",
       "33371   UNICEF-NGA-SCHOOL-00008494  UNICEF  NGA   Nigeria  Africa   \n",
       "418549  UNICEF-ZWE-SCHOOL-00001892  UNICEF  ZWE  Zimbabwe  Africa   \n",
       "\n",
       "                 subregion                             name  \\\n",
       "377068  Sub-Saharan Africa                     babbal chaya   \n",
       "33371   Sub-Saharan Africa  Aribor Migrant Fishermrn School   \n",
       "418549  Sub-Saharan Africa                    BANDIMBA  PRY   \n",
       "\n",
       "                          geometry                        giga_id_school  \n",
       "377068    POINT (9.34504 13.59748)  e0b4bca3-3835-31b2-95bc-7386f0a1923e  \n",
       "33371      POINT (6.78583 6.21206)  616af707-7370-3e1b-b91b-f9056ce53064  \n",
       "418549  POINT (31.85575 -16.38803)  6c3c7c3b-5610-3168-afb7-f327bc52d057  "
      ]
     },
     "execution_count": 2,
     "metadata": {},
     "output_type": "execute_result"
    }
   ],
   "source": [
    "unicef = download_utils.load_unicef()\n",
    "unicef.sample(3)"
   ]
  },
  {
   "cell_type": "markdown",
   "id": "67680692-4ca8-46ae-89ff-5ed340fcd6f2",
   "metadata": {},
   "source": [
    "## Download Overture Maps Data"
   ]
  },
  {
   "cell_type": "code",
   "execution_count": 3,
   "id": "acfa6b0b-152d-4138-94d0-47308b370f95",
   "metadata": {
    "tags": []
   },
   "outputs": [
    {
     "data": {
      "application/vnd.jupyter.widget-view+json": {
       "model_id": "b7ce063666d24b7fb1ddee0337a6fd40",
       "version_major": 2,
       "version_minor": 0
      },
      "text/plain": [
       "  0%|          | 0/39 [00:00<?, ?it/s]"
      ]
     },
     "metadata": {},
     "output_type": "display_data"
    },
    {
     "data": {
      "application/vnd.jupyter.widget-view+json": {
       "model_id": "9b4c3a5124d2410eba430a97bcf31585",
       "version_major": 2,
       "version_minor": 0
      },
      "text/plain": [
       "FloatProgress(value=0.0, layout=Layout(width='auto'), style=ProgressStyle(bar_color='black'))"
      ]
     },
     "metadata": {},
     "output_type": "display_data"
    },
    {
     "name": "stderr",
     "output_type": "stream",
     "text": [
      "INFO:root:Data dimensions: (61183, 8), CRS: EPSG:4326\n",
      "INFO:root:Generated /home/itingzon.unicef/giga/data/vectors/school/overture.geojson\n"
     ]
    },
    {
     "data": {
      "text/html": [
       "<div>\n",
       "<style scoped>\n",
       "    .dataframe tbody tr th:only-of-type {\n",
       "        vertical-align: middle;\n",
       "    }\n",
       "\n",
       "    .dataframe tbody tr th {\n",
       "        vertical-align: top;\n",
       "    }\n",
       "\n",
       "    .dataframe thead th {\n",
       "        text-align: right;\n",
       "    }\n",
       "</style>\n",
       "<table border=\"1\" class=\"dataframe\">\n",
       "  <thead>\n",
       "    <tr style=\"text-align: right;\">\n",
       "      <th></th>\n",
       "      <th>UID</th>\n",
       "      <th>source</th>\n",
       "      <th>iso</th>\n",
       "      <th>country</th>\n",
       "      <th>region</th>\n",
       "      <th>subregion</th>\n",
       "      <th>name</th>\n",
       "      <th>geometry</th>\n",
       "    </tr>\n",
       "  </thead>\n",
       "  <tbody>\n",
       "    <tr>\n",
       "      <th>35366</th>\n",
       "      <td>OVERTURE-ZAF-SCHOOL-00008832</td>\n",
       "      <td>OVERTURE</td>\n",
       "      <td>ZAF</td>\n",
       "      <td>South Africa</td>\n",
       "      <td>Africa</td>\n",
       "      <td>Sub-Saharan Africa</td>\n",
       "      <td>Malamulele High School</td>\n",
       "      <td>POINT (28.05577 -26.19426)</td>\n",
       "    </tr>\n",
       "    <tr>\n",
       "      <th>47157</th>\n",
       "      <td>OVERTURE-ZAF-SCHOOL-00020623</td>\n",
       "      <td>OVERTURE</td>\n",
       "      <td>ZAF</td>\n",
       "      <td>South Africa</td>\n",
       "      <td>Africa</td>\n",
       "      <td>Sub-Saharan Africa</td>\n",
       "      <td>Helen O'Grady Drama Academy Walmer</td>\n",
       "      <td>POINT (25.58829 -33.98098)</td>\n",
       "    </tr>\n",
       "    <tr>\n",
       "      <th>20273</th>\n",
       "      <td>OVERTURE-THA-SCHOOL-00006232</td>\n",
       "      <td>OVERTURE</td>\n",
       "      <td>THA</td>\n",
       "      <td>Thailand</td>\n",
       "      <td>Asia</td>\n",
       "      <td>South-eastern Asia</td>\n",
       "      <td>Thepnaree School</td>\n",
       "      <td>POINT (100.13788 18.11342)</td>\n",
       "    </tr>\n",
       "  </tbody>\n",
       "</table>\n",
       "</div>"
      ],
      "text/plain": [
       "                                UID    source  iso       country  region  \\\n",
       "35366  OVERTURE-ZAF-SCHOOL-00008832  OVERTURE  ZAF  South Africa  Africa   \n",
       "47157  OVERTURE-ZAF-SCHOOL-00020623  OVERTURE  ZAF  South Africa  Africa   \n",
       "20273  OVERTURE-THA-SCHOOL-00006232  OVERTURE  THA      Thailand    Asia   \n",
       "\n",
       "                subregion                                name  \\\n",
       "35366  Sub-Saharan Africa              Malamulele High School   \n",
       "47157  Sub-Saharan Africa  Helen O'Grady Drama Academy Walmer   \n",
       "20273  South-eastern Asia                    Thepnaree School   \n",
       "\n",
       "                         geometry  \n",
       "35366  POINT (28.05577 -26.19426)  \n",
       "47157  POINT (25.58829 -33.98098)  \n",
       "20273  POINT (100.13788 18.11342)  "
      ]
     },
     "execution_count": 3,
     "metadata": {},
     "output_type": "execute_result"
    }
   ],
   "source": [
    "overture_schools = download_utils.download_overture(\n",
    "    unicef.iso.unique(),\n",
    "    category=\"school\"\n",
    ")\n",
    "overture_schools.sample(3)"
   ]
  },
  {
   "cell_type": "code",
   "execution_count": 7,
   "id": "c4694058-d734-4a1f-9ae2-246bf962385e",
   "metadata": {
    "tags": []
   },
   "outputs": [
    {
     "data": {
      "application/vnd.jupyter.widget-view+json": {
       "model_id": "17d1afe5ae56434db1bab10fa0d66630",
       "version_major": 2,
       "version_minor": 0
      },
      "text/plain": [
       "  0%|          | 0/39 [00:00<?, ?it/s]"
      ]
     },
     "metadata": {},
     "output_type": "display_data"
    },
    {
     "data": {
      "application/vnd.jupyter.widget-view+json": {
       "model_id": "ec9bf79655fa41ddad47b4bb56dec517",
       "version_major": 2,
       "version_minor": 0
      },
      "text/plain": [
       "FloatProgress(value=0.0, layout=Layout(width='auto'), style=ProgressStyle(bar_color='black'))"
      ]
     },
     "metadata": {},
     "output_type": "display_data"
    },
    {
     "name": "stderr",
     "output_type": "stream",
     "text": [
      "INFO:root:Data dimensions: (606471, 8), CRS: EPSG:4326\n",
      "INFO:root:Generated /home/itingzon.unicef/giga/data/vectors/non_school/overture.geojson\n"
     ]
    },
    {
     "data": {
      "text/html": [
       "<div>\n",
       "<style scoped>\n",
       "    .dataframe tbody tr th:only-of-type {\n",
       "        vertical-align: middle;\n",
       "    }\n",
       "\n",
       "    .dataframe tbody tr th {\n",
       "        vertical-align: top;\n",
       "    }\n",
       "\n",
       "    .dataframe thead th {\n",
       "        text-align: right;\n",
       "    }\n",
       "</style>\n",
       "<table border=\"1\" class=\"dataframe\">\n",
       "  <thead>\n",
       "    <tr style=\"text-align: right;\">\n",
       "      <th></th>\n",
       "      <th>UID</th>\n",
       "      <th>source</th>\n",
       "      <th>iso</th>\n",
       "      <th>country</th>\n",
       "      <th>region</th>\n",
       "      <th>subregion</th>\n",
       "      <th>name</th>\n",
       "      <th>geometry</th>\n",
       "    </tr>\n",
       "  </thead>\n",
       "  <tbody>\n",
       "    <tr>\n",
       "      <th>507915</th>\n",
       "      <td>OVERTURE-BRA-NON_SCHOOL-00353324</td>\n",
       "      <td>OVERTURE</td>\n",
       "      <td>BRA</td>\n",
       "      <td>Brazil</td>\n",
       "      <td>Americas</td>\n",
       "      <td>Latin America and the Caribbean</td>\n",
       "      <td>Hotel Central</td>\n",
       "      <td>POINT (-45.43250 -20.46125)</td>\n",
       "    </tr>\n",
       "    <tr>\n",
       "      <th>391899</th>\n",
       "      <td>OVERTURE-BRA-NON_SCHOOL-00237308</td>\n",
       "      <td>OVERTURE</td>\n",
       "      <td>BRA</td>\n",
       "      <td>Brazil</td>\n",
       "      <td>Americas</td>\n",
       "      <td>Latin America and the Caribbean</td>\n",
       "      <td>Clinica Santa Clara</td>\n",
       "      <td>POINT (-40.63466 -19.53843)</td>\n",
       "    </tr>\n",
       "    <tr>\n",
       "      <th>200224</th>\n",
       "      <td>OVERTURE-BRA-NON_SCHOOL-00045633</td>\n",
       "      <td>OVERTURE</td>\n",
       "      <td>BRA</td>\n",
       "      <td>Brazil</td>\n",
       "      <td>Americas</td>\n",
       "      <td>Latin America and the Caribbean</td>\n",
       "      <td>Barbearia Nascimento</td>\n",
       "      <td>POINT (-38.54981 -3.71245)</td>\n",
       "    </tr>\n",
       "  </tbody>\n",
       "</table>\n",
       "</div>"
      ],
      "text/plain": [
       "                                     UID    source  iso country    region  \\\n",
       "507915  OVERTURE-BRA-NON_SCHOOL-00353324  OVERTURE  BRA  Brazil  Americas   \n",
       "391899  OVERTURE-BRA-NON_SCHOOL-00237308  OVERTURE  BRA  Brazil  Americas   \n",
       "200224  OVERTURE-BRA-NON_SCHOOL-00045633  OVERTURE  BRA  Brazil  Americas   \n",
       "\n",
       "                              subregion                  name  \\\n",
       "507915  Latin America and the Caribbean         Hotel Central   \n",
       "391899  Latin America and the Caribbean   Clinica Santa Clara   \n",
       "200224  Latin America and the Caribbean  Barbearia Nascimento   \n",
       "\n",
       "                           geometry  \n",
       "507915  POINT (-45.43250 -20.46125)  \n",
       "391899  POINT (-40.63466 -19.53843)  \n",
       "200224   POINT (-38.54981 -3.71245)  "
      ]
     },
     "execution_count": 7,
     "metadata": {},
     "output_type": "execute_result"
    }
   ],
   "source": [
    "overture_nonschools = download_utils.download_overture(\n",
    "    unicef.iso.unique(),\n",
    "    category=\"non_school\",\n",
    "    exclude=\"school\"\n",
    ")\n",
    "overture_nonschools.sample(3)"
   ]
  },
  {
   "cell_type": "markdown",
   "id": "185e6672-9816-4b91-9393-4f9497b3e674",
   "metadata": {},
   "source": [
    "## Download OpenStreetMap Data"
   ]
  },
  {
   "cell_type": "code",
   "execution_count": 5,
   "id": "1fee42f5-642c-483c-9aab-7f33524bc969",
   "metadata": {
    "tags": []
   },
   "outputs": [
    {
     "data": {
      "application/vnd.jupyter.widget-view+json": {
       "model_id": "4eba3c63276345109803c0fed37e0e79",
       "version_major": 2,
       "version_minor": 0
      },
      "text/plain": [
       "  0%|          | 0/39 [00:00<?, ?it/s]"
      ]
     },
     "metadata": {},
     "output_type": "display_data"
    },
    {
     "name": "stderr",
     "output_type": "stream",
     "text": [
      "WARNING:fiona._env:Several features with id = 3586622262 have been found. Altering it to be unique. This warning will not be emitted anymore for this layer\n",
      "WARNING:fiona._env:Several features with id = 3586622262 have been found. Altering it to be unique. This warning will not be emitted anymore for this layer\n",
      "INFO:root:Data dimensions: (40726, 8), CRS: EPSG:4326\n",
      "INFO:root:Generated /home/itingzon.unicef/giga/data/vectors/school/osm.geojson\n"
     ]
    },
    {
     "data": {
      "text/html": [
       "<div>\n",
       "<style scoped>\n",
       "    .dataframe tbody tr th:only-of-type {\n",
       "        vertical-align: middle;\n",
       "    }\n",
       "\n",
       "    .dataframe tbody tr th {\n",
       "        vertical-align: top;\n",
       "    }\n",
       "\n",
       "    .dataframe thead th {\n",
       "        text-align: right;\n",
       "    }\n",
       "</style>\n",
       "<table border=\"1\" class=\"dataframe\">\n",
       "  <thead>\n",
       "    <tr style=\"text-align: right;\">\n",
       "      <th></th>\n",
       "      <th>UID</th>\n",
       "      <th>source</th>\n",
       "      <th>iso</th>\n",
       "      <th>country</th>\n",
       "      <th>region</th>\n",
       "      <th>subregion</th>\n",
       "      <th>name</th>\n",
       "      <th>geometry</th>\n",
       "    </tr>\n",
       "  </thead>\n",
       "  <tbody>\n",
       "    <tr>\n",
       "      <th>8766</th>\n",
       "      <td>OSM-ZAF-SCHOOL-00000471</td>\n",
       "      <td>OSM</td>\n",
       "      <td>ZAF</td>\n",
       "      <td>South Africa</td>\n",
       "      <td>Africa</td>\n",
       "      <td>Sub-Saharan Africa</td>\n",
       "      <td>Pinegrove Primary School</td>\n",
       "      <td>POINT (28.42688 -26.24075)</td>\n",
       "    </tr>\n",
       "    <tr>\n",
       "      <th>8943</th>\n",
       "      <td>OSM-ZAF-SCHOOL-00000648</td>\n",
       "      <td>OSM</td>\n",
       "      <td>ZAF</td>\n",
       "      <td>South Africa</td>\n",
       "      <td>Africa</td>\n",
       "      <td>Sub-Saharan Africa</td>\n",
       "      <td>Suid-Natal Primêre Skool</td>\n",
       "      <td>POINT (30.43922 -30.75654)</td>\n",
       "    </tr>\n",
       "    <tr>\n",
       "      <th>38035</th>\n",
       "      <td>OSM-BEN-SCHOOL-00000227</td>\n",
       "      <td>OSM</td>\n",
       "      <td>BEN</td>\n",
       "      <td>Benin</td>\n",
       "      <td>Africa</td>\n",
       "      <td>Sub-Saharan Africa</td>\n",
       "      <td>Ecole Primaire Privée KANHONOU</td>\n",
       "      <td>POINT (2.53659 6.39016)</td>\n",
       "    </tr>\n",
       "  </tbody>\n",
       "</table>\n",
       "</div>"
      ],
      "text/plain": [
       "                           UID source  iso       country  region  \\\n",
       "8766   OSM-ZAF-SCHOOL-00000471    OSM  ZAF  South Africa  Africa   \n",
       "8943   OSM-ZAF-SCHOOL-00000648    OSM  ZAF  South Africa  Africa   \n",
       "38035  OSM-BEN-SCHOOL-00000227    OSM  BEN         Benin  Africa   \n",
       "\n",
       "                subregion                            name  \\\n",
       "8766   Sub-Saharan Africa        Pinegrove Primary School   \n",
       "8943   Sub-Saharan Africa        Suid-Natal Primêre Skool   \n",
       "38035  Sub-Saharan Africa  Ecole Primaire Privée KANHONOU   \n",
       "\n",
       "                         geometry  \n",
       "8766   POINT (28.42688 -26.24075)  \n",
       "8943   POINT (30.43922 -30.75654)  \n",
       "38035     POINT (2.53659 6.39016)  "
      ]
     },
     "execution_count": 5,
     "metadata": {},
     "output_type": "execute_result"
    }
   ],
   "source": [
    "osm_schools = download_utils.download_osm(\n",
    "    unicef.iso.unique(), \n",
    "    category=\"school\"\n",
    ")\n",
    "osm_schools.sample(3)"
   ]
  },
  {
   "cell_type": "code",
   "execution_count": 8,
   "id": "2cf447cf-024d-459a-956e-e25e4b73c4c4",
   "metadata": {
    "tags": []
   },
   "outputs": [
    {
     "data": {
      "application/vnd.jupyter.widget-view+json": {
       "model_id": "c0bf92fffff545cabe1e762933f545cb",
       "version_major": 2,
       "version_minor": 0
      },
      "text/plain": [
       "  0%|          | 0/39 [00:00<?, ?it/s]"
      ]
     },
     "metadata": {},
     "output_type": "display_data"
    },
    {
     "name": "stderr",
     "output_type": "stream",
     "text": [
      "WARNING:fiona.ogrext:Expecting property name enclosed in double quotes: line 1 column 2 (char 1)\n",
      "WARNING:fiona._env:Several features with id = 1224753145 have been found. Altering it to be unique. This warning will not be emitted anymore for this layer\n",
      "WARNING:fiona._env:Several features with id = 1224753145 have been found. Altering it to be unique. This warning will not be emitted anymore for this layer\n",
      "INFO:root:Data dimensions: (410419, 8), CRS: EPSG:4326\n",
      "INFO:root:Generated /home/itingzon.unicef/giga/data/vectors/non_school/osm.geojson\n"
     ]
    },
    {
     "data": {
      "text/html": [
       "<div>\n",
       "<style scoped>\n",
       "    .dataframe tbody tr th:only-of-type {\n",
       "        vertical-align: middle;\n",
       "    }\n",
       "\n",
       "    .dataframe tbody tr th {\n",
       "        vertical-align: top;\n",
       "    }\n",
       "\n",
       "    .dataframe thead th {\n",
       "        text-align: right;\n",
       "    }\n",
       "</style>\n",
       "<table border=\"1\" class=\"dataframe\">\n",
       "  <thead>\n",
       "    <tr style=\"text-align: right;\">\n",
       "      <th></th>\n",
       "      <th>UID</th>\n",
       "      <th>source</th>\n",
       "      <th>iso</th>\n",
       "      <th>country</th>\n",
       "      <th>region</th>\n",
       "      <th>subregion</th>\n",
       "      <th>name</th>\n",
       "      <th>geometry</th>\n",
       "    </tr>\n",
       "  </thead>\n",
       "  <tbody>\n",
       "    <tr>\n",
       "      <th>168650</th>\n",
       "      <td>OSM-THA-NON_SCHOOL-00051521</td>\n",
       "      <td>OSM</td>\n",
       "      <td>THA</td>\n",
       "      <td>Thailand</td>\n",
       "      <td>Asia</td>\n",
       "      <td>South-eastern Asia</td>\n",
       "      <td>None</td>\n",
       "      <td>POINT (98.96622 18.91647)</td>\n",
       "    </tr>\n",
       "    <tr>\n",
       "      <th>135024</th>\n",
       "      <td>OSM-THA-NON_SCHOOL-00017895</td>\n",
       "      <td>OSM</td>\n",
       "      <td>THA</td>\n",
       "      <td>Thailand</td>\n",
       "      <td>Asia</td>\n",
       "      <td>South-eastern Asia</td>\n",
       "      <td>Starbucks</td>\n",
       "      <td>POINT (102.74285 17.87151)</td>\n",
       "    </tr>\n",
       "    <tr>\n",
       "      <th>29749</th>\n",
       "      <td>OSM-NGA-NON_SCHOOL-00013182</td>\n",
       "      <td>OSM</td>\n",
       "      <td>NGA</td>\n",
       "      <td>Nigeria</td>\n",
       "      <td>Africa</td>\n",
       "      <td>Sub-Saharan Africa</td>\n",
       "      <td>Multiple Grace Assembly INC.</td>\n",
       "      <td>POINT (7.38174 9.14131)</td>\n",
       "    </tr>\n",
       "  </tbody>\n",
       "</table>\n",
       "</div>"
      ],
      "text/plain": [
       "                                UID source  iso   country  region  \\\n",
       "168650  OSM-THA-NON_SCHOOL-00051521    OSM  THA  Thailand    Asia   \n",
       "135024  OSM-THA-NON_SCHOOL-00017895    OSM  THA  Thailand    Asia   \n",
       "29749   OSM-NGA-NON_SCHOOL-00013182    OSM  NGA   Nigeria  Africa   \n",
       "\n",
       "                 subregion                          name  \\\n",
       "168650  South-eastern Asia                          None   \n",
       "135024  South-eastern Asia                     Starbucks   \n",
       "29749   Sub-Saharan Africa  Multiple Grace Assembly INC.   \n",
       "\n",
       "                          geometry  \n",
       "168650   POINT (98.96622 18.91647)  \n",
       "135024  POINT (102.74285 17.87151)  \n",
       "29749      POINT (7.38174 9.14131)  "
      ]
     },
     "execution_count": 8,
     "metadata": {},
     "output_type": "execute_result"
    }
   ],
   "source": [
    "osm_nonschools = download_utils.download_osm(\n",
    "    unicef.iso.unique(), \n",
    "    category=\"non_school\"\n",
    ")\n",
    "osm_nonschools.sample(3)"
   ]
  }
 ],
 "metadata": {
  "kernelspec": {
   "display_name": "giga",
   "language": "python",
   "name": "giga"
  },
  "language_info": {
   "codemirror_mode": {
    "name": "ipython",
    "version": 3
   },
   "file_extension": ".py",
   "mimetype": "text/x-python",
   "name": "python",
   "nbconvert_exporter": "python",
   "pygments_lexer": "ipython3",
   "version": "3.11.5"
  }
 },
 "nbformat": 4,
 "nbformat_minor": 5
}
