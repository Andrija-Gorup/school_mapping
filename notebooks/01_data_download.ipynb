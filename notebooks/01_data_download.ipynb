{
 "cells": [
  {
   "cell_type": "markdown",
   "id": "f8cf4143-2526-44f2-980d-27a390191008",
   "metadata": {},
   "source": [
    "## Imports and Setup"
   ]
  },
  {
   "cell_type": "code",
   "execution_count": 1,
   "id": "634532cb-af3f-4083-8472-a09030e5897c",
   "metadata": {
    "tags": []
   },
   "outputs": [],
   "source": [
    "import os\n",
    "import pandas as pd\n",
    "import geopandas as gpd\n",
    "\n",
    "import sys\n",
    "sys.path.insert(0, \"../utils/\")\n",
    "import download_utils\n",
    "import config_utils\n",
    "\n",
    "import warnings\n",
    "warnings.filterwarnings('ignore')\n",
    "warnings.simplefilter('ignore')\n",
    "\n",
    "%load_ext autoreload\n",
    "%autoreload 2"
   ]
  },
  {
   "cell_type": "markdown",
   "id": "de83468e-d5da-48ae-a5f0-79a79dc83b49",
   "metadata": {},
   "source": [
    "## Data Config"
   ]
  },
  {
   "cell_type": "code",
   "execution_count": 2,
   "id": "a4a724d8-57da-4c7b-b964-60ae1f7e7eca",
   "metadata": {},
   "outputs": [],
   "source": [
    "cwd = os.path.dirname(os.getcwd())\n",
    "filename=\"configs/data_config.yaml\"\n",
    "\n",
    "config_file = os.path.join(cwd, filename)\n",
    "config = config_utils.create_config(config_file)"
   ]
  },
  {
   "cell_type": "markdown",
   "id": "46e00581-63db-42b5-b765-ca3a761ad6f7",
   "metadata": {},
   "source": [
    "## Load Data Files"
   ]
  },
  {
   "cell_type": "code",
   "execution_count": 3,
   "id": "f61c6272-7e1c-46a7-b86d-a2016f341909",
   "metadata": {
    "tags": []
   },
   "outputs": [
    {
     "name": "stderr",
     "output_type": "stream",
     "text": [
      "INFO:root:Number of CSV files: 39\n",
      "Processing SLV: 100%|████████████████████| 39/39 [00:13<00:00,  2.96it/s]                                               \n",
      "INFO:root:Generated /home/itingzon.unicef/giga/data/vectors/school/unicef.geojson\n",
      "INFO:root:Data dimensions: (437362, 9), CRS: EPSG:4326\n"
     ]
    },
    {
     "data": {
      "text/html": [
       "<div>\n",
       "<style scoped>\n",
       "    .dataframe tbody tr th:only-of-type {\n",
       "        vertical-align: middle;\n",
       "    }\n",
       "\n",
       "    .dataframe tbody tr th {\n",
       "        vertical-align: top;\n",
       "    }\n",
       "\n",
       "    .dataframe thead th {\n",
       "        text-align: right;\n",
       "    }\n",
       "</style>\n",
       "<table border=\"1\" class=\"dataframe\">\n",
       "  <thead>\n",
       "    <tr style=\"text-align: right;\">\n",
       "      <th></th>\n",
       "      <th>UID</th>\n",
       "      <th>source</th>\n",
       "      <th>iso</th>\n",
       "      <th>country</th>\n",
       "      <th>region</th>\n",
       "      <th>subregion</th>\n",
       "      <th>name</th>\n",
       "      <th>geometry</th>\n",
       "      <th>giga_id_school</th>\n",
       "    </tr>\n",
       "  </thead>\n",
       "  <tbody>\n",
       "    <tr>\n",
       "      <th>319038</th>\n",
       "      <td>UNICEF-BRA-SCHOOL-00092569</td>\n",
       "      <td>UNICEF</td>\n",
       "      <td>BRA</td>\n",
       "      <td>Brazil</td>\n",
       "      <td>Americas</td>\n",
       "      <td>Latin America and the Caribbean</td>\n",
       "      <td>PERILLIER MADEMOISELLE</td>\n",
       "      <td>POINT (-46.70824 -23.72955)</td>\n",
       "      <td>6c439afd-9808-3428-9339-9db4aeeb4671</td>\n",
       "    </tr>\n",
       "    <tr>\n",
       "      <th>85939</th>\n",
       "      <td>UNICEF-NGA-SCHOOL-00061064</td>\n",
       "      <td>UNICEF</td>\n",
       "      <td>NGA</td>\n",
       "      <td>Nigeria</td>\n",
       "      <td>Africa</td>\n",
       "      <td>Sub-Saharan Africa</td>\n",
       "      <td>Kin Kids Science and Arts Nursery and Primary ...</td>\n",
       "      <td>POINT (7.12124 11.17277)</td>\n",
       "      <td>98fe4bc6-8d1d-337c-8a3a-67359fdbc6da</td>\n",
       "    </tr>\n",
       "    <tr>\n",
       "      <th>173463</th>\n",
       "      <td>UNICEF-THA-SCHOOL-00020028</td>\n",
       "      <td>UNICEF</td>\n",
       "      <td>THA</td>\n",
       "      <td>Thailand</td>\n",
       "      <td>Asia</td>\n",
       "      <td>South-eastern Asia</td>\n",
       "      <td>วัดท่าเสา</td>\n",
       "      <td>POINT (100.46284 17.37023)</td>\n",
       "      <td>363596c4-a0bb-3e35-8100-5ae3b559c593</td>\n",
       "    </tr>\n",
       "  </tbody>\n",
       "</table>\n",
       "</div>"
      ],
      "text/plain": [
       "                               UID  source  iso   country    region  \\\n",
       "319038  UNICEF-BRA-SCHOOL-00092569  UNICEF  BRA    Brazil  Americas   \n",
       "85939   UNICEF-NGA-SCHOOL-00061064  UNICEF  NGA   Nigeria    Africa   \n",
       "173463  UNICEF-THA-SCHOOL-00020028  UNICEF  THA  Thailand      Asia   \n",
       "\n",
       "                              subregion  \\\n",
       "319038  Latin America and the Caribbean   \n",
       "85939                Sub-Saharan Africa   \n",
       "173463               South-eastern Asia   \n",
       "\n",
       "                                                     name  \\\n",
       "319038                             PERILLIER MADEMOISELLE   \n",
       "85939   Kin Kids Science and Arts Nursery and Primary ...   \n",
       "173463                                          วัดท่าเสา   \n",
       "\n",
       "                           geometry                        giga_id_school  \n",
       "319038  POINT (-46.70824 -23.72955)  6c439afd-9808-3428-9339-9db4aeeb4671  \n",
       "85939      POINT (7.12124 11.17277)  98fe4bc6-8d1d-337c-8a3a-67359fdbc6da  \n",
       "173463   POINT (100.46284 17.37023)  363596c4-a0bb-3e35-8100-5ae3b559c593  "
      ]
     },
     "execution_count": 3,
     "metadata": {},
     "output_type": "execute_result"
    }
   ],
   "source": [
    "unicef = download_utils.load_unicef(config)\n",
    "unicef.sample(3)"
   ]
  },
  {
   "cell_type": "markdown",
   "id": "67680692-4ca8-46ae-89ff-5ed340fcd6f2",
   "metadata": {},
   "source": [
    "## Download Overture Maps Data"
   ]
  },
  {
   "cell_type": "code",
   "execution_count": 4,
   "id": "acfa6b0b-152d-4138-94d0-47308b370f95",
   "metadata": {
    "tags": []
   },
   "outputs": [
    {
     "name": "stderr",
     "output_type": "stream",
     "text": [
      "Processing BRA: 100%|████████████████████| 42/42 [00:17<00:00,  2.46it/s]                                               \n",
      "INFO:root:Generated /home/itingzon.unicef/giga/data/vectors/school/overture.geojson\n",
      "INFO:root:Data dimensions: (61280, 9), CRS: EPSG:4326\n"
     ]
    },
    {
     "data": {
      "text/html": [
       "<div>\n",
       "<style scoped>\n",
       "    .dataframe tbody tr th:only-of-type {\n",
       "        vertical-align: middle;\n",
       "    }\n",
       "\n",
       "    .dataframe tbody tr th {\n",
       "        vertical-align: top;\n",
       "    }\n",
       "\n",
       "    .dataframe thead th {\n",
       "        text-align: right;\n",
       "    }\n",
       "</style>\n",
       "<table border=\"1\" class=\"dataframe\">\n",
       "  <thead>\n",
       "    <tr style=\"text-align: right;\">\n",
       "      <th></th>\n",
       "      <th>UID</th>\n",
       "      <th>source</th>\n",
       "      <th>iso</th>\n",
       "      <th>country</th>\n",
       "      <th>region</th>\n",
       "      <th>subregion</th>\n",
       "      <th>name</th>\n",
       "      <th>geometry</th>\n",
       "      <th>giga_id_school</th>\n",
       "    </tr>\n",
       "  </thead>\n",
       "  <tbody>\n",
       "    <tr>\n",
       "      <th>46592</th>\n",
       "      <td>OVERTURE-ZAF-SCHOOL-00020608</td>\n",
       "      <td>OVERTURE</td>\n",
       "      <td>ZAF</td>\n",
       "      <td>South Africa</td>\n",
       "      <td>Africa</td>\n",
       "      <td>Sub-Saharan Africa</td>\n",
       "      <td>Turquoise Harmony Institute</td>\n",
       "      <td>POINT (28.05447 -26.13847)</td>\n",
       "      <td>None</td>\n",
       "    </tr>\n",
       "    <tr>\n",
       "      <th>21571</th>\n",
       "      <td>OVERTURE-THA-SCHOOL-00005667</td>\n",
       "      <td>OVERTURE</td>\n",
       "      <td>THA</td>\n",
       "      <td>Thailand</td>\n",
       "      <td>Asia</td>\n",
       "      <td>South-eastern Asia</td>\n",
       "      <td>Kapongpittayakom School.</td>\n",
       "      <td>POINT (98.39729 8.71277)</td>\n",
       "      <td>None</td>\n",
       "    </tr>\n",
       "    <tr>\n",
       "      <th>59008</th>\n",
       "      <td>OVERTURE-BRA-SCHOOL-00002060</td>\n",
       "      <td>OVERTURE</td>\n",
       "      <td>BRA</td>\n",
       "      <td>Brazil</td>\n",
       "      <td>Americas</td>\n",
       "      <td>Latin America and the Caribbean</td>\n",
       "      <td>Khronos School</td>\n",
       "      <td>POINT (-46.52742 -23.65380)</td>\n",
       "      <td>None</td>\n",
       "    </tr>\n",
       "  </tbody>\n",
       "</table>\n",
       "</div>"
      ],
      "text/plain": [
       "                                UID    source  iso       country    region  \\\n",
       "46592  OVERTURE-ZAF-SCHOOL-00020608  OVERTURE  ZAF  South Africa    Africa   \n",
       "21571  OVERTURE-THA-SCHOOL-00005667  OVERTURE  THA      Thailand      Asia   \n",
       "59008  OVERTURE-BRA-SCHOOL-00002060  OVERTURE  BRA        Brazil  Americas   \n",
       "\n",
       "                             subregion                         name  \\\n",
       "46592               Sub-Saharan Africa  Turquoise Harmony Institute   \n",
       "21571               South-eastern Asia     Kapongpittayakom School.   \n",
       "59008  Latin America and the Caribbean               Khronos School   \n",
       "\n",
       "                          geometry giga_id_school  \n",
       "46592   POINT (28.05447 -26.13847)           None  \n",
       "21571     POINT (98.39729 8.71277)           None  \n",
       "59008  POINT (-46.52742 -23.65380)           None  "
      ]
     },
     "execution_count": 4,
     "metadata": {},
     "output_type": "execute_result"
    }
   ],
   "source": [
    "overture_schools = download_utils.download_overture(config, category=\"school\")\n",
    "overture_schools.sample(3)"
   ]
  },
  {
   "cell_type": "code",
   "execution_count": 5,
   "id": "c4694058-d734-4a1f-9ae2-246bf962385e",
   "metadata": {
    "tags": []
   },
   "outputs": [
    {
     "name": "stderr",
     "output_type": "stream",
     "text": [
      "Processing BRA: 100%|████████████████████| 42/42 [02:07<00:00,  3.04s/it]                                               \n",
      "INFO:root:Generated /home/itingzon.unicef/giga/data/vectors/non_school/overture.geojson\n",
      "INFO:root:Data dimensions: (607105, 9), CRS: EPSG:4326\n"
     ]
    },
    {
     "data": {
      "text/html": [
       "<div>\n",
       "<style scoped>\n",
       "    .dataframe tbody tr th:only-of-type {\n",
       "        vertical-align: middle;\n",
       "    }\n",
       "\n",
       "    .dataframe tbody tr th {\n",
       "        vertical-align: top;\n",
       "    }\n",
       "\n",
       "    .dataframe thead th {\n",
       "        text-align: right;\n",
       "    }\n",
       "</style>\n",
       "<table border=\"1\" class=\"dataframe\">\n",
       "  <thead>\n",
       "    <tr style=\"text-align: right;\">\n",
       "      <th></th>\n",
       "      <th>UID</th>\n",
       "      <th>source</th>\n",
       "      <th>iso</th>\n",
       "      <th>country</th>\n",
       "      <th>region</th>\n",
       "      <th>subregion</th>\n",
       "      <th>name</th>\n",
       "      <th>geometry</th>\n",
       "      <th>giga_id_school</th>\n",
       "    </tr>\n",
       "  </thead>\n",
       "  <tbody>\n",
       "    <tr>\n",
       "      <th>192565</th>\n",
       "      <td>OVERTURE-NGA-NON_SCHOOL-00003193</td>\n",
       "      <td>OVERTURE</td>\n",
       "      <td>NGA</td>\n",
       "      <td>Nigeria</td>\n",
       "      <td>Africa</td>\n",
       "      <td>Sub-Saharan Africa</td>\n",
       "      <td>Jayz Bar &amp; Lounge</td>\n",
       "      <td>POINT (3.32358 6.65564)</td>\n",
       "      <td>None</td>\n",
       "    </tr>\n",
       "    <tr>\n",
       "      <th>356804</th>\n",
       "      <td>OVERTURE-BRA-NON_SCHOOL-00141231</td>\n",
       "      <td>OVERTURE</td>\n",
       "      <td>BRA</td>\n",
       "      <td>Brazil</td>\n",
       "      <td>Americas</td>\n",
       "      <td>Latin America and the Caribbean</td>\n",
       "      <td>Clinical Pet</td>\n",
       "      <td>POINT (-35.97176 -8.27581)</td>\n",
       "      <td>None</td>\n",
       "    </tr>\n",
       "    <tr>\n",
       "      <th>81218</th>\n",
       "      <td>OVERTURE-UKR-NON_SCHOOL-00005554</td>\n",
       "      <td>OVERTURE</td>\n",
       "      <td>UKR</td>\n",
       "      <td>Ukraine</td>\n",
       "      <td>Europe</td>\n",
       "      <td>Eastern Europe</td>\n",
       "      <td>Coffee time</td>\n",
       "      <td>POINT (35.04421 48.46829)</td>\n",
       "      <td>None</td>\n",
       "    </tr>\n",
       "  </tbody>\n",
       "</table>\n",
       "</div>"
      ],
      "text/plain": [
       "                                     UID    source  iso  country    region  \\\n",
       "192565  OVERTURE-NGA-NON_SCHOOL-00003193  OVERTURE  NGA  Nigeria    Africa   \n",
       "356804  OVERTURE-BRA-NON_SCHOOL-00141231  OVERTURE  BRA   Brazil  Americas   \n",
       "81218   OVERTURE-UKR-NON_SCHOOL-00005554  OVERTURE  UKR  Ukraine    Europe   \n",
       "\n",
       "                              subregion               name  \\\n",
       "192565               Sub-Saharan Africa  Jayz Bar & Lounge   \n",
       "356804  Latin America and the Caribbean       Clinical Pet   \n",
       "81218                    Eastern Europe        Coffee time   \n",
       "\n",
       "                          geometry giga_id_school  \n",
       "192565     POINT (3.32358 6.65564)           None  \n",
       "356804  POINT (-35.97176 -8.27581)           None  \n",
       "81218    POINT (35.04421 48.46829)           None  "
      ]
     },
     "execution_count": 5,
     "metadata": {},
     "output_type": "execute_result"
    }
   ],
   "source": [
    "overture_nonschools = download_utils.download_overture(config, category=\"non_school\")\n",
    "overture_nonschools.sample(3)"
   ]
  },
  {
   "cell_type": "markdown",
   "id": "185e6672-9816-4b91-9393-4f9497b3e674",
   "metadata": {},
   "source": [
    "## Download OpenStreetMap Data"
   ]
  },
  {
   "cell_type": "code",
   "execution_count": 6,
   "id": "1fee42f5-642c-483c-9aab-7f33524bc969",
   "metadata": {
    "tags": []
   },
   "outputs": [
    {
     "name": "stderr",
     "output_type": "stream",
     "text": [
      "Processing BRA: 100%|████████████████████| 42/42 [00:13<00:00,  3.20it/s]                                               \n",
      "INFO:root:Generated /home/itingzon.unicef/giga/data/vectors/school/osm.geojson\n",
      "INFO:root:Data dimensions: (42443, 9), CRS: EPSG:4326\n"
     ]
    },
    {
     "data": {
      "text/html": [
       "<div>\n",
       "<style scoped>\n",
       "    .dataframe tbody tr th:only-of-type {\n",
       "        vertical-align: middle;\n",
       "    }\n",
       "\n",
       "    .dataframe tbody tr th {\n",
       "        vertical-align: top;\n",
       "    }\n",
       "\n",
       "    .dataframe thead th {\n",
       "        text-align: right;\n",
       "    }\n",
       "</style>\n",
       "<table border=\"1\" class=\"dataframe\">\n",
       "  <thead>\n",
       "    <tr style=\"text-align: right;\">\n",
       "      <th></th>\n",
       "      <th>UID</th>\n",
       "      <th>source</th>\n",
       "      <th>iso</th>\n",
       "      <th>country</th>\n",
       "      <th>region</th>\n",
       "      <th>subregion</th>\n",
       "      <th>name</th>\n",
       "      <th>geometry</th>\n",
       "      <th>giga_id_school</th>\n",
       "    </tr>\n",
       "  </thead>\n",
       "  <tbody>\n",
       "    <tr>\n",
       "      <th>2669</th>\n",
       "      <td>OSM-GIN-SCHOOL-00000096</td>\n",
       "      <td>OSM</td>\n",
       "      <td>GIN</td>\n",
       "      <td>Guinea</td>\n",
       "      <td>Africa</td>\n",
       "      <td>Sub-Saharan Africa</td>\n",
       "      <td>École Coranique</td>\n",
       "      <td>POINT (-9.46065 8.54927)</td>\n",
       "      <td>None</td>\n",
       "    </tr>\n",
       "    <tr>\n",
       "      <th>25526</th>\n",
       "      <td>OSM-BRA-SCHOOL-00003465</td>\n",
       "      <td>OSM</td>\n",
       "      <td>BRA</td>\n",
       "      <td>Brazil</td>\n",
       "      <td>Americas</td>\n",
       "      <td>Latin America and the Caribbean</td>\n",
       "      <td>CE Sonho Encantado</td>\n",
       "      <td>POINT (-40.19574 -20.05433)</td>\n",
       "      <td>None</td>\n",
       "    </tr>\n",
       "    <tr>\n",
       "      <th>3108</th>\n",
       "      <td>OSM-GIN-SCHOOL-00000535</td>\n",
       "      <td>OSM</td>\n",
       "      <td>GIN</td>\n",
       "      <td>Guinea</td>\n",
       "      <td>Africa</td>\n",
       "      <td>Sub-Saharan Africa</td>\n",
       "      <td>École primaire de Bourouwal kassa</td>\n",
       "      <td>POINT (-12.50149 11.44960)</td>\n",
       "      <td>None</td>\n",
       "    </tr>\n",
       "  </tbody>\n",
       "</table>\n",
       "</div>"
      ],
      "text/plain": [
       "                           UID source  iso country    region  \\\n",
       "2669   OSM-GIN-SCHOOL-00000096    OSM  GIN  Guinea    Africa   \n",
       "25526  OSM-BRA-SCHOOL-00003465    OSM  BRA  Brazil  Americas   \n",
       "3108   OSM-GIN-SCHOOL-00000535    OSM  GIN  Guinea    Africa   \n",
       "\n",
       "                             subregion                               name  \\\n",
       "2669                Sub-Saharan Africa                    École Coranique   \n",
       "25526  Latin America and the Caribbean                 CE Sonho Encantado   \n",
       "3108                Sub-Saharan Africa  École primaire de Bourouwal kassa   \n",
       "\n",
       "                          geometry giga_id_school  \n",
       "2669      POINT (-9.46065 8.54927)           None  \n",
       "25526  POINT (-40.19574 -20.05433)           None  \n",
       "3108    POINT (-12.50149 11.44960)           None  "
      ]
     },
     "execution_count": 6,
     "metadata": {},
     "output_type": "execute_result"
    }
   ],
   "source": [
    "osm_schools = download_utils.download_osm(config, category=\"school\")\n",
    "osm_schools.sample(3)"
   ]
  },
  {
   "cell_type": "code",
   "execution_count": 7,
   "id": "caf74f52-d62d-40e4-ae8a-2dac5ac4d82a",
   "metadata": {
    "tags": []
   },
   "outputs": [
    {
     "name": "stderr",
     "output_type": "stream",
     "text": [
      "Processing ZAF:  93%|██████████████████▌ | 39/42 [00:59<00:14,  4.86s/it]                                               WARNING:fiona.ogrext:Expecting property name enclosed in double quotes: line 1 column 2 (char 1)\n",
      "Processing BRA: 100%|████████████████████| 42/42 [01:27<00:00,  2.09s/it]                                               \n",
      "INFO:root:Generated /home/itingzon.unicef/giga/data/vectors/non_school/osm.geojson\n",
      "INFO:root:Data dimensions: (423445, 9), CRS: EPSG:4326\n"
     ]
    },
    {
     "data": {
      "text/html": [
       "<div>\n",
       "<style scoped>\n",
       "    .dataframe tbody tr th:only-of-type {\n",
       "        vertical-align: middle;\n",
       "    }\n",
       "\n",
       "    .dataframe tbody tr th {\n",
       "        vertical-align: top;\n",
       "    }\n",
       "\n",
       "    .dataframe thead th {\n",
       "        text-align: right;\n",
       "    }\n",
       "</style>\n",
       "<table border=\"1\" class=\"dataframe\">\n",
       "  <thead>\n",
       "    <tr style=\"text-align: right;\">\n",
       "      <th></th>\n",
       "      <th>UID</th>\n",
       "      <th>source</th>\n",
       "      <th>iso</th>\n",
       "      <th>country</th>\n",
       "      <th>region</th>\n",
       "      <th>subregion</th>\n",
       "      <th>name</th>\n",
       "      <th>geometry</th>\n",
       "      <th>giga_id_school</th>\n",
       "    </tr>\n",
       "  </thead>\n",
       "  <tbody>\n",
       "    <tr>\n",
       "      <th>392042</th>\n",
       "      <td>OSM-BRA-NON_SCHOOL-00083556</td>\n",
       "      <td>OSM</td>\n",
       "      <td>BRA</td>\n",
       "      <td>Brazil</td>\n",
       "      <td>Americas</td>\n",
       "      <td>Latin America and the Caribbean</td>\n",
       "      <td>M C L Comércio e Serviços Veterinarios</td>\n",
       "      <td>POINT (-46.37374 -23.95238)</td>\n",
       "      <td>None</td>\n",
       "    </tr>\n",
       "    <tr>\n",
       "      <th>52271</th>\n",
       "      <td>OSM-HUN-NON_SCHOOL-00017207</td>\n",
       "      <td>OSM</td>\n",
       "      <td>HUN</td>\n",
       "      <td>Hungary</td>\n",
       "      <td>Europe</td>\n",
       "      <td>Eastern Europe</td>\n",
       "      <td>Tüskevár</td>\n",
       "      <td>POINT (17.78506 46.05081)</td>\n",
       "      <td>None</td>\n",
       "    </tr>\n",
       "    <tr>\n",
       "      <th>344602</th>\n",
       "      <td>OSM-BRA-NON_SCHOOL-00036116</td>\n",
       "      <td>OSM</td>\n",
       "      <td>BRA</td>\n",
       "      <td>Brazil</td>\n",
       "      <td>Americas</td>\n",
       "      <td>Latin America and the Caribbean</td>\n",
       "      <td>None</td>\n",
       "      <td>POINT (-45.05792 -21.18429)</td>\n",
       "      <td>None</td>\n",
       "    </tr>\n",
       "  </tbody>\n",
       "</table>\n",
       "</div>"
      ],
      "text/plain": [
       "                                UID source  iso  country    region  \\\n",
       "392042  OSM-BRA-NON_SCHOOL-00083556    OSM  BRA   Brazil  Americas   \n",
       "52271   OSM-HUN-NON_SCHOOL-00017207    OSM  HUN  Hungary    Europe   \n",
       "344602  OSM-BRA-NON_SCHOOL-00036116    OSM  BRA   Brazil  Americas   \n",
       "\n",
       "                              subregion  \\\n",
       "392042  Latin America and the Caribbean   \n",
       "52271                    Eastern Europe   \n",
       "344602  Latin America and the Caribbean   \n",
       "\n",
       "                                          name                     geometry  \\\n",
       "392042  M C L Comércio e Serviços Veterinarios  POINT (-46.37374 -23.95238)   \n",
       "52271                                 Tüskevár    POINT (17.78506 46.05081)   \n",
       "344602                                    None  POINT (-45.05792 -21.18429)   \n",
       "\n",
       "       giga_id_school  \n",
       "392042           None  \n",
       "52271            None  \n",
       "344602           None  "
      ]
     },
     "execution_count": 7,
     "metadata": {},
     "output_type": "execute_result"
    }
   ],
   "source": [
    "osm_nonschools = download_utils.download_osm(config, category=\"non_school\")\n",
    "osm_nonschools.sample(3)"
   ]
  }
 ],
 "metadata": {
  "kernelspec": {
   "display_name": "giga",
   "language": "python",
   "name": "giga"
  },
  "language_info": {
   "codemirror_mode": {
    "name": "ipython",
    "version": 3
   },
   "file_extension": ".py",
   "mimetype": "text/x-python",
   "name": "python",
   "nbconvert_exporter": "python",
   "pygments_lexer": "ipython3",
   "version": "3.11.5"
  }
 },
 "nbformat": 4,
 "nbformat_minor": 5
}
