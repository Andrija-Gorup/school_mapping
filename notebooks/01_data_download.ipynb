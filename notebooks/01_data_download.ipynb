{
 "cells": [
  {
   "cell_type": "markdown",
   "id": "f8cf4143-2526-44f2-980d-27a390191008",
   "metadata": {},
   "source": [
    "## Imports and Setup"
   ]
  },
  {
   "cell_type": "code",
   "execution_count": 1,
   "id": "634532cb-af3f-4083-8472-a09030e5897c",
   "metadata": {
    "tags": []
   },
   "outputs": [],
   "source": [
    "import os\n",
    "import pandas as pd\n",
    "import geopandas as gpd\n",
    "\n",
    "import sys\n",
    "sys.path.insert(0, \"../utils/\")\n",
    "import download_utils\n",
    "\n",
    "%load_ext autoreload\n",
    "%autoreload 2"
   ]
  },
  {
   "cell_type": "markdown",
   "id": "46e00581-63db-42b5-b765-ca3a761ad6f7",
   "metadata": {},
   "source": [
    "## Load Data Files"
   ]
  },
  {
   "cell_type": "code",
   "execution_count": 2,
   "id": "f61c6272-7e1c-46a7-b86d-a2016f341909",
   "metadata": {
    "tags": []
   },
   "outputs": [
    {
     "name": "stdout",
     "output_type": "stream",
     "text": [
      "Number of CSV files: 39\n"
     ]
    },
    {
     "data": {
      "application/vnd.jupyter.widget-view+json": {
       "model_id": "798b8d24f6644a59a57dbc2c267cc6a0",
       "version_major": 2,
       "version_minor": 0
      },
      "text/plain": [
       "  0%|          | 0/39 [00:00<?, ?it/s]"
      ]
     },
     "metadata": {},
     "output_type": "display_data"
    },
    {
     "name": "stdout",
     "output_type": "stream",
     "text": [
      "Data dimensions: (437362, 9), CRS: EPSG:4326\n",
      "Generated /home/itingzon.unicef/giga/data/vectors/school/giga.geojson\n"
     ]
    },
    {
     "data": {
      "text/html": [
       "<div>\n",
       "<style scoped>\n",
       "    .dataframe tbody tr th:only-of-type {\n",
       "        vertical-align: middle;\n",
       "    }\n",
       "\n",
       "    .dataframe tbody tr th {\n",
       "        vertical-align: top;\n",
       "    }\n",
       "\n",
       "    .dataframe thead th {\n",
       "        text-align: right;\n",
       "    }\n",
       "</style>\n",
       "<table border=\"1\" class=\"dataframe\">\n",
       "  <thead>\n",
       "    <tr style=\"text-align: right;\">\n",
       "      <th></th>\n",
       "      <th>UID</th>\n",
       "      <th>source</th>\n",
       "      <th>iso</th>\n",
       "      <th>country</th>\n",
       "      <th>region</th>\n",
       "      <th>subregion</th>\n",
       "      <th>name</th>\n",
       "      <th>geometry</th>\n",
       "      <th>giga_id_school</th>\n",
       "    </tr>\n",
       "  </thead>\n",
       "  <tbody>\n",
       "    <tr>\n",
       "      <th>437012</th>\n",
       "      <td>UNICEF-SLV-SCHOOL-00004811</td>\n",
       "      <td>UNICEF</td>\n",
       "      <td>SLV</td>\n",
       "      <td>El Salvador</td>\n",
       "      <td>Americas</td>\n",
       "      <td>Latin America and the Caribbean</td>\n",
       "      <td>CENTRO ESCOLAR CASERIO LA JUNTA, CANTON JOYA G...</td>\n",
       "      <td>POINT (-89.19201 13.81744)</td>\n",
       "      <td>9e00699e-4816-3f23-863b-6c7289a211a8</td>\n",
       "    </tr>\n",
       "    <tr>\n",
       "      <th>12973</th>\n",
       "      <td>UNICEF-HND-SCHOOL-00012977</td>\n",
       "      <td>UNICEF</td>\n",
       "      <td>HND</td>\n",
       "      <td>Honduras</td>\n",
       "      <td>Americas</td>\n",
       "      <td>Latin America and the Caribbean</td>\n",
       "      <td>OFELIA DE JESUS HERRERA</td>\n",
       "      <td>POINT (-87.11935 13.16653)</td>\n",
       "      <td>7c94ac3f-6589-365f-96dd-15dd06d8eb0e</td>\n",
       "    </tr>\n",
       "    <tr>\n",
       "      <th>245229</th>\n",
       "      <td>UNICEF-BRA-SCHOOL-00013196</td>\n",
       "      <td>UNICEF</td>\n",
       "      <td>BRA</td>\n",
       "      <td>Brazil</td>\n",
       "      <td>Americas</td>\n",
       "      <td>Latin America and the Caribbean</td>\n",
       "      <td>E M E F JARDIM DA INFANCIA</td>\n",
       "      <td>POINT (-53.09770 -6.25489)</td>\n",
       "      <td>b7daa5e7-8f8e-3ad3-978b-0dd6c72a3f1f</td>\n",
       "    </tr>\n",
       "  </tbody>\n",
       "</table>\n",
       "</div>"
      ],
      "text/plain": [
       "                               UID  source  iso      country    region  \\\n",
       "437012  UNICEF-SLV-SCHOOL-00004811  UNICEF  SLV  El Salvador  Americas   \n",
       "12973   UNICEF-HND-SCHOOL-00012977  UNICEF  HND     Honduras  Americas   \n",
       "245229  UNICEF-BRA-SCHOOL-00013196  UNICEF  BRA       Brazil  Americas   \n",
       "\n",
       "                              subregion  \\\n",
       "437012  Latin America and the Caribbean   \n",
       "12973   Latin America and the Caribbean   \n",
       "245229  Latin America and the Caribbean   \n",
       "\n",
       "                                                     name  \\\n",
       "437012  CENTRO ESCOLAR CASERIO LA JUNTA, CANTON JOYA G...   \n",
       "12973                             OFELIA DE JESUS HERRERA   \n",
       "245229                         E M E F JARDIM DA INFANCIA   \n",
       "\n",
       "                          geometry                        giga_id_school  \n",
       "437012  POINT (-89.19201 13.81744)  9e00699e-4816-3f23-863b-6c7289a211a8  \n",
       "12973   POINT (-87.11935 13.16653)  7c94ac3f-6589-365f-96dd-15dd06d8eb0e  \n",
       "245229  POINT (-53.09770 -6.25489)  b7daa5e7-8f8e-3ad3-978b-0dd6c72a3f1f  "
      ]
     },
     "execution_count": 2,
     "metadata": {},
     "output_type": "execute_result"
    }
   ],
   "source": [
    "giga_schools = download_utils.load_unicef(\n",
    "    data_dir=\"data/vectors/school/giga\", \n",
    "    out_file=\"giga.geojson\"\n",
    ")\n",
    "giga_schools.sample(3)"
   ]
  },
  {
   "cell_type": "markdown",
   "id": "67680692-4ca8-46ae-89ff-5ed340fcd6f2",
   "metadata": {},
   "source": [
    "## Download Overture Maps Data"
   ]
  },
  {
   "cell_type": "code",
   "execution_count": 3,
   "id": "40dd93e3-d252-4c83-9f4d-95ebadbe6747",
   "metadata": {
    "tags": []
   },
   "outputs": [
    {
     "data": {
      "application/vnd.jupyter.widget-view+json": {
       "model_id": "5b6058b678484fbcb29efb13db9b22ad",
       "version_major": 2,
       "version_minor": 0
      },
      "text/plain": [
       "  0%|          | 0/39 [00:00<?, ?it/s]"
      ]
     },
     "metadata": {},
     "output_type": "display_data"
    },
    {
     "name": "stdout",
     "output_type": "stream",
     "text": [
      "Data dimensions: (61183, 8), CRS: EPSG:4326\n",
      "Generated /home/itingzon.unicef/giga/data/vectors/school/overture.geojson\n"
     ]
    },
    {
     "data": {
      "text/html": [
       "<div>\n",
       "<style scoped>\n",
       "    .dataframe tbody tr th:only-of-type {\n",
       "        vertical-align: middle;\n",
       "    }\n",
       "\n",
       "    .dataframe tbody tr th {\n",
       "        vertical-align: top;\n",
       "    }\n",
       "\n",
       "    .dataframe thead th {\n",
       "        text-align: right;\n",
       "    }\n",
       "</style>\n",
       "<table border=\"1\" class=\"dataframe\">\n",
       "  <thead>\n",
       "    <tr style=\"text-align: right;\">\n",
       "      <th></th>\n",
       "      <th>UID</th>\n",
       "      <th>source</th>\n",
       "      <th>iso</th>\n",
       "      <th>country</th>\n",
       "      <th>region</th>\n",
       "      <th>subregion</th>\n",
       "      <th>name</th>\n",
       "      <th>geometry</th>\n",
       "    </tr>\n",
       "  </thead>\n",
       "  <tbody>\n",
       "    <tr>\n",
       "      <th>11240</th>\n",
       "      <td>OVERTURE-NGA-SCHOOL-00009536</td>\n",
       "      <td>OVERTURE</td>\n",
       "      <td>NGA</td>\n",
       "      <td>Nigeria</td>\n",
       "      <td>Africa</td>\n",
       "      <td>Sub-Saharan Africa</td>\n",
       "      <td>Gordon Basketball Academy.</td>\n",
       "      <td>POINT (3.54064 6.46371)</td>\n",
       "    </tr>\n",
       "    <tr>\n",
       "      <th>35806</th>\n",
       "      <td>OVERTURE-ZAF-SCHOOL-00009272</td>\n",
       "      <td>OVERTURE</td>\n",
       "      <td>ZAF</td>\n",
       "      <td>South Africa</td>\n",
       "      <td>Africa</td>\n",
       "      <td>Sub-Saharan Africa</td>\n",
       "      <td>Kid's In Harmony Pre-school</td>\n",
       "      <td>POINT (28.12128 -26.32936)</td>\n",
       "    </tr>\n",
       "    <tr>\n",
       "      <th>24403</th>\n",
       "      <td>OVERTURE-GHA-SCHOOL-00000282</td>\n",
       "      <td>OVERTURE</td>\n",
       "      <td>GHA</td>\n",
       "      <td>Ghana</td>\n",
       "      <td>Africa</td>\n",
       "      <td>Sub-Saharan Africa</td>\n",
       "      <td>Ghana Christian International High School -Pom...</td>\n",
       "      <td>POINT (-1.48788 6.23233)</td>\n",
       "    </tr>\n",
       "  </tbody>\n",
       "</table>\n",
       "</div>"
      ],
      "text/plain": [
       "                                UID    source  iso       country  region  \\\n",
       "11240  OVERTURE-NGA-SCHOOL-00009536  OVERTURE  NGA       Nigeria  Africa   \n",
       "35806  OVERTURE-ZAF-SCHOOL-00009272  OVERTURE  ZAF  South Africa  Africa   \n",
       "24403  OVERTURE-GHA-SCHOOL-00000282  OVERTURE  GHA         Ghana  Africa   \n",
       "\n",
       "                subregion                                               name  \\\n",
       "11240  Sub-Saharan Africa                         Gordon Basketball Academy.   \n",
       "35806  Sub-Saharan Africa                        Kid's In Harmony Pre-school   \n",
       "24403  Sub-Saharan Africa  Ghana Christian International High School -Pom...   \n",
       "\n",
       "                         geometry  \n",
       "11240     POINT (3.54064 6.46371)  \n",
       "35806  POINT (28.12128 -26.32936)  \n",
       "24403    POINT (-1.48788 6.23233)  "
      ]
     },
     "execution_count": 3,
     "metadata": {},
     "output_type": "execute_result"
    }
   ],
   "source": [
    "overture_schools = download_utils.download_overture(\n",
    "    giga_schools.iso.unique(), \n",
    "    out_dir='data/vectors/school/overture', \n",
    "    category=\"SCHOOL\"\n",
    ")\n",
    "overture_schools.sample(3)"
   ]
  },
  {
   "cell_type": "code",
   "execution_count": 4,
   "id": "c4694058-d734-4a1f-9ae2-246bf962385e",
   "metadata": {
    "tags": []
   },
   "outputs": [
    {
     "data": {
      "application/vnd.jupyter.widget-view+json": {
       "model_id": "95ca5b0d44d944f6abc804cb6571201c",
       "version_major": 2,
       "version_minor": 0
      },
      "text/plain": [
       "  0%|          | 0/39 [00:00<?, ?it/s]"
      ]
     },
     "metadata": {},
     "output_type": "display_data"
    },
    {
     "name": "stdout",
     "output_type": "stream",
     "text": [
      "Data dimensions: (606471, 8), CRS: EPSG:4326\n",
      "Generated /home/itingzon.unicef/giga/data/vectors/non_school/overture.geojson\n"
     ]
    },
    {
     "data": {
      "text/html": [
       "<div>\n",
       "<style scoped>\n",
       "    .dataframe tbody tr th:only-of-type {\n",
       "        vertical-align: middle;\n",
       "    }\n",
       "\n",
       "    .dataframe tbody tr th {\n",
       "        vertical-align: top;\n",
       "    }\n",
       "\n",
       "    .dataframe thead th {\n",
       "        text-align: right;\n",
       "    }\n",
       "</style>\n",
       "<table border=\"1\" class=\"dataframe\">\n",
       "  <thead>\n",
       "    <tr style=\"text-align: right;\">\n",
       "      <th></th>\n",
       "      <th>UID</th>\n",
       "      <th>source</th>\n",
       "      <th>iso</th>\n",
       "      <th>country</th>\n",
       "      <th>region</th>\n",
       "      <th>subregion</th>\n",
       "      <th>name</th>\n",
       "      <th>geometry</th>\n",
       "    </tr>\n",
       "  </thead>\n",
       "  <tbody>\n",
       "    <tr>\n",
       "      <th>162752</th>\n",
       "      <td>OVERTURE-BRA-NON_SCHOOL-00008161</td>\n",
       "      <td>OVERTURE</td>\n",
       "      <td>BRA</td>\n",
       "      <td>Brazil</td>\n",
       "      <td>Americas</td>\n",
       "      <td>Latin America and the Caribbean</td>\n",
       "      <td>Hotel Avenida</td>\n",
       "      <td>POINT (-51.50720 -24.14392)</td>\n",
       "    </tr>\n",
       "    <tr>\n",
       "      <th>210769</th>\n",
       "      <td>OVERTURE-BRA-NON_SCHOOL-00056178</td>\n",
       "      <td>OVERTURE</td>\n",
       "      <td>BRA</td>\n",
       "      <td>Brazil</td>\n",
       "      <td>Americas</td>\n",
       "      <td>Latin America and the Caribbean</td>\n",
       "      <td>Barbearia stilo</td>\n",
       "      <td>POINT (-49.10794 -17.74103)</td>\n",
       "    </tr>\n",
       "    <tr>\n",
       "      <th>490200</th>\n",
       "      <td>OVERTURE-BRA-NON_SCHOOL-00335609</td>\n",
       "      <td>OVERTURE</td>\n",
       "      <td>BRA</td>\n",
       "      <td>Brazil</td>\n",
       "      <td>Americas</td>\n",
       "      <td>Latin America and the Caribbean</td>\n",
       "      <td>Marmoraria Barney</td>\n",
       "      <td>POINT (-48.63379 -26.82265)</td>\n",
       "    </tr>\n",
       "  </tbody>\n",
       "</table>\n",
       "</div>"
      ],
      "text/plain": [
       "                                     UID    source  iso country    region  \\\n",
       "162752  OVERTURE-BRA-NON_SCHOOL-00008161  OVERTURE  BRA  Brazil  Americas   \n",
       "210769  OVERTURE-BRA-NON_SCHOOL-00056178  OVERTURE  BRA  Brazil  Americas   \n",
       "490200  OVERTURE-BRA-NON_SCHOOL-00335609  OVERTURE  BRA  Brazil  Americas   \n",
       "\n",
       "                              subregion               name  \\\n",
       "162752  Latin America and the Caribbean      Hotel Avenida   \n",
       "210769  Latin America and the Caribbean    Barbearia stilo   \n",
       "490200  Latin America and the Caribbean  Marmoraria Barney   \n",
       "\n",
       "                           geometry  \n",
       "162752  POINT (-51.50720 -24.14392)  \n",
       "210769  POINT (-49.10794 -17.74103)  \n",
       "490200  POINT (-48.63379 -26.82265)  "
      ]
     },
     "execution_count": 4,
     "metadata": {},
     "output_type": "execute_result"
    }
   ],
   "source": [
    "overture_nonschools = download_utils.download_overture(\n",
    "    giga_schools.iso.unique(), \n",
    "    out_dir='data/vectors/non_school/overture', \n",
    "    category=\"NON_SCHOOL\",\n",
    "    exclude=\"SCHOOL\"\n",
    ")\n",
    "overture_nonschools.sample(3)"
   ]
  },
  {
   "cell_type": "markdown",
   "id": "185e6672-9816-4b91-9393-4f9497b3e674",
   "metadata": {},
   "source": [
    "## Download OpenStreetMap Data"
   ]
  },
  {
   "cell_type": "code",
   "execution_count": 5,
   "id": "1fee42f5-642c-483c-9aab-7f33524bc969",
   "metadata": {
    "tags": []
   },
   "outputs": [
    {
     "data": {
      "application/vnd.jupyter.widget-view+json": {
       "model_id": "51271ec7e132498990a4e9671957cc0e",
       "version_major": 2,
       "version_minor": 0
      },
      "text/plain": [
       "  0%|          | 0/39 [00:00<?, ?it/s]"
      ]
     },
     "metadata": {},
     "output_type": "display_data"
    },
    {
     "name": "stdout",
     "output_type": "stream",
     "text": [
      "Data dimensions: (40721, 8), CRS: EPSG:4326\n",
      "Generated /home/itingzon.unicef/giga/data/vectors/school/osm.geojson\n"
     ]
    },
    {
     "data": {
      "text/html": [
       "<div>\n",
       "<style scoped>\n",
       "    .dataframe tbody tr th:only-of-type {\n",
       "        vertical-align: middle;\n",
       "    }\n",
       "\n",
       "    .dataframe tbody tr th {\n",
       "        vertical-align: top;\n",
       "    }\n",
       "\n",
       "    .dataframe thead th {\n",
       "        text-align: right;\n",
       "    }\n",
       "</style>\n",
       "<table border=\"1\" class=\"dataframe\">\n",
       "  <thead>\n",
       "    <tr style=\"text-align: right;\">\n",
       "      <th></th>\n",
       "      <th>UID</th>\n",
       "      <th>source</th>\n",
       "      <th>iso</th>\n",
       "      <th>country</th>\n",
       "      <th>region</th>\n",
       "      <th>subregion</th>\n",
       "      <th>name</th>\n",
       "      <th>geometry</th>\n",
       "    </tr>\n",
       "  </thead>\n",
       "  <tbody>\n",
       "    <tr>\n",
       "      <th>36647</th>\n",
       "      <td>OSM-KEN-SCHOOL-00004568</td>\n",
       "      <td>OSM</td>\n",
       "      <td>KEN</td>\n",
       "      <td>Kenya</td>\n",
       "      <td>Africa</td>\n",
       "      <td>Sub-Saharan Africa</td>\n",
       "      <td>Lionesses primary</td>\n",
       "      <td>POINT (39.77646 -3.15637)</td>\n",
       "    </tr>\n",
       "    <tr>\n",
       "      <th>37398</th>\n",
       "      <td>OSM-HUN-SCHOOL-00000685</td>\n",
       "      <td>OSM</td>\n",
       "      <td>HUN</td>\n",
       "      <td>Hungary</td>\n",
       "      <td>Europe</td>\n",
       "      <td>Eastern Europe</td>\n",
       "      <td>Gazdasági kar</td>\n",
       "      <td>POINT (21.60866 47.55221)</td>\n",
       "    </tr>\n",
       "    <tr>\n",
       "      <th>5618</th>\n",
       "      <td>OSM-THA-SCHOOL-00001385</td>\n",
       "      <td>OSM</td>\n",
       "      <td>THA</td>\n",
       "      <td>Thailand</td>\n",
       "      <td>Asia</td>\n",
       "      <td>South-eastern Asia</td>\n",
       "      <td>โรงเรียนพรมพิรามวิทยา</td>\n",
       "      <td>POINT (100.20275 17.03727)</td>\n",
       "    </tr>\n",
       "  </tbody>\n",
       "</table>\n",
       "</div>"
      ],
      "text/plain": [
       "                           UID source  iso   country  region  \\\n",
       "36647  OSM-KEN-SCHOOL-00004568    OSM  KEN     Kenya  Africa   \n",
       "37398  OSM-HUN-SCHOOL-00000685    OSM  HUN   Hungary  Europe   \n",
       "5618   OSM-THA-SCHOOL-00001385    OSM  THA  Thailand    Asia   \n",
       "\n",
       "                subregion                   name                    geometry  \n",
       "36647  Sub-Saharan Africa      Lionesses primary   POINT (39.77646 -3.15637)  \n",
       "37398      Eastern Europe          Gazdasági kar   POINT (21.60866 47.55221)  \n",
       "5618   South-eastern Asia  โรงเรียนพรมพิรามวิทยา  POINT (100.20275 17.03727)  "
      ]
     },
     "execution_count": 5,
     "metadata": {},
     "output_type": "execute_result"
    }
   ],
   "source": [
    "osm_schools = download_utils.download_osm(\n",
    "    giga_schools.iso.unique(), \n",
    "    out_dir='data/vectors/school/osm',\n",
    "    category=\"SCHOOL\"\n",
    ")\n",
    "osm_schools.sample(3)"
   ]
  },
  {
   "cell_type": "code",
   "execution_count": 3,
   "id": "2cf447cf-024d-459a-956e-e25e4b73c4c4",
   "metadata": {
    "tags": []
   },
   "outputs": [
    {
     "data": {
      "application/vnd.jupyter.widget-view+json": {
       "model_id": "efafb22de80e4036b198b9a9dff07221",
       "version_major": 2,
       "version_minor": 0
      },
      "text/plain": [
       "  0%|          | 0/39 [00:00<?, ?it/s]"
      ]
     },
     "metadata": {},
     "output_type": "display_data"
    },
    {
     "name": "stdout",
     "output_type": "stream",
     "text": [
      "Data dimensions: (410419, 8), CRS: EPSG:4326\n",
      "Generated /home/itingzon.unicef/giga/data/vectors/non_school/osm.geojson\n"
     ]
    },
    {
     "data": {
      "text/html": [
       "<div>\n",
       "<style scoped>\n",
       "    .dataframe tbody tr th:only-of-type {\n",
       "        vertical-align: middle;\n",
       "    }\n",
       "\n",
       "    .dataframe tbody tr th {\n",
       "        vertical-align: top;\n",
       "    }\n",
       "\n",
       "    .dataframe thead th {\n",
       "        text-align: right;\n",
       "    }\n",
       "</style>\n",
       "<table border=\"1\" class=\"dataframe\">\n",
       "  <thead>\n",
       "    <tr style=\"text-align: right;\">\n",
       "      <th></th>\n",
       "      <th>UID</th>\n",
       "      <th>source</th>\n",
       "      <th>iso</th>\n",
       "      <th>country</th>\n",
       "      <th>region</th>\n",
       "      <th>subregion</th>\n",
       "      <th>name</th>\n",
       "      <th>geometry</th>\n",
       "    </tr>\n",
       "  </thead>\n",
       "  <tbody>\n",
       "    <tr>\n",
       "      <th>190715</th>\n",
       "      <td>OSM-GHA-NON_SCHOOL-00001302</td>\n",
       "      <td>OSM</td>\n",
       "      <td>GHA</td>\n",
       "      <td>Ghana</td>\n",
       "      <td>Africa</td>\n",
       "      <td>Sub-Saharan Africa</td>\n",
       "      <td>Pub Ryan's</td>\n",
       "      <td>POINT (-1.62203 6.67830)</td>\n",
       "    </tr>\n",
       "    <tr>\n",
       "      <th>26682</th>\n",
       "      <td>OSM-HUN-NON_SCHOOL-00005152</td>\n",
       "      <td>OSM</td>\n",
       "      <td>HUN</td>\n",
       "      <td>Hungary</td>\n",
       "      <td>Europe</td>\n",
       "      <td>Eastern Europe</td>\n",
       "      <td>R14 Bisztró</td>\n",
       "      <td>POINT (19.06294 47.48786)</td>\n",
       "    </tr>\n",
       "    <tr>\n",
       "      <th>208679</th>\n",
       "      <td>OSM-THA-NON_SCHOOL-00002244</td>\n",
       "      <td>OSM</td>\n",
       "      <td>THA</td>\n",
       "      <td>Thailand</td>\n",
       "      <td>Asia</td>\n",
       "      <td>South-eastern Asia</td>\n",
       "      <td>PTT</td>\n",
       "      <td>POINT (100.29234 7.14494)</td>\n",
       "    </tr>\n",
       "  </tbody>\n",
       "</table>\n",
       "</div>"
      ],
      "text/plain": [
       "                                UID source  iso   country  region  \\\n",
       "190715  OSM-GHA-NON_SCHOOL-00001302    OSM  GHA     Ghana  Africa   \n",
       "26682   OSM-HUN-NON_SCHOOL-00005152    OSM  HUN   Hungary  Europe   \n",
       "208679  OSM-THA-NON_SCHOOL-00002244    OSM  THA  Thailand    Asia   \n",
       "\n",
       "                 subregion         name                   geometry  \n",
       "190715  Sub-Saharan Africa   Pub Ryan's   POINT (-1.62203 6.67830)  \n",
       "26682       Eastern Europe  R14 Bisztró  POINT (19.06294 47.48786)  \n",
       "208679  South-eastern Asia          PTT  POINT (100.29234 7.14494)  "
      ]
     },
     "execution_count": 3,
     "metadata": {},
     "output_type": "execute_result"
    }
   ],
   "source": [
    "osm_nonschools = download_utils.download_osm(\n",
    "    giga_schools.iso.value_counts()[::-1].index, \n",
    "    out_dir='data/vectors/non_school/osm',\n",
    "    category=\"NON_SCHOOL\"\n",
    ")\n",
    "osm_nonschools.sample(3)"
   ]
  }
 ],
 "metadata": {
  "kernelspec": {
   "display_name": "giga",
   "language": "python",
   "name": "giga"
  },
  "language_info": {
   "codemirror_mode": {
    "name": "ipython",
    "version": 3
   },
   "file_extension": ".py",
   "mimetype": "text/x-python",
   "name": "python",
   "nbconvert_exporter": "python",
   "pygments_lexer": "ipython3",
   "version": "3.11.5"
  }
 },
 "nbformat": 4,
 "nbformat_minor": 5
}
