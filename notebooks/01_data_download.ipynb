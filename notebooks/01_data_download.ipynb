{
 "cells": [
  {
   "cell_type": "markdown",
   "id": "f8cf4143-2526-44f2-980d-27a390191008",
   "metadata": {},
   "source": [
    "## Imports and Setup"
   ]
  },
  {
   "cell_type": "code",
   "execution_count": 1,
   "id": "634532cb-af3f-4083-8472-a09030e5897c",
   "metadata": {
    "tags": []
   },
   "outputs": [],
   "source": [
    "import os\n",
    "import pandas as pd\n",
    "import geopandas as gpd\n",
    "\n",
    "import sys\n",
    "sys.path.insert(0, \"../utils/\")\n",
    "import download_utils\n",
    "import config_utils\n",
    "\n",
    "import warnings\n",
    "warnings.filterwarnings('ignore')\n",
    "\n",
    "%load_ext autoreload\n",
    "%autoreload 2"
   ]
  },
  {
   "cell_type": "markdown",
   "id": "de83468e-d5da-48ae-a5f0-79a79dc83b49",
   "metadata": {},
   "source": [
    "## Data Config"
   ]
  },
  {
   "cell_type": "code",
   "execution_count": null,
   "id": "a4a724d8-57da-4c7b-b964-60ae1f7e7eca",
   "metadata": {},
   "outputs": [],
   "source": [
    "cwd = os.path.dirname(os.getcwd())\n",
    "filename=\"configs/data_config.yaml\"\n",
    "\n",
    "config_file = os.path.join(cwd, filename)\n",
    "config = config_utils.create_config(config_file)"
   ]
  },
  {
   "cell_type": "markdown",
   "id": "46e00581-63db-42b5-b765-ca3a761ad6f7",
   "metadata": {},
   "source": [
    "## Load Data Files"
   ]
  },
  {
   "cell_type": "code",
   "execution_count": 3,
   "id": "f61c6272-7e1c-46a7-b86d-a2016f341909",
   "metadata": {
    "tags": []
   },
   "outputs": [
    {
     "name": "stderr",
     "output_type": "stream",
     "text": [
      "INFO:root:Number of CSV files: 39\n",
      "Processing SLV: 100%|████████████████████| 39/39 [00:12<00:00,  3.06it/s]                                               \n",
      "INFO:root:Generated /home/itingzon.unicef/giga/data/vectors/school/unicef.geojson\n",
      "INFO:root:Data dimensions: (437362, 9), CRS: EPSG:4326\n"
     ]
    },
    {
     "data": {
      "text/html": [
       "<div>\n",
       "<style scoped>\n",
       "    .dataframe tbody tr th:only-of-type {\n",
       "        vertical-align: middle;\n",
       "    }\n",
       "\n",
       "    .dataframe tbody tr th {\n",
       "        vertical-align: top;\n",
       "    }\n",
       "\n",
       "    .dataframe thead th {\n",
       "        text-align: right;\n",
       "    }\n",
       "</style>\n",
       "<table border=\"1\" class=\"dataframe\">\n",
       "  <thead>\n",
       "    <tr style=\"text-align: right;\">\n",
       "      <th></th>\n",
       "      <th>UID</th>\n",
       "      <th>source</th>\n",
       "      <th>iso</th>\n",
       "      <th>country</th>\n",
       "      <th>region</th>\n",
       "      <th>subregion</th>\n",
       "      <th>name</th>\n",
       "      <th>geometry</th>\n",
       "      <th>giga_id_school</th>\n",
       "    </tr>\n",
       "  </thead>\n",
       "  <tbody>\n",
       "    <tr>\n",
       "      <th>402057</th>\n",
       "      <td>UNICEF-KEN-SCHOOL-00003201</td>\n",
       "      <td>UNICEF</td>\n",
       "      <td>KEN</td>\n",
       "      <td>Kenya</td>\n",
       "      <td>Africa</td>\n",
       "      <td>Sub-Saharan Africa</td>\n",
       "      <td>ST JOSEPH SECONDARY SCHOOL-TAPOYO</td>\n",
       "      <td>POINT (35.20760 1.33619)</td>\n",
       "      <td>9e8efed7-2a64-3117-8dff-e88bc96ad91e</td>\n",
       "    </tr>\n",
       "    <tr>\n",
       "      <th>171757</th>\n",
       "      <td>UNICEF-THA-SCHOOL-00018322</td>\n",
       "      <td>UNICEF</td>\n",
       "      <td>THA</td>\n",
       "      <td>Thailand</td>\n",
       "      <td>Asia</td>\n",
       "      <td>South-eastern Asia</td>\n",
       "      <td>ชุมชนวัดหนองคล้ายางพะเนียด</td>\n",
       "      <td>POINT (102.81766 16.87536)</td>\n",
       "      <td>7c796794-e12d-33b6-bd9a-742a186ee617</td>\n",
       "    </tr>\n",
       "    <tr>\n",
       "      <th>337052</th>\n",
       "      <td>UNICEF-BRA-SCHOOL-00110650</td>\n",
       "      <td>UNICEF</td>\n",
       "      <td>BRA</td>\n",
       "      <td>Brazil</td>\n",
       "      <td>Americas</td>\n",
       "      <td>Latin America and the Caribbean</td>\n",
       "      <td>RIO D AREIA ROSA OGG E M C DE EI EF</td>\n",
       "      <td>POINT (-51.13668 -25.29594)</td>\n",
       "      <td>20b09599-d3ff-3f57-98f7-f01a83eb33f3</td>\n",
       "    </tr>\n",
       "  </tbody>\n",
       "</table>\n",
       "</div>"
      ],
      "text/plain": [
       "                               UID  source  iso   country    region  \\\n",
       "402057  UNICEF-KEN-SCHOOL-00003201  UNICEF  KEN     Kenya    Africa   \n",
       "171757  UNICEF-THA-SCHOOL-00018322  UNICEF  THA  Thailand      Asia   \n",
       "337052  UNICEF-BRA-SCHOOL-00110650  UNICEF  BRA    Brazil  Americas   \n",
       "\n",
       "                              subregion                                 name  \\\n",
       "402057               Sub-Saharan Africa    ST JOSEPH SECONDARY SCHOOL-TAPOYO   \n",
       "171757               South-eastern Asia           ชุมชนวัดหนองคล้ายางพะเนียด   \n",
       "337052  Latin America and the Caribbean  RIO D AREIA ROSA OGG E M C DE EI EF   \n",
       "\n",
       "                           geometry                        giga_id_school  \n",
       "402057     POINT (35.20760 1.33619)  9e8efed7-2a64-3117-8dff-e88bc96ad91e  \n",
       "171757   POINT (102.81766 16.87536)  7c796794-e12d-33b6-bd9a-742a186ee617  \n",
       "337052  POINT (-51.13668 -25.29594)  20b09599-d3ff-3f57-98f7-f01a83eb33f3  "
      ]
     },
     "execution_count": 3,
     "metadata": {},
     "output_type": "execute_result"
    }
   ],
   "source": [
    "unicef = download_utils.load_unicef(config)\n",
    "unicef.sample(3)"
   ]
  },
  {
   "cell_type": "markdown",
   "id": "67680692-4ca8-46ae-89ff-5ed340fcd6f2",
   "metadata": {},
   "source": [
    "## Download Overture Maps Data"
   ]
  },
  {
   "cell_type": "code",
   "execution_count": 7,
   "id": "acfa6b0b-152d-4138-94d0-47308b370f95",
   "metadata": {
    "tags": []
   },
   "outputs": [
    {
     "name": "stderr",
     "output_type": "stream",
     "text": [
      "Processing SLV: 100%|████████████████████| 39/39 [00:15<00:00,  2.50it/s]                                               \n",
      "INFO:root:Generated /home/itingzon.unicef/giga/data/vectors/school/overture.geojson\n",
      "INFO:root:Data dimensions: (61183, 8), CRS: EPSG:4326\n"
     ]
    },
    {
     "data": {
      "text/html": [
       "<div>\n",
       "<style scoped>\n",
       "    .dataframe tbody tr th:only-of-type {\n",
       "        vertical-align: middle;\n",
       "    }\n",
       "\n",
       "    .dataframe tbody tr th {\n",
       "        vertical-align: top;\n",
       "    }\n",
       "\n",
       "    .dataframe thead th {\n",
       "        text-align: right;\n",
       "    }\n",
       "</style>\n",
       "<table border=\"1\" class=\"dataframe\">\n",
       "  <thead>\n",
       "    <tr style=\"text-align: right;\">\n",
       "      <th></th>\n",
       "      <th>UID</th>\n",
       "      <th>source</th>\n",
       "      <th>iso</th>\n",
       "      <th>country</th>\n",
       "      <th>region</th>\n",
       "      <th>subregion</th>\n",
       "      <th>name</th>\n",
       "      <th>geometry</th>\n",
       "    </tr>\n",
       "  </thead>\n",
       "  <tbody>\n",
       "    <tr>\n",
       "      <th>39418</th>\n",
       "      <td>OVERTURE-ZAF-SCHOOL-00012884</td>\n",
       "      <td>OVERTURE</td>\n",
       "      <td>ZAF</td>\n",
       "      <td>South Africa</td>\n",
       "      <td>Africa</td>\n",
       "      <td>Sub-Saharan Africa</td>\n",
       "      <td>Zimele High school</td>\n",
       "      <td>POINT (28.76866 -31.60819)</td>\n",
       "    </tr>\n",
       "    <tr>\n",
       "      <th>14469</th>\n",
       "      <td>OVERTURE-THA-SCHOOL-00000428</td>\n",
       "      <td>OVERTURE</td>\n",
       "      <td>THA</td>\n",
       "      <td>Thailand</td>\n",
       "      <td>Asia</td>\n",
       "      <td>South-eastern Asia</td>\n",
       "      <td>Don Bosco Banpong Technological College</td>\n",
       "      <td>POINT (99.90846 13.80133)</td>\n",
       "    </tr>\n",
       "    <tr>\n",
       "      <th>25149</th>\n",
       "      <td>OVERTURE-GHA-SCHOOL-00001028</td>\n",
       "      <td>OVERTURE</td>\n",
       "      <td>GHA</td>\n",
       "      <td>Ghana</td>\n",
       "      <td>Africa</td>\n",
       "      <td>Sub-Saharan Africa</td>\n",
       "      <td>Akwatia GCD Quarters D/A Basic School</td>\n",
       "      <td>POINT (-0.80300 6.02955)</td>\n",
       "    </tr>\n",
       "  </tbody>\n",
       "</table>\n",
       "</div>"
      ],
      "text/plain": [
       "                                UID    source  iso       country  region  \\\n",
       "39418  OVERTURE-ZAF-SCHOOL-00012884  OVERTURE  ZAF  South Africa  Africa   \n",
       "14469  OVERTURE-THA-SCHOOL-00000428  OVERTURE  THA      Thailand    Asia   \n",
       "25149  OVERTURE-GHA-SCHOOL-00001028  OVERTURE  GHA         Ghana  Africa   \n",
       "\n",
       "                subregion                                     name  \\\n",
       "39418  Sub-Saharan Africa                       Zimele High school   \n",
       "14469  South-eastern Asia  Don Bosco Banpong Technological College   \n",
       "25149  Sub-Saharan Africa    Akwatia GCD Quarters D/A Basic School   \n",
       "\n",
       "                         geometry  \n",
       "39418  POINT (28.76866 -31.60819)  \n",
       "14469   POINT (99.90846 13.80133)  \n",
       "25149    POINT (-0.80300 6.02955)  "
      ]
     },
     "execution_count": 7,
     "metadata": {},
     "output_type": "execute_result"
    }
   ],
   "source": [
    "overture_schools = download_utils.download_overture(\n",
    "    config,\n",
    "    unicef.iso.unique(),\n",
    "    category=\"school\"\n",
    ")\n",
    "overture_schools.sample(3)"
   ]
  },
  {
   "cell_type": "code",
   "execution_count": 5,
   "id": "c4694058-d734-4a1f-9ae2-246bf962385e",
   "metadata": {
    "tags": []
   },
   "outputs": [
    {
     "name": "stderr",
     "output_type": "stream",
     "text": [
      "Processing SLV: 100%|████████████████████| 39/39 [01:58<00:00,  3.04s/it]                                               \n",
      "INFO:root:Generated /home/itingzon.unicef/giga/data/vectors/non_school/overture.geojson\n",
      "INFO:root:Data dimensions: (606471, 8), CRS: EPSG:4326\n"
     ]
    },
    {
     "data": {
      "text/html": [
       "<div>\n",
       "<style scoped>\n",
       "    .dataframe tbody tr th:only-of-type {\n",
       "        vertical-align: middle;\n",
       "    }\n",
       "\n",
       "    .dataframe tbody tr th {\n",
       "        vertical-align: top;\n",
       "    }\n",
       "\n",
       "    .dataframe thead th {\n",
       "        text-align: right;\n",
       "    }\n",
       "</style>\n",
       "<table border=\"1\" class=\"dataframe\">\n",
       "  <thead>\n",
       "    <tr style=\"text-align: right;\">\n",
       "      <th></th>\n",
       "      <th>UID</th>\n",
       "      <th>source</th>\n",
       "      <th>iso</th>\n",
       "      <th>country</th>\n",
       "      <th>region</th>\n",
       "      <th>subregion</th>\n",
       "      <th>name</th>\n",
       "      <th>geometry</th>\n",
       "    </tr>\n",
       "  </thead>\n",
       "  <tbody>\n",
       "    <tr>\n",
       "      <th>541025</th>\n",
       "      <td>OVERTURE-BRA-NON_SCHOOL-00386434</td>\n",
       "      <td>OVERTURE</td>\n",
       "      <td>BRA</td>\n",
       "      <td>Brazil</td>\n",
       "      <td>Americas</td>\n",
       "      <td>Latin America and the Caribbean</td>\n",
       "      <td>Labareda Bar e Restaurante</td>\n",
       "      <td>POINT (-34.91897 -8.19144)</td>\n",
       "    </tr>\n",
       "    <tr>\n",
       "      <th>171893</th>\n",
       "      <td>OVERTURE-BRA-NON_SCHOOL-00017302</td>\n",
       "      <td>OVERTURE</td>\n",
       "      <td>BRA</td>\n",
       "      <td>Brazil</td>\n",
       "      <td>Americas</td>\n",
       "      <td>Latin America and the Caribbean</td>\n",
       "      <td>COCO S BAR</td>\n",
       "      <td>POINT (-46.36872 -23.51439)</td>\n",
       "    </tr>\n",
       "    <tr>\n",
       "      <th>369243</th>\n",
       "      <td>OVERTURE-BRA-NON_SCHOOL-00214652</td>\n",
       "      <td>OVERTURE</td>\n",
       "      <td>BRA</td>\n",
       "      <td>Brazil</td>\n",
       "      <td>Americas</td>\n",
       "      <td>Latin America and the Caribbean</td>\n",
       "      <td>Rio Quente -Hotel Cristal</td>\n",
       "      <td>POINT (-48.75367 -17.77860)</td>\n",
       "    </tr>\n",
       "  </tbody>\n",
       "</table>\n",
       "</div>"
      ],
      "text/plain": [
       "                                     UID    source  iso country    region  \\\n",
       "541025  OVERTURE-BRA-NON_SCHOOL-00386434  OVERTURE  BRA  Brazil  Americas   \n",
       "171893  OVERTURE-BRA-NON_SCHOOL-00017302  OVERTURE  BRA  Brazil  Americas   \n",
       "369243  OVERTURE-BRA-NON_SCHOOL-00214652  OVERTURE  BRA  Brazil  Americas   \n",
       "\n",
       "                              subregion                        name  \\\n",
       "541025  Latin America and the Caribbean  Labareda Bar e Restaurante   \n",
       "171893  Latin America and the Caribbean                  COCO S BAR   \n",
       "369243  Latin America and the Caribbean   Rio Quente -Hotel Cristal   \n",
       "\n",
       "                           geometry  \n",
       "541025   POINT (-34.91897 -8.19144)  \n",
       "171893  POINT (-46.36872 -23.51439)  \n",
       "369243  POINT (-48.75367 -17.77860)  "
      ]
     },
     "execution_count": 5,
     "metadata": {},
     "output_type": "execute_result"
    }
   ],
   "source": [
    "overture_nonschools = download_utils.download_overture(\n",
    "    config,\n",
    "    unicef.iso.unique(),\n",
    "    category=\"non_school\",\n",
    "    exclude=\"school\"\n",
    ")\n",
    "overture_nonschools.sample(3)"
   ]
  },
  {
   "cell_type": "markdown",
   "id": "185e6672-9816-4b91-9393-4f9497b3e674",
   "metadata": {},
   "source": [
    "## Download OpenStreetMap Data"
   ]
  },
  {
   "cell_type": "code",
   "execution_count": 10,
   "id": "1fee42f5-642c-483c-9aab-7f33524bc969",
   "metadata": {
    "tags": []
   },
   "outputs": [
    {
     "name": "stderr",
     "output_type": "stream",
     "text": [
      "Processing SLV: 100%|████████████████████| 39/39 [00:11<00:00,  3.32it/s]                                               \n",
      "INFO:root:Generated /home/itingzon.unicef/giga/data/vectors/school/osm.geojson\n",
      "INFO:root:Data dimensions: (40726, 8), CRS: EPSG:4326\n"
     ]
    },
    {
     "data": {
      "text/html": [
       "<div>\n",
       "<style scoped>\n",
       "    .dataframe tbody tr th:only-of-type {\n",
       "        vertical-align: middle;\n",
       "    }\n",
       "\n",
       "    .dataframe tbody tr th {\n",
       "        vertical-align: top;\n",
       "    }\n",
       "\n",
       "    .dataframe thead th {\n",
       "        text-align: right;\n",
       "    }\n",
       "</style>\n",
       "<table border=\"1\" class=\"dataframe\">\n",
       "  <thead>\n",
       "    <tr style=\"text-align: right;\">\n",
       "      <th></th>\n",
       "      <th>UID</th>\n",
       "      <th>source</th>\n",
       "      <th>iso</th>\n",
       "      <th>country</th>\n",
       "      <th>region</th>\n",
       "      <th>subregion</th>\n",
       "      <th>name</th>\n",
       "      <th>geometry</th>\n",
       "    </tr>\n",
       "  </thead>\n",
       "  <tbody>\n",
       "    <tr>\n",
       "      <th>22652</th>\n",
       "      <td>OSM-BRA-SCHOOL-00012853</td>\n",
       "      <td>OSM</td>\n",
       "      <td>BRA</td>\n",
       "      <td>Brazil</td>\n",
       "      <td>Americas</td>\n",
       "      <td>Latin America and the Caribbean</td>\n",
       "      <td>Escola Familia Agricola Agostinho Romao Da Silva</td>\n",
       "      <td>POINT (-45.13176 -4.58986)</td>\n",
       "    </tr>\n",
       "    <tr>\n",
       "      <th>21605</th>\n",
       "      <td>OSM-BRA-SCHOOL-00011806</td>\n",
       "      <td>OSM</td>\n",
       "      <td>BRA</td>\n",
       "      <td>Brazil</td>\n",
       "      <td>Americas</td>\n",
       "      <td>Latin America and the Caribbean</td>\n",
       "      <td>UE Sagrado Coração</td>\n",
       "      <td>POINT (-44.86880 -1.82598)</td>\n",
       "    </tr>\n",
       "    <tr>\n",
       "      <th>14844</th>\n",
       "      <td>OSM-BRA-SCHOOL-00005045</td>\n",
       "      <td>OSM</td>\n",
       "      <td>BRA</td>\n",
       "      <td>Brazil</td>\n",
       "      <td>Americas</td>\n",
       "      <td>Latin America and the Caribbean</td>\n",
       "      <td>EMEF Novo Irajá</td>\n",
       "      <td>POINT (-40.23317 -19.90329)</td>\n",
       "    </tr>\n",
       "  </tbody>\n",
       "</table>\n",
       "</div>"
      ],
      "text/plain": [
       "                           UID source  iso country    region  \\\n",
       "22652  OSM-BRA-SCHOOL-00012853    OSM  BRA  Brazil  Americas   \n",
       "21605  OSM-BRA-SCHOOL-00011806    OSM  BRA  Brazil  Americas   \n",
       "14844  OSM-BRA-SCHOOL-00005045    OSM  BRA  Brazil  Americas   \n",
       "\n",
       "                             subregion  \\\n",
       "22652  Latin America and the Caribbean   \n",
       "21605  Latin America and the Caribbean   \n",
       "14844  Latin America and the Caribbean   \n",
       "\n",
       "                                                   name  \\\n",
       "22652  Escola Familia Agricola Agostinho Romao Da Silva   \n",
       "21605                                UE Sagrado Coração   \n",
       "14844                                   EMEF Novo Irajá   \n",
       "\n",
       "                          geometry  \n",
       "22652   POINT (-45.13176 -4.58986)  \n",
       "21605   POINT (-44.86880 -1.82598)  \n",
       "14844  POINT (-40.23317 -19.90329)  "
      ]
     },
     "execution_count": 10,
     "metadata": {},
     "output_type": "execute_result"
    }
   ],
   "source": [
    "osm_schools = download_utils.download_osm(\n",
    "    config,\n",
    "    unicef.iso.unique(), \n",
    "    category=\"school\"\n",
    ")\n",
    "osm_schools.sample(3)"
   ]
  },
  {
   "cell_type": "code",
   "execution_count": 11,
   "id": "caf74f52-d62d-40e4-ae8a-2dac5ac4d82a",
   "metadata": {
    "tags": []
   },
   "outputs": [
    {
     "name": "stderr",
     "output_type": "stream",
     "text": [
      "Processing ZAF:  38%|███████▋            | 15/39 [00:37<01:29,  3.75s/it]                                               WARNING:fiona.ogrext:Expecting property name enclosed in double quotes: line 1 column 2 (char 1)\n",
      "Processing SLV: 100%|████████████████████| 39/39 [01:21<00:00,  2.08s/it]                                               \n",
      "INFO:root:Generated /home/itingzon.unicef/giga/data/vectors/non_school/osm.geojson\n",
      "INFO:root:Data dimensions: (410420, 8), CRS: EPSG:4326\n"
     ]
    },
    {
     "data": {
      "text/html": [
       "<div>\n",
       "<style scoped>\n",
       "    .dataframe tbody tr th:only-of-type {\n",
       "        vertical-align: middle;\n",
       "    }\n",
       "\n",
       "    .dataframe tbody tr th {\n",
       "        vertical-align: top;\n",
       "    }\n",
       "\n",
       "    .dataframe thead th {\n",
       "        text-align: right;\n",
       "    }\n",
       "</style>\n",
       "<table border=\"1\" class=\"dataframe\">\n",
       "  <thead>\n",
       "    <tr style=\"text-align: right;\">\n",
       "      <th></th>\n",
       "      <th>UID</th>\n",
       "      <th>source</th>\n",
       "      <th>iso</th>\n",
       "      <th>country</th>\n",
       "      <th>region</th>\n",
       "      <th>subregion</th>\n",
       "      <th>name</th>\n",
       "      <th>geometry</th>\n",
       "    </tr>\n",
       "  </thead>\n",
       "  <tbody>\n",
       "    <tr>\n",
       "      <th>193902</th>\n",
       "      <td>OSM-ZAF-NON_SCHOOL-00000965</td>\n",
       "      <td>OSM</td>\n",
       "      <td>ZAF</td>\n",
       "      <td>South Africa</td>\n",
       "      <td>Africa</td>\n",
       "      <td>Sub-Saharan Africa</td>\n",
       "      <td>None</td>\n",
       "      <td>POINT (28.30223 -25.71512)</td>\n",
       "    </tr>\n",
       "    <tr>\n",
       "      <th>303693</th>\n",
       "      <td>OSM-BRA-NON_SCHOOL-00093607</td>\n",
       "      <td>OSM</td>\n",
       "      <td>BRA</td>\n",
       "      <td>Brazil</td>\n",
       "      <td>Americas</td>\n",
       "      <td>Latin America and the Caribbean</td>\n",
       "      <td>Templo Aderalto do Amanhecer</td>\n",
       "      <td>POINT (-57.66404 -16.06128)</td>\n",
       "    </tr>\n",
       "    <tr>\n",
       "      <th>311564</th>\n",
       "      <td>OSM-BRA-NON_SCHOOL-00101478</td>\n",
       "      <td>OSM</td>\n",
       "      <td>BRA</td>\n",
       "      <td>Brazil</td>\n",
       "      <td>Americas</td>\n",
       "      <td>Latin America and the Caribbean</td>\n",
       "      <td>Igreja Assembleia De Deus - Missão</td>\n",
       "      <td>POINT (-49.04501 -5.21136)</td>\n",
       "    </tr>\n",
       "  </tbody>\n",
       "</table>\n",
       "</div>"
      ],
      "text/plain": [
       "                                UID source  iso       country    region  \\\n",
       "193902  OSM-ZAF-NON_SCHOOL-00000965    OSM  ZAF  South Africa    Africa   \n",
       "303693  OSM-BRA-NON_SCHOOL-00093607    OSM  BRA        Brazil  Americas   \n",
       "311564  OSM-BRA-NON_SCHOOL-00101478    OSM  BRA        Brazil  Americas   \n",
       "\n",
       "                              subregion                                name  \\\n",
       "193902               Sub-Saharan Africa                                None   \n",
       "303693  Latin America and the Caribbean        Templo Aderalto do Amanhecer   \n",
       "311564  Latin America and the Caribbean  Igreja Assembleia De Deus - Missão   \n",
       "\n",
       "                           geometry  \n",
       "193902   POINT (28.30223 -25.71512)  \n",
       "303693  POINT (-57.66404 -16.06128)  \n",
       "311564   POINT (-49.04501 -5.21136)  "
      ]
     },
     "execution_count": 11,
     "metadata": {},
     "output_type": "execute_result"
    }
   ],
   "source": [
    "osm_nonschools = download_utils.download_osm(\n",
    "    config,\n",
    "    unicef.iso.unique(), \n",
    "    category=\"non_school\"\n",
    ")\n",
    "osm_nonschools.sample(3)"
   ]
  }
 ],
 "metadata": {
  "kernelspec": {
   "display_name": "giga",
   "language": "python",
   "name": "giga"
  },
  "language_info": {
   "codemirror_mode": {
    "name": "ipython",
    "version": 3
   },
   "file_extension": ".py",
   "mimetype": "text/x-python",
   "name": "python",
   "nbconvert_exporter": "python",
   "pygments_lexer": "ipython3",
   "version": "3.11.5"
  }
 },
 "nbformat": 4,
 "nbformat_minor": 5
}
