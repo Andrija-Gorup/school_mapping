{
 "cells": [
  {
   "cell_type": "markdown",
   "id": "f8cf4143-2526-44f2-980d-27a390191008",
   "metadata": {},
   "source": [
    "## Imports and Setup"
   ]
  },
  {
   "cell_type": "code",
   "execution_count": 1,
   "id": "634532cb-af3f-4083-8472-a09030e5897c",
   "metadata": {
    "tags": []
   },
   "outputs": [],
   "source": [
    "import os\n",
    "import pandas as pd\n",
    "import geopandas as gpd\n",
    "\n",
    "import sys\n",
    "sys.path.insert(0, \"../utils/\")\n",
    "import download_utils\n",
    "import config_utils\n",
    "\n",
    "import warnings\n",
    "warnings.filterwarnings('ignore')\n",
    "warnings.simplefilter('ignore')\n",
    "\n",
    "%load_ext autoreload\n",
    "%autoreload 2"
   ]
  },
  {
   "cell_type": "markdown",
   "id": "de83468e-d5da-48ae-a5f0-79a79dc83b49",
   "metadata": {},
   "source": [
    "## Data Configurations"
   ]
  },
  {
   "cell_type": "code",
   "execution_count": 2,
   "id": "a4a724d8-57da-4c7b-b964-60ae1f7e7eca",
   "metadata": {},
   "outputs": [],
   "source": [
    "cwd = os.path.dirname(os.getcwd())\n",
    "filename=\"configs/config_full.yaml\"\n",
    "\n",
    "config_file = os.path.join(cwd, filename)\n",
    "config = config_utils.load_config(config_file)"
   ]
  },
  {
   "cell_type": "markdown",
   "id": "46e00581-63db-42b5-b765-ca3a761ad6f7",
   "metadata": {},
   "source": [
    "## Load UNICEF Data "
   ]
  },
  {
   "cell_type": "code",
   "execution_count": 14,
   "id": "d54d4593-32d0-424e-88be-b9efab25d87b",
   "metadata": {
    "tags": []
   },
   "outputs": [
    {
     "name": "stderr",
     "output_type": "stream",
     "text": [
      "INFO:root:Number of CSV files: 0\n",
      "|                    | 0/0 [00:00<?, ?it/s]\n"
     ]
    },
    {
     "ename": "ValueError",
     "evalue": "No objects to concatenate",
     "output_type": "error",
     "traceback": [
      "\u001b[1;31m---------------------------------------------------------------------------\u001b[0m",
      "\u001b[1;31mValueError\u001b[0m                                Traceback (most recent call last)",
      "Cell \u001b[1;32mIn[14], line 1\u001b[0m\n\u001b[1;32m----> 1\u001b[0m unicef \u001b[38;5;241m=\u001b[39m \u001b[43mdownload_utils\u001b[49m\u001b[38;5;241;43m.\u001b[39;49m\u001b[43mload_unicef\u001b[49m\u001b[43m(\u001b[49m\u001b[43mconfig\u001b[49m\u001b[43m)\u001b[49m\n\u001b[0;32m      2\u001b[0m unicef\u001b[38;5;241m.\u001b[39msample(\u001b[38;5;241m3\u001b[39m)\n",
      "File \u001b[1;32mc:\\Faks\\5.god\\4.semestar\\school_mapping\\notebooks\\../utils\\download_utils.py:302\u001b[0m, in \u001b[0;36mload_unicef\u001b[1;34m(config, category, source)\u001b[0m\n\u001b[0;32m    300\u001b[0m out_dir \u001b[38;5;241m=\u001b[39m os\u001b[38;5;241m.\u001b[39mpath\u001b[38;5;241m.\u001b[39mdirname(data_dir)\n\u001b[0;32m    301\u001b[0m out_file \u001b[38;5;241m=\u001b[39m os\u001b[38;5;241m.\u001b[39mpath\u001b[38;5;241m.\u001b[39mjoin(out_dir, \u001b[38;5;124mf\u001b[39m\u001b[38;5;124m\"\u001b[39m\u001b[38;5;132;01m{\u001b[39;00msource\u001b[38;5;132;01m}\u001b[39;00m\u001b[38;5;124m.geojson\u001b[39m\u001b[38;5;124m\"\u001b[39m)\n\u001b[1;32m--> 302\u001b[0m data \u001b[38;5;241m=\u001b[39m \u001b[43mdata_utils\u001b[49m\u001b[38;5;241;43m.\u001b[39;49m\u001b[43m_concat_data\u001b[49m\u001b[43m(\u001b[49m\u001b[43mdata\u001b[49m\u001b[43m,\u001b[49m\u001b[43m \u001b[49m\u001b[43mout_file\u001b[49m\u001b[43m)\u001b[49m\n\u001b[0;32m    303\u001b[0m \u001b[38;5;28;01mreturn\u001b[39;00m data\n",
      "File \u001b[1;32mc:\\Faks\\5.god\\4.semestar\\school_mapping\\notebooks\\../utils\\data_utils.py:153\u001b[0m, in \u001b[0;36m_concat_data\u001b[1;34m(data, out_file, verbose)\u001b[0m\n\u001b[0;32m    140\u001b[0m \u001b[38;5;28;01mdef\u001b[39;00m \u001b[38;5;21m_concat_data\u001b[39m(data, out_file\u001b[38;5;241m=\u001b[39m\u001b[38;5;28;01mNone\u001b[39;00m, verbose\u001b[38;5;241m=\u001b[39m\u001b[38;5;28;01mFalse\u001b[39;00m):\n\u001b[0;32m    141\u001b[0m     \u001b[38;5;124;03m\"\"\"\u001b[39;00m\n\u001b[0;32m    142\u001b[0m \u001b[38;5;124;03m    Concatenates a list of datasets and converts it to a GeoDataFrame.\u001b[39;00m\n\u001b[0;32m    143\u001b[0m \n\u001b[1;32m   (...)\u001b[0m\n\u001b[0;32m    150\u001b[0m \u001b[38;5;124;03m    - GeoDataFrame: Concatenated GeoDataFrame.\u001b[39;00m\n\u001b[0;32m    151\u001b[0m \u001b[38;5;124;03m    \"\"\"\u001b[39;00m\n\u001b[1;32m--> 153\u001b[0m     data \u001b[38;5;241m=\u001b[39m \u001b[43mpd\u001b[49m\u001b[38;5;241;43m.\u001b[39;49m\u001b[43mconcat\u001b[49m\u001b[43m(\u001b[49m\u001b[43mdata\u001b[49m\u001b[43m)\u001b[49m\u001b[38;5;241m.\u001b[39mreset_index(drop\u001b[38;5;241m=\u001b[39m\u001b[38;5;28;01mTrue\u001b[39;00m)\n\u001b[0;32m    154\u001b[0m     data \u001b[38;5;241m=\u001b[39m gpd\u001b[38;5;241m.\u001b[39mGeoDataFrame(data, geometry\u001b[38;5;241m=\u001b[39mdata[\u001b[38;5;124m\"\u001b[39m\u001b[38;5;124mgeometry\u001b[39m\u001b[38;5;124m\"\u001b[39m], crs\u001b[38;5;241m=\u001b[39m\u001b[38;5;124m\"\u001b[39m\u001b[38;5;124mEPSG:4326\u001b[39m\u001b[38;5;124m\"\u001b[39m)\n\u001b[0;32m    155\u001b[0m     data \u001b[38;5;241m=\u001b[39m data\u001b[38;5;241m.\u001b[39mdrop_duplicates(\u001b[38;5;124m\"\u001b[39m\u001b[38;5;124mgeometry\u001b[39m\u001b[38;5;124m\"\u001b[39m, keep\u001b[38;5;241m=\u001b[39m\u001b[38;5;124m\"\u001b[39m\u001b[38;5;124mfirst\u001b[39m\u001b[38;5;124m\"\u001b[39m)\n",
      "File \u001b[1;32mc:\\Users\\andri\\AppData\\Local\\Programs\\Python\\Python310\\lib\\site-packages\\pandas\\core\\reshape\\concat.py:380\u001b[0m, in \u001b[0;36mconcat\u001b[1;34m(objs, axis, join, ignore_index, keys, levels, names, verify_integrity, sort, copy)\u001b[0m\n\u001b[0;32m    377\u001b[0m \u001b[38;5;28;01melif\u001b[39;00m copy \u001b[38;5;129;01mand\u001b[39;00m using_copy_on_write():\n\u001b[0;32m    378\u001b[0m     copy \u001b[38;5;241m=\u001b[39m \u001b[38;5;28;01mFalse\u001b[39;00m\n\u001b[1;32m--> 380\u001b[0m op \u001b[38;5;241m=\u001b[39m \u001b[43m_Concatenator\u001b[49m\u001b[43m(\u001b[49m\n\u001b[0;32m    381\u001b[0m \u001b[43m    \u001b[49m\u001b[43mobjs\u001b[49m\u001b[43m,\u001b[49m\n\u001b[0;32m    382\u001b[0m \u001b[43m    \u001b[49m\u001b[43maxis\u001b[49m\u001b[38;5;241;43m=\u001b[39;49m\u001b[43maxis\u001b[49m\u001b[43m,\u001b[49m\n\u001b[0;32m    383\u001b[0m \u001b[43m    \u001b[49m\u001b[43mignore_index\u001b[49m\u001b[38;5;241;43m=\u001b[39;49m\u001b[43mignore_index\u001b[49m\u001b[43m,\u001b[49m\n\u001b[0;32m    384\u001b[0m \u001b[43m    \u001b[49m\u001b[43mjoin\u001b[49m\u001b[38;5;241;43m=\u001b[39;49m\u001b[43mjoin\u001b[49m\u001b[43m,\u001b[49m\n\u001b[0;32m    385\u001b[0m \u001b[43m    \u001b[49m\u001b[43mkeys\u001b[49m\u001b[38;5;241;43m=\u001b[39;49m\u001b[43mkeys\u001b[49m\u001b[43m,\u001b[49m\n\u001b[0;32m    386\u001b[0m \u001b[43m    \u001b[49m\u001b[43mlevels\u001b[49m\u001b[38;5;241;43m=\u001b[39;49m\u001b[43mlevels\u001b[49m\u001b[43m,\u001b[49m\n\u001b[0;32m    387\u001b[0m \u001b[43m    \u001b[49m\u001b[43mnames\u001b[49m\u001b[38;5;241;43m=\u001b[39;49m\u001b[43mnames\u001b[49m\u001b[43m,\u001b[49m\n\u001b[0;32m    388\u001b[0m \u001b[43m    \u001b[49m\u001b[43mverify_integrity\u001b[49m\u001b[38;5;241;43m=\u001b[39;49m\u001b[43mverify_integrity\u001b[49m\u001b[43m,\u001b[49m\n\u001b[0;32m    389\u001b[0m \u001b[43m    \u001b[49m\u001b[43mcopy\u001b[49m\u001b[38;5;241;43m=\u001b[39;49m\u001b[43mcopy\u001b[49m\u001b[43m,\u001b[49m\n\u001b[0;32m    390\u001b[0m \u001b[43m    \u001b[49m\u001b[43msort\u001b[49m\u001b[38;5;241;43m=\u001b[39;49m\u001b[43msort\u001b[49m\u001b[43m,\u001b[49m\n\u001b[0;32m    391\u001b[0m \u001b[43m\u001b[49m\u001b[43m)\u001b[49m\n\u001b[0;32m    393\u001b[0m \u001b[38;5;28;01mreturn\u001b[39;00m op\u001b[38;5;241m.\u001b[39mget_result()\n",
      "File \u001b[1;32mc:\\Users\\andri\\AppData\\Local\\Programs\\Python\\Python310\\lib\\site-packages\\pandas\\core\\reshape\\concat.py:443\u001b[0m, in \u001b[0;36m_Concatenator.__init__\u001b[1;34m(self, objs, axis, join, keys, levels, names, ignore_index, verify_integrity, copy, sort)\u001b[0m\n\u001b[0;32m    440\u001b[0m \u001b[38;5;28mself\u001b[39m\u001b[38;5;241m.\u001b[39mverify_integrity \u001b[38;5;241m=\u001b[39m verify_integrity\n\u001b[0;32m    441\u001b[0m \u001b[38;5;28mself\u001b[39m\u001b[38;5;241m.\u001b[39mcopy \u001b[38;5;241m=\u001b[39m copy\n\u001b[1;32m--> 443\u001b[0m objs, keys \u001b[38;5;241m=\u001b[39m \u001b[38;5;28;43mself\u001b[39;49m\u001b[38;5;241;43m.\u001b[39;49m\u001b[43m_clean_keys_and_objs\u001b[49m\u001b[43m(\u001b[49m\u001b[43mobjs\u001b[49m\u001b[43m,\u001b[49m\u001b[43m \u001b[49m\u001b[43mkeys\u001b[49m\u001b[43m)\u001b[49m\n\u001b[0;32m    445\u001b[0m \u001b[38;5;66;03m# figure out what our result ndim is going to be\u001b[39;00m\n\u001b[0;32m    446\u001b[0m ndims \u001b[38;5;241m=\u001b[39m \u001b[38;5;28mself\u001b[39m\u001b[38;5;241m.\u001b[39m_get_ndims(objs)\n",
      "File \u001b[1;32mc:\\Users\\andri\\AppData\\Local\\Programs\\Python\\Python310\\lib\\site-packages\\pandas\\core\\reshape\\concat.py:505\u001b[0m, in \u001b[0;36m_Concatenator._clean_keys_and_objs\u001b[1;34m(self, objs, keys)\u001b[0m\n\u001b[0;32m    502\u001b[0m     objs_list \u001b[38;5;241m=\u001b[39m \u001b[38;5;28mlist\u001b[39m(objs)\n\u001b[0;32m    504\u001b[0m \u001b[38;5;28;01mif\u001b[39;00m \u001b[38;5;28mlen\u001b[39m(objs_list) \u001b[38;5;241m==\u001b[39m \u001b[38;5;241m0\u001b[39m:\n\u001b[1;32m--> 505\u001b[0m     \u001b[38;5;28;01mraise\u001b[39;00m \u001b[38;5;167;01mValueError\u001b[39;00m(\u001b[38;5;124m\"\u001b[39m\u001b[38;5;124mNo objects to concatenate\u001b[39m\u001b[38;5;124m\"\u001b[39m)\n\u001b[0;32m    507\u001b[0m \u001b[38;5;28;01mif\u001b[39;00m keys \u001b[38;5;129;01mis\u001b[39;00m \u001b[38;5;28;01mNone\u001b[39;00m:\n\u001b[0;32m    508\u001b[0m     objs_list \u001b[38;5;241m=\u001b[39m \u001b[38;5;28mlist\u001b[39m(com\u001b[38;5;241m.\u001b[39mnot_none(\u001b[38;5;241m*\u001b[39mobjs_list))\n",
      "\u001b[1;31mValueError\u001b[0m: No objects to concatenate"
     ]
    }
   ],
   "source": [
    "unicef = download_utils.load_unicef(config)\n",
    "unicef.sample(3)"
   ]
  },
  {
   "cell_type": "markdown",
   "id": "67680692-4ca8-46ae-89ff-5ed340fcd6f2",
   "metadata": {},
   "source": [
    "## Download Overture Maps Data"
   ]
  },
  {
   "cell_type": "code",
   "execution_count": 3,
   "id": "acfa6b0b-152d-4138-94d0-47308b370f95",
   "metadata": {
    "tags": []
   },
   "outputs": [
    {
     "name": "stderr",
     "output_type": "stream",
     "text": [
      "Processing ATG:   0%|                    | 0/42 [00:04<?, ?it/s]\n"
     ]
    },
    {
     "ename": "BinderException",
     "evalue": "Binder Error: No function matches the given name and argument types 'upper(MAP(VARCHAR, MAP(VARCHAR, VARCHAR)[]))'. You might need to add explicit type casts.\n\tCandidate functions:\n\tupper(VARCHAR) -> VARCHAR\n\nLINE 14:             UPPER(names) LIKE '%SCHOOL%'\n                     ^",
     "output_type": "error",
     "traceback": [
      "\u001b[1;31m---------------------------------------------------------------------------\u001b[0m",
      "\u001b[1;31mBinderException\u001b[0m                           Traceback (most recent call last)",
      "Cell \u001b[1;32mIn[3], line 1\u001b[0m\n\u001b[1;32m----> 1\u001b[0m overture_schools \u001b[38;5;241m=\u001b[39m \u001b[43mdownload_utils\u001b[49m\u001b[38;5;241;43m.\u001b[39;49m\u001b[43mdownload_overture\u001b[49m\u001b[43m(\u001b[49m\u001b[43mconfig\u001b[49m\u001b[43m,\u001b[49m\u001b[43m \u001b[49m\u001b[43mcategory\u001b[49m\u001b[38;5;241;43m=\u001b[39;49m\u001b[38;5;124;43m\"\u001b[39;49m\u001b[38;5;124;43mschool\u001b[39;49m\u001b[38;5;124;43m\"\u001b[39;49m\u001b[43m)\u001b[49m\n\u001b[0;32m      2\u001b[0m overture_schools\u001b[38;5;241m.\u001b[39msample(\u001b[38;5;241m3\u001b[39m)\n",
      "File \u001b[1;32mc:\\Faks\\5.god\\4.semestar\\school_mapping\\notebooks\\../utils\\download_utils.py:228\u001b[0m, in \u001b[0;36mdownload_overture\u001b[1;34m(config, category, exclude, source)\u001b[0m\n\u001b[0;32m    226\u001b[0m \u001b[38;5;66;03m# Fetch Overture data\u001b[39;00m\n\u001b[0;32m    227\u001b[0m \u001b[38;5;28;01mif\u001b[39;00m \u001b[38;5;129;01mnot\u001b[39;00m os\u001b[38;5;241m.\u001b[39mpath\u001b[38;5;241m.\u001b[39mexists(out_subfile):\n\u001b[1;32m--> 228\u001b[0m     \u001b[43m_query_overture\u001b[49m\u001b[43m(\u001b[49m\u001b[43mconfig\u001b[49m\u001b[43m,\u001b[49m\u001b[43m \u001b[49m\u001b[43miso_code\u001b[49m\u001b[43m,\u001b[49m\u001b[43m \u001b[49m\u001b[43mout_subfile\u001b[49m\u001b[43m,\u001b[49m\u001b[43m \u001b[49m\u001b[43mquery\u001b[49m\u001b[43m)\u001b[49m\n\u001b[0;32m    230\u001b[0m \u001b[38;5;66;03m# Post-process data\u001b[39;00m\n\u001b[0;32m    231\u001b[0m subdata \u001b[38;5;241m=\u001b[39m gpd\u001b[38;5;241m.\u001b[39mread_file(out_subfile)\u001b[38;5;241m.\u001b[39mreset_index(drop\u001b[38;5;241m=\u001b[39m\u001b[38;5;28;01mTrue\u001b[39;00m)\n",
      "File \u001b[1;32mc:\\Faks\\5.god\\4.semestar\\school_mapping\\notebooks\\../utils\\download_utils.py:167\u001b[0m, in \u001b[0;36m_query_overture\u001b[1;34m(config, iso_code, out_file, query)\u001b[0m\n\u001b[0;32m    148\u001b[0m bbox \u001b[38;5;241m=\u001b[39m [c\u001b[38;5;241m.\u001b[39mbbox \u001b[38;5;28;01mfor\u001b[39;00m c \u001b[38;5;129;01min\u001b[39;00m country_subunits_by_iso_code(iso_code)][\u001b[38;5;241m0\u001b[39m]\n\u001b[0;32m    149\u001b[0m overture_query \u001b[38;5;241m=\u001b[39m \u001b[38;5;124mf\u001b[39m\u001b[38;5;124m\"\"\"\u001b[39m\n\u001b[0;32m    150\u001b[0m \u001b[38;5;124m    COPY(\u001b[39m\n\u001b[0;32m    151\u001b[0m \u001b[38;5;124m        select\u001b[39m\n\u001b[1;32m   (...)\u001b[0m\n\u001b[0;32m    165\u001b[0m \u001b[38;5;124m    WITH (FORMAT GDAL, DRIVER \u001b[39m\u001b[38;5;124m'\u001b[39m\u001b[38;5;124mGeoJSON\u001b[39m\u001b[38;5;124m'\u001b[39m\u001b[38;5;124m)\u001b[39m\n\u001b[0;32m    166\u001b[0m \u001b[38;5;124m\u001b[39m\u001b[38;5;124m\"\"\"\u001b[39m\n\u001b[1;32m--> 167\u001b[0m \u001b[43mdb\u001b[49m\u001b[38;5;241;43m.\u001b[39;49m\u001b[43mexecute\u001b[49m\u001b[43m(\u001b[49m\u001b[43moverture_query\u001b[49m\u001b[43m)\u001b[49m\u001b[38;5;241m.\u001b[39mfetchall()\n\u001b[0;32m    169\u001b[0m \u001b[38;5;66;03m# Intersect data with the country's geoboundaries\u001b[39;00m\n\u001b[0;32m    170\u001b[0m data \u001b[38;5;241m=\u001b[39m gpd\u001b[38;5;241m.\u001b[39mread_file(out_file)\n",
      "\u001b[1;31mBinderException\u001b[0m: Binder Error: No function matches the given name and argument types 'upper(MAP(VARCHAR, MAP(VARCHAR, VARCHAR)[]))'. You might need to add explicit type casts.\n\tCandidate functions:\n\tupper(VARCHAR) -> VARCHAR\n\nLINE 14:             UPPER(names) LIKE '%SCHOOL%'\n                     ^"
     ]
    }
   ],
   "source": [
    "overture_schools = download_utils.download_overture(config, category=\"school\")\n",
    "overture_schools.sample(3)"
   ]
  },
  {
   "cell_type": "code",
   "execution_count": 21,
   "id": "189c8518-d896-4472-88a5-971422aa7f3c",
   "metadata": {
    "tags": []
   },
   "outputs": [
    {
     "name": "stderr",
     "output_type": "stream",
     "text": [
      "Processing ATG:   0%|                    | 0/42 [00:02<?, ?it/s]\n"
     ]
    },
    {
     "ename": "BinderException",
     "evalue": "Binder Error: No function matches the given name and argument types '~~(MAP(VARCHAR, MAP(VARCHAR, VARCHAR)[]), STRING_LITERAL)'. You might need to add explicit type casts.\n\tCandidate functions:\n\t~~(VARCHAR, VARCHAR) -> BOOLEAN\n\nLINE 14:              (names LIKE '%FAST FOOD%'\n                             ^",
     "output_type": "error",
     "traceback": [
      "\u001b[1;31m---------------------------------------------------------------------------\u001b[0m",
      "\u001b[1;31mBinderException\u001b[0m                           Traceback (most recent call last)",
      "Cell \u001b[1;32mIn[21], line 1\u001b[0m\n\u001b[1;32m----> 1\u001b[0m overture_nonschools \u001b[38;5;241m=\u001b[39m \u001b[43mdownload_utils\u001b[49m\u001b[38;5;241;43m.\u001b[39;49m\u001b[43mdownload_overture\u001b[49m\u001b[43m(\u001b[49m\u001b[43mconfig\u001b[49m\u001b[43m,\u001b[49m\u001b[43m \u001b[49m\u001b[43mcategory\u001b[49m\u001b[38;5;241;43m=\u001b[39;49m\u001b[38;5;124;43m\"\u001b[39;49m\u001b[38;5;124;43mnon_school\u001b[39;49m\u001b[38;5;124;43m\"\u001b[39;49m\u001b[43m,\u001b[49m\u001b[43m \u001b[49m\u001b[43mexclude\u001b[49m\u001b[38;5;241;43m=\u001b[39;49m\u001b[38;5;124;43m\"\u001b[39;49m\u001b[38;5;124;43mschool\u001b[39;49m\u001b[38;5;124;43m\"\u001b[39;49m\u001b[43m)\u001b[49m\n\u001b[0;32m      2\u001b[0m overture_nonschools\u001b[38;5;241m.\u001b[39msample(\u001b[38;5;241m3\u001b[39m)\n",
      "File \u001b[1;32mc:\\Faks\\5.god\\4.semestar\\school_mapping\\notebooks\\../utils\\download_utils.py:228\u001b[0m, in \u001b[0;36mdownload_overture\u001b[1;34m(config, category, exclude, source)\u001b[0m\n\u001b[0;32m    226\u001b[0m \u001b[38;5;66;03m# Fetch Overture data\u001b[39;00m\n\u001b[0;32m    227\u001b[0m \u001b[38;5;28;01mif\u001b[39;00m \u001b[38;5;129;01mnot\u001b[39;00m os\u001b[38;5;241m.\u001b[39mpath\u001b[38;5;241m.\u001b[39mexists(out_subfile):\n\u001b[1;32m--> 228\u001b[0m     \u001b[43m_query_overture\u001b[49m\u001b[43m(\u001b[49m\u001b[43mconfig\u001b[49m\u001b[43m,\u001b[49m\u001b[43m \u001b[49m\u001b[43miso_code\u001b[49m\u001b[43m,\u001b[49m\u001b[43m \u001b[49m\u001b[43mout_subfile\u001b[49m\u001b[43m,\u001b[49m\u001b[43m \u001b[49m\u001b[43mquery\u001b[49m\u001b[43m)\u001b[49m\n\u001b[0;32m    230\u001b[0m \u001b[38;5;66;03m# Post-process data\u001b[39;00m\n\u001b[0;32m    231\u001b[0m subdata \u001b[38;5;241m=\u001b[39m gpd\u001b[38;5;241m.\u001b[39mread_file(out_subfile)\u001b[38;5;241m.\u001b[39mreset_index(drop\u001b[38;5;241m=\u001b[39m\u001b[38;5;28;01mTrue\u001b[39;00m)\n",
      "File \u001b[1;32mc:\\Faks\\5.god\\4.semestar\\school_mapping\\notebooks\\../utils\\download_utils.py:167\u001b[0m, in \u001b[0;36m_query_overture\u001b[1;34m(config, iso_code, out_file, query)\u001b[0m\n\u001b[0;32m    148\u001b[0m bbox \u001b[38;5;241m=\u001b[39m [c\u001b[38;5;241m.\u001b[39mbbox \u001b[38;5;28;01mfor\u001b[39;00m c \u001b[38;5;129;01min\u001b[39;00m country_subunits_by_iso_code(iso_code)][\u001b[38;5;241m0\u001b[39m]\n\u001b[0;32m    149\u001b[0m overture_query \u001b[38;5;241m=\u001b[39m \u001b[38;5;124mf\u001b[39m\u001b[38;5;124m\"\"\"\u001b[39m\n\u001b[0;32m    150\u001b[0m \u001b[38;5;124m    COPY(\u001b[39m\n\u001b[0;32m    151\u001b[0m \u001b[38;5;124m        select\u001b[39m\n\u001b[1;32m   (...)\u001b[0m\n\u001b[0;32m    165\u001b[0m \u001b[38;5;124m    WITH (FORMAT GDAL, DRIVER \u001b[39m\u001b[38;5;124m'\u001b[39m\u001b[38;5;124mGeoJSON\u001b[39m\u001b[38;5;124m'\u001b[39m\u001b[38;5;124m)\u001b[39m\n\u001b[0;32m    166\u001b[0m \u001b[38;5;124m\u001b[39m\u001b[38;5;124m\"\"\"\u001b[39m\n\u001b[1;32m--> 167\u001b[0m \u001b[43mdb\u001b[49m\u001b[38;5;241;43m.\u001b[39;49m\u001b[43mexecute\u001b[49m\u001b[43m(\u001b[49m\u001b[43moverture_query\u001b[49m\u001b[43m)\u001b[49m\u001b[38;5;241m.\u001b[39mfetchall()\n\u001b[0;32m    169\u001b[0m \u001b[38;5;66;03m# Intersect data with the country's geoboundaries\u001b[39;00m\n\u001b[0;32m    170\u001b[0m data \u001b[38;5;241m=\u001b[39m gpd\u001b[38;5;241m.\u001b[39mread_file(out_file)\n",
      "\u001b[1;31mBinderException\u001b[0m: Binder Error: No function matches the given name and argument types '~~(MAP(VARCHAR, MAP(VARCHAR, VARCHAR)[]), STRING_LITERAL)'. You might need to add explicit type casts.\n\tCandidate functions:\n\t~~(VARCHAR, VARCHAR) -> BOOLEAN\n\nLINE 14:              (names LIKE '%FAST FOOD%'\n                             ^"
     ]
    }
   ],
   "source": [
    "overture_nonschools = download_utils.download_overture(config, category=\"non_school\", exclude=\"school\")\n",
    "overture_nonschools.sample(3)"
   ]
  },
  {
   "cell_type": "markdown",
   "id": "90aa0884-c872-413f-b014-3b246dd6b321",
   "metadata": {},
   "source": [
    "## Download OpenStreetMap (OSM) Data"
   ]
  },
  {
   "cell_type": "code",
   "execution_count": 24,
   "id": "b999ce0c-567c-4c8b-91f1-32a44aa7752f",
   "metadata": {
    "tags": []
   },
   "outputs": [
    {
     "name": "stderr",
     "output_type": "stream",
     "text": [
      "Processing ATG:   0%|                    | 0/42 [00:00<?, ?it/s]WARNING:fiona._env:Several features with id = 208538648 have been found. Altering it to be unique. This warning will not be emitted anymore for this layer\n",
      "WARNING:fiona._env:Several features with id = 208538648 have been found. Altering it to be unique. This warning will not be emitted anymore for this layer\n",
      "Processing AIA:   2%|▍                   | 1/42 [00:02<01:38,  2.41s/it]WARNING:fiona._env:Several features with id = 5088284908 have been found. Altering it to be unique. This warning will not be emitted anymore for this layer\n",
      "WARNING:fiona._env:Several features with id = 5088284908 have been found. Altering it to be unique. This warning will not be emitted anymore for this layer\n",
      "Processing YEM:   5%|▉                   | 2/42 [00:03<01:06,  1.66s/it]WARNING:fiona._env:Several features with id = 261733782 have been found. Altering it to be unique. This warning will not be emitted anymore for this layer\n",
      "WARNING:fiona._env:Several features with id = 261733782 have been found. Altering it to be unique. This warning will not be emitted anymore for this layer\n",
      "Processing SEN:   7%|█▍                  | 3/42 [00:07<01:40,  2.57s/it]WARNING:fiona._env:Several features with id = 299640997 have been found. Altering it to be unique. This warning will not be emitted anymore for this layer\n",
      "WARNING:fiona._env:Several features with id = 299640997 have been found. Altering it to be unique. This warning will not be emitted anymore for this layer\n",
      "Processing BWA:  10%|█▉                  | 4/42 [00:14<02:46,  4.38s/it]WARNING:fiona._env:Several features with id = 1399448370 have been found. Altering it to be unique. This warning will not be emitted anymore for this layer\n",
      "WARNING:fiona._env:Several features with id = 1399448370 have been found. Altering it to be unique. This warning will not be emitted anymore for this layer\n",
      "Processing MDG:  12%|██▍                 | 5/42 [00:16<02:11,  3.56s/it]WARNING:fiona._env:Several features with id = 581134370 have been found. Altering it to be unique. This warning will not be emitted anymore for this layer\n",
      "WARNING:fiona._env:Several features with id = 581134370 have been found. Altering it to be unique. This warning will not be emitted anymore for this layer\n",
      "Processing BEN:  14%|██▊                 | 6/42 [00:26<03:33,  5.93s/it]WARNING:fiona._env:Several features with id = 455948398 have been found. Altering it to be unique. This warning will not be emitted anymore for this layer\n",
      "WARNING:fiona._env:Several features with id = 455948398 have been found. Altering it to be unique. This warning will not be emitted anymore for this layer\n",
      "Processing BIH:  17%|███▎                | 7/42 [00:32<03:25,  5.87s/it]WARNING:fiona._env:Several features with id = 248673345 have been found. Altering it to be unique. This warning will not be emitted anymore for this layer\n",
      "WARNING:fiona._env:Several features with id = 248673345 have been found. Altering it to be unique. This warning will not be emitted anymore for this layer\n",
      "Processing BLZ:  19%|███▊                | 8/42 [00:35<02:45,  4.88s/it]WARNING:fiona._env:Several features with id = 877596084 have been found. Altering it to be unique. This warning will not be emitted anymore for this layer\n",
      "WARNING:fiona._env:Several features with id = 877596084 have been found. Altering it to be unique. This warning will not be emitted anymore for this layer\n",
      "Processing BRB:  21%|████▎               | 9/42 [00:36<02:05,  3.82s/it]WARNING:fiona._env:Several features with id = 445499465 have been found. Altering it to be unique. This warning will not be emitted anymore for this layer\n",
      "WARNING:fiona._env:Several features with id = 445499465 have been found. Altering it to be unique. This warning will not be emitted anymore for this layer\n",
      "Processing CRI:  24%|████▊               | 10/42 [00:38<01:36,  3.03s/it]WARNING:fiona._env:Several features with id = 288644055 have been found. Altering it to be unique. This warning will not be emitted anymore for this layer\n",
      "WARNING:fiona._env:Several features with id = 288644055 have been found. Altering it to be unique. This warning will not be emitted anymore for this layer\n",
      "Processing DMA:  26%|█████▏              | 11/42 [00:40<01:25,  2.77s/it]WARNING:fiona._env:Several features with id = 231556849 have been found. Altering it to be unique. This warning will not be emitted anymore for this layer\n",
      "WARNING:fiona._env:Several features with id = 231556849 have been found. Altering it to be unique. This warning will not be emitted anymore for this layer\n",
      "Processing GHA:  29%|█████▋              | 12/42 [00:41<01:09,  2.31s/it]WARNING:fiona._env:Several features with id = 31211432 have been found. Altering it to be unique. This warning will not be emitted anymore for this layer\n",
      "WARNING:fiona._env:Several features with id = 31211432 have been found. Altering it to be unique. This warning will not be emitted anymore for this layer\n",
      "Processing GIN:  31%|██████▏             | 13/42 [01:08<04:39,  9.64s/it]WARNING:fiona._env:Several features with id = 2858399029 have been found. Altering it to be unique. This warning will not be emitted anymore for this layer\n",
      "WARNING:fiona._env:Several features with id = 2858399029 have been found. Altering it to be unique. This warning will not be emitted anymore for this layer\n",
      "Processing GRD:  33%|██████▋             | 14/42 [01:14<04:01,  8.61s/it]WARNING:fiona._env:Several features with id = 1012241047 have been found. Altering it to be unique. This warning will not be emitted anymore for this layer\n",
      "WARNING:fiona._env:Several features with id = 1012241047 have been found. Altering it to be unique. This warning will not be emitted anymore for this layer\n",
      "Processing HND:  36%|███████▏            | 15/42 [01:15<02:52,  6.40s/it]WARNING:fiona._env:Several features with id = 469702560 have been found. Altering it to be unique. This warning will not be emitted anymore for this layer\n",
      "WARNING:fiona._env:Several features with id = 469702560 have been found. Altering it to be unique. This warning will not be emitted anymore for this layer\n",
      "Processing HUN:  38%|███████▌            | 16/42 [01:18<02:14,  5.19s/it]WARNING:fiona._env:Several features with id = 261440554 have been found. Altering it to be unique. This warning will not be emitted anymore for this layer\n",
      "WARNING:fiona._env:Several features with id = 261440554 have been found. Altering it to be unique. This warning will not be emitted anymore for this layer\n",
      "Processing KAZ:  40%|████████            | 17/42 [01:35<03:43,  8.94s/it]WARNING:fiona._env:Several features with id = 418999466 have been found. Altering it to be unique. This warning will not be emitted anymore for this layer\n",
      "WARNING:fiona._env:Several features with id = 418999466 have been found. Altering it to be unique. This warning will not be emitted anymore for this layer\n",
      "Processing KEN:  43%|████████▌           | 18/42 [01:43<03:27,  8.63s/it]WARNING:fiona._env:Several features with id = 30092225 have been found. Altering it to be unique. This warning will not be emitted anymore for this layer\n",
      "WARNING:fiona._env:Several features with id = 30092225 have been found. Altering it to be unique. This warning will not be emitted anymore for this layer\n",
      "Processing KIR:  45%|█████████           | 19/42 [16:15<1:42:39, 267.81s/it]WARNING:fiona._env:Several features with id = 2202587552 have been found. Altering it to be unique. This warning will not be emitted anymore for this layer\n",
      "WARNING:fiona._env:Several features with id = 2202587552 have been found. Altering it to be unique. This warning will not be emitted anymore for this layer\n",
      "Processing KNA:  48%|█████████▌          | 20/42 [16:16<1:08:53, 187.90s/it]WARNING:fiona._env:Several features with id = 5412481882 have been found. Altering it to be unique. This warning will not be emitted anymore for this layer\n",
      "WARNING:fiona._env:Several features with id = 5412481882 have been found. Altering it to be unique. This warning will not be emitted anymore for this layer\n",
      "Processing LCA:  50%|██████████          | 21/42 [16:18<46:09, 131.87s/it]  WARNING:fiona._env:Several features with id = 3586622262 have been found. Altering it to be unique. This warning will not be emitted anymore for this layer\n",
      "WARNING:fiona._env:Several features with id = 3586622262 have been found. Altering it to be unique. This warning will not be emitted anymore for this layer\n",
      "Processing MNG:  52%|██████████▍         | 22/42 [16:19<30:54, 92.74s/it] WARNING:fiona._env:Several features with id = 1054533227 have been found. Altering it to be unique. This warning will not be emitted anymore for this layer\n",
      "WARNING:fiona._env:Several features with id = 1054533227 have been found. Altering it to be unique. This warning will not be emitted anymore for this layer\n",
      "Processing MSR:  55%|██████████▉         | 23/42 [16:22<20:49, 65.75s/it]WARNING:fiona._env:Several features with id = 6394397323 have been found. Altering it to be unique. This warning will not be emitted anymore for this layer\n",
      "WARNING:fiona._env:Several features with id = 6394397323 have been found. Altering it to be unique. This warning will not be emitted anymore for this layer\n",
      "Processing MWI:  57%|███████████▍        | 24/42 [16:23<13:55, 46.42s/it]WARNING:fiona._env:Several features with id = 316182865 have been found. Altering it to be unique. This warning will not be emitted anymore for this layer\n",
      "WARNING:fiona._env:Several features with id = 316182865 have been found. Altering it to be unique. This warning will not be emitted anymore for this layer\n",
      "Processing NER:  62%|████████████▍       | 26/42 [16:28<06:19, 23.74s/it]WARNING:fiona._env:Several features with id = 442350140 have been found. Altering it to be unique. This warning will not be emitted anymore for this layer\n",
      "WARNING:fiona._env:Several features with id = 442350140 have been found. Altering it to be unique. This warning will not be emitted anymore for this layer\n",
      "Processing NGA:  64%|████████████▊       | 27/42 [16:40<05:02, 20.19s/it]WARNING:fiona._env:Several features with id = 501287824 have been found. Altering it to be unique. This warning will not be emitted anymore for this layer\n",
      "WARNING:fiona._env:Several features with id = 501287824 have been found. Altering it to be unique. This warning will not be emitted anymore for this layer\n",
      "Processing PAN:  67%|█████████████▎      | 28/42 [16:57<04:28, 19.18s/it]WARNING:fiona._env:Several features with id = 858116213 have been found. Altering it to be unique. This warning will not be emitted anymore for this layer\n",
      "WARNING:fiona._env:Several features with id = 858116213 have been found. Altering it to be unique. This warning will not be emitted anymore for this layer\n",
      "Processing RWA:  69%|█████████████▊      | 29/42 [16:58<03:01, 13.95s/it]WARNING:fiona._env:Several features with id = 279245665 have been found. Altering it to be unique. This warning will not be emitted anymore for this layer\n",
      "WARNING:fiona._env:Several features with id = 279245665 have been found. Altering it to be unique. This warning will not be emitted anymore for this layer\n",
      "Processing SLE:  71%|██████████████▎     | 30/42 [17:00<02:04, 10.40s/it]WARNING:fiona._env:Several features with id = 1988184292 have been found. Altering it to be unique. This warning will not be emitted anymore for this layer\n",
      "WARNING:fiona._env:Several features with id = 1988184292 have been found. Altering it to be unique. This warning will not be emitted anymore for this layer\n",
      "Processing SLV:  74%|██████████████▊     | 31/42 [17:04<01:32,  8.39s/it]WARNING:fiona._env:Several features with id = 429280169 have been found. Altering it to be unique. This warning will not be emitted anymore for this layer\n",
      "WARNING:fiona._env:Several features with id = 429280169 have been found. Altering it to be unique. This warning will not be emitted anymore for this layer\n",
      "Processing SSD:  76%|███████████████▏    | 32/42 [17:06<01:05,  6.58s/it]WARNING:fiona._env:Several features with id = 1390944591 have been found. Altering it to be unique. This warning will not be emitted anymore for this layer\n",
      "WARNING:fiona._env:Several features with id = 1390944591 have been found. Altering it to be unique. This warning will not be emitted anymore for this layer\n",
      "Processing THA:  79%|███████████████▋    | 33/42 [17:09<00:48,  5.38s/it]WARNING:fiona._env:Several features with id = 255542593 have been found. Altering it to be unique. This warning will not be emitted anymore for this layer\n",
      "WARNING:fiona._env:Several features with id = 255542593 have been found. Altering it to be unique. This warning will not be emitted anymore for this layer\n",
      "Processing TTO:  81%|████████████████▏   | 34/42 [18:05<02:45, 20.66s/it]WARNING:fiona._env:Several features with id = 660100060 have been found. Altering it to be unique. This warning will not be emitted anymore for this layer\n",
      "WARNING:fiona._env:Several features with id = 660100060 have been found. Altering it to be unique. This warning will not be emitted anymore for this layer\n",
      "Processing UKR:  83%|████████████████▋   | 35/42 [18:08<01:45, 15.12s/it]WARNING:fiona._env:Several features with id = 26336841 have been found. Altering it to be unique. This warning will not be emitted anymore for this layer\n",
      "WARNING:fiona._env:Several features with id = 26336841 have been found. Altering it to be unique. This warning will not be emitted anymore for this layer\n",
      "Processing UZB:  86%|█████████████████▏  | 36/42 [18:28<01:40, 16.72s/it]WARNING:fiona._env:Several features with id = 296061986 have been found. Altering it to be unique. This warning will not be emitted anymore for this layer\n",
      "WARNING:fiona._env:Several features with id = 296061986 have been found. Altering it to be unique. This warning will not be emitted anymore for this layer\n",
      "Processing VCT:  88%|█████████████████▌  | 37/42 [18:33<01:05, 13.11s/it]WARNING:fiona._env:Several features with id = 3927584274 have been found. Altering it to be unique. This warning will not be emitted anymore for this layer\n",
      "WARNING:fiona._env:Several features with id = 3927584274 have been found. Altering it to be unique. This warning will not be emitted anymore for this layer\n",
      "Processing VGB:  90%|██████████████████  | 38/42 [18:34<00:38,  9.56s/it]WARNING:fiona._env:Several features with id = 5779376207 have been found. Altering it to be unique. This warning will not be emitted anymore for this layer\n",
      "WARNING:fiona._env:Several features with id = 5779376207 have been found. Altering it to be unique. This warning will not be emitted anymore for this layer\n",
      "Processing ZAF:  93%|██████████████████▌ | 39/42 [18:35<00:21,  7.07s/it]WARNING:fiona._env:Several features with id = 25074247 have been found. Altering it to be unique. This warning will not be emitted anymore for this layer\n",
      "WARNING:fiona._env:Several features with id = 25074247 have been found. Altering it to be unique. This warning will not be emitted anymore for this layer\n",
      "Processing ZWE:  95%|███████████████████ | 40/42 [18:47<00:16,  8.41s/it]WARNING:fiona._env:Several features with id = 1199432369 have been found. Altering it to be unique. This warning will not be emitted anymore for this layer\n",
      "WARNING:fiona._env:Several features with id = 1199432369 have been found. Altering it to be unique. This warning will not be emitted anymore for this layer\n",
      "Processing BRA:  98%|███████████████████▌| 41/42 [18:51<00:07,  7.03s/it]WARNING:fiona._env:Several features with id = 259201773 have been found. Altering it to be unique. This warning will not be emitted anymore for this layer\n",
      "WARNING:fiona._env:Several features with id = 259201773 have been found. Altering it to be unique. This warning will not be emitted anymore for this layer\n",
      "Processing BRA: 100%|████████████████████| 42/42 [35:31<00:00, 50.74s/it] \n"
     ]
    },
    {
     "data": {
      "text/html": [
       "<div>\n",
       "<style scoped>\n",
       "    .dataframe tbody tr th:only-of-type {\n",
       "        vertical-align: middle;\n",
       "    }\n",
       "\n",
       "    .dataframe tbody tr th {\n",
       "        vertical-align: top;\n",
       "    }\n",
       "\n",
       "    .dataframe thead th {\n",
       "        text-align: right;\n",
       "    }\n",
       "</style>\n",
       "<table border=\"1\" class=\"dataframe\">\n",
       "  <thead>\n",
       "    <tr style=\"text-align: right;\">\n",
       "      <th></th>\n",
       "      <th>UID</th>\n",
       "      <th>source</th>\n",
       "      <th>iso</th>\n",
       "      <th>country</th>\n",
       "      <th>region</th>\n",
       "      <th>subregion</th>\n",
       "      <th>name</th>\n",
       "      <th>geometry</th>\n",
       "      <th>giga_id_school</th>\n",
       "    </tr>\n",
       "  </thead>\n",
       "  <tbody>\n",
       "    <tr>\n",
       "      <th>12954</th>\n",
       "      <td>OSM-KEN-SCHOOL-00001584</td>\n",
       "      <td>OSM</td>\n",
       "      <td>KEN</td>\n",
       "      <td>Kenya</td>\n",
       "      <td>Africa</td>\n",
       "      <td>Sub-Saharan Africa</td>\n",
       "      <td>Kenya kids Learning centre</td>\n",
       "      <td>POINT (36.84839 -1.31371)</td>\n",
       "      <td>None</td>\n",
       "    </tr>\n",
       "    <tr>\n",
       "      <th>41853</th>\n",
       "      <td>OSM-BRA-SCHOOL-00010569</td>\n",
       "      <td>OSM</td>\n",
       "      <td>BRA</td>\n",
       "      <td>Brazil</td>\n",
       "      <td>Americas</td>\n",
       "      <td>Latin America and the Caribbean</td>\n",
       "      <td>Escola de tempo parcial Tomaz Muniz</td>\n",
       "      <td>POINT (-38.60576 -3.80445)</td>\n",
       "      <td>None</td>\n",
       "    </tr>\n",
       "    <tr>\n",
       "      <th>11064</th>\n",
       "      <td>OSM-KAZ-SCHOOL-00000748</td>\n",
       "      <td>OSM</td>\n",
       "      <td>KAZ</td>\n",
       "      <td>Kazakhstan</td>\n",
       "      <td>Asia</td>\n",
       "      <td>Central Asia</td>\n",
       "      <td>СРЕДНЯЯ ШКОЛА КУЛАН</td>\n",
       "      <td>POINT (72.69367 42.90968)</td>\n",
       "      <td>None</td>\n",
       "    </tr>\n",
       "  </tbody>\n",
       "</table>\n",
       "</div>"
      ],
      "text/plain": [
       "                           UID source  iso     country    region  \\\n",
       "12954  OSM-KEN-SCHOOL-00001584    OSM  KEN       Kenya    Africa   \n",
       "41853  OSM-BRA-SCHOOL-00010569    OSM  BRA      Brazil  Americas   \n",
       "11064  OSM-KAZ-SCHOOL-00000748    OSM  KAZ  Kazakhstan      Asia   \n",
       "\n",
       "                             subregion                                 name  \\\n",
       "12954               Sub-Saharan Africa           Kenya kids Learning centre   \n",
       "41853  Latin America and the Caribbean  Escola de tempo parcial Tomaz Muniz   \n",
       "11064                     Central Asia                  СРЕДНЯЯ ШКОЛА КУЛАН   \n",
       "\n",
       "                         geometry giga_id_school  \n",
       "12954   POINT (36.84839 -1.31371)           None  \n",
       "41853  POINT (-38.60576 -3.80445)           None  \n",
       "11064   POINT (72.69367 42.90968)           None  "
      ]
     },
     "execution_count": 24,
     "metadata": {},
     "output_type": "execute_result"
    }
   ],
   "source": [
    "osm_schools = download_utils.download_osm(config, category=\"school\")\n",
    "osm_schools.sample(3)"
   ]
  },
  {
   "cell_type": "code",
   "execution_count": 3,
   "id": "9120693a-ec23-4347-bacc-93178b4af087",
   "metadata": {
    "tags": []
   },
   "outputs": [
    {
     "name": "stderr",
     "output_type": "stream",
     "text": [
      "Processing THA:  79%|███████████████▋    | 33/42 [00:51<00:07,  1.14it/s]WARNING:fiona._env:Several features with id = 206263765 have been found. Altering it to be unique. This warning will not be emitted anymore for this layer\n",
      "Processing TTO:  81%|████████████████▏   | 34/42 [3:08:41<7:19:59, 3299.92s/it]WARNING:fiona._env:Several features with id = 151366328 have been found. Altering it to be unique. This warning will not be emitted anymore for this layer\n",
      "WARNING:fiona._env:Several features with id = 151366328 have been found. Altering it to be unique. This warning will not be emitted anymore for this layer\n",
      "Processing UKR:  83%|████████████████▋   | 35/42 [3:09:18<4:32:43, 2337.62s/it]WARNING:fiona._env:Several features with id = 26385226 have been found. Altering it to be unique. This warning will not be emitted anymore for this layer\n",
      "WARNING:fiona._env:Several features with id = 26385226 have been found. Altering it to be unique. This warning will not be emitted anymore for this layer\n",
      "Processing UZB:  86%|█████████████████▏  | 36/42 [9:47:19<14:32:21, 8723.61s/it]WARNING:fiona._env:Several features with id = 301137986 have been found. Altering it to be unique. This warning will not be emitted anymore for this layer\n",
      "WARNING:fiona._env:Several features with id = 301137986 have been found. Altering it to be unique. This warning will not be emitted anymore for this layer\n",
      "Processing VCT:  88%|█████████████████▌  | 37/42 [10:00:55<8:50:56, 6371.22s/it]WARNING:fiona._env:Several features with id = 1229595118 have been found. Altering it to be unique. This warning will not be emitted anymore for this layer\n",
      "WARNING:fiona._env:Several features with id = 1229595118 have been found. Altering it to be unique. This warning will not be emitted anymore for this layer\n",
      "Processing VGB:  90%|██████████████████  | 38/42 [10:00:58<4:58:07, 4471.91s/it]WARNING:fiona._env:Several features with id = 301825040 have been found. Altering it to be unique. This warning will not be emitted anymore for this layer\n",
      "WARNING:fiona._env:Several features with id = 301825040 have been found. Altering it to be unique. This warning will not be emitted anymore for this layer\n",
      "Processing ZAF:  93%|██████████████████▌ | 39/42 [10:00:59<2:36:48, 3136.29s/it]WARNING:fiona.ogrext:Expecting property name enclosed in double quotes: line 1 column 2 (char 1)\n",
      "WARNING:fiona._env:Several features with id = 21320916 have been found. Altering it to be unique. This warning will not be emitted anymore for this layer\n",
      "WARNING:fiona.ogrext:Expecting property name enclosed in double quotes: line 1 column 2 (char 1)\n",
      "WARNING:fiona.ogrext:Expecting property name enclosed in double quotes: line 1 column 2 (char 1)\n",
      "WARNING:fiona._env:Several features with id = 21320916 have been found. Altering it to be unique. This warning will not be emitted anymore for this layer\n",
      "WARNING:fiona.ogrext:Expecting property name enclosed in double quotes: line 1 column 2 (char 1)\n",
      "Processing ZWE:  95%|███████████████████ | 40/42 [10:21:55<1:25:47, 2573.61s/it]WARNING:fiona._env:Several features with id = 282447266 have been found. Altering it to be unique. This warning will not be emitted anymore for this layer\n",
      "WARNING:fiona._env:Several features with id = 282447266 have been found. Altering it to be unique. This warning will not be emitted anymore for this layer\n",
      "Processing BRA:  98%|███████████████████▌| 41/42 [14:18:38<20:56, 1256.56s/it]  \n"
     ]
    },
    {
     "ename": "KeyboardInterrupt",
     "evalue": "",
     "output_type": "error",
     "traceback": [
      "\u001b[1;31m---------------------------------------------------------------------------\u001b[0m",
      "\u001b[1;31mKeyboardInterrupt\u001b[0m                         Traceback (most recent call last)",
      "Cell \u001b[1;32mIn[3], line 1\u001b[0m\n\u001b[1;32m----> 1\u001b[0m osm_nonschools \u001b[38;5;241m=\u001b[39m \u001b[43mdownload_utils\u001b[49m\u001b[38;5;241;43m.\u001b[39;49m\u001b[43mdownload_osm\u001b[49m\u001b[43m(\u001b[49m\u001b[43mconfig\u001b[49m\u001b[43m,\u001b[49m\u001b[43m \u001b[49m\u001b[43mcategory\u001b[49m\u001b[38;5;241;43m=\u001b[39;49m\u001b[38;5;124;43m\"\u001b[39;49m\u001b[38;5;124;43mnon_school\u001b[39;49m\u001b[38;5;124;43m\"\u001b[39;49m\u001b[43m)\u001b[49m\n\u001b[0;32m      2\u001b[0m osm_nonschools\u001b[38;5;241m.\u001b[39msample(\u001b[38;5;241m3\u001b[39m)\n",
      "File \u001b[1;32mc:\\Faks\\5.god\\4.semestar\\school_mapping\\notebooks\\../utils\\download_utils.py:103\u001b[0m, in \u001b[0;36mdownload_osm\u001b[1;34m(config, category, source)\u001b[0m\n\u001b[0;32m    101\u001b[0m \u001b[38;5;28;01mif\u001b[39;00m \u001b[38;5;129;01mnot\u001b[39;00m os\u001b[38;5;241m.\u001b[39mpath\u001b[38;5;241m.\u001b[39mexists(out_subfile):\n\u001b[0;32m    102\u001b[0m     alpha_2 \u001b[38;5;241m=\u001b[39m codes\u001b[38;5;241m.\u001b[39mquery(\u001b[38;5;124mf\u001b[39m\u001b[38;5;124m\"\u001b[39m\u001b[38;5;124m`alpha-3` == \u001b[39m\u001b[38;5;124m'\u001b[39m\u001b[38;5;132;01m{\u001b[39;00miso_code\u001b[38;5;132;01m}\u001b[39;00m\u001b[38;5;124m'\u001b[39m\u001b[38;5;124m\"\u001b[39m)[\u001b[38;5;124m\"\u001b[39m\u001b[38;5;124malpha-2\u001b[39m\u001b[38;5;124m\"\u001b[39m]\u001b[38;5;241m.\u001b[39mvalues[\u001b[38;5;241m0\u001b[39m]\n\u001b[1;32m--> 103\u001b[0m     \u001b[43m_query_osm\u001b[49m\u001b[43m(\u001b[49m\u001b[43malpha_2\u001b[49m\u001b[43m,\u001b[49m\u001b[43m \u001b[49m\u001b[43mout_subfile\u001b[49m\u001b[43m,\u001b[49m\u001b[43m \u001b[49m\u001b[43mquery\u001b[49m\u001b[43m)\u001b[49m\n\u001b[0;32m    105\u001b[0m subdata \u001b[38;5;241m=\u001b[39m gpd\u001b[38;5;241m.\u001b[39mread_file(out_subfile)\u001b[38;5;241m.\u001b[39mreset_index(drop\u001b[38;5;241m=\u001b[39m\u001b[38;5;28;01mTrue\u001b[39;00m)\n\u001b[0;32m    106\u001b[0m \u001b[38;5;28;01mif\u001b[39;00m \u001b[38;5;28mlen\u001b[39m(subdata) \u001b[38;5;241m>\u001b[39m \u001b[38;5;241m0\u001b[39m:\n",
      "File \u001b[1;32mc:\\Faks\\5.god\\4.semestar\\school_mapping\\notebooks\\../utils\\download_utils.py:54\u001b[0m, in \u001b[0;36m_query_osm\u001b[1;34m(iso_code, out_file, query)\u001b[0m\n\u001b[0;32m     51\u001b[0m \u001b[38;5;28;01mwith\u001b[39;00m \u001b[38;5;28mopen\u001b[39m(out_file, \u001b[38;5;124m\"\u001b[39m\u001b[38;5;124mw\u001b[39m\u001b[38;5;124m\"\u001b[39m) \u001b[38;5;28;01mas\u001b[39;00m file:\n\u001b[0;32m     52\u001b[0m     geojson\u001b[38;5;241m.\u001b[39mdump(data, file)\n\u001b[1;32m---> 54\u001b[0m data \u001b[38;5;241m=\u001b[39m \u001b[43mgpd\u001b[49m\u001b[38;5;241;43m.\u001b[39;49m\u001b[43mread_file\u001b[49m\u001b[43m(\u001b[49m\u001b[43mout_file\u001b[49m\u001b[43m)\u001b[49m\n\u001b[0;32m     55\u001b[0m \u001b[38;5;28;01mreturn\u001b[39;00m data\n",
      "File \u001b[1;32mc:\\Users\\andri\\AppData\\Local\\Programs\\Python\\Python310\\lib\\site-packages\\geopandas\\io\\file.py:297\u001b[0m, in \u001b[0;36m_read_file\u001b[1;34m(filename, bbox, mask, rows, engine, **kwargs)\u001b[0m\n\u001b[0;32m    294\u001b[0m     \u001b[38;5;28;01melse\u001b[39;00m:\n\u001b[0;32m    295\u001b[0m         path_or_bytes \u001b[38;5;241m=\u001b[39m filename\n\u001b[1;32m--> 297\u001b[0m     \u001b[38;5;28;01mreturn\u001b[39;00m _read_file_fiona(\n\u001b[0;32m    298\u001b[0m         path_or_bytes, from_bytes, bbox\u001b[38;5;241m=\u001b[39mbbox, mask\u001b[38;5;241m=\u001b[39mmask, rows\u001b[38;5;241m=\u001b[39mrows, \u001b[38;5;241m*\u001b[39m\u001b[38;5;241m*\u001b[39mkwargs\n\u001b[0;32m    299\u001b[0m     )\n\u001b[0;32m    301\u001b[0m \u001b[38;5;28;01melse\u001b[39;00m:\n\u001b[0;32m    302\u001b[0m     \u001b[38;5;28;01mraise\u001b[39;00m \u001b[38;5;167;01mValueError\u001b[39;00m(\u001b[38;5;124mf\u001b[39m\u001b[38;5;124m\"\u001b[39m\u001b[38;5;124munknown engine \u001b[39m\u001b[38;5;124m'\u001b[39m\u001b[38;5;132;01m{\u001b[39;00mengine\u001b[38;5;132;01m}\u001b[39;00m\u001b[38;5;124m'\u001b[39m\u001b[38;5;124m\"\u001b[39m)\n",
      "File \u001b[1;32mc:\\Users\\andri\\AppData\\Local\\Programs\\Python\\Python310\\lib\\site-packages\\geopandas\\io\\file.py:395\u001b[0m, in \u001b[0;36m_read_file_fiona\u001b[1;34m(path_or_bytes, from_bytes, bbox, mask, rows, where, **kwargs)\u001b[0m\n\u001b[0;32m    391\u001b[0m     df \u001b[38;5;241m=\u001b[39m pd\u001b[38;5;241m.\u001b[39mDataFrame(\n\u001b[0;32m    392\u001b[0m         [record[\u001b[38;5;124m\"\u001b[39m\u001b[38;5;124mproperties\u001b[39m\u001b[38;5;124m\"\u001b[39m] \u001b[38;5;28;01mfor\u001b[39;00m record \u001b[38;5;129;01min\u001b[39;00m f_filt], columns\u001b[38;5;241m=\u001b[39mcolumns\n\u001b[0;32m    393\u001b[0m     )\n\u001b[0;32m    394\u001b[0m \u001b[38;5;28;01melse\u001b[39;00m:\n\u001b[1;32m--> 395\u001b[0m     df \u001b[38;5;241m=\u001b[39m \u001b[43mGeoDataFrame\u001b[49m\u001b[38;5;241;43m.\u001b[39;49m\u001b[43mfrom_features\u001b[49m\u001b[43m(\u001b[49m\n\u001b[0;32m    396\u001b[0m \u001b[43m        \u001b[49m\u001b[43mf_filt\u001b[49m\u001b[43m,\u001b[49m\u001b[43m \u001b[49m\u001b[43mcrs\u001b[49m\u001b[38;5;241;43m=\u001b[39;49m\u001b[43mcrs\u001b[49m\u001b[43m,\u001b[49m\u001b[43m \u001b[49m\u001b[43mcolumns\u001b[49m\u001b[38;5;241;43m=\u001b[39;49m\u001b[43mcolumns\u001b[49m\u001b[43m \u001b[49m\u001b[38;5;241;43m+\u001b[39;49m\u001b[43m \u001b[49m\u001b[43m[\u001b[49m\u001b[38;5;124;43m\"\u001b[39;49m\u001b[38;5;124;43mgeometry\u001b[39;49m\u001b[38;5;124;43m\"\u001b[39;49m\u001b[43m]\u001b[49m\n\u001b[0;32m    397\u001b[0m \u001b[43m    \u001b[49m\u001b[43m)\u001b[49m\n\u001b[0;32m    398\u001b[0m \u001b[38;5;28;01mfor\u001b[39;00m k \u001b[38;5;129;01min\u001b[39;00m datetime_fields:\n\u001b[0;32m    399\u001b[0m     as_dt \u001b[38;5;241m=\u001b[39m pd\u001b[38;5;241m.\u001b[39mto_datetime(df[k], errors\u001b[38;5;241m=\u001b[39m\u001b[38;5;124m\"\u001b[39m\u001b[38;5;124mignore\u001b[39m\u001b[38;5;124m\"\u001b[39m)\n",
      "File \u001b[1;32mc:\\Users\\andri\\AppData\\Local\\Programs\\Python\\Python310\\lib\\site-packages\\geopandas\\geodataframe.py:638\u001b[0m, in \u001b[0;36mGeoDataFrame.from_features\u001b[1;34m(cls, features, crs, columns)\u001b[0m\n\u001b[0;32m    635\u001b[0m rows \u001b[38;5;241m=\u001b[39m []\n\u001b[0;32m    636\u001b[0m \u001b[38;5;28;01mfor\u001b[39;00m feature \u001b[38;5;129;01min\u001b[39;00m features_lst:\n\u001b[0;32m    637\u001b[0m     \u001b[38;5;66;03m# load geometry\u001b[39;00m\n\u001b[1;32m--> 638\u001b[0m     \u001b[38;5;28;01mif\u001b[39;00m \u001b[38;5;28;43mhasattr\u001b[39;49m\u001b[43m(\u001b[49m\u001b[43mfeature\u001b[49m\u001b[43m,\u001b[49m\u001b[43m \u001b[49m\u001b[38;5;124;43m\"\u001b[39;49m\u001b[38;5;124;43m__geo_interface__\u001b[39;49m\u001b[38;5;124;43m\"\u001b[39;49m\u001b[43m)\u001b[49m:\n\u001b[0;32m    639\u001b[0m         feature \u001b[38;5;241m=\u001b[39m feature\u001b[38;5;241m.\u001b[39m__geo_interface__\n\u001b[0;32m    640\u001b[0m     row \u001b[38;5;241m=\u001b[39m {\n\u001b[0;32m    641\u001b[0m         \u001b[38;5;124m\"\u001b[39m\u001b[38;5;124mgeometry\u001b[39m\u001b[38;5;124m\"\u001b[39m: shape(feature[\u001b[38;5;124m\"\u001b[39m\u001b[38;5;124mgeometry\u001b[39m\u001b[38;5;124m\"\u001b[39m]) \u001b[38;5;28;01mif\u001b[39;00m feature[\u001b[38;5;124m\"\u001b[39m\u001b[38;5;124mgeometry\u001b[39m\u001b[38;5;124m\"\u001b[39m] \u001b[38;5;28;01melse\u001b[39;00m \u001b[38;5;28;01mNone\u001b[39;00m\n\u001b[0;32m    642\u001b[0m     }\n",
      "File \u001b[1;32mc:\\Users\\andri\\AppData\\Local\\Programs\\Python\\Python310\\lib\\site-packages\\fiona\\model.py:367\u001b[0m, in \u001b[0;36mFeature.__geo_interface__\u001b[1;34m(self)\u001b[0m\n\u001b[0;32m    365\u001b[0m \u001b[38;5;129m@property\u001b[39m\n\u001b[0;32m    366\u001b[0m \u001b[38;5;28;01mdef\u001b[39;00m \u001b[38;5;21m__geo_interface__\u001b[39m(\u001b[38;5;28mself\u001b[39m):\n\u001b[1;32m--> 367\u001b[0m     \u001b[38;5;28;01mreturn\u001b[39;00m \u001b[43mObjectEncoder\u001b[49m\u001b[43m(\u001b[49m\u001b[43m)\u001b[49m\u001b[38;5;241;43m.\u001b[39;49m\u001b[43mdefault\u001b[49m\u001b[43m(\u001b[49m\u001b[38;5;28;43mself\u001b[39;49m\u001b[43m)\u001b[49m\n",
      "File \u001b[1;32mc:\\Users\\andri\\AppData\\Local\\Programs\\Python\\Python310\\lib\\site-packages\\fiona\\model.py:388\u001b[0m, in \u001b[0;36mObjectEncoder.default\u001b[1;34m(self, o)\u001b[0m\n\u001b[0;32m    386\u001b[0m \u001b[38;5;28;01mdef\u001b[39;00m \u001b[38;5;21mdefault\u001b[39m(\u001b[38;5;28mself\u001b[39m, o):\n\u001b[0;32m    387\u001b[0m     \u001b[38;5;28;01mif\u001b[39;00m \u001b[38;5;28misinstance\u001b[39m(o, Object):\n\u001b[1;32m--> 388\u001b[0m         o_dict \u001b[38;5;241m=\u001b[39m {k: \u001b[38;5;28mself\u001b[39m\u001b[38;5;241m.\u001b[39mdefault(v) \u001b[38;5;28;01mfor\u001b[39;00m k, v \u001b[38;5;129;01min\u001b[39;00m o\u001b[38;5;241m.\u001b[39mitems()}\n\u001b[0;32m    389\u001b[0m         \u001b[38;5;28;01mif\u001b[39;00m \u001b[38;5;28misinstance\u001b[39m(o, Geometry):\n\u001b[0;32m    390\u001b[0m             \u001b[38;5;28;01mif\u001b[39;00m o\u001b[38;5;241m.\u001b[39mtype \u001b[38;5;241m==\u001b[39m \u001b[38;5;124m\"\u001b[39m\u001b[38;5;124mGeometryCollection\u001b[39m\u001b[38;5;124m\"\u001b[39m:\n",
      "File \u001b[1;32mc:\\Users\\andri\\AppData\\Local\\Programs\\Python\\Python310\\lib\\site-packages\\fiona\\model.py:388\u001b[0m, in \u001b[0;36m<dictcomp>\u001b[1;34m(.0)\u001b[0m\n\u001b[0;32m    386\u001b[0m \u001b[38;5;28;01mdef\u001b[39;00m \u001b[38;5;21mdefault\u001b[39m(\u001b[38;5;28mself\u001b[39m, o):\n\u001b[0;32m    387\u001b[0m     \u001b[38;5;28;01mif\u001b[39;00m \u001b[38;5;28misinstance\u001b[39m(o, Object):\n\u001b[1;32m--> 388\u001b[0m         o_dict \u001b[38;5;241m=\u001b[39m {k: \u001b[38;5;28;43mself\u001b[39;49m\u001b[38;5;241;43m.\u001b[39;49m\u001b[43mdefault\u001b[49m\u001b[43m(\u001b[49m\u001b[43mv\u001b[49m\u001b[43m)\u001b[49m \u001b[38;5;28;01mfor\u001b[39;00m k, v \u001b[38;5;129;01min\u001b[39;00m o\u001b[38;5;241m.\u001b[39mitems()}\n\u001b[0;32m    389\u001b[0m         \u001b[38;5;28;01mif\u001b[39;00m \u001b[38;5;28misinstance\u001b[39m(o, Geometry):\n\u001b[0;32m    390\u001b[0m             \u001b[38;5;28;01mif\u001b[39;00m o\u001b[38;5;241m.\u001b[39mtype \u001b[38;5;241m==\u001b[39m \u001b[38;5;124m\"\u001b[39m\u001b[38;5;124mGeometryCollection\u001b[39m\u001b[38;5;124m\"\u001b[39m:\n",
      "File \u001b[1;32mc:\\Users\\andri\\AppData\\Local\\Programs\\Python\\Python310\\lib\\site-packages\\fiona\\model.py:388\u001b[0m, in \u001b[0;36mObjectEncoder.default\u001b[1;34m(self, o)\u001b[0m\n\u001b[0;32m    386\u001b[0m \u001b[38;5;28;01mdef\u001b[39;00m \u001b[38;5;21mdefault\u001b[39m(\u001b[38;5;28mself\u001b[39m, o):\n\u001b[0;32m    387\u001b[0m     \u001b[38;5;28;01mif\u001b[39;00m \u001b[38;5;28misinstance\u001b[39m(o, Object):\n\u001b[1;32m--> 388\u001b[0m         o_dict \u001b[38;5;241m=\u001b[39m {k: \u001b[38;5;28mself\u001b[39m\u001b[38;5;241m.\u001b[39mdefault(v) \u001b[38;5;28;01mfor\u001b[39;00m k, v \u001b[38;5;129;01min\u001b[39;00m o\u001b[38;5;241m.\u001b[39mitems()}\n\u001b[0;32m    389\u001b[0m         \u001b[38;5;28;01mif\u001b[39;00m \u001b[38;5;28misinstance\u001b[39m(o, Geometry):\n\u001b[0;32m    390\u001b[0m             \u001b[38;5;28;01mif\u001b[39;00m o\u001b[38;5;241m.\u001b[39mtype \u001b[38;5;241m==\u001b[39m \u001b[38;5;124m\"\u001b[39m\u001b[38;5;124mGeometryCollection\u001b[39m\u001b[38;5;124m\"\u001b[39m:\n",
      "File \u001b[1;32mc:\\Users\\andri\\AppData\\Local\\Programs\\Python\\Python310\\lib\\site-packages\\fiona\\model.py:388\u001b[0m, in \u001b[0;36m<dictcomp>\u001b[1;34m(.0)\u001b[0m\n\u001b[0;32m    386\u001b[0m \u001b[38;5;28;01mdef\u001b[39;00m \u001b[38;5;21mdefault\u001b[39m(\u001b[38;5;28mself\u001b[39m, o):\n\u001b[0;32m    387\u001b[0m     \u001b[38;5;28;01mif\u001b[39;00m \u001b[38;5;28misinstance\u001b[39m(o, Object):\n\u001b[1;32m--> 388\u001b[0m         o_dict \u001b[38;5;241m=\u001b[39m {k: \u001b[38;5;28;43mself\u001b[39;49m\u001b[38;5;241;43m.\u001b[39;49m\u001b[43mdefault\u001b[49m\u001b[43m(\u001b[49m\u001b[43mv\u001b[49m\u001b[43m)\u001b[49m \u001b[38;5;28;01mfor\u001b[39;00m k, v \u001b[38;5;129;01min\u001b[39;00m o\u001b[38;5;241m.\u001b[39mitems()}\n\u001b[0;32m    389\u001b[0m         \u001b[38;5;28;01mif\u001b[39;00m \u001b[38;5;28misinstance\u001b[39m(o, Geometry):\n\u001b[0;32m    390\u001b[0m             \u001b[38;5;28;01mif\u001b[39;00m o\u001b[38;5;241m.\u001b[39mtype \u001b[38;5;241m==\u001b[39m \u001b[38;5;124m\"\u001b[39m\u001b[38;5;124mGeometryCollection\u001b[39m\u001b[38;5;124m\"\u001b[39m:\n",
      "File \u001b[1;32mc:\\Users\\andri\\AppData\\Local\\Programs\\Python\\Python310\\lib\\site-packages\\fiona\\model.py:386\u001b[0m, in \u001b[0;36mObjectEncoder.default\u001b[1;34m(self, o)\u001b[0m\n\u001b[0;32m    383\u001b[0m \u001b[38;5;28;01mclass\u001b[39;00m \u001b[38;5;21;01mObjectEncoder\u001b[39;00m(JSONEncoder):\n\u001b[0;32m    384\u001b[0m     \u001b[38;5;124;03m\"\"\"Encodes Geometry, Feature, and Properties.\"\"\"\u001b[39;00m\n\u001b[1;32m--> 386\u001b[0m     \u001b[38;5;28;01mdef\u001b[39;00m \u001b[38;5;21mdefault\u001b[39m(\u001b[38;5;28mself\u001b[39m, o):\n\u001b[0;32m    387\u001b[0m         \u001b[38;5;28;01mif\u001b[39;00m \u001b[38;5;28misinstance\u001b[39m(o, Object):\n\u001b[0;32m    388\u001b[0m             o_dict \u001b[38;5;241m=\u001b[39m {k: \u001b[38;5;28mself\u001b[39m\u001b[38;5;241m.\u001b[39mdefault(v) \u001b[38;5;28;01mfor\u001b[39;00m k, v \u001b[38;5;129;01min\u001b[39;00m o\u001b[38;5;241m.\u001b[39mitems()}\n",
      "\u001b[1;31mKeyboardInterrupt\u001b[0m: "
     ]
    }
   ],
   "source": [
    "osm_nonschools = download_utils.download_osm(config, category=\"non_school\")\n",
    "osm_nonschools.sample(3)"
   ]
  },
  {
   "cell_type": "markdown",
   "id": "ee5e52a4-4ba1-418b-aaa9-0111670bf516",
   "metadata": {},
   "source": [
    "## Download Microsoft Building Footprints (MS) Data"
   ]
  },
  {
   "cell_type": "code",
   "execution_count": 3,
   "id": "13db8bc7-4a12-4436-a717-3033feff84ea",
   "metadata": {},
   "outputs": [
    {
     "name": "stderr",
     "output_type": "stream",
     "text": [
      "Processing YEM:   0%|                    | 0/42 [00:00<?, ?it/s]"
     ]
    },
    {
     "name": "stdout",
     "output_type": "stream",
     "text": [
      "Found 81 links for RepublicofYemen\n",
      "Downloading 1 of 81: 122311321.geojson\n",
      "File c:\\Faks\\5.god\\4.semestar\\school_mapping\\data/vectors/ms_buildings\\YEM\\122311321.geojson already exists, skipping...\n",
      "Downloading 2 of 81: 122311323.geojson\n",
      "File c:\\Faks\\5.god\\4.semestar\\school_mapping\\data/vectors/ms_buildings\\YEM\\122311323.geojson already exists, skipping...\n",
      "Downloading 3 of 81: 122311330.geojson\n",
      "File c:\\Faks\\5.god\\4.semestar\\school_mapping\\data/vectors/ms_buildings\\YEM\\122311330.geojson already exists, skipping...\n",
      "Downloading 4 of 81: 122311331.geojson\n",
      "File c:\\Faks\\5.god\\4.semestar\\school_mapping\\data/vectors/ms_buildings\\YEM\\122311331.geojson already exists, skipping...\n",
      "Downloading 5 of 81: 122311332.geojson\n",
      "Downloading 6 of 81: 122311333.geojson\n",
      "Downloading 7 of 81: 122313011.geojson\n",
      "Downloading 8 of 81: 122313031.geojson\n",
      "Downloading 9 of 81: 122313100.geojson\n",
      "Downloading 10 of 81: 122313101.geojson\n",
      "Downloading 11 of 81: 122313102.geojson\n",
      "Downloading 12 of 81: 122313103.geojson\n",
      "Downloading 13 of 81: 122313110.geojson\n",
      "Downloading 14 of 81: 122313111.geojson\n",
      "Downloading 15 of 81: 122313112.geojson\n",
      "Downloading 16 of 81: 122313113.geojson\n",
      "Downloading 17 of 81: 122313120.geojson\n",
      "Downloading 18 of 81: 122313121.geojson\n",
      "Downloading 19 of 81: 122313122.geojson\n",
      "Downloading 20 of 81: 122313123.geojson\n",
      "Downloading 21 of 81: 122313130.geojson\n",
      "Downloading 22 of 81: 122313131.geojson\n",
      "Downloading 23 of 81: 122313132.geojson\n",
      "Downloading 24 of 81: 122313133.geojson\n",
      "Downloading 25 of 81: 122313300.geojson\n",
      "Downloading 26 of 81: 122313301.geojson\n",
      "Downloading 27 of 81: 122313303.geojson\n",
      "Downloading 28 of 81: 122313310.geojson\n",
      "Downloading 29 of 81: 122313311.geojson\n",
      "Downloading 30 of 81: 122313312.geojson\n",
      "Downloading 31 of 81: 122313313.geojson\n",
      "Downloading 32 of 81: 123200220.geojson\n",
      "Downloading 33 of 81: 123200222.geojson\n",
      "Downloading 34 of 81: 123200223.geojson\n",
      "Downloading 35 of 81: 123200232.geojson\n",
      "Downloading 36 of 81: 123200233.geojson\n",
      "Downloading 37 of 81: 123200322.geojson\n",
      "Downloading 38 of 81: 123200323.geojson\n",
      "Downloading 39 of 81: 123200332.geojson\n",
      "Downloading 40 of 81: 123201232.geojson\n",
      "Downloading 41 of 81: 123201233.geojson\n",
      "Downloading 42 of 81: 123202000.geojson\n",
      "Downloading 43 of 81: 123202001.geojson\n",
      "Downloading 44 of 81: 123202002.geojson\n",
      "Downloading 45 of 81: 123202003.geojson\n",
      "Downloading 46 of 81: 123202010.geojson\n",
      "Downloading 47 of 81: 123202011.geojson\n",
      "Downloading 48 of 81: 123202012.geojson\n",
      "Downloading 49 of 81: 123202013.geojson\n",
      "Downloading 50 of 81: 123202020.geojson\n",
      "Downloading 51 of 81: 123202021.geojson\n",
      "Downloading 52 of 81: 123202022.geojson\n",
      "Downloading 53 of 81: 123202023.geojson\n",
      "Downloading 54 of 81: 123202030.geojson\n",
      "Downloading 55 of 81: 123202031.geojson\n",
      "Downloading 56 of 81: 123202032.geojson\n",
      "Downloading 57 of 81: 123202033.geojson\n",
      "Downloading 58 of 81: 123202100.geojson\n",
      "Downloading 59 of 81: 123202101.geojson\n",
      "Downloading 60 of 81: 123202102.geojson\n",
      "Downloading 61 of 81: 123202103.geojson\n",
      "Downloading 62 of 81: 123202110.geojson\n",
      "Downloading 63 of 81: 123202112.geojson\n",
      "Downloading 64 of 81: 123202120.geojson\n",
      "Downloading 65 of 81: 123202121.geojson\n",
      "Downloading 66 of 81: 123202122.geojson\n",
      "Downloading 67 of 81: 123202123.geojson\n",
      "Downloading 68 of 81: 123202130.geojson\n",
      "Downloading 69 of 81: 123202132.geojson\n",
      "Downloading 70 of 81: 123202200.geojson\n",
      "Downloading 71 of 81: 123202201.geojson\n",
      "Downloading 72 of 81: 123202202.geojson\n",
      "Downloading 73 of 81: 123202210.geojson\n",
      "Downloading 74 of 81: 123202211.geojson\n",
      "Downloading 75 of 81: 123203001.geojson\n",
      "Downloading 76 of 81: 123203003.geojson\n",
      "Downloading 77 of 81: 123203010.geojson\n",
      "Downloading 78 of 81: 123203011.geojson\n",
      "Downloading 79 of 81: 123203012.geojson\n",
      "Downloading 80 of 81: 123203020.geojson\n",
      "Downloading 81 of 81: 123203230.geojson\n",
      "Reading 1 of 81: c:\\Faks\\5.god\\4.semestar\\school_mapping\\data/vectors/ms_buildings\\YEM\\122311321.geojson\n",
      "Reading 2 of 81: c:\\Faks\\5.god\\4.semestar\\school_mapping\\data/vectors/ms_buildings\\YEM\\122311323.geojson\n",
      "Reading 3 of 81: c:\\Faks\\5.god\\4.semestar\\school_mapping\\data/vectors/ms_buildings\\YEM\\122311330.geojson\n",
      "Reading 4 of 81: c:\\Faks\\5.god\\4.semestar\\school_mapping\\data/vectors/ms_buildings\\YEM\\122311331.geojson\n",
      "Reading 5 of 81: c:\\Faks\\5.god\\4.semestar\\school_mapping\\data/vectors/ms_buildings\\YEM\\122311332.geojson\n",
      "Reading 6 of 81: c:\\Faks\\5.god\\4.semestar\\school_mapping\\data/vectors/ms_buildings\\YEM\\122311333.geojson\n",
      "Reading 7 of 81: c:\\Faks\\5.god\\4.semestar\\school_mapping\\data/vectors/ms_buildings\\YEM\\122313011.geojson\n",
      "Reading 8 of 81: c:\\Faks\\5.god\\4.semestar\\school_mapping\\data/vectors/ms_buildings\\YEM\\122313031.geojson\n",
      "Reading 9 of 81: c:\\Faks\\5.god\\4.semestar\\school_mapping\\data/vectors/ms_buildings\\YEM\\122313100.geojson\n",
      "Reading 10 of 81: c:\\Faks\\5.god\\4.semestar\\school_mapping\\data/vectors/ms_buildings\\YEM\\122313101.geojson\n",
      "Reading 11 of 81: c:\\Faks\\5.god\\4.semestar\\school_mapping\\data/vectors/ms_buildings\\YEM\\122313102.geojson\n",
      "Reading 12 of 81: c:\\Faks\\5.god\\4.semestar\\school_mapping\\data/vectors/ms_buildings\\YEM\\122313103.geojson\n",
      "Reading 13 of 81: c:\\Faks\\5.god\\4.semestar\\school_mapping\\data/vectors/ms_buildings\\YEM\\122313110.geojson\n",
      "Reading 14 of 81: c:\\Faks\\5.god\\4.semestar\\school_mapping\\data/vectors/ms_buildings\\YEM\\122313111.geojson\n",
      "Reading 15 of 81: c:\\Faks\\5.god\\4.semestar\\school_mapping\\data/vectors/ms_buildings\\YEM\\122313112.geojson\n",
      "Reading 16 of 81: c:\\Faks\\5.god\\4.semestar\\school_mapping\\data/vectors/ms_buildings\\YEM\\122313113.geojson\n",
      "Reading 17 of 81: c:\\Faks\\5.god\\4.semestar\\school_mapping\\data/vectors/ms_buildings\\YEM\\122313120.geojson\n",
      "Reading 18 of 81: c:\\Faks\\5.god\\4.semestar\\school_mapping\\data/vectors/ms_buildings\\YEM\\122313121.geojson\n",
      "Reading 19 of 81: c:\\Faks\\5.god\\4.semestar\\school_mapping\\data/vectors/ms_buildings\\YEM\\122313122.geojson\n",
      "Reading 20 of 81: c:\\Faks\\5.god\\4.semestar\\school_mapping\\data/vectors/ms_buildings\\YEM\\122313123.geojson\n",
      "Reading 21 of 81: c:\\Faks\\5.god\\4.semestar\\school_mapping\\data/vectors/ms_buildings\\YEM\\122313130.geojson\n",
      "Reading 22 of 81: c:\\Faks\\5.god\\4.semestar\\school_mapping\\data/vectors/ms_buildings\\YEM\\122313131.geojson\n",
      "Reading 23 of 81: c:\\Faks\\5.god\\4.semestar\\school_mapping\\data/vectors/ms_buildings\\YEM\\122313132.geojson\n",
      "Reading 24 of 81: c:\\Faks\\5.god\\4.semestar\\school_mapping\\data/vectors/ms_buildings\\YEM\\122313133.geojson\n",
      "Reading 25 of 81: c:\\Faks\\5.god\\4.semestar\\school_mapping\\data/vectors/ms_buildings\\YEM\\122313300.geojson\n",
      "Reading 26 of 81: c:\\Faks\\5.god\\4.semestar\\school_mapping\\data/vectors/ms_buildings\\YEM\\122313301.geojson\n",
      "Reading 27 of 81: c:\\Faks\\5.god\\4.semestar\\school_mapping\\data/vectors/ms_buildings\\YEM\\122313303.geojson\n",
      "Reading 28 of 81: c:\\Faks\\5.god\\4.semestar\\school_mapping\\data/vectors/ms_buildings\\YEM\\122313310.geojson\n",
      "Reading 29 of 81: c:\\Faks\\5.god\\4.semestar\\school_mapping\\data/vectors/ms_buildings\\YEM\\122313311.geojson\n",
      "Reading 30 of 81: c:\\Faks\\5.god\\4.semestar\\school_mapping\\data/vectors/ms_buildings\\YEM\\122313312.geojson\n",
      "Reading 31 of 81: c:\\Faks\\5.god\\4.semestar\\school_mapping\\data/vectors/ms_buildings\\YEM\\122313313.geojson\n",
      "Reading 32 of 81: c:\\Faks\\5.god\\4.semestar\\school_mapping\\data/vectors/ms_buildings\\YEM\\123200220.geojson\n",
      "Reading 33 of 81: c:\\Faks\\5.god\\4.semestar\\school_mapping\\data/vectors/ms_buildings\\YEM\\123200222.geojson\n",
      "Reading 34 of 81: c:\\Faks\\5.god\\4.semestar\\school_mapping\\data/vectors/ms_buildings\\YEM\\123200223.geojson\n",
      "Reading 35 of 81: c:\\Faks\\5.god\\4.semestar\\school_mapping\\data/vectors/ms_buildings\\YEM\\123200232.geojson\n",
      "Reading 36 of 81: c:\\Faks\\5.god\\4.semestar\\school_mapping\\data/vectors/ms_buildings\\YEM\\123200233.geojson\n",
      "Reading 37 of 81: c:\\Faks\\5.god\\4.semestar\\school_mapping\\data/vectors/ms_buildings\\YEM\\123200322.geojson\n",
      "Reading 38 of 81: c:\\Faks\\5.god\\4.semestar\\school_mapping\\data/vectors/ms_buildings\\YEM\\123200323.geojson\n",
      "Reading 39 of 81: c:\\Faks\\5.god\\4.semestar\\school_mapping\\data/vectors/ms_buildings\\YEM\\123200332.geojson\n",
      "Reading 40 of 81: c:\\Faks\\5.god\\4.semestar\\school_mapping\\data/vectors/ms_buildings\\YEM\\123201232.geojson\n",
      "Reading 41 of 81: c:\\Faks\\5.god\\4.semestar\\school_mapping\\data/vectors/ms_buildings\\YEM\\123201233.geojson\n",
      "Reading 42 of 81: c:\\Faks\\5.god\\4.semestar\\school_mapping\\data/vectors/ms_buildings\\YEM\\123202000.geojson\n",
      "Reading 43 of 81: c:\\Faks\\5.god\\4.semestar\\school_mapping\\data/vectors/ms_buildings\\YEM\\123202001.geojson\n",
      "Reading 44 of 81: c:\\Faks\\5.god\\4.semestar\\school_mapping\\data/vectors/ms_buildings\\YEM\\123202002.geojson\n",
      "Reading 45 of 81: c:\\Faks\\5.god\\4.semestar\\school_mapping\\data/vectors/ms_buildings\\YEM\\123202003.geojson\n",
      "Reading 46 of 81: c:\\Faks\\5.god\\4.semestar\\school_mapping\\data/vectors/ms_buildings\\YEM\\123202010.geojson\n",
      "Reading 47 of 81: c:\\Faks\\5.god\\4.semestar\\school_mapping\\data/vectors/ms_buildings\\YEM\\123202011.geojson\n",
      "Reading 48 of 81: c:\\Faks\\5.god\\4.semestar\\school_mapping\\data/vectors/ms_buildings\\YEM\\123202012.geojson\n",
      "Reading 49 of 81: c:\\Faks\\5.god\\4.semestar\\school_mapping\\data/vectors/ms_buildings\\YEM\\123202013.geojson\n",
      "Reading 50 of 81: c:\\Faks\\5.god\\4.semestar\\school_mapping\\data/vectors/ms_buildings\\YEM\\123202020.geojson\n",
      "Reading 51 of 81: c:\\Faks\\5.god\\4.semestar\\school_mapping\\data/vectors/ms_buildings\\YEM\\123202021.geojson\n",
      "Reading 52 of 81: c:\\Faks\\5.god\\4.semestar\\school_mapping\\data/vectors/ms_buildings\\YEM\\123202022.geojson\n",
      "Reading 53 of 81: c:\\Faks\\5.god\\4.semestar\\school_mapping\\data/vectors/ms_buildings\\YEM\\123202023.geojson\n",
      "Reading 54 of 81: c:\\Faks\\5.god\\4.semestar\\school_mapping\\data/vectors/ms_buildings\\YEM\\123202030.geojson\n",
      "Reading 55 of 81: c:\\Faks\\5.god\\4.semestar\\school_mapping\\data/vectors/ms_buildings\\YEM\\123202031.geojson\n",
      "Reading 56 of 81: c:\\Faks\\5.god\\4.semestar\\school_mapping\\data/vectors/ms_buildings\\YEM\\123202032.geojson\n",
      "Reading 57 of 81: c:\\Faks\\5.god\\4.semestar\\school_mapping\\data/vectors/ms_buildings\\YEM\\123202033.geojson\n",
      "Reading 58 of 81: c:\\Faks\\5.god\\4.semestar\\school_mapping\\data/vectors/ms_buildings\\YEM\\123202100.geojson\n",
      "Reading 59 of 81: c:\\Faks\\5.god\\4.semestar\\school_mapping\\data/vectors/ms_buildings\\YEM\\123202101.geojson\n",
      "Reading 60 of 81: c:\\Faks\\5.god\\4.semestar\\school_mapping\\data/vectors/ms_buildings\\YEM\\123202102.geojson\n",
      "Reading 61 of 81: c:\\Faks\\5.god\\4.semestar\\school_mapping\\data/vectors/ms_buildings\\YEM\\123202103.geojson\n",
      "Reading 62 of 81: c:\\Faks\\5.god\\4.semestar\\school_mapping\\data/vectors/ms_buildings\\YEM\\123202110.geojson\n",
      "Reading 63 of 81: c:\\Faks\\5.god\\4.semestar\\school_mapping\\data/vectors/ms_buildings\\YEM\\123202112.geojson\n",
      "Reading 64 of 81: c:\\Faks\\5.god\\4.semestar\\school_mapping\\data/vectors/ms_buildings\\YEM\\123202120.geojson\n",
      "Reading 65 of 81: c:\\Faks\\5.god\\4.semestar\\school_mapping\\data/vectors/ms_buildings\\YEM\\123202121.geojson\n",
      "Reading 66 of 81: c:\\Faks\\5.god\\4.semestar\\school_mapping\\data/vectors/ms_buildings\\YEM\\123202122.geojson\n",
      "Reading 67 of 81: c:\\Faks\\5.god\\4.semestar\\school_mapping\\data/vectors/ms_buildings\\YEM\\123202123.geojson\n",
      "Reading 68 of 81: c:\\Faks\\5.god\\4.semestar\\school_mapping\\data/vectors/ms_buildings\\YEM\\123202130.geojson\n",
      "Reading 69 of 81: c:\\Faks\\5.god\\4.semestar\\school_mapping\\data/vectors/ms_buildings\\YEM\\123202132.geojson\n",
      "Reading 70 of 81: c:\\Faks\\5.god\\4.semestar\\school_mapping\\data/vectors/ms_buildings\\YEM\\123202200.geojson\n",
      "Reading 71 of 81: c:\\Faks\\5.god\\4.semestar\\school_mapping\\data/vectors/ms_buildings\\YEM\\123202201.geojson\n",
      "Reading 72 of 81: c:\\Faks\\5.god\\4.semestar\\school_mapping\\data/vectors/ms_buildings\\YEM\\123202202.geojson\n",
      "Reading 73 of 81: c:\\Faks\\5.god\\4.semestar\\school_mapping\\data/vectors/ms_buildings\\YEM\\123202210.geojson\n",
      "Reading 74 of 81: c:\\Faks\\5.god\\4.semestar\\school_mapping\\data/vectors/ms_buildings\\YEM\\123202211.geojson\n",
      "Reading 75 of 81: c:\\Faks\\5.god\\4.semestar\\school_mapping\\data/vectors/ms_buildings\\YEM\\123203001.geojson\n",
      "Reading 76 of 81: c:\\Faks\\5.god\\4.semestar\\school_mapping\\data/vectors/ms_buildings\\YEM\\123203003.geojson\n",
      "Reading 77 of 81: c:\\Faks\\5.god\\4.semestar\\school_mapping\\data/vectors/ms_buildings\\YEM\\123203010.geojson\n",
      "Reading 78 of 81: c:\\Faks\\5.god\\4.semestar\\school_mapping\\data/vectors/ms_buildings\\YEM\\123203011.geojson\n",
      "Reading 79 of 81: c:\\Faks\\5.god\\4.semestar\\school_mapping\\data/vectors/ms_buildings\\YEM\\123203012.geojson\n",
      "Reading 80 of 81: c:\\Faks\\5.god\\4.semestar\\school_mapping\\data/vectors/ms_buildings\\YEM\\123203020.geojson\n",
      "Reading 81 of 81: c:\\Faks\\5.god\\4.semestar\\school_mapping\\data/vectors/ms_buildings\\YEM\\123203230.geojson\n",
      "Merging GeoDataFrames ...\n",
      "Saving merged file to c:\\Faks\\5.god\\4.semestar\\school_mapping\\data/vectors/ms_buildings\\YEM_ms_EPSG4326.geojson ...\n"
     ]
    },
    {
     "name": "stderr",
     "output_type": "stream",
     "text": [
      "Processing SEN:   7%|█▍                  | 3/42 [1:49:26<23:42:43, 2188.80s/it]"
     ]
    },
    {
     "name": "stdout",
     "output_type": "stream",
     "text": [
      "Saved merged file to c:\\Faks\\5.god\\4.semestar\\school_mapping\\data/vectors/ms_buildings\\YEM_ms_EPSG4326.geojson\n",
      "Found 36 links for Senegal\n",
      "Downloading 1 of 36: 33301232.geojson\n",
      "Downloading 2 of 36: 33301233.geojson\n"
     ]
    },
    {
     "name": "stderr",
     "output_type": "stream",
     "text": [
      "Processing SEN:   7%|█▍                  | 3/42 [1:49:35<23:44:42, 2191.85s/it]\n"
     ]
    },
    {
     "ename": "KeyboardInterrupt",
     "evalue": "",
     "output_type": "error",
     "traceback": [
      "\u001b[1;31m---------------------------------------------------------------------------\u001b[0m",
      "\u001b[1;31mKeyboardInterrupt\u001b[0m                         Traceback (most recent call last)",
      "Cell \u001b[1;32mIn[3], line 1\u001b[0m\n\u001b[1;32m----> 1\u001b[0m \u001b[43mdownload_utils\u001b[49m\u001b[38;5;241;43m.\u001b[39;49m\u001b[43mdownload_ms\u001b[49m\u001b[43m(\u001b[49m\u001b[43mconfig\u001b[49m\u001b[43m,\u001b[49m\u001b[43m \u001b[49m\u001b[43mverbose\u001b[49m\u001b[38;5;241;43m=\u001b[39;49m\u001b[38;5;28;43;01mTrue\u001b[39;49;00m\u001b[43m)\u001b[49m\n",
      "File \u001b[1;32mc:\\Faks\\5.god\\4.semestar\\school_mapping\\notebooks\\../utils\\download_utils.py:371\u001b[0m, in \u001b[0;36mdownload_ms\u001b[1;34m(config, source, verbose)\u001b[0m\n\u001b[0;32m    369\u001b[0m \u001b[38;5;28;01mif\u001b[39;00m \u001b[38;5;129;01mnot\u001b[39;00m os\u001b[38;5;241m.\u001b[39mpath\u001b[38;5;241m.\u001b[39mexists(out_file):\n\u001b[0;32m    370\u001b[0m     quiet \u001b[38;5;241m=\u001b[39m operator\u001b[38;5;241m.\u001b[39mnot_(verbose)\n\u001b[1;32m--> 371\u001b[0m     \u001b[43mleafmap\u001b[49m\u001b[38;5;241;43m.\u001b[39;49m\u001b[43mdownload_ms_buildings\u001b[49m\u001b[43m(\u001b[49m\u001b[43mcountry\u001b[49m\u001b[43m,\u001b[49m\u001b[43m \u001b[49m\u001b[43mout_dir\u001b[49m\u001b[38;5;241;43m=\u001b[39;49m\u001b[43mtemp_dir\u001b[49m\u001b[43m,\u001b[49m\u001b[43m \u001b[49m\u001b[43mmerge_output\u001b[49m\u001b[38;5;241;43m=\u001b[39;49m\u001b[43mout_file\u001b[49m\u001b[43m,\u001b[49m\u001b[43m \u001b[49m\u001b[43mquiet\u001b[49m\u001b[38;5;241;43m=\u001b[39;49m\u001b[43mquiet\u001b[49m\u001b[43m)\u001b[49m\n\u001b[0;32m    373\u001b[0m out_file_epsg3857 \u001b[38;5;241m=\u001b[39m \u001b[38;5;28mstr\u001b[39m(os\u001b[38;5;241m.\u001b[39mpath\u001b[38;5;241m.\u001b[39mjoin(out_dir, \u001b[38;5;124mf\u001b[39m\u001b[38;5;124m\"\u001b[39m\u001b[38;5;132;01m{\u001b[39;00miso_code\u001b[38;5;132;01m}\u001b[39;00m\u001b[38;5;124m_\u001b[39m\u001b[38;5;132;01m{\u001b[39;00msource\u001b[38;5;132;01m}\u001b[39;00m\u001b[38;5;124m_EPSG3857.geojson\u001b[39m\u001b[38;5;124m\"\u001b[39m))\n\u001b[0;32m    374\u001b[0m tif_dir \u001b[38;5;241m=\u001b[39m data_utils\u001b[38;5;241m.\u001b[39m_makedir(os\u001b[38;5;241m.\u001b[39mpath\u001b[38;5;241m.\u001b[39mjoin(config[\u001b[38;5;124m\"\u001b[39m\u001b[38;5;124mrasters_dir\u001b[39m\u001b[38;5;124m\"\u001b[39m], \u001b[38;5;124mf\u001b[39m\u001b[38;5;124m\"\u001b[39m\u001b[38;5;132;01m{\u001b[39;00msource\u001b[38;5;132;01m}\u001b[39;00m\u001b[38;5;124m_buildings\u001b[39m\u001b[38;5;124m\"\u001b[39m))\n",
      "File \u001b[1;32mc:\\Users\\andri\\AppData\\Local\\Programs\\Python\\Python310\\lib\\site-packages\\leafmap\\common.py:10827\u001b[0m, in \u001b[0;36mdownload_ms_buildings\u001b[1;34m(location, out_dir, merge_output, head, quiet, **kwargs)\u001b[0m\n\u001b[0;32m  10825\u001b[0m     df[\u001b[38;5;124m\"\u001b[39m\u001b[38;5;124mgeometry\u001b[39m\u001b[38;5;124m\"\u001b[39m] \u001b[38;5;241m=\u001b[39m df[\u001b[38;5;124m\"\u001b[39m\u001b[38;5;124mgeometry\u001b[39m\u001b[38;5;124m\"\u001b[39m]\u001b[38;5;241m.\u001b[39mapply(shape)\n\u001b[0;32m  10826\u001b[0m     gdf \u001b[38;5;241m=\u001b[39m gpd\u001b[38;5;241m.\u001b[39mGeoDataFrame(df, crs\u001b[38;5;241m=\u001b[39m\u001b[38;5;241m4326\u001b[39m)\n\u001b[1;32m> 10827\u001b[0m     gdf\u001b[38;5;241m.\u001b[39mto_file(filename, driver\u001b[38;5;241m=\u001b[39m\u001b[38;5;124m\"\u001b[39m\u001b[38;5;124mGeoJSON\u001b[39m\u001b[38;5;124m\"\u001b[39m, \u001b[38;5;241m*\u001b[39m\u001b[38;5;241m*\u001b[39mkwargs)\n\u001b[0;32m  10829\u001b[0m \u001b[38;5;28;01mif\u001b[39;00m merge_output \u001b[38;5;129;01mis\u001b[39;00m \u001b[38;5;129;01mnot\u001b[39;00m \u001b[38;5;28;01mNone\u001b[39;00m:\n\u001b[0;32m  10830\u001b[0m     \u001b[38;5;28;01mif\u001b[39;00m os\u001b[38;5;241m.\u001b[39mpath\u001b[38;5;241m.\u001b[39mexists(merge_output):\n",
      "File \u001b[1;32mc:\\Users\\andri\\AppData\\Local\\Programs\\Python\\Python310\\lib\\site-packages\\geopandas\\geodataframe.py:1264\u001b[0m, in \u001b[0;36mGeoDataFrame.to_file\u001b[1;34m(self, filename, driver, schema, index, **kwargs)\u001b[0m\n\u001b[0;32m   1173\u001b[0m \u001b[38;5;124;03m\"\"\"Write the ``GeoDataFrame`` to a file.\u001b[39;00m\n\u001b[0;32m   1174\u001b[0m \n\u001b[0;32m   1175\u001b[0m \u001b[38;5;124;03mBy default, an ESRI shapefile is written, but any OGR data source\u001b[39;00m\n\u001b[1;32m   (...)\u001b[0m\n\u001b[0;32m   1260\u001b[0m \n\u001b[0;32m   1261\u001b[0m \u001b[38;5;124;03m\"\"\"\u001b[39;00m\n\u001b[0;32m   1262\u001b[0m \u001b[38;5;28;01mfrom\u001b[39;00m \u001b[38;5;21;01mgeopandas\u001b[39;00m\u001b[38;5;21;01m.\u001b[39;00m\u001b[38;5;21;01mio\u001b[39;00m\u001b[38;5;21;01m.\u001b[39;00m\u001b[38;5;21;01mfile\u001b[39;00m \u001b[38;5;28;01mimport\u001b[39;00m _to_file\n\u001b[1;32m-> 1264\u001b[0m _to_file(\u001b[38;5;28mself\u001b[39m, filename, driver, schema, index, \u001b[38;5;241m*\u001b[39m\u001b[38;5;241m*\u001b[39mkwargs)\n",
      "File \u001b[1;32mc:\\Users\\andri\\AppData\\Local\\Programs\\Python\\Python310\\lib\\site-packages\\geopandas\\io\\file.py:608\u001b[0m, in \u001b[0;36m_to_file\u001b[1;34m(df, filename, driver, schema, index, mode, crs, engine, **kwargs)\u001b[0m\n\u001b[0;32m    605\u001b[0m     \u001b[38;5;28;01mraise\u001b[39;00m \u001b[38;5;167;01mValueError\u001b[39;00m(\u001b[38;5;124mf\u001b[39m\u001b[38;5;124m\"\u001b[39m\u001b[38;5;124m'\u001b[39m\u001b[38;5;124mmode\u001b[39m\u001b[38;5;124m'\u001b[39m\u001b[38;5;124m should be one of \u001b[39m\u001b[38;5;124m'\u001b[39m\u001b[38;5;124mw\u001b[39m\u001b[38;5;124m'\u001b[39m\u001b[38;5;124m or \u001b[39m\u001b[38;5;124m'\u001b[39m\u001b[38;5;124ma\u001b[39m\u001b[38;5;124m'\u001b[39m\u001b[38;5;124m, got \u001b[39m\u001b[38;5;124m'\u001b[39m\u001b[38;5;132;01m{\u001b[39;00mmode\u001b[38;5;132;01m}\u001b[39;00m\u001b[38;5;124m'\u001b[39m\u001b[38;5;124m instead\u001b[39m\u001b[38;5;124m\"\u001b[39m)\n\u001b[0;32m    607\u001b[0m \u001b[38;5;28;01mif\u001b[39;00m engine \u001b[38;5;241m==\u001b[39m \u001b[38;5;124m\"\u001b[39m\u001b[38;5;124mfiona\u001b[39m\u001b[38;5;124m\"\u001b[39m:\n\u001b[1;32m--> 608\u001b[0m     _to_file_fiona(df, filename, driver, schema, crs, mode, \u001b[38;5;241m*\u001b[39m\u001b[38;5;241m*\u001b[39mkwargs)\n\u001b[0;32m    609\u001b[0m \u001b[38;5;28;01melif\u001b[39;00m engine \u001b[38;5;241m==\u001b[39m \u001b[38;5;124m\"\u001b[39m\u001b[38;5;124mpyogrio\u001b[39m\u001b[38;5;124m\"\u001b[39m:\n\u001b[0;32m    610\u001b[0m     _to_file_pyogrio(df, filename, driver, schema, crs, mode, \u001b[38;5;241m*\u001b[39m\u001b[38;5;241m*\u001b[39mkwargs)\n",
      "File \u001b[1;32mc:\\Users\\andri\\AppData\\Local\\Programs\\Python\\Python310\\lib\\site-packages\\geopandas\\io\\file.py:637\u001b[0m, in \u001b[0;36m_to_file_fiona\u001b[1;34m(df, filename, driver, schema, crs, mode, **kwargs)\u001b[0m\n\u001b[0;32m    633\u001b[0m     crs_wkt \u001b[38;5;241m=\u001b[39m crs\u001b[38;5;241m.\u001b[39mto_wkt(\u001b[38;5;124m\"\u001b[39m\u001b[38;5;124mWKT1_GDAL\u001b[39m\u001b[38;5;124m\"\u001b[39m)\n\u001b[0;32m    634\u001b[0m \u001b[38;5;28;01mwith\u001b[39;00m fiona\u001b[38;5;241m.\u001b[39mopen(\n\u001b[0;32m    635\u001b[0m     filename, mode\u001b[38;5;241m=\u001b[39mmode, driver\u001b[38;5;241m=\u001b[39mdriver, crs_wkt\u001b[38;5;241m=\u001b[39mcrs_wkt, schema\u001b[38;5;241m=\u001b[39mschema, \u001b[38;5;241m*\u001b[39m\u001b[38;5;241m*\u001b[39mkwargs\n\u001b[0;32m    636\u001b[0m ) \u001b[38;5;28;01mas\u001b[39;00m colxn:\n\u001b[1;32m--> 637\u001b[0m     \u001b[43mcolxn\u001b[49m\u001b[38;5;241;43m.\u001b[39;49m\u001b[43mwriterecords\u001b[49m\u001b[43m(\u001b[49m\u001b[43mdf\u001b[49m\u001b[38;5;241;43m.\u001b[39;49m\u001b[43miterfeatures\u001b[49m\u001b[43m(\u001b[49m\u001b[43m)\u001b[49m\u001b[43m)\u001b[49m\n",
      "File \u001b[1;32mc:\\Users\\andri\\AppData\\Local\\Programs\\Python\\Python310\\lib\\site-packages\\fiona\\collection.py:558\u001b[0m, in \u001b[0;36mCollection.writerecords\u001b[1;34m(self, records)\u001b[0m\n\u001b[0;32m    556\u001b[0m \u001b[38;5;28;01mif\u001b[39;00m \u001b[38;5;28mself\u001b[39m\u001b[38;5;241m.\u001b[39mmode \u001b[38;5;129;01mnot\u001b[39;00m \u001b[38;5;129;01min\u001b[39;00m (\u001b[38;5;124m\"\u001b[39m\u001b[38;5;124ma\u001b[39m\u001b[38;5;124m\"\u001b[39m, \u001b[38;5;124m\"\u001b[39m\u001b[38;5;124mw\u001b[39m\u001b[38;5;124m\"\u001b[39m):\n\u001b[0;32m    557\u001b[0m     \u001b[38;5;28;01mraise\u001b[39;00m \u001b[38;5;167;01mOSError\u001b[39;00m(\u001b[38;5;124m\"\u001b[39m\u001b[38;5;124mcollection not open for writing\u001b[39m\u001b[38;5;124m\"\u001b[39m)\n\u001b[1;32m--> 558\u001b[0m \u001b[38;5;28;43mself\u001b[39;49m\u001b[38;5;241;43m.\u001b[39;49m\u001b[43msession\u001b[49m\u001b[38;5;241;43m.\u001b[39;49m\u001b[43mwriterecs\u001b[49m\u001b[43m(\u001b[49m\u001b[43mrecords\u001b[49m\u001b[43m,\u001b[49m\u001b[43m \u001b[49m\u001b[38;5;28;43mself\u001b[39;49m\u001b[43m)\u001b[49m\n\u001b[0;32m    559\u001b[0m \u001b[38;5;28mself\u001b[39m\u001b[38;5;241m.\u001b[39m_len \u001b[38;5;241m=\u001b[39m \u001b[38;5;28mself\u001b[39m\u001b[38;5;241m.\u001b[39msession\u001b[38;5;241m.\u001b[39mget_length()\n\u001b[0;32m    560\u001b[0m \u001b[38;5;28mself\u001b[39m\u001b[38;5;241m.\u001b[39m_bounds \u001b[38;5;241m=\u001b[39m \u001b[38;5;28;01mNone\u001b[39;00m\n",
      "File \u001b[1;32mfiona\\\\ogrext.pyx:1392\u001b[0m, in \u001b[0;36mfiona.ogrext.WritingSession.writerecs\u001b[1;34m()\u001b[0m\n",
      "File \u001b[1;32mc:\\Users\\andri\\AppData\\Local\\Programs\\Python\\Python310\\lib\\site-packages\\geopandas\\geodataframe.py:951\u001b[0m, in \u001b[0;36mGeoDataFrame.iterfeatures\u001b[1;34m(self, na, show_bbox, drop_id)\u001b[0m\n\u001b[0;32m    949\u001b[0m feature[\u001b[38;5;124m\"\u001b[39m\u001b[38;5;124mtype\u001b[39m\u001b[38;5;124m\"\u001b[39m] \u001b[38;5;241m=\u001b[39m \u001b[38;5;124m\"\u001b[39m\u001b[38;5;124mFeature\u001b[39m\u001b[38;5;124m\"\u001b[39m\n\u001b[0;32m    950\u001b[0m feature[\u001b[38;5;124m\"\u001b[39m\u001b[38;5;124mproperties\u001b[39m\u001b[38;5;124m\"\u001b[39m] \u001b[38;5;241m=\u001b[39m properties_items\n\u001b[1;32m--> 951\u001b[0m feature[\u001b[38;5;124m\"\u001b[39m\u001b[38;5;124mgeometry\u001b[39m\u001b[38;5;124m\"\u001b[39m] \u001b[38;5;241m=\u001b[39m mapping(geom) \u001b[38;5;28;01mif\u001b[39;00m geom \u001b[38;5;28;01melse\u001b[39;00m \u001b[38;5;28;01mNone\u001b[39;00m\n\u001b[0;32m    953\u001b[0m \u001b[38;5;28;01mif\u001b[39;00m show_bbox:\n\u001b[0;32m    954\u001b[0m     feature[\u001b[38;5;124m\"\u001b[39m\u001b[38;5;124mbbox\u001b[39m\u001b[38;5;124m\"\u001b[39m] \u001b[38;5;241m=\u001b[39m geom\u001b[38;5;241m.\u001b[39mbounds \u001b[38;5;28;01mif\u001b[39;00m geom \u001b[38;5;28;01melse\u001b[39;00m \u001b[38;5;28;01mNone\u001b[39;00m\n",
      "File \u001b[1;32mc:\\Users\\andri\\AppData\\Local\\Programs\\Python\\Python310\\lib\\site-packages\\shapely\\geometry\\base.py:113\u001b[0m, in \u001b[0;36mBaseGeometry.__bool__\u001b[1;34m(self)\u001b[0m\n\u001b[0;32m    112\u001b[0m \u001b[38;5;28;01mdef\u001b[39;00m \u001b[38;5;21m__bool__\u001b[39m(\u001b[38;5;28mself\u001b[39m):\n\u001b[1;32m--> 113\u001b[0m     \u001b[38;5;28;01mreturn\u001b[39;00m \u001b[38;5;28;43mself\u001b[39;49m\u001b[38;5;241;43m.\u001b[39;49m\u001b[43mis_empty\u001b[49m \u001b[38;5;129;01mis\u001b[39;00m \u001b[38;5;28;01mFalse\u001b[39;00m\n",
      "File \u001b[1;32mc:\\Users\\andri\\AppData\\Local\\Programs\\Python\\Python310\\lib\\site-packages\\shapely\\geometry\\base.py:629\u001b[0m, in \u001b[0;36mBaseGeometry.is_empty\u001b[1;34m(self)\u001b[0m\n\u001b[0;32m    626\u001b[0m \u001b[38;5;129m@property\u001b[39m\n\u001b[0;32m    627\u001b[0m \u001b[38;5;28;01mdef\u001b[39;00m \u001b[38;5;21mis_empty\u001b[39m(\u001b[38;5;28mself\u001b[39m):\n\u001b[0;32m    628\u001b[0m     \u001b[38;5;124;03m\"\"\"True if the set of points in this geometry is empty, else False\"\"\"\u001b[39;00m\n\u001b[1;32m--> 629\u001b[0m     \u001b[38;5;28;01mreturn\u001b[39;00m \u001b[38;5;28mbool\u001b[39m(\u001b[43mshapely\u001b[49m\u001b[38;5;241;43m.\u001b[39;49m\u001b[43mis_empty\u001b[49m\u001b[43m(\u001b[49m\u001b[38;5;28;43mself\u001b[39;49m\u001b[43m)\u001b[49m)\n",
      "File \u001b[1;32mc:\\Users\\andri\\AppData\\Local\\Programs\\Python\\Python310\\lib\\site-packages\\shapely\\decorators.py:77\u001b[0m, in \u001b[0;36mmultithreading_enabled.<locals>.wrapped\u001b[1;34m(*args, **kwargs)\u001b[0m\n\u001b[0;32m     75\u001b[0m     \u001b[38;5;28;01mfor\u001b[39;00m arr \u001b[38;5;129;01min\u001b[39;00m array_args:\n\u001b[0;32m     76\u001b[0m         arr\u001b[38;5;241m.\u001b[39mflags\u001b[38;5;241m.\u001b[39mwriteable \u001b[38;5;241m=\u001b[39m \u001b[38;5;28;01mFalse\u001b[39;00m\n\u001b[1;32m---> 77\u001b[0m     \u001b[38;5;28;01mreturn\u001b[39;00m func(\u001b[38;5;241m*\u001b[39margs, \u001b[38;5;241m*\u001b[39m\u001b[38;5;241m*\u001b[39mkwargs)\n\u001b[0;32m     78\u001b[0m \u001b[38;5;28;01mfinally\u001b[39;00m:\n\u001b[0;32m     79\u001b[0m     \u001b[38;5;28;01mfor\u001b[39;00m arr, old_flag \u001b[38;5;129;01min\u001b[39;00m \u001b[38;5;28mzip\u001b[39m(array_args, old_flags):\n",
      "File \u001b[1;32mc:\\Users\\andri\\AppData\\Local\\Programs\\Python\\Python310\\lib\\site-packages\\shapely\\predicates.py:162\u001b[0m, in \u001b[0;36mis_empty\u001b[1;34m(geometry, **kwargs)\u001b[0m\n\u001b[0;32m    137\u001b[0m \u001b[38;5;129m@multithreading_enabled\u001b[39m\n\u001b[0;32m    138\u001b[0m \u001b[38;5;28;01mdef\u001b[39;00m \u001b[38;5;21mis_empty\u001b[39m(geometry, \u001b[38;5;241m*\u001b[39m\u001b[38;5;241m*\u001b[39mkwargs):\n\u001b[0;32m    139\u001b[0m     \u001b[38;5;124;03m\"\"\"Returns True if a geometry is an empty point, polygon, etc.\u001b[39;00m\n\u001b[0;32m    140\u001b[0m \n\u001b[0;32m    141\u001b[0m \u001b[38;5;124;03m    Parameters\u001b[39;00m\n\u001b[1;32m   (...)\u001b[0m\n\u001b[0;32m    160\u001b[0m \u001b[38;5;124;03m    False\u001b[39;00m\n\u001b[0;32m    161\u001b[0m \u001b[38;5;124;03m    \"\"\"\u001b[39;00m\n\u001b[1;32m--> 162\u001b[0m     \u001b[38;5;28;01mreturn\u001b[39;00m lib\u001b[38;5;241m.\u001b[39mis_empty(geometry, \u001b[38;5;241m*\u001b[39m\u001b[38;5;241m*\u001b[39mkwargs)\n",
      "\u001b[1;31mKeyboardInterrupt\u001b[0m: "
     ]
    }
   ],
   "source": [
    "download_utils.download_ms(config, verbose=True)"
   ]
  },
  {
   "cell_type": "markdown",
   "id": "42c1634b-b8ac-4293-a3b3-01910c1b5f92",
   "metadata": {},
   "source": [
    "## Download Global Human Settlements Layer"
   ]
  },
  {
   "cell_type": "code",
   "execution_count": 5,
   "id": "c51f0bed-4fd4-4c17-806c-3a2e2e96d875",
   "metadata": {},
   "outputs": [],
   "source": [
    "download_utils.download_ghsl(config)"
   ]
  },
  {
   "cell_type": "code",
   "execution_count": 31,
   "id": "788993b4-d620-459b-a453-4e51753c38a8",
   "metadata": {},
   "outputs": [
    {
     "name": "stdout",
     "output_type": "stream",
     "text": [
      "aaa\n"
     ]
    }
   ],
   "source": [
    "download_utils.download_ghsl(config, type=\"smod\")"
   ]
  }
 ],
 "metadata": {
  "kernelspec": {
   "display_name": "Python 3",
   "language": "python",
   "name": "python3"
  },
  "language_info": {
   "codemirror_mode": {
    "name": "ipython",
    "version": 3
   },
   "file_extension": ".py",
   "mimetype": "text/x-python",
   "name": "python",
   "nbconvert_exporter": "python",
   "pygments_lexer": "ipython3",
   "version": "3.10.7"
  }
 },
 "nbformat": 4,
 "nbformat_minor": 5
}
