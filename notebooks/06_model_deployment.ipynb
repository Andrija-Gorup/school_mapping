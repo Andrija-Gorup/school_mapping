{
 "cells": [
  {
   "cell_type": "markdown",
   "id": "59f30888-f40c-41d1-863a-8ecd460a58c2",
   "metadata": {},
   "source": [
    "## Imports and Setup"
   ]
  },
  {
   "cell_type": "code",
   "execution_count": 1,
   "id": "7c20ef0f-efe6-418d-9c8e-dfa1cf99e810",
   "metadata": {},
   "outputs": [
    {
     "name": "stderr",
     "output_type": "stream",
     "text": [
      "Intel(R) Extension for Scikit-learn* enabled (https://github.com/intel/scikit-learn-intelex)\n"
     ]
    }
   ],
   "source": [
    "import os\n",
    "import pandas as pd\n",
    "import geopandas as gpd\n",
    "import logging\n",
    "import joblib\n",
    "import torch\n",
    "\n",
    "import sys\n",
    "sys.path.insert(0, \"../src\")\n",
    "import sat_download\n",
    "\n",
    "sys.path.insert(0, \"../utils/\")\n",
    "import data_utils\n",
    "import config_utils\n",
    "import pred_utils\n",
    "import embed_utils\n",
    "\n",
    "%load_ext autoreload\n",
    "%autoreload 2"
   ]
  },
  {
   "cell_type": "markdown",
   "id": "43efdc61-1b10-4da4-b1f0-6d1c9af9ba07",
   "metadata": {},
   "source": [
    "## Load Config Files"
   ]
  },
  {
   "cell_type": "code",
   "execution_count": 2,
   "id": "ca7440cb-3df9-49cf-ab2e-458b459865b1",
   "metadata": {},
   "outputs": [],
   "source": [
    "iso_code = \"SEN\"\n",
    "adm_level = \"ADM2\"\n",
    "shapename = \"Gossas\"\n",
    "spacing = 150\n",
    "buffer_size = 150\n",
    "\n",
    "cwd = os.path.dirname(os.getcwd())\n",
    "data_config_file = os.path.join(cwd, \"configs/data_config.yaml\")\n",
    "data_config = config_utils.load_config(data_config_file)\n",
    "\n",
    "sat_config_file = os.path.join(cwd, \"configs/sat_configs/sat_config_500x500_60cm.yaml\")\n",
    "sat_creds_file = os.path.join(cwd, \"configs/sat_configs/issa_sat_creds.yaml\")\n",
    "\n",
    "sat_config = config_utils.load_config(sat_config_file)\n",
    "sat_creds = config_utils.create_config(sat_creds_file)"
   ]
  },
  {
   "cell_type": "markdown",
   "id": "a86dc38f-094b-43eb-b003-0e0f478abec9",
   "metadata": {},
   "source": [
    "## Generate Prediction Tiles"
   ]
  },
  {
   "cell_type": "code",
   "execution_count": 3,
   "id": "6d992e3f-280f-45d3-8273-efb7868af8bd",
   "metadata": {},
   "outputs": [
    {
     "name": "stderr",
     "output_type": "stream",
     "text": [
      "100%|████████████████████| 36/36 [04:19<00:00,  7.20s/it]                                                               \n"
     ]
    },
    {
     "name": "stdout",
     "output_type": "stream",
     "text": [
      "Total tiles: (9162, 12)\n"
     ]
    },
    {
     "data": {
      "text/html": [
       "<div>\n",
       "<style scoped>\n",
       "    .dataframe tbody tr th:only-of-type {\n",
       "        vertical-align: middle;\n",
       "    }\n",
       "\n",
       "    .dataframe tbody tr th {\n",
       "        vertical-align: top;\n",
       "    }\n",
       "\n",
       "    .dataframe thead th {\n",
       "        text-align: right;\n",
       "    }\n",
       "</style>\n",
       "<table border=\"1\" class=\"dataframe\">\n",
       "  <thead>\n",
       "    <tr style=\"text-align: right;\">\n",
       "      <th></th>\n",
       "      <th>index</th>\n",
       "      <th>geometry</th>\n",
       "      <th>shapeName</th>\n",
       "      <th>shapeISO</th>\n",
       "      <th>shapeID</th>\n",
       "      <th>shapeGroup</th>\n",
       "      <th>shapeType</th>\n",
       "      <th>points</th>\n",
       "      <th>index_right</th>\n",
       "      <th>type</th>\n",
       "      <th>properties</th>\n",
       "      <th>UID</th>\n",
       "    </tr>\n",
       "  </thead>\n",
       "  <tbody>\n",
       "    <tr>\n",
       "      <th>0</th>\n",
       "      <td>11358</td>\n",
       "      <td>POLYGON ((-1800194.630 1621293.203, -1800194.6...</td>\n",
       "      <td>Gossas</td>\n",
       "      <td></td>\n",
       "      <td>32543966B1237769986254</td>\n",
       "      <td>SEN</td>\n",
       "      <td>ADM2</td>\n",
       "      <td>POINT (-1800344.630 1621143.203)</td>\n",
       "      <td>135242</td>\n",
       "      <td>Feature</td>\n",
       "      <td>{'height': -1.0, 'confidence': -1.0}</td>\n",
       "      <td>11358</td>\n",
       "    </tr>\n",
       "    <tr>\n",
       "      <th>1</th>\n",
       "      <td>11359</td>\n",
       "      <td>POLYGON ((-1800194.630 1621443.203, -1800194.6...</td>\n",
       "      <td>Gossas</td>\n",
       "      <td></td>\n",
       "      <td>32543966B1237769986254</td>\n",
       "      <td>SEN</td>\n",
       "      <td>ADM2</td>\n",
       "      <td>POINT (-1800344.630 1621293.203)</td>\n",
       "      <td>135242</td>\n",
       "      <td>Feature</td>\n",
       "      <td>{'height': -1.0, 'confidence': -1.0}</td>\n",
       "      <td>11359</td>\n",
       "    </tr>\n",
       "    <tr>\n",
       "      <th>2</th>\n",
       "      <td>11656</td>\n",
       "      <td>POLYGON ((-1800044.630 1621293.203, -1800044.6...</td>\n",
       "      <td>Gossas</td>\n",
       "      <td></td>\n",
       "      <td>32543966B1237769986254</td>\n",
       "      <td>SEN</td>\n",
       "      <td>ADM2</td>\n",
       "      <td>POINT (-1800194.630 1621143.203)</td>\n",
       "      <td>135242</td>\n",
       "      <td>Feature</td>\n",
       "      <td>{'height': -1.0, 'confidence': -1.0}</td>\n",
       "      <td>11656</td>\n",
       "    </tr>\n",
       "  </tbody>\n",
       "</table>\n",
       "</div>"
      ],
      "text/plain": [
       "   index                                           geometry shapeName  \\\n",
       "0  11358  POLYGON ((-1800194.630 1621293.203, -1800194.6...    Gossas   \n",
       "1  11359  POLYGON ((-1800194.630 1621443.203, -1800194.6...    Gossas   \n",
       "2  11656  POLYGON ((-1800044.630 1621293.203, -1800044.6...    Gossas   \n",
       "\n",
       "  shapeISO                 shapeID shapeGroup shapeType  \\\n",
       "0           32543966B1237769986254        SEN      ADM2   \n",
       "1           32543966B1237769986254        SEN      ADM2   \n",
       "2           32543966B1237769986254        SEN      ADM2   \n",
       "\n",
       "                             points  index_right     type  \\\n",
       "0  POINT (-1800344.630 1621143.203)       135242  Feature   \n",
       "1  POINT (-1800344.630 1621293.203)       135242  Feature   \n",
       "2  POINT (-1800194.630 1621143.203)       135242  Feature   \n",
       "\n",
       "                             properties    UID  \n",
       "0  {'height': -1.0, 'confidence': -1.0}  11358  \n",
       "1  {'height': -1.0, 'confidence': -1.0}  11359  \n",
       "2  {'height': -1.0, 'confidence': -1.0}  11656  "
      ]
     },
     "execution_count": 3,
     "metadata": {},
     "output_type": "execute_result"
    }
   ],
   "source": [
    "tiles = pred_utils.generate_pred_tiles(\n",
    "    data_config, iso_code, spacing, buffer_size, adm_level, shapename\n",
    ").reset_index()\n",
    "print(f\"Total tiles: {tiles.shape}\")\n",
    "tiles.head(3)"
   ]
  },
  {
   "cell_type": "markdown",
   "id": "c92170dc-0a4a-46d0-b319-b74ceff6cf1d",
   "metadata": {},
   "source": [
    "## Download Satellite Images"
   ]
  },
  {
   "cell_type": "code",
   "execution_count": 4,
   "id": "5433b52f-7120-4ee7-ab90-5ce6c67457fb",
   "metadata": {},
   "outputs": [
    {
     "name": "stderr",
     "output_type": "stream",
     "text": [
      "INFO:root:Data dimensions: (9162, 14), CRS: EPSG:3857\n",
      "100%|████████████████████| 9162/9162 [00:05<00:00, 1795.35it/s]                                                         \n"
     ]
    }
   ],
   "source": [
    "data = tiles.copy()\n",
    "data[\"geometry\"] = data[\"points\"]\n",
    "sat_dir = os.path.join(cwd, \"output\", iso_code, \"images\", shapename)\n",
    "sat_download.download_sat_images(sat_creds, sat_config, data=data, out_dir=sat_dir)"
   ]
  },
  {
   "cell_type": "markdown",
   "id": "7932aee9-7308-4736-93fd-8bd0c91475ae",
   "metadata": {},
   "source": [
    "## CNN Model"
   ]
  },
  {
   "cell_type": "code",
   "execution_count": 5,
   "id": "28be4638-8797-47bf-b79c-75ca7f126786",
   "metadata": {},
   "outputs": [
    {
     "name": "stderr",
     "output_type": "stream",
     "text": [
      "INFO:root:Device: cpu\n",
      "INFO:root:Model file /home/itingzon.unicef/giga/exp/SEN_vgg16/SEN_vgg16.pth successfully loaded.\n",
      "100%|████████████████████| 9162/9162 [2:32:48<00:00,  1.00s/it]                                                         \n"
     ]
    }
   ],
   "source": [
    "model_config_file = os.path.join(cwd, f\"configs/cnn_configs/vgg16.yaml\")\n",
    "model_config = config_utils.load_config(model_config_file)\n",
    "result = pred_utils.cnn_predict(tiles, iso_code, shapename, model_config, sat_dir, n_classes=2)"
   ]
  },
  {
   "cell_type": "markdown",
   "id": "a0ae9e20-6425-491e-99ee-2ae80ddf7044",
   "metadata": {},
   "source": [
    "## ViT Model"
   ]
  },
  {
   "cell_type": "code",
   "execution_count": 13,
   "id": "44dbcf6b-3bfa-4759-add7-601f878ed777",
   "metadata": {},
   "outputs": [
    {
     "name": "stderr",
     "output_type": "stream",
     "text": [
      "Using cache found in /home/itingzon.unicef/.cache/torch/hub/facebookresearch_dinov2_main\n",
      "INFO:dinov2:using MLP layer as FFN\n",
      "INFO:root:Device: cpu\n",
      "INFO:root:Generating embeddings...\n",
      "INFO:root:Reading file /home/itingzon.unicef/giga/output/SEN/embeddings/SEN_Foundiougne_dinov2_vitl14_embeds.csv\n",
      "INFO:root:Loaded /home/itingzon.unicef/giga/exp/SEN-dinov2_vitl14-LR/SEN-dinov2_vitl14-LR.pkl\n",
      "INFO:sklearnex: sklearn.utils.validation._assert_all_finite: running accelerated version on CPU\n",
      "INFO:sklearnex:sklearn.utils.validation._assert_all_finite: running accelerated version on CPU\n",
      "INFO:root:Generated /home/itingzon.unicef/giga/output/SEN/results/SEN_Foundiougne_dinov2_vitl14-LR_results.gpkg\n"
     ]
    }
   ],
   "source": [
    "model_config_file = os.path.join(cwd, f\"configs/model_configs/dinov2_vitl14-LR.yaml\")\n",
    "model_config = config_utils.load_config(model_config_file)\n",
    "result = pred_utils.vit_pred(tiles, model_config, iso_code, shapename, sat_dir)"
   ]
  }
 ],
 "metadata": {
  "kernelspec": {
   "display_name": "giga2",
   "language": "python",
   "name": "giga2"
  },
  "language_info": {
   "codemirror_mode": {
    "name": "ipython",
    "version": 3
   },
   "file_extension": ".py",
   "mimetype": "text/x-python",
   "name": "python",
   "nbconvert_exporter": "python",
   "pygments_lexer": "ipython3",
   "version": "3.10.13"
  }
 },
 "nbformat": 4,
 "nbformat_minor": 5
}
