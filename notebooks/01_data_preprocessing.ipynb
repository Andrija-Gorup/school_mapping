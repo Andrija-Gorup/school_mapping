{
 "cells": [
  {
   "cell_type": "markdown",
   "id": "f8cf4143-2526-44f2-980d-27a390191008",
   "metadata": {},
   "source": [
    "## Imports and Setup"
   ]
  },
  {
   "cell_type": "code",
   "execution_count": 1,
   "id": "634532cb-af3f-4083-8472-a09030e5897c",
   "metadata": {
    "tags": []
   },
   "outputs": [],
   "source": [
    "import os\n",
    "import pandas as pd\n",
    "\n",
    "import sys\n",
    "sys.path.insert(0, \"../utils/\")\n",
    "import data_utils\n",
    "import config_utils\n",
    "\n",
    "import warnings\n",
    "warnings.filterwarnings('ignore')\n",
    "warnings.simplefilter('ignore')\n",
    "\n",
    "%load_ext autoreload\n",
    "%autoreload 2"
   ]
  },
  {
   "cell_type": "markdown",
   "id": "46e00581-63db-42b5-b765-ca3a761ad6f7",
   "metadata": {},
   "source": [
    "## Load Data Files"
   ]
  },
  {
   "cell_type": "code",
   "execution_count": 35,
   "id": "f61c6272-7e1c-46a7-b86d-a2016f341909",
   "metadata": {
    "tags": []
   },
   "outputs": [
    {
     "name": "stdout",
     "output_type": "stream",
     "text": [
      "Number of CSV files: 39\n"
     ]
    },
    {
     "data": {
      "application/vnd.jupyter.widget-view+json": {
       "model_id": "40312eca50bf484fbcd0ea54a0307a08",
       "version_major": 2,
       "version_minor": 0
      },
      "text/plain": [
       "  0%|          | 0/39 [00:00<?, ?it/s]"
      ]
     },
     "metadata": {},
     "output_type": "display_data"
    },
    {
     "name": "stdout",
     "output_type": "stream",
     "text": [
      "Data dimensions: (437362, 9), CRS: EPSG:4326\n",
      "Generated /home/itingzon.unicef/giga/data/schools/giga.geojson\n"
     ]
    },
    {
     "data": {
      "text/html": [
       "<div>\n",
       "<style scoped>\n",
       "    .dataframe tbody tr th:only-of-type {\n",
       "        vertical-align: middle;\n",
       "    }\n",
       "\n",
       "    .dataframe tbody tr th {\n",
       "        vertical-align: top;\n",
       "    }\n",
       "\n",
       "    .dataframe thead th {\n",
       "        text-align: right;\n",
       "    }\n",
       "</style>\n",
       "<table border=\"1\" class=\"dataframe\">\n",
       "  <thead>\n",
       "    <tr style=\"text-align: right;\">\n",
       "      <th></th>\n",
       "      <th>UID</th>\n",
       "      <th>source</th>\n",
       "      <th>iso</th>\n",
       "      <th>country</th>\n",
       "      <th>region</th>\n",
       "      <th>subregion</th>\n",
       "      <th>name</th>\n",
       "      <th>geometry</th>\n",
       "      <th>giga_id_school</th>\n",
       "    </tr>\n",
       "  </thead>\n",
       "  <tbody>\n",
       "    <tr>\n",
       "      <th>248478</th>\n",
       "      <td>UNICEF-BRA-SCHOOL-00016960</td>\n",
       "      <td>UNICEF</td>\n",
       "      <td>BRA</td>\n",
       "      <td>Brazil</td>\n",
       "      <td>Americas</td>\n",
       "      <td>Latin America and the Caribbean</td>\n",
       "      <td>E M E I TURMA DA MONICA</td>\n",
       "      <td>POINT (-49.90907 -6.08198)</td>\n",
       "      <td>f3c15ee4-f01b-3260-abb1-35925d5c1c9a</td>\n",
       "    </tr>\n",
       "    <tr>\n",
       "      <th>217392</th>\n",
       "      <td>UNICEF-ZAF-SCHOOL-00024147</td>\n",
       "      <td>UNICEF</td>\n",
       "      <td>ZAF</td>\n",
       "      <td>South Africa</td>\n",
       "      <td>Africa</td>\n",
       "      <td>Sub-Saharan Africa</td>\n",
       "      <td>Fairview Junior Primary School</td>\n",
       "      <td>POINT (27.67765 -32.12339)</td>\n",
       "      <td>3f691e4b-5715-3bdb-9469-db3ff8e08e75</td>\n",
       "    </tr>\n",
       "    <tr>\n",
       "      <th>266345</th>\n",
       "      <td>UNICEF-BRA-SCHOOL-00036070</td>\n",
       "      <td>UNICEF</td>\n",
       "      <td>BRA</td>\n",
       "      <td>Brazil</td>\n",
       "      <td>Americas</td>\n",
       "      <td>Latin America and the Caribbean</td>\n",
       "      <td>OSMAR DE OLIVEIRA FONTES E E F</td>\n",
       "      <td>POINT (-39.73294 -5.13004)</td>\n",
       "      <td>cefd3148-3100-3f7d-843c-c43d531fb619</td>\n",
       "    </tr>\n",
       "  </tbody>\n",
       "</table>\n",
       "</div>"
      ],
      "text/plain": [
       "                               UID  source  iso       country    region  \\\n",
       "248478  UNICEF-BRA-SCHOOL-00016960  UNICEF  BRA        Brazil  Americas   \n",
       "217392  UNICEF-ZAF-SCHOOL-00024147  UNICEF  ZAF  South Africa    Africa   \n",
       "266345  UNICEF-BRA-SCHOOL-00036070  UNICEF  BRA        Brazil  Americas   \n",
       "\n",
       "                              subregion                            name  \\\n",
       "248478  Latin America and the Caribbean         E M E I TURMA DA MONICA   \n",
       "217392               Sub-Saharan Africa  Fairview Junior Primary School   \n",
       "266345  Latin America and the Caribbean  OSMAR DE OLIVEIRA FONTES E E F   \n",
       "\n",
       "                          geometry                        giga_id_school  \n",
       "248478  POINT (-49.90907 -6.08198)  f3c15ee4-f01b-3260-abb1-35925d5c1c9a  \n",
       "217392  POINT (27.67765 -32.12339)  3f691e4b-5715-3bdb-9469-db3ff8e08e75  \n",
       "266345  POINT (-39.73294 -5.13004)  cefd3148-3100-3f7d-843c-c43d531fb619  "
      ]
     },
     "execution_count": 35,
     "metadata": {},
     "output_type": "execute_result"
    }
   ],
   "source": [
    "giga_schools = data_utils.load_files(\n",
    "    data_dir=\"data/schools/giga\", \n",
    "    out_file=\"giga.geojson\"\n",
    ")\n",
    "giga_schools.sample(3)"
   ]
  },
  {
   "cell_type": "markdown",
   "id": "67680692-4ca8-46ae-89ff-5ed340fcd6f2",
   "metadata": {},
   "source": [
    "## Download Overture Maps Data"
   ]
  },
  {
   "cell_type": "code",
   "execution_count": 3,
   "id": "40dd93e3-d252-4c83-9f4d-95ebadbe6747",
   "metadata": {
    "tags": []
   },
   "outputs": [
    {
     "data": {
      "application/vnd.jupyter.widget-view+json": {
       "model_id": "24b7a85ca84a40abb4ac9c9cd6573aa5",
       "version_major": 2,
       "version_minor": 0
      },
      "text/plain": [
       "  0%|          | 0/39 [00:00<?, ?it/s]"
      ]
     },
     "metadata": {},
     "output_type": "display_data"
    },
    {
     "name": "stdout",
     "output_type": "stream",
     "text": [
      "Data dimensions: (61183, 8), CRS: EPSG:4326\n",
      "Generated /home/itingzon.unicef/giga/data/schools/overture.geojson\n"
     ]
    },
    {
     "data": {
      "text/html": [
       "<div>\n",
       "<style scoped>\n",
       "    .dataframe tbody tr th:only-of-type {\n",
       "        vertical-align: middle;\n",
       "    }\n",
       "\n",
       "    .dataframe tbody tr th {\n",
       "        vertical-align: top;\n",
       "    }\n",
       "\n",
       "    .dataframe thead th {\n",
       "        text-align: right;\n",
       "    }\n",
       "</style>\n",
       "<table border=\"1\" class=\"dataframe\">\n",
       "  <thead>\n",
       "    <tr style=\"text-align: right;\">\n",
       "      <th></th>\n",
       "      <th>UID</th>\n",
       "      <th>source</th>\n",
       "      <th>iso</th>\n",
       "      <th>country</th>\n",
       "      <th>region</th>\n",
       "      <th>subregion</th>\n",
       "      <th>name</th>\n",
       "      <th>geometry</th>\n",
       "    </tr>\n",
       "  </thead>\n",
       "  <tbody>\n",
       "    <tr>\n",
       "      <th>1591</th>\n",
       "      <td>OVERTURE-BIH-SCHOOL-00000004</td>\n",
       "      <td>OVERTURE</td>\n",
       "      <td>BIH</td>\n",
       "      <td>Bosnia and Herzegovina</td>\n",
       "      <td>Europe</td>\n",
       "      <td>Southern Europe</td>\n",
       "      <td>Akademija likovnih umjetnosti Sarajevo / Acade...</td>\n",
       "      <td>POINT (18.41769 43.85603)</td>\n",
       "    </tr>\n",
       "    <tr>\n",
       "      <th>53705</th>\n",
       "      <td>OVERTURE-MWI-SCHOOL-00000299</td>\n",
       "      <td>OVERTURE</td>\n",
       "      <td>MWI</td>\n",
       "      <td>Malawi</td>\n",
       "      <td>Africa</td>\n",
       "      <td>Sub-Saharan Africa</td>\n",
       "      <td>ECS Business College</td>\n",
       "      <td>POINT (33.77731 -13.89489)</td>\n",
       "    </tr>\n",
       "    <tr>\n",
       "      <th>51923</th>\n",
       "      <td>OVERTURE-BRA-SCHOOL-00003528</td>\n",
       "      <td>OVERTURE</td>\n",
       "      <td>BRA</td>\n",
       "      <td>Brazil</td>\n",
       "      <td>Americas</td>\n",
       "      <td>Latin America and the Caribbean</td>\n",
       "      <td>Apple Developer Academy - Porto Alegre</td>\n",
       "      <td>POINT (-51.17164 -30.05966)</td>\n",
       "    </tr>\n",
       "  </tbody>\n",
       "</table>\n",
       "</div>"
      ],
      "text/plain": [
       "                                UID    source  iso                 country  \\\n",
       "1591   OVERTURE-BIH-SCHOOL-00000004  OVERTURE  BIH  Bosnia and Herzegovina   \n",
       "53705  OVERTURE-MWI-SCHOOL-00000299  OVERTURE  MWI                  Malawi   \n",
       "51923  OVERTURE-BRA-SCHOOL-00003528  OVERTURE  BRA                  Brazil   \n",
       "\n",
       "         region                        subregion  \\\n",
       "1591     Europe                  Southern Europe   \n",
       "53705    Africa               Sub-Saharan Africa   \n",
       "51923  Americas  Latin America and the Caribbean   \n",
       "\n",
       "                                                    name  \\\n",
       "1591   Akademija likovnih umjetnosti Sarajevo / Acade...   \n",
       "53705                               ECS Business College   \n",
       "51923             Apple Developer Academy - Porto Alegre   \n",
       "\n",
       "                          geometry  \n",
       "1591     POINT (18.41769 43.85603)  \n",
       "53705   POINT (33.77731 -13.89489)  \n",
       "51923  POINT (-51.17164 -30.05966)  "
      ]
     },
     "execution_count": 3,
     "metadata": {},
     "output_type": "execute_result"
    }
   ],
   "source": [
    "overture_schools = data_utils.download_overture(\n",
    "    giga_schools.iso.unique(), \n",
    "    out_dir='data/schools/overture', \n",
    "    category=\"SCHOOL\"\n",
    ")\n",
    "overture_schools.sample(3)"
   ]
  },
  {
   "cell_type": "markdown",
   "id": "185e6672-9816-4b91-9393-4f9497b3e674",
   "metadata": {},
   "source": [
    "## Download OpenStreetMap Data"
   ]
  },
  {
   "cell_type": "code",
   "execution_count": 5,
   "id": "1fee42f5-642c-483c-9aab-7f33524bc969",
   "metadata": {
    "tags": []
   },
   "outputs": [
    {
     "data": {
      "application/vnd.jupyter.widget-view+json": {
       "model_id": "441689048a604ba3bec740a5d7d79cc2",
       "version_major": 2,
       "version_minor": 0
      },
      "text/plain": [
       "  0%|          | 0/39 [00:00<?, ?it/s]"
      ]
     },
     "metadata": {},
     "output_type": "display_data"
    },
    {
     "name": "stdout",
     "output_type": "stream",
     "text": [
      "Data dimensions: (40648, 8), CRS: EPSG:4326\n",
      "Generated /home/itingzon.unicef/giga/data/schools/osm.geojson\n"
     ]
    },
    {
     "data": {
      "text/html": [
       "<div>\n",
       "<style scoped>\n",
       "    .dataframe tbody tr th:only-of-type {\n",
       "        vertical-align: middle;\n",
       "    }\n",
       "\n",
       "    .dataframe tbody tr th {\n",
       "        vertical-align: top;\n",
       "    }\n",
       "\n",
       "    .dataframe thead th {\n",
       "        text-align: right;\n",
       "    }\n",
       "</style>\n",
       "<table border=\"1\" class=\"dataframe\">\n",
       "  <thead>\n",
       "    <tr style=\"text-align: right;\">\n",
       "      <th></th>\n",
       "      <th>UID</th>\n",
       "      <th>source</th>\n",
       "      <th>iso</th>\n",
       "      <th>country</th>\n",
       "      <th>region</th>\n",
       "      <th>subregion</th>\n",
       "      <th>name</th>\n",
       "      <th>geometry</th>\n",
       "    </tr>\n",
       "  </thead>\n",
       "  <tbody>\n",
       "    <tr>\n",
       "      <th>3531</th>\n",
       "      <td>OSM-UKR-SCHOOL-00000763</td>\n",
       "      <td>OSM</td>\n",
       "      <td>UKR</td>\n",
       "      <td>Ukraine</td>\n",
       "      <td>Europe</td>\n",
       "      <td>Eastern Europe</td>\n",
       "      <td>№3</td>\n",
       "      <td>POINT (39.12366 48.39751)</td>\n",
       "    </tr>\n",
       "    <tr>\n",
       "      <th>31826</th>\n",
       "      <td>OSM-MWI-SCHOOL-00000453</td>\n",
       "      <td>OSM</td>\n",
       "      <td>MWI</td>\n",
       "      <td>Malawi</td>\n",
       "      <td>Africa</td>\n",
       "      <td>Sub-Saharan Africa</td>\n",
       "      <td>Mtinjitinji School</td>\n",
       "      <td>POINT (35.02087 -14.53988)</td>\n",
       "    </tr>\n",
       "    <tr>\n",
       "      <th>14393</th>\n",
       "      <td>OSM-BRA-SCHOOL-00004599</td>\n",
       "      <td>OSM</td>\n",
       "      <td>BRA</td>\n",
       "      <td>Brazil</td>\n",
       "      <td>Americas</td>\n",
       "      <td>Latin America and the Caribbean</td>\n",
       "      <td>CE Espaço Livre</td>\n",
       "      <td>POINT (-40.27130 -19.82297)</td>\n",
       "    </tr>\n",
       "  </tbody>\n",
       "</table>\n",
       "</div>"
      ],
      "text/plain": [
       "                           UID source  iso  country    region  \\\n",
       "3531   OSM-UKR-SCHOOL-00000763    OSM  UKR  Ukraine    Europe   \n",
       "31826  OSM-MWI-SCHOOL-00000453    OSM  MWI   Malawi    Africa   \n",
       "14393  OSM-BRA-SCHOOL-00004599    OSM  BRA   Brazil  Americas   \n",
       "\n",
       "                             subregion                name  \\\n",
       "3531                    Eastern Europe                  №3   \n",
       "31826               Sub-Saharan Africa  Mtinjitinji School   \n",
       "14393  Latin America and the Caribbean     CE Espaço Livre   \n",
       "\n",
       "                          geometry  \n",
       "3531     POINT (39.12366 48.39751)  \n",
       "31826   POINT (35.02087 -14.53988)  \n",
       "14393  POINT (-40.27130 -19.82297)  "
      ]
     },
     "execution_count": 5,
     "metadata": {},
     "output_type": "execute_result"
    }
   ],
   "source": [
    "osm_schools = data_utils.download_osm(\n",
    "    giga_schools.iso.unique(), \n",
    "    out_dir='data/schools/osm',\n",
    "    category=\"SCHOOL\"\n",
    ")\n",
    "osm_schools.sample(3)"
   ]
  },
  {
   "cell_type": "code",
   "execution_count": null,
   "id": "2cf447cf-024d-459a-956e-e25e4b73c4c4",
   "metadata": {
    "tags": []
   },
   "outputs": [],
   "source": [
    "osm_non_schools = data_utils.download_osm(\n",
    "    giga_schools.iso.unique(), \n",
    "    out_dir='data/non_schools/osm',\n",
    "    category=\"NON_SCHOOL\"\n",
    ")\n",
    "osm_nonschools.sample(3)"
   ]
  },
  {
   "cell_type": "markdown",
   "id": "634d6148-4b48-4f0c-b079-ff99b8674aea",
   "metadata": {},
   "source": [
    "## Data Cleaning"
   ]
  },
  {
   "cell_type": "code",
   "execution_count": 52,
   "id": "7515083e-0915-4592-9e17-c2c09f98b782",
   "metadata": {
    "tags": []
   },
   "outputs": [
    {
     "data": {
      "application/vnd.jupyter.widget-view+json": {
       "model_id": "494f00df6cec46bb99d89011222298ce",
       "version_major": 2,
       "version_minor": 0
      },
      "text/plain": [
       "  0%|          | 0/39 [00:00<?, ?it/s]"
      ]
     },
     "metadata": {},
     "output_type": "display_data"
    },
    {
     "name": "stdout",
     "output_type": "stream",
     "text": [
      "Data dimensions: (448897, 9), CRS: EPSG:4326\n",
      "Generated /home/itingzon.unicef/giga/data/schools/clean.geojson\n"
     ]
    },
    {
     "data": {
      "text/html": [
       "<div>\n",
       "<style scoped>\n",
       "    .dataframe tbody tr th:only-of-type {\n",
       "        vertical-align: middle;\n",
       "    }\n",
       "\n",
       "    .dataframe tbody tr th {\n",
       "        vertical-align: top;\n",
       "    }\n",
       "\n",
       "    .dataframe thead th {\n",
       "        text-align: right;\n",
       "    }\n",
       "</style>\n",
       "<table border=\"1\" class=\"dataframe\">\n",
       "  <thead>\n",
       "    <tr style=\"text-align: right;\">\n",
       "      <th></th>\n",
       "      <th>UID</th>\n",
       "      <th>source</th>\n",
       "      <th>iso</th>\n",
       "      <th>country</th>\n",
       "      <th>region</th>\n",
       "      <th>subregion</th>\n",
       "      <th>name</th>\n",
       "      <th>geometry</th>\n",
       "      <th>giga_id_school</th>\n",
       "    </tr>\n",
       "  </thead>\n",
       "  <tbody>\n",
       "    <tr>\n",
       "      <th>145271</th>\n",
       "      <td>UNICEF-UZB-SCHOOL-00002036</td>\n",
       "      <td>UNICEF</td>\n",
       "      <td>UZB</td>\n",
       "      <td>Uzbekistan</td>\n",
       "      <td>Asia</td>\n",
       "      <td>Central Asia</td>\n",
       "      <td>12,Besharyk,Ferghana</td>\n",
       "      <td>POINT (70.54675 40.41799)</td>\n",
       "      <td>8b390c4c-887d-30c1-b2d8-fd5c4bfe0959</td>\n",
       "    </tr>\n",
       "    <tr>\n",
       "      <th>345826</th>\n",
       "      <td>UNICEF-BRA-SCHOOL-00004397</td>\n",
       "      <td>UNICEF</td>\n",
       "      <td>BRA</td>\n",
       "      <td>Brazil</td>\n",
       "      <td>Americas</td>\n",
       "      <td>Latin America and the Caribbean</td>\n",
       "      <td>ESCOLA MUNICIPAL NOSSA SENHORA DE NAZARE</td>\n",
       "      <td>POINT (-58.77146 -4.10128)</td>\n",
       "      <td>b2ee84e6-b76a-3d39-9b44-fa2f4a5c9bef</td>\n",
       "    </tr>\n",
       "    <tr>\n",
       "      <th>385777</th>\n",
       "      <td>UNICEF-NER-SCHOOL-00018446</td>\n",
       "      <td>UNICEF</td>\n",
       "      <td>NER</td>\n",
       "      <td>Niger</td>\n",
       "      <td>Africa</td>\n",
       "      <td>Sub-Saharan Africa</td>\n",
       "      <td>CEG de Sabon Garin Kan</td>\n",
       "      <td>POINT (6.92689 13.48172)</td>\n",
       "      <td>1ae4b2f2-8976-3308-96c2-b6879f33a184</td>\n",
       "    </tr>\n",
       "  </tbody>\n",
       "</table>\n",
       "</div>"
      ],
      "text/plain": [
       "                               UID  source  iso     country    region  \\\n",
       "145271  UNICEF-UZB-SCHOOL-00002036  UNICEF  UZB  Uzbekistan      Asia   \n",
       "345826  UNICEF-BRA-SCHOOL-00004397  UNICEF  BRA      Brazil  Americas   \n",
       "385777  UNICEF-NER-SCHOOL-00018446  UNICEF  NER       Niger    Africa   \n",
       "\n",
       "                              subregion  \\\n",
       "145271                     Central Asia   \n",
       "345826  Latin America and the Caribbean   \n",
       "385777               Sub-Saharan Africa   \n",
       "\n",
       "                                            name                    geometry  \\\n",
       "145271                      12,Besharyk,Ferghana   POINT (70.54675 40.41799)   \n",
       "345826  ESCOLA MUNICIPAL NOSSA SENHORA DE NAZARE  POINT (-58.77146 -4.10128)   \n",
       "385777                   CEG de Sabon Garin Kan    POINT (6.92689 13.48172)   \n",
       "\n",
       "                              giga_id_school  \n",
       "145271  8b390c4c-887d-30c1-b2d8-fd5c4bfe0959  \n",
       "345826  b2ee84e6-b76a-3d39-9b44-fa2f4a5c9bef  \n",
       "385777  1ae4b2f2-8976-3308-96c2-b6879f33a184  "
      ]
     },
     "execution_count": 52,
     "metadata": {},
     "output_type": "execute_result"
    }
   ],
   "source": [
    "clean_data = data_utils.deduplicate_data(\n",
    "    data_dir='data/schools', \n",
    "    out_dir='data/schools/clean',\n",
    "    buffer_size=50\n",
    ")\n",
    "clean_data.sample(3)"
   ]
  },
  {
   "cell_type": "markdown",
   "id": "b556327a-3d6a-4e36-9eb6-cbfb01b289ec",
   "metadata": {},
   "source": [
    "## Data Inspection"
   ]
  },
  {
   "cell_type": "code",
   "execution_count": 5,
   "id": "9fbeac6a-3adf-4c3c-af0c-e14582292aa4",
   "metadata": {
    "tags": []
   },
   "outputs": [
    {
     "data": {
      "text/plain": [
       "region\n",
       "Africa      232314\n",
       "Americas    150167\n",
       "Asia         51636\n",
       "Europe       14676\n",
       "Oceania        104\n",
       "Name: count, dtype: int64"
      ]
     },
     "execution_count": 5,
     "metadata": {},
     "output_type": "execute_result"
    }
   ],
   "source": [
    "clean_data.region.value_counts()"
   ]
  },
  {
   "cell_type": "code",
   "execution_count": 6,
   "id": "b32aa2c1-d06e-4074-a9d4-eb02be3922f2",
   "metadata": {
    "tags": []
   },
   "outputs": [
    {
     "data": {
      "text/plain": [
       "subregion\n",
       "Sub-Saharan Africa                 232314\n",
       "Latin America and the Caribbean    150167\n",
       "South-eastern Asia                  32423\n",
       "Central Asia                        18052\n",
       "Eastern Europe                      12839\n",
       "Southern Europe                      1837\n",
       "Eastern Asia                         1161\n",
       "Micronesia                            104\n",
       "Name: count, dtype: int64"
      ]
     },
     "execution_count": 6,
     "metadata": {},
     "output_type": "execute_result"
    }
   ],
   "source": [
    "clean_data.subregion.value_counts()"
   ]
  },
  {
   "cell_type": "code",
   "execution_count": 7,
   "id": "9b3b1813-07c6-4960-a78f-a1802b80f812",
   "metadata": {
    "tags": []
   },
   "outputs": [
    {
     "data": {
      "text/plain": [
       "country\n",
       "Brazil                              119959\n",
       "Nigeria                             102916\n",
       "South Africa                         43406\n",
       "Thailand                             32423\n",
       "Niger                                16961\n",
       "Honduras                             14883\n",
       "Ghana                                14265\n",
       "Kenya                                12496\n",
       "Uzbekistan                           10475\n",
       "Ukraine                               9892\n",
       "Zimbabwe                              8769\n",
       "Malawi                                7708\n",
       "Kazakhstan                            7577\n",
       "Benin                                 6770\n",
       "Sierra Leone                          5799\n",
       "El Salvador                           5135\n",
       "Costa Rica                            4785\n",
       "South Sudan                           4314\n",
       "Rwanda                                3533\n",
       "Panama                                3247\n",
       "Hungary                               2947\n",
       "Namibia                               2158\n",
       "Bosnia and Herzegovina                1837\n",
       "Botswana                              1617\n",
       "Guinea                                1602\n",
       "Mongolia                              1161\n",
       "Trinidad and Tobago                    781\n",
       "Belize                                 472\n",
       "Barbados                               225\n",
       "Grenada                                140\n",
       "Saint Lucia                            138\n",
       "Saint Vincent and the Grenadines       113\n",
       "Kiribati                               104\n",
       "Dominica                                82\n",
       "Antigua and Barbuda                     79\n",
       "Saint Kitts and Nevis                   65\n",
       "Virgin Islands (British)                30\n",
       "Anguilla                                20\n",
       "Montserrat                              13\n",
       "Name: count, dtype: int64"
      ]
     },
     "execution_count": 7,
     "metadata": {},
     "output_type": "execute_result"
    }
   ],
   "source": [
    "clean_data.country.value_counts()"
   ]
  }
 ],
 "metadata": {
  "kernelspec": {
   "display_name": "giga",
   "language": "python",
   "name": "giga"
  },
  "language_info": {
   "codemirror_mode": {
    "name": "ipython",
    "version": 3
   },
   "file_extension": ".py",
   "mimetype": "text/x-python",
   "name": "python",
   "nbconvert_exporter": "python",
   "pygments_lexer": "ipython3",
   "version": "3.11.5"
  }
 },
 "nbformat": 4,
 "nbformat_minor": 5
}
