{
 "cells": [
  {
   "cell_type": "markdown",
   "id": "db5974d1-7220-4373-9b16-7e2064e9d958",
   "metadata": {},
   "source": [
    "## Imports and Setup"
   ]
  },
  {
   "cell_type": "code",
   "execution_count": 1,
   "id": "7d404012-fd2a-4908-8940-4d7b26025b38",
   "metadata": {
    "tags": []
   },
   "outputs": [],
   "source": [
    "import os\n",
    "import pandas as pd\n",
    "import geopandas as gpd\n",
    "\n",
    "import sys\n",
    "sys.path.insert(0, \"../utils/\")\n",
    "import clean_utils\n",
    "import config_utils\n",
    "\n",
    "import warnings\n",
    "warnings.filterwarnings('ignore')\n",
    "warnings.simplefilter('ignore')\n",
    "\n",
    "%load_ext autoreload\n",
    "%autoreload 2"
   ]
  },
  {
   "cell_type": "markdown",
   "id": "da2b5296-e8a1-4c9f-803c-a596f2ac8746",
   "metadata": {},
   "source": [
    "## Data Configs"
   ]
  },
  {
   "cell_type": "code",
   "execution_count": 2,
   "id": "6f4ce7e2-a4e2-4253-b878-e60990c243b1",
   "metadata": {},
   "outputs": [],
   "source": [
    "cwd = os.path.dirname(os.getcwd())\n",
    "config_file = os.path.join(cwd, 'configs/data_config.yaml')\n",
    "config = config_utils.create_config(config_file)"
   ]
  },
  {
   "cell_type": "markdown",
   "id": "2ad6167a-ccbb-45d0-a03c-16a84b55e997",
   "metadata": {},
   "source": [
    "## Clean Schools Dataset"
   ]
  },
  {
   "cell_type": "code",
   "execution_count": null,
   "id": "1a14850a-b3f1-42d5-8ae1-6e1b86c08453",
   "metadata": {
    "tags": []
   },
   "outputs": [],
   "source": [
    "schools = clean_utils.clean_data(config, category=\"school\", gee=False)\n",
    "schools.sample(3)"
   ]
  },
  {
   "cell_type": "markdown",
   "id": "be0c02be-926f-43da-b710-df7a93a208cb",
   "metadata": {},
   "source": [
    "## Clean Non-schools Dataset"
   ]
  },
  {
   "cell_type": "code",
   "execution_count": null,
   "id": "1009f777-178d-43cd-94e8-bbfe586504a3",
   "metadata": {
    "tags": []
   },
   "outputs": [],
   "source": [
    "nonschools = clean_utils.clean_data(config, category=\"non_school\", gee=False)\n",
    "nonschools.sample(3)"
   ]
  }
 ],
 "metadata": {
  "kernelspec": {
   "display_name": "giga",
   "language": "python",
   "name": "giga"
  },
  "language_info": {
   "codemirror_mode": {
    "name": "ipython",
    "version": 3
   },
   "file_extension": ".py",
   "mimetype": "text/x-python",
   "name": "python",
   "nbconvert_exporter": "python",
   "pygments_lexer": "ipython3",
   "version": "3.11.5"
  }
 },
 "nbformat": 4,
 "nbformat_minor": 5
}
