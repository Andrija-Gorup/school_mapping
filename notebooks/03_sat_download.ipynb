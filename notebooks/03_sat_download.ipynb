{
 "cells": [
  {
   "cell_type": "markdown",
   "id": "6148df28-c45e-47de-aebc-90314bf098a6",
   "metadata": {},
   "source": [
    "## Imports and Setup"
   ]
  },
  {
   "cell_type": "code",
   "execution_count": 1,
   "id": "e6dd3df9-626d-48da-8f7f-618a445eb47c",
   "metadata": {
    "editable": true,
    "slideshow": {
     "slide_type": ""
    },
    "tags": []
   },
   "outputs": [],
   "source": [
    "import os\n",
    "import sys\n",
    "sys.path.insert(0, \"../\")\n",
    "import sat_download\n",
    "sys.path.insert(0, \"../utils/\")\n",
    "import config_utils\n",
    "\n",
    "%load_ext autoreload\n",
    "%autoreload 2"
   ]
  },
  {
   "cell_type": "markdown",
   "id": "95c83265-3702-439c-9ea5-5e6593d086b0",
   "metadata": {},
   "source": [
    "## File Locations"
   ]
  },
  {
   "cell_type": "code",
   "execution_count": 5,
   "id": "009328db-1720-4b88-87b7-1778f491c1a5",
   "metadata": {
    "tags": []
   },
   "outputs": [],
   "source": [
    "iso = \"BWA\"\n",
    "cwd = os.path.dirname(os.getcwd())\n",
    "\n",
    "# Credential config file\n",
    "config_file = os.path.join(cwd, \"configs/sat_configs/sat_config_512x512_60cm.yaml\")\n",
    "creds_file = os.path.join(cwd, \"configs/sat_creds.yaml\")\n",
    "\n",
    "config = config_utils.create_config(config_file)\n",
    "creds = config_utils.create_config(creds_file)"
   ]
  },
  {
   "cell_type": "markdown",
   "id": "db842671-9d4f-483c-8f9b-f9aa5be2256b",
   "metadata": {},
   "source": [
    "## Download Dataset"
   ]
  },
  {
   "cell_type": "code",
   "execution_count": 8,
   "id": "60828c2a-73f2-4414-b0db-9f1c5f606952",
   "metadata": {
    "tags": []
   },
   "outputs": [
    {
     "name": "stderr",
     "output_type": "stream",
     "text": [
      "INFO:root:Data dimensions: (1342, 12), CRS: EPSG:3857\n",
      "100%|███████████████████████████████████████████████████████████████████████████████| 1342/1342 [17:27<00:00,  1.28it/s]\n"
     ]
    }
   ],
   "source": [
    "sat_download.download_images(creds, config, category=\"school\", iso=iso)"
   ]
  },
  {
   "cell_type": "code",
   "execution_count": 9,
   "id": "99b59cd9-07b0-4ec4-84fa-35497a50e388",
   "metadata": {
    "tags": []
   },
   "outputs": [
    {
     "name": "stderr",
     "output_type": "stream",
     "text": [
      "INFO:root:Data dimensions: (1566, 10), CRS: EPSG:3857\n",
      "100%|███████████████████████████████████████████████████████████████████████████████| 1566/1566 [26:57<00:00,  1.03s/it]\n"
     ]
    }
   ],
   "source": [
    "sat_download.download_images(creds, config, category=\"non_school\", iso=iso)"
   ]
  }
 ],
 "metadata": {
  "kernelspec": {
   "display_name": "giga",
   "language": "python",
   "name": "giga"
  },
  "language_info": {
   "codemirror_mode": {
    "name": "ipython",
    "version": 3
   },
   "file_extension": ".py",
   "mimetype": "text/x-python",
   "name": "python",
   "nbconvert_exporter": "python",
   "pygments_lexer": "ipython3",
   "version": "3.11.5"
  }
 },
 "nbformat": 4,
 "nbformat_minor": 5
}
