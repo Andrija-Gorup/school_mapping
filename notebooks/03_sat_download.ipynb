{
 "cells": [
  {
   "cell_type": "markdown",
   "id": "6148df28-c45e-47de-aebc-90314bf098a6",
   "metadata": {},
   "source": [
    "## Imports and Setup"
   ]
  },
  {
   "cell_type": "code",
   "execution_count": 1,
   "id": "32fb21ec-02dd-4cc9-921c-85e6bb1ab2c5",
   "metadata": {
    "editable": true,
    "slideshow": {
     "slide_type": ""
    },
    "tags": []
   },
   "outputs": [],
   "source": [
    "import os\n",
    "import sys\n",
    "sys.path.insert(0, \"../\")\n",
    "import sat_download\n",
    "sys.path.insert(0, \"../utils/\")\n",
    "import config_utils\n",
    "\n",
    "%load_ext autoreload\n",
    "%autoreload 2"
   ]
  },
  {
   "cell_type": "markdown",
   "id": "95c83265-3702-439c-9ea5-5e6593d086b0",
   "metadata": {},
   "source": [
    "## File Locations"
   ]
  },
  {
   "cell_type": "code",
   "execution_count": 2,
   "id": "009328db-1720-4b88-87b7-1778f491c1a5",
   "metadata": {
    "tags": []
   },
   "outputs": [],
   "source": [
    "iso = \"ATG\"\n",
    "cwd = os.path.dirname(os.getcwd())\n",
    "\n",
    "# Config files\n",
    "config_file = os.path.join(cwd, \"configs/sat_config.yaml\")\n",
    "creds_file = os.path.join(cwd, \"configs/sat_creds.yaml\")\n",
    "\n",
    "# Load config files\n",
    "config = config_utils.create_config(config_file)\n",
    "creds = config_utils.create_config(creds_file)"
   ]
  },
  {
   "cell_type": "markdown",
   "id": "db842671-9d4f-483c-8f9b-f9aa5be2256b",
   "metadata": {},
   "source": [
    "## Download Dataset"
   ]
  },
  {
   "cell_type": "code",
   "execution_count": 4,
   "id": "60828c2a-73f2-4414-b0db-9f1c5f606952",
   "metadata": {
    "tags": []
   },
   "outputs": [
    {
     "name": "stdout",
     "output_type": "stream",
     "text": [
      "Data dimensions: (57, 7), CRS: EPSG:3857\n"
     ]
    },
    {
     "data": {
      "application/vnd.jupyter.widget-view+json": {
       "model_id": "9c068cbfd38240c2afcd31accd909666",
       "version_major": 2,
       "version_minor": 0
      },
      "text/plain": [
       "  0%|          | 0/57 [00:00<?, ?it/s]"
      ]
     },
     "metadata": {},
     "output_type": "display_data"
    }
   ],
   "source": [
    "filename= os.path.join(cwd, \"data/schools/overture.geojson\")\n",
    "sat_download.download_images(filename, creds, config, iso=iso)"
   ]
  },
  {
   "cell_type": "code",
   "execution_count": 5,
   "id": "28e7cb72-3c30-42c7-b6c9-7d412bda2210",
   "metadata": {
    "tags": []
   },
   "outputs": [
    {
     "name": "stdout",
     "output_type": "stream",
     "text": [
      "Data dimensions: (43, 9), CRS: EPSG:3857\n"
     ]
    },
    {
     "data": {
      "application/vnd.jupyter.widget-view+json": {
       "model_id": "b250a0fb9c4d4265969a93b1b54b6ef9",
       "version_major": 2,
       "version_minor": 0
      },
      "text/plain": [
       "  0%|          | 0/43 [00:00<?, ?it/s]"
      ]
     },
     "metadata": {},
     "output_type": "display_data"
    },
    {
     "ename": "ServiceException",
     "evalue": "Could not load image.",
     "output_type": "error",
     "traceback": [
      "\u001b[0;31m---------------------------------------------------------------------------\u001b[0m",
      "\u001b[0;31mServiceException\u001b[0m                          Traceback (most recent call last)",
      "Cell \u001b[0;32mIn[5], line 2\u001b[0m\n\u001b[1;32m      1\u001b[0m filename\u001b[38;5;241m=\u001b[39m os\u001b[38;5;241m.\u001b[39mpath\u001b[38;5;241m.\u001b[39mjoin(cwd, \u001b[38;5;124m\"\u001b[39m\u001b[38;5;124mdata/schools/giga.geojson\u001b[39m\u001b[38;5;124m\"\u001b[39m)\n\u001b[0;32m----> 2\u001b[0m sat_download\u001b[38;5;241m.\u001b[39mdownload_images(filename, creds, config, iso\u001b[38;5;241m=\u001b[39miso)\n",
      "File \u001b[0;32m~/giga/notebooks/../sat_download.py:45\u001b[0m, in \u001b[0;36mdownload_images\u001b[0;34m(filename, creds, config, iso, src_crs, id_col)\u001b[0m\n\u001b[1;32m     38\u001b[0m \u001b[38;5;28;01mfor\u001b[39;00m i \u001b[38;5;129;01min\u001b[39;00m tqdm(\u001b[38;5;28mrange\u001b[39m(\u001b[38;5;28mlen\u001b[39m(data))):\n\u001b[1;32m     39\u001b[0m     bbox\u001b[38;5;241m=\u001b[39m(\n\u001b[1;32m     40\u001b[0m         data\u001b[38;5;241m.\u001b[39mlon[i] \u001b[38;5;241m-\u001b[39m config[\u001b[38;5;124m'\u001b[39m\u001b[38;5;124mSIZE\u001b[39m\u001b[38;5;124m'\u001b[39m], \n\u001b[1;32m     41\u001b[0m         data\u001b[38;5;241m.\u001b[39mlat[i] \u001b[38;5;241m-\u001b[39m config[\u001b[38;5;124m'\u001b[39m\u001b[38;5;124mSIZE\u001b[39m\u001b[38;5;124m'\u001b[39m], \n\u001b[1;32m     42\u001b[0m         data\u001b[38;5;241m.\u001b[39mlon[i] \u001b[38;5;241m+\u001b[39m config[\u001b[38;5;124m'\u001b[39m\u001b[38;5;124mSIZE\u001b[39m\u001b[38;5;124m'\u001b[39m], \n\u001b[1;32m     43\u001b[0m         data\u001b[38;5;241m.\u001b[39mlat[i] \u001b[38;5;241m+\u001b[39m config[\u001b[38;5;124m'\u001b[39m\u001b[38;5;124mSIZE\u001b[39m\u001b[38;5;124m'\u001b[39m], \n\u001b[1;32m     44\u001b[0m     )\n\u001b[0;32m---> 45\u001b[0m     img \u001b[38;5;241m=\u001b[39m wms\u001b[38;5;241m.\u001b[39mgetmap(\n\u001b[1;32m     46\u001b[0m         bbox\u001b[38;5;241m=\u001b[39mbbox,\n\u001b[1;32m     47\u001b[0m         layers\u001b[38;5;241m=\u001b[39mconfig[\u001b[38;5;124m'\u001b[39m\u001b[38;5;124mLAYERS\u001b[39m\u001b[38;5;124m'\u001b[39m],\n\u001b[1;32m     48\u001b[0m         srs\u001b[38;5;241m=\u001b[39mconfig[\u001b[38;5;124m'\u001b[39m\u001b[38;5;124mSRS\u001b[39m\u001b[38;5;124m'\u001b[39m],\n\u001b[1;32m     49\u001b[0m         size\u001b[38;5;241m=\u001b[39m(config[\u001b[38;5;124m'\u001b[39m\u001b[38;5;124mWIDTH\u001b[39m\u001b[38;5;124m'\u001b[39m], config[\u001b[38;5;124m'\u001b[39m\u001b[38;5;124mHEIGHT\u001b[39m\u001b[38;5;124m'\u001b[39m]),\n\u001b[1;32m     50\u001b[0m         featureProfile\u001b[38;5;241m=\u001b[39mconfig[\u001b[38;5;124m'\u001b[39m\u001b[38;5;124mFEATUREPROFILE\u001b[39m\u001b[38;5;124m'\u001b[39m],\n\u001b[1;32m     51\u001b[0m         coverage_cql_filter\u001b[38;5;241m=\u001b[39mconfig[\u001b[38;5;124m'\u001b[39m\u001b[38;5;124mCOVERAGE_CQL_FILTER\u001b[39m\u001b[38;5;124m'\u001b[39m],\n\u001b[1;32m     52\u001b[0m         exceptions\u001b[38;5;241m=\u001b[39mconfig[\u001b[38;5;124m'\u001b[39m\u001b[38;5;124mEXCEPTIONS\u001b[39m\u001b[38;5;124m'\u001b[39m],\n\u001b[1;32m     53\u001b[0m         transparent\u001b[38;5;241m=\u001b[39mconfig[\u001b[38;5;124m'\u001b[39m\u001b[38;5;124mTRANSPARENT\u001b[39m\u001b[38;5;124m'\u001b[39m],\n\u001b[1;32m     54\u001b[0m         \u001b[38;5;28mformat\u001b[39m\u001b[38;5;241m=\u001b[39mconfig[\u001b[38;5;124m'\u001b[39m\u001b[38;5;124mFORMAT\u001b[39m\u001b[38;5;124m'\u001b[39m]          \n\u001b[1;32m     55\u001b[0m     )\n\u001b[1;32m     56\u001b[0m     image_name \u001b[38;5;241m=\u001b[39m data[id_col][i]\n\u001b[1;32m     57\u001b[0m     image_name \u001b[38;5;241m=\u001b[39m \u001b[38;5;124mf\u001b[39m\u001b[38;5;124m\"\u001b[39m\u001b[38;5;132;01m{\u001b[39;00mconfig[\u001b[38;5;124m'\u001b[39m\u001b[38;5;124mDIR\u001b[39m\u001b[38;5;124m'\u001b[39m]\u001b[38;5;132;01m}\u001b[39;00m\u001b[38;5;132;01m{\u001b[39;00mimage_name\u001b[38;5;132;01m}\u001b[39;00m\u001b[38;5;124m.tiff\u001b[39m\u001b[38;5;124m\"\u001b[39m\n",
      "File \u001b[0;32m~/miniconda3/envs/giga/lib/python3.11/site-packages/owslib/map/wms111.py:271\u001b[0m, in \u001b[0;36mWebMapService_1_1_1.getmap\u001b[0;34m(self, layers, styles, srs, bbox, format, size, time, transparent, bgcolor, exceptions, method, timeout, **kwargs)\u001b[0m\n\u001b[1;32m    269\u001b[0m     se_tree \u001b[38;5;241m=\u001b[39m etree\u001b[38;5;241m.\u001b[39mfromstring(se_xml)\n\u001b[1;32m    270\u001b[0m     err_message \u001b[38;5;241m=\u001b[39m \u001b[38;5;28mstr\u001b[39m(se_tree\u001b[38;5;241m.\u001b[39mfind(\u001b[38;5;124m'\u001b[39m\u001b[38;5;124mServiceException\u001b[39m\u001b[38;5;124m'\u001b[39m)\u001b[38;5;241m.\u001b[39mtext)\u001b[38;5;241m.\u001b[39mstrip()\n\u001b[0;32m--> 271\u001b[0m     \u001b[38;5;28;01mraise\u001b[39;00m ServiceException(err_message)\n\u001b[1;32m    272\u001b[0m \u001b[38;5;28;01mreturn\u001b[39;00m u\n",
      "\u001b[0;31mServiceException\u001b[0m: Could not load image."
     ]
    }
   ],
   "source": [
    "filename= os.path.join(cwd, \"data/schools/giga.geojson\")\n",
    "sat_download.download_images(filename, creds, config, iso=iso)"
   ]
  }
 ],
 "metadata": {
  "kernelspec": {
   "display_name": "giga",
   "language": "python",
   "name": "giga"
  },
  "language_info": {
   "codemirror_mode": {
    "name": "ipython",
    "version": 3
   },
   "file_extension": ".py",
   "mimetype": "text/x-python",
   "name": "python",
   "nbconvert_exporter": "python",
   "pygments_lexer": "ipython3",
   "version": "3.11.5"
  }
 },
 "nbformat": 4,
 "nbformat_minor": 5
}
