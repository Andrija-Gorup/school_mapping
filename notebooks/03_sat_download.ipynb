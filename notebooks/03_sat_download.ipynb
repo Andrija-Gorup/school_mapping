{
 "cells": [
  {
   "cell_type": "markdown",
   "id": "6148df28-c45e-47de-aebc-90314bf098a6",
   "metadata": {},
   "source": [
    "## Imports and Setup"
   ]
  },
  {
   "cell_type": "code",
   "execution_count": 1,
   "id": "e6dd3df9-626d-48da-8f7f-618a445eb47c",
   "metadata": {
    "editable": true,
    "slideshow": {
     "slide_type": ""
    },
    "tags": []
   },
   "outputs": [],
   "source": [
    "import os\n",
    "import sys\n",
    "sys.path.insert(0, \"../\")\n",
    "import sat_download\n",
    "sys.path.insert(0, \"../utils/\")\n",
    "import config_utils\n",
    "\n",
    "%load_ext autoreload\n",
    "%autoreload 2"
   ]
  },
  {
   "cell_type": "markdown",
   "id": "95c83265-3702-439c-9ea5-5e6593d086b0",
   "metadata": {},
   "source": [
    "## File Locations"
   ]
  },
  {
   "cell_type": "code",
   "execution_count": 22,
   "id": "009328db-1720-4b88-87b7-1778f491c1a5",
   "metadata": {
    "tags": []
   },
   "outputs": [],
   "source": [
    "iso = \"NER\"\n",
    "cwd = os.path.dirname(os.getcwd())\n",
    "\n",
    "# Credential config file\n",
    "creds_file = os.path.join(cwd, \"configs/sat_creds.yaml\")\n",
    "creds = config_utils.create_config(creds_file)"
   ]
  },
  {
   "cell_type": "markdown",
   "id": "db842671-9d4f-483c-8f9b-f9aa5be2256b",
   "metadata": {},
   "source": [
    "## Download Dataset"
   ]
  },
  {
   "cell_type": "code",
   "execution_count": 23,
   "id": "60828c2a-73f2-4414-b0db-9f1c5f606952",
   "metadata": {
    "tags": []
   },
   "outputs": [
    {
     "name": "stdout",
     "output_type": "stream",
     "text": [
      "Data dimensions: (50, 11), CRS: EPSG:3857\n"
     ]
    },
    {
     "data": {
      "application/vnd.jupyter.widget-view+json": {
       "model_id": "16c380fb48f24d2ca6b3e402ab0d6adb",
       "version_major": 2,
       "version_minor": 0
      },
      "text/plain": [
       "  0%|          | 0/50 [00:00<?, ?it/s]"
      ]
     },
     "metadata": {},
     "output_type": "display_data"
    }
   ],
   "source": [
    "category = 'school'\n",
    "config_file = os.path.join(cwd, \"configs/sat_config_512x512_60cm.yaml\")\n",
    "config = config_utils.create_config(config_file)\n",
    "filename= os.path.join(cwd, f\"data/vectors/{category}/clean/{iso}_clean.geojson\")\n",
    "out_dir = os.path.join(cwd, f'data/images/512x512_60cm/{iso}/{category}/')\n",
    "sat_download.download_images(filename, creds, config, out_dir, sample_size=50, iso=iso)"
   ]
  },
  {
   "cell_type": "code",
   "execution_count": 24,
   "id": "99b59cd9-07b0-4ec4-84fa-35497a50e388",
   "metadata": {
    "tags": []
   },
   "outputs": [
    {
     "name": "stdout",
     "output_type": "stream",
     "text": [
      "Data dimensions: (50, 10), CRS: EPSG:3857\n"
     ]
    },
    {
     "data": {
      "application/vnd.jupyter.widget-view+json": {
       "model_id": "f62817b862054622adc5377eb2b0d325",
       "version_major": 2,
       "version_minor": 0
      },
      "text/plain": [
       "  0%|          | 0/50 [00:00<?, ?it/s]"
      ]
     },
     "metadata": {},
     "output_type": "display_data"
    }
   ],
   "source": [
    "category = 'non_school'\n",
    "filename= os.path.join(cwd, f\"data/vectors/{category}/clean/{iso}_clean.geojson\")\n",
    "out_dir = os.path.join(cwd, f'data/images/512x512_60cm/{iso}/{category}/')\n",
    "sat_download.download_images(filename, creds, config, out_dir, sample_size=50, iso=iso)"
   ]
  }
 ],
 "metadata": {
  "kernelspec": {
   "display_name": "giga",
   "language": "python",
   "name": "giga"
  },
  "language_info": {
   "codemirror_mode": {
    "name": "ipython",
    "version": 3
   },
   "file_extension": ".py",
   "mimetype": "text/x-python",
   "name": "python",
   "nbconvert_exporter": "python",
   "pygments_lexer": "ipython3",
   "version": "3.11.5"
  }
 },
 "nbformat": 4,
 "nbformat_minor": 5
}
