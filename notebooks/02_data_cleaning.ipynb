{
 "cells": [
  {
   "cell_type": "markdown",
   "id": "a58bbfb1-5a57-4549-b6c0-e0da74052bb6",
   "metadata": {},
   "source": [
    "## Imports and Setup"
   ]
  },
  {
   "cell_type": "code",
   "execution_count": 1,
   "id": "0206136a-ef06-4fa3-b11f-f6a344dbd580",
   "metadata": {},
   "outputs": [],
   "source": [
    "import pandas\n",
    "import geopandas"
   ]
  },
  {
   "cell_type": "code",
   "execution_count": null,
   "id": "e7082f66-4689-4d0a-8b63-c089c21171dc",
   "metadata": {},
   "outputs": [],
   "source": [
    "cwd = os.path.dirname(os.getcwd())\n",
    "\n",
    "giga_file = os.path.join(cwd, \"data/schools/giga.geojson\")\n",
    "overture_file = os.path.join(cwd, \"data/schools/overture.geojson\")\n",
    "osm_file = os.path.join(cwd, \"data/schools/osm.geojson\")"
   ]
  },
  {
   "cell_type": "code",
   "execution_count": null,
   "id": "77a60778-6eee-4dc5-971c-3048334aeba2",
   "metadata": {},
   "outputs": [],
   "source": []
  }
 ],
 "metadata": {
  "kernelspec": {
   "display_name": "giga",
   "language": "python",
   "name": "giga"
  },
  "language_info": {
   "codemirror_mode": {
    "name": "ipython",
    "version": 3
   },
   "file_extension": ".py",
   "mimetype": "text/x-python",
   "name": "python",
   "nbconvert_exporter": "python",
   "pygments_lexer": "ipython3",
   "version": "3.11.5"
  }
 },
 "nbformat": 4,
 "nbformat_minor": 5
}
