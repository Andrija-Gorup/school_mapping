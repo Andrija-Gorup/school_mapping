{
 "cells": [
  {
   "cell_type": "markdown",
   "id": "db5974d1-7220-4373-9b16-7e2064e9d958",
   "metadata": {},
   "source": [
    "## Imports and Setup"
   ]
  },
  {
   "cell_type": "code",
   "execution_count": 1,
   "id": "870400b5-e8b5-4e1f-b488-6fc985d4dcb2",
   "metadata": {
    "tags": []
   },
   "outputs": [],
   "source": [
    "import os\n",
    "import pandas as pd\n",
    "import geopandas as gpd\n",
    "\n",
    "import sys\n",
    "sys.path.insert(0, \"../utils/\")\n",
    "import clean_utils\n",
    "\n",
    "%load_ext autoreload\n",
    "%autoreload 2"
   ]
  },
  {
   "cell_type": "markdown",
   "id": "2ad6167a-ccbb-45d0-a03c-16a84b55e997",
   "metadata": {},
   "source": [
    "## Clean Schools Dataset"
   ]
  },
  {
   "cell_type": "code",
   "execution_count": 43,
   "id": "118344e9-5e52-4f5d-a72e-4744a869ad25",
   "metadata": {
    "tags": []
   },
   "outputs": [
    {
     "data": {
      "application/vnd.jupyter.widget-view+json": {
       "model_id": "3bf26c5af1624e71a2d073dd61fd898f",
       "version_major": 2,
       "version_minor": 0
      },
      "text/plain": [
       "  0%|          | 0/3 [00:00<?, ?it/s]"
      ]
     },
     "metadata": {},
     "output_type": "display_data"
    },
    {
     "data": {
      "application/vnd.jupyter.widget-view+json": {
       "model_id": "10ba79fa71d442a7821242d54be4fc4e",
       "version_major": 2,
       "version_minor": 0
      },
      "text/plain": [
       "  0%|          | 0/39 [00:00<?, ?it/s]"
      ]
     },
     "metadata": {},
     "output_type": "display_data"
    },
    {
     "name": "stdout",
     "output_type": "stream",
     "text": [
      "Data dimensions: (459942, 9), CRS: EPSG:4326\n",
      "Generated /home/itingzon.unicef/giga/data/vectors/school/clean.geojson\n"
     ]
    },
    {
     "data": {
      "text/html": [
       "<div>\n",
       "<style scoped>\n",
       "    .dataframe tbody tr th:only-of-type {\n",
       "        vertical-align: middle;\n",
       "    }\n",
       "\n",
       "    .dataframe tbody tr th {\n",
       "        vertical-align: top;\n",
       "    }\n",
       "\n",
       "    .dataframe thead th {\n",
       "        text-align: right;\n",
       "    }\n",
       "</style>\n",
       "<table border=\"1\" class=\"dataframe\">\n",
       "  <thead>\n",
       "    <tr style=\"text-align: right;\">\n",
       "      <th></th>\n",
       "      <th>UID</th>\n",
       "      <th>source</th>\n",
       "      <th>iso</th>\n",
       "      <th>country</th>\n",
       "      <th>region</th>\n",
       "      <th>subregion</th>\n",
       "      <th>name</th>\n",
       "      <th>giga_id_school</th>\n",
       "      <th>geometry</th>\n",
       "    </tr>\n",
       "  </thead>\n",
       "  <tbody>\n",
       "    <tr>\n",
       "      <th>244849</th>\n",
       "      <td>UNICEF-ZAF-SCHOOL-00029021</td>\n",
       "      <td>UNICEF</td>\n",
       "      <td>ZAF</td>\n",
       "      <td>South Africa</td>\n",
       "      <td>Africa</td>\n",
       "      <td>Sub-Saharan Africa</td>\n",
       "      <td>Jacobsdal Landbouskool</td>\n",
       "      <td>ac846541-9410-315b-8459-2079809c025c</td>\n",
       "      <td>POINT (24.74843 -29.12195)</td>\n",
       "    </tr>\n",
       "    <tr>\n",
       "      <th>440564</th>\n",
       "      <td>OVERTURE-ZWE-SCHOOL-00000016</td>\n",
       "      <td>OVERTURE</td>\n",
       "      <td>ZWE</td>\n",
       "      <td>Zimbabwe</td>\n",
       "      <td>Africa</td>\n",
       "      <td>Sub-Saharan Africa</td>\n",
       "      <td>Tutorial Home Schools - SA &amp; ZW</td>\n",
       "      <td>None</td>\n",
       "      <td>POINT (31.11224 -17.76360)</td>\n",
       "    </tr>\n",
       "    <tr>\n",
       "      <th>440407</th>\n",
       "      <td>UNICEF-ZWE-SCHOOL-00003917</td>\n",
       "      <td>UNICEF</td>\n",
       "      <td>ZWE</td>\n",
       "      <td>Zimbabwe</td>\n",
       "      <td>Africa</td>\n",
       "      <td>Sub-Saharan Africa</td>\n",
       "      <td>MADHODHA</td>\n",
       "      <td>8c105f42-f7d5-3767-af3a-f79502e0176c</td>\n",
       "      <td>POINT (30.09549 -18.50988)</td>\n",
       "    </tr>\n",
       "  </tbody>\n",
       "</table>\n",
       "</div>"
      ],
      "text/plain": [
       "                                 UID    source  iso       country  region  \\\n",
       "244849    UNICEF-ZAF-SCHOOL-00029021    UNICEF  ZAF  South Africa  Africa   \n",
       "440564  OVERTURE-ZWE-SCHOOL-00000016  OVERTURE  ZWE      Zimbabwe  Africa   \n",
       "440407    UNICEF-ZWE-SCHOOL-00003917    UNICEF  ZWE      Zimbabwe  Africa   \n",
       "\n",
       "                 subregion                             name  \\\n",
       "244849  Sub-Saharan Africa           Jacobsdal Landbouskool   \n",
       "440564  Sub-Saharan Africa  Tutorial Home Schools - SA & ZW   \n",
       "440407  Sub-Saharan Africa                         MADHODHA   \n",
       "\n",
       "                              giga_id_school                    geometry  \n",
       "244849  ac846541-9410-315b-8459-2079809c025c  POINT (24.74843 -29.12195)  \n",
       "440564                                  None  POINT (31.11224 -17.76360)  \n",
       "440407  8c105f42-f7d5-3767-af3a-f79502e0176c  POINT (30.09549 -18.50988)  "
      ]
     },
     "execution_count": 43,
     "metadata": {},
     "output_type": "execute_result"
    }
   ],
   "source": [
    "schools = clean_utils.deduplicate_data(\n",
    "    data_dir='data/vectors/school', \n",
    "    out_dir='data/vectors/school/clean',\n",
    "    out_file=\"clean.geojson\",\n",
    "    buffer_size=25,\n",
    "    threshold=85,\n",
    "    matching_names_buffer_size=150\n",
    ")\n",
    "schools.sample(3)"
   ]
  },
  {
   "cell_type": "markdown",
   "id": "be0c02be-926f-43da-b710-df7a93a208cb",
   "metadata": {},
   "source": [
    "## Clean Non-schools Dataset"
   ]
  },
  {
   "cell_type": "code",
   "execution_count": 50,
   "id": "4d215904-be27-4401-a3f9-2368dbf275d5",
   "metadata": {
    "tags": []
   },
   "outputs": [
    {
     "data": {
      "application/vnd.jupyter.widget-view+json": {
       "model_id": "bb5de6d210b64078af0b57916e987584",
       "version_major": 2,
       "version_minor": 0
      },
      "text/plain": [
       "  0%|          | 0/39 [00:00<?, ?it/s]"
      ]
     },
     "metadata": {},
     "output_type": "display_data"
    },
    {
     "name": "stdout",
     "output_type": "stream",
     "text": [
      "Data dimensions: (529323, 8), CRS: EPSG:4326\n",
      "Generated /home/itingzon.unicef/giga/data/vectors/non_school/clean.geojson\n"
     ]
    },
    {
     "data": {
      "text/html": [
       "<div>\n",
       "<style scoped>\n",
       "    .dataframe tbody tr th:only-of-type {\n",
       "        vertical-align: middle;\n",
       "    }\n",
       "\n",
       "    .dataframe tbody tr th {\n",
       "        vertical-align: top;\n",
       "    }\n",
       "\n",
       "    .dataframe thead th {\n",
       "        text-align: right;\n",
       "    }\n",
       "</style>\n",
       "<table border=\"1\" class=\"dataframe\">\n",
       "  <thead>\n",
       "    <tr style=\"text-align: right;\">\n",
       "      <th></th>\n",
       "      <th>UID</th>\n",
       "      <th>source</th>\n",
       "      <th>iso</th>\n",
       "      <th>country</th>\n",
       "      <th>region</th>\n",
       "      <th>subregion</th>\n",
       "      <th>name</th>\n",
       "      <th>geometry</th>\n",
       "    </tr>\n",
       "  </thead>\n",
       "  <tbody>\n",
       "    <tr>\n",
       "      <th>492220</th>\n",
       "      <td>OSM-HUN-NON_SCHOOL-00011409</td>\n",
       "      <td>OSM</td>\n",
       "      <td>HUN</td>\n",
       "      <td>Hungary</td>\n",
       "      <td>Europe</td>\n",
       "      <td>Eastern Europe</td>\n",
       "      <td>Gesztenyés vendéglő</td>\n",
       "      <td>POINT (18.42335 46.15374)</td>\n",
       "    </tr>\n",
       "    <tr>\n",
       "      <th>144223</th>\n",
       "      <td>OSM-THA-NON_SCHOOL-00040517</td>\n",
       "      <td>OSM</td>\n",
       "      <td>THA</td>\n",
       "      <td>Thailand</td>\n",
       "      <td>Asia</td>\n",
       "      <td>South-eastern Asia</td>\n",
       "      <td>None</td>\n",
       "      <td>POINT (101.13157 16.87428)</td>\n",
       "    </tr>\n",
       "    <tr>\n",
       "      <th>332645</th>\n",
       "      <td>OSM-BRA-NON_SCHOOL-00054556</td>\n",
       "      <td>OSM</td>\n",
       "      <td>BRA</td>\n",
       "      <td>Brazil</td>\n",
       "      <td>Americas</td>\n",
       "      <td>Latin America and the Caribbean</td>\n",
       "      <td>Auditório de Ambiental</td>\n",
       "      <td>POINT (-48.43676 -1.45811)</td>\n",
       "    </tr>\n",
       "  </tbody>\n",
       "</table>\n",
       "</div>"
      ],
      "text/plain": [
       "                                UID source  iso   country    region  \\\n",
       "492220  OSM-HUN-NON_SCHOOL-00011409    OSM  HUN   Hungary    Europe   \n",
       "144223  OSM-THA-NON_SCHOOL-00040517    OSM  THA  Thailand      Asia   \n",
       "332645  OSM-BRA-NON_SCHOOL-00054556    OSM  BRA    Brazil  Americas   \n",
       "\n",
       "                              subregion                    name  \\\n",
       "492220                   Eastern Europe     Gesztenyés vendéglő   \n",
       "144223               South-eastern Asia                    None   \n",
       "332645  Latin America and the Caribbean  Auditório de Ambiental   \n",
       "\n",
       "                          geometry  \n",
       "492220   POINT (18.42335 46.15374)  \n",
       "144223  POINT (101.13157 16.87428)  \n",
       "332645  POINT (-48.43676 -1.45811)  "
      ]
     },
     "execution_count": 50,
     "metadata": {},
     "output_type": "execute_result"
    }
   ],
   "source": [
    "nonschools = clean_utils.filter_nonschools_within_school_vicinity(\n",
    "    school_data_file=\"data/vectors/school/clean.geojson\",\n",
    "    nonschool_data_dir=\"data/vectors/non_school/\",\n",
    "    out_dir=\"data/vectors/non_school/filtered/\",\n",
    "    out_file=\"filtered.geojson\",\n",
    "    buffer_size=150\n",
    ")\n",
    "nonschools = clean_utils.deduplicate_data(\n",
    "    data_file='data/vectors/non_school/filtered.geojson', \n",
    "    out_dir='data/vectors/non_school/clean',\n",
    "    buffer_size=25,\n",
    "    matching_names_buffer_size=150\n",
    ")\n",
    "nonschools.sample(3)"
   ]
  },
  {
   "cell_type": "markdown",
   "id": "37ade941-818a-4328-8958-e5abf23d4398",
   "metadata": {},
   "source": [
    "## Data Inspection"
   ]
  },
  {
   "cell_type": "code",
   "execution_count": 51,
   "id": "3640aad4-5efb-49a9-812a-8a5ca62f24ec",
   "metadata": {
    "tags": []
   },
   "outputs": [
    {
     "data": {
      "text/plain": [
       "region\n",
       "Africa      233783\n",
       "Americas    158710\n",
       "Asia         52459\n",
       "Europe       14882\n",
       "Oceania        108\n",
       "Name: count, dtype: int64"
      ]
     },
     "execution_count": 51,
     "metadata": {},
     "output_type": "execute_result"
    }
   ],
   "source": [
    "schools.region.value_counts()"
   ]
  },
  {
   "cell_type": "code",
   "execution_count": 52,
   "id": "3fc425fa-2f3b-4e9e-b235-abf1c85663f1",
   "metadata": {
    "tags": []
   },
   "outputs": [
    {
     "data": {
      "text/plain": [
       "subregion\n",
       "Sub-Saharan Africa                 233783\n",
       "Latin America and the Caribbean    158710\n",
       "South-eastern Asia                  33305\n",
       "Central Asia                        17943\n",
       "Eastern Europe                      13026\n",
       "Southern Europe                      1856\n",
       "Eastern Asia                         1211\n",
       "Micronesia                            108\n",
       "Name: count, dtype: int64"
      ]
     },
     "execution_count": 52,
     "metadata": {},
     "output_type": "execute_result"
    }
   ],
   "source": [
    "schools.subregion.value_counts()"
   ]
  },
  {
   "cell_type": "code",
   "execution_count": 53,
   "id": "3f5527a4-0d47-47a3-a485-075d9b0cc58a",
   "metadata": {
    "tags": []
   },
   "outputs": [
    {
     "data": {
      "text/plain": [
       "country\n",
       "Brazil                              127346\n",
       "Nigeria                             102725\n",
       "South Africa                         43861\n",
       "Thailand                             33305\n",
       "Niger                                17123\n",
       "Honduras                             15738\n",
       "Ghana                                14829\n",
       "Kenya                                13036\n",
       "Uzbekistan                           10297\n",
       "Ukraine                               9992\n",
       "Zimbabwe                              8768\n",
       "Kazakhstan                            7646\n",
       "Malawi                                7370\n",
       "Benin                                 6865\n",
       "Sierra Leone                          5763\n",
       "El Salvador                           5303\n",
       "Costa Rica                            4835\n",
       "South Sudan                           4533\n",
       "Rwanda                                3556\n",
       "Panama                                3293\n",
       "Hungary                               3034\n",
       "Namibia                               2141\n",
       "Bosnia and Herzegovina                1856\n",
       "Guinea                                1708\n",
       "Botswana                              1505\n",
       "Mongolia                              1211\n",
       "Trinidad and Tobago                    786\n",
       "Belize                                 476\n",
       "Barbados                               230\n",
       "Saint Lucia                            146\n",
       "Grenada                                139\n",
       "Saint Vincent and the Grenadines       116\n",
       "Kiribati                               108\n",
       "Dominica                                86\n",
       "Antigua and Barbuda                     81\n",
       "Saint Kitts and Nevis                   67\n",
       "Virgin Islands (British)                34\n",
       "Anguilla                                19\n",
       "Montserrat                              15\n",
       "Name: count, dtype: int64"
      ]
     },
     "execution_count": 53,
     "metadata": {},
     "output_type": "execute_result"
    }
   ],
   "source": [
    "schools.country.value_counts()"
   ]
  },
  {
   "cell_type": "code",
   "execution_count": 54,
   "id": "977ca355-e904-4aa3-8175-74274fd9b74d",
   "metadata": {
    "tags": []
   },
   "outputs": [
    {
     "data": {
      "text/plain": [
       "country\n",
       "Brazil                              242638\n",
       "Thailand                             79895\n",
       "Ukraine                              50034\n",
       "Hungary                              27088\n",
       "Nigeria                              19733\n",
       "Kazakhstan                           14123\n",
       "Kenya                                11790\n",
       "Uzbekistan                           11520\n",
       "Costa Rica                           10565\n",
       "Ghana                                10165\n",
       "South Africa                          7122\n",
       "Bosnia and Herzegovina                6408\n",
       "El Salvador                           3992\n",
       "Honduras                              3989\n",
       "Mongolia                              3634\n",
       "Panama                                3238\n",
       "Trinidad and Tobago                   3078\n",
       "Benin                                 2758\n",
       "Zimbabwe                              2725\n",
       "Guinea                                1984\n",
       "Botswana                              1953\n",
       "Niger                                 1713\n",
       "Malawi                                1522\n",
       "Namibia                               1220\n",
       "Belize                                1171\n",
       "Rwanda                                1081\n",
       "Barbados                               977\n",
       "Sierra Leone                           704\n",
       "South Sudan                            651\n",
       "Saint Lucia                            419\n",
       "Antigua and Barbuda                    356\n",
       "Saint Kitts and Nevis                  226\n",
       "Grenada                                216\n",
       "Saint Vincent and the Grenadines       182\n",
       "Dominica                               162\n",
       "Virgin Islands (British)               129\n",
       "Anguilla                                71\n",
       "Kiribati                                68\n",
       "Montserrat                              23\n",
       "Name: count, dtype: int64"
      ]
     },
     "execution_count": 54,
     "metadata": {},
     "output_type": "execute_result"
    }
   ],
   "source": [
    "nonschools.country.value_counts()"
   ]
  }
 ],
 "metadata": {
  "kernelspec": {
   "display_name": "giga",
   "language": "python",
   "name": "giga"
  },
  "language_info": {
   "codemirror_mode": {
    "name": "ipython",
    "version": 3
   },
   "file_extension": ".py",
   "mimetype": "text/x-python",
   "name": "python",
   "nbconvert_exporter": "python",
   "pygments_lexer": "ipython3",
   "version": "3.11.5"
  }
 },
 "nbformat": 4,
 "nbformat_minor": 5
}
