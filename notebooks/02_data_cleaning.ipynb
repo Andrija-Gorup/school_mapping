{
 "cells": [
  {
   "cell_type": "markdown",
   "id": "db5974d1-7220-4373-9b16-7e2064e9d958",
   "metadata": {},
   "source": [
    "## Imports and Setup"
   ]
  },
  {
   "cell_type": "code",
   "execution_count": 1,
   "id": "7d404012-fd2a-4908-8940-4d7b26025b38",
   "metadata": {
    "tags": []
   },
   "outputs": [],
   "source": [
    "import os\n",
    "import pandas as pd\n",
    "import geopandas as gpd\n",
    "\n",
    "import sys\n",
    "sys.path.insert(0, \"../utils/\")\n",
    "import clean_utils\n",
    "import config_utils\n",
    "\n",
    "%load_ext autoreload\n",
    "%autoreload 2"
   ]
  },
  {
   "cell_type": "markdown",
   "id": "da2b5296-e8a1-4c9f-803c-a596f2ac8746",
   "metadata": {},
   "source": [
    "## Data Configs"
   ]
  },
  {
   "cell_type": "code",
   "execution_count": 2,
   "id": "6f4ce7e2-a4e2-4253-b878-e60990c243b1",
   "metadata": {},
   "outputs": [],
   "source": [
    "cwd = os.path.dirname(os.getcwd())\n",
    "config_file = os.path.join(cwd, 'configs/data_config.yaml')\n",
    "config = config_utils.create_config(config_file)"
   ]
  },
  {
   "cell_type": "markdown",
   "id": "2ad6167a-ccbb-45d0-a03c-16a84b55e997",
   "metadata": {},
   "source": [
    "## Clean Schools Dataset"
   ]
  },
  {
   "cell_type": "code",
   "execution_count": null,
   "id": "bf339baa-414c-47e4-a4bd-f643c5e19aa2",
   "metadata": {
    "tags": []
   },
   "outputs": [
    {
     "data": {
      "text/html": [
       "<p>To authorize access needed by Earth Engine, open the following\n",
       "        URL in a web browser and follow the instructions:</p>\n",
       "        <p><a href=https://code.earthengine.google.com/client-auth?scopes=https%3A//www.googleapis.com/auth/earthengine%20https%3A//www.googleapis.com/auth/devstorage.full_control&request_id=YaqbQByihvZfCi0I_-w2liPI6wIi_KUwCkWAChfNrrw&tc=L6qUoBYFMHQblr5daawnjGXIYhhlo0T-bcT4l6Hhow4&cc=hbkaePTJZ_XOUzKb5gL4-FU1XGKdBZ9NsBUDXDMP45o>https://code.earthengine.google.com/client-auth?scopes=https%3A//www.googleapis.com/auth/earthengine%20https%3A//www.googleapis.com/auth/devstorage.full_control&request_id=YaqbQByihvZfCi0I_-w2liPI6wIi_KUwCkWAChfNrrw&tc=L6qUoBYFMHQblr5daawnjGXIYhhlo0T-bcT4l6Hhow4&cc=hbkaePTJZ_XOUzKb5gL4-FU1XGKdBZ9NsBUDXDMP45o</a></p>\n",
       "        <p>The authorization workflow will generate a code, which you should paste in the box below.</p>\n",
       "        "
      ],
      "text/plain": [
       "<IPython.core.display.HTML object>"
      ]
     },
     "metadata": {},
     "output_type": "display_data"
    },
    {
     "name": "stdin",
     "output_type": "stream",
     "text": [
      "Enter verification code:  4/1AfJohXlTqGJYnDBw1qYmEpNfXdTTXTgxi_8yLOmxv2hUXORxo1gv4xpZRFc\n"
     ]
    },
    {
     "name": "stdout",
     "output_type": "stream",
     "text": [
      "\n",
      "Successfully saved authorization token.\n"
     ]
    },
    {
     "name": "stderr",
     "output_type": "stream",
     "text": [
      "Reading osm.geojson: 100%|████████████████████| 3/3 [00:57<00:00, 19.27s/it]                                            \n",
      "Processing SSD 3203/4374:  59%|███████████▊        | 23/39 [1:38:52<00:04,  3.62it/s]                                   WARNING:googleapiclient.http:Sleeping 1.80 seconds before retry 1 of 5 for request: POST https://earthengine.googleapis.com/v1/projects/earthengine-legacy/value:compute?prettyPrint=false&alt=json, after 502\n",
      "Processing SSD 4068/4374:  59%|███████████▊        | 23/39 [2:08:38<00:04,  3.62it/s]                                   WARNING:googleapiclient.http:Sleeping 0.59 seconds before retry 1 of 5 for request: POST https://earthengine.googleapis.com/v1/projects/earthengine-legacy/thumbnails?fields=name&alt=json, after 502\n",
      "Processing MWI 6722/7107:  62%|████████████▎       | 24/39 [5:37:55<6:00:55, 1443.69s/it]                               "
     ]
    }
   ],
   "source": [
    "schools = clean_utils.clean_data(config, category=\"school\")\n",
    "schools.sample(3)"
   ]
  },
  {
   "cell_type": "markdown",
   "id": "be0c02be-926f-43da-b710-df7a93a208cb",
   "metadata": {},
   "source": [
    "## Clean Non-schools Dataset"
   ]
  },
  {
   "cell_type": "code",
   "execution_count": null,
   "id": "4d323c42-cde0-4ec2-b17e-a6581870a95b",
   "metadata": {
    "tags": []
   },
   "outputs": [],
   "source": [
    "nonschools = clean_utils.clean_data(config, category=\"non_school\")\n",
    "nonschools.sample(3)"
   ]
  }
 ],
 "metadata": {
  "kernelspec": {
   "display_name": "giga",
   "language": "python",
   "name": "giga"
  },
  "language_info": {
   "codemirror_mode": {
    "name": "ipython",
    "version": 3
   },
   "file_extension": ".py",
   "mimetype": "text/x-python",
   "name": "python",
   "nbconvert_exporter": "python",
   "pygments_lexer": "ipython3",
   "version": "3.11.5"
  }
 },
 "nbformat": 4,
 "nbformat_minor": 5
}
