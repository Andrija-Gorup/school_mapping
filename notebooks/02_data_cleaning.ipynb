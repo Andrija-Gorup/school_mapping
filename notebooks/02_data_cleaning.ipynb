{
 "cells": [
  {
   "cell_type": "markdown",
   "id": "db5974d1-7220-4373-9b16-7e2064e9d958",
   "metadata": {},
   "source": [
    "## Imports and Setup"
   ]
  },
  {
   "cell_type": "code",
   "execution_count": 1,
   "id": "870400b5-e8b5-4e1f-b488-6fc985d4dcb2",
   "metadata": {
    "tags": []
   },
   "outputs": [],
   "source": [
    "import os\n",
    "import pandas as pd\n",
    "import geopandas as gpd\n",
    "\n",
    "import sys\n",
    "sys.path.insert(0, \"../utils/\")\n",
    "import clean_utils\n",
    "\n",
    "%load_ext autoreload\n",
    "%autoreload 2"
   ]
  },
  {
   "cell_type": "markdown",
   "id": "2ad6167a-ccbb-45d0-a03c-16a84b55e997",
   "metadata": {},
   "source": [
    "## Clean Schools Dataset"
   ]
  },
  {
   "cell_type": "code",
   "execution_count": 2,
   "id": "118344e9-5e52-4f5d-a72e-4744a869ad25",
   "metadata": {
    "tags": []
   },
   "outputs": [
    {
     "data": {
      "application/vnd.jupyter.widget-view+json": {
       "model_id": "ccb14a64221a4e93b1be23788a5b43b5",
       "version_major": 2,
       "version_minor": 0
      },
      "text/plain": [
       "  0%|          | 0/3 [00:00<?, ?it/s]"
      ]
     },
     "metadata": {},
     "output_type": "display_data"
    },
    {
     "data": {
      "application/vnd.jupyter.widget-view+json": {
       "model_id": "841660909932489b9c7ed27a35d15280",
       "version_major": 2,
       "version_minor": 0
      },
      "text/plain": [
       "  0%|          | 0/39 [00:00<?, ?it/s]"
      ]
     },
     "metadata": {},
     "output_type": "display_data"
    },
    {
     "name": "stderr",
     "output_type": "stream",
     "text": [
      "INFO:root:Data dimensions: (456787, 9), CRS: EPSG:4326\n",
      "INFO:root:Generated /home/itingzon.unicef/giga/data/vectors/school/clean.geojson\n"
     ]
    },
    {
     "data": {
      "text/html": [
       "<div>\n",
       "<style scoped>\n",
       "    .dataframe tbody tr th:only-of-type {\n",
       "        vertical-align: middle;\n",
       "    }\n",
       "\n",
       "    .dataframe tbody tr th {\n",
       "        vertical-align: top;\n",
       "    }\n",
       "\n",
       "    .dataframe thead th {\n",
       "        text-align: right;\n",
       "    }\n",
       "</style>\n",
       "<table border=\"1\" class=\"dataframe\">\n",
       "  <thead>\n",
       "    <tr style=\"text-align: right;\">\n",
       "      <th></th>\n",
       "      <th>UID</th>\n",
       "      <th>source</th>\n",
       "      <th>iso</th>\n",
       "      <th>country</th>\n",
       "      <th>region</th>\n",
       "      <th>subregion</th>\n",
       "      <th>name</th>\n",
       "      <th>giga_id_school</th>\n",
       "      <th>geometry</th>\n",
       "    </tr>\n",
       "  </thead>\n",
       "  <tbody>\n",
       "    <tr>\n",
       "      <th>94381</th>\n",
       "      <td>OVERTURE-NGA-SCHOOL-00006209</td>\n",
       "      <td>OVERTURE</td>\n",
       "      <td>NGA</td>\n",
       "      <td>Nigeria</td>\n",
       "      <td>Africa</td>\n",
       "      <td>Sub-Saharan Africa</td>\n",
       "      <td>Soar International College</td>\n",
       "      <td>None</td>\n",
       "      <td>POINT (3.35732 7.12193)</td>\n",
       "    </tr>\n",
       "    <tr>\n",
       "      <th>280471</th>\n",
       "      <td>UNICEF-BRA-SCHOOL-00072724</td>\n",
       "      <td>UNICEF</td>\n",
       "      <td>BRA</td>\n",
       "      <td>Brazil</td>\n",
       "      <td>Americas</td>\n",
       "      <td>Latin America and the Caribbean</td>\n",
       "      <td>EM BRAZ DOMINGUES DE ARAUJO</td>\n",
       "      <td>8bc9a942-ab0d-387f-b151-72712ee1b4b9</td>\n",
       "      <td>POINT (-46.41054 -19.02011)</td>\n",
       "    </tr>\n",
       "    <tr>\n",
       "      <th>32604</th>\n",
       "      <td>UNICEF-NGA-SCHOOL-00094247</td>\n",
       "      <td>UNICEF</td>\n",
       "      <td>NGA</td>\n",
       "      <td>Nigeria</td>\n",
       "      <td>Africa</td>\n",
       "      <td>Sub-Saharan Africa</td>\n",
       "      <td>Omowasola Nursery Primary School Olorunda Abaa</td>\n",
       "      <td>337a5c9b-3809-3e16-8313-53acb15e04ad</td>\n",
       "      <td>POINT (3.98597 7.48620)</td>\n",
       "    </tr>\n",
       "  </tbody>\n",
       "</table>\n",
       "</div>"
      ],
      "text/plain": [
       "                                 UID    source  iso  country    region  \\\n",
       "94381   OVERTURE-NGA-SCHOOL-00006209  OVERTURE  NGA  Nigeria    Africa   \n",
       "280471    UNICEF-BRA-SCHOOL-00072724    UNICEF  BRA   Brazil  Americas   \n",
       "32604     UNICEF-NGA-SCHOOL-00094247    UNICEF  NGA  Nigeria    Africa   \n",
       "\n",
       "                              subregion  \\\n",
       "94381                Sub-Saharan Africa   \n",
       "280471  Latin America and the Caribbean   \n",
       "32604                Sub-Saharan Africa   \n",
       "\n",
       "                                                  name  \\\n",
       "94381                       Soar International College   \n",
       "280471                     EM BRAZ DOMINGUES DE ARAUJO   \n",
       "32604   Omowasola Nursery Primary School Olorunda Abaa   \n",
       "\n",
       "                              giga_id_school                     geometry  \n",
       "94381                                   None      POINT (3.35732 7.12193)  \n",
       "280471  8bc9a942-ab0d-387f-b151-72712ee1b4b9  POINT (-46.41054 -19.02011)  \n",
       "32604   337a5c9b-3809-3e16-8313-53acb15e04ad      POINT (3.98597 7.48620)  "
      ]
     },
     "execution_count": 2,
     "metadata": {},
     "output_type": "execute_result"
    }
   ],
   "source": [
    "schools = clean_utils.filter_pois(\n",
    "    category=\"school\",\n",
    "    buffer_size=25,\n",
    "    name_match_threshold=85,\n",
    "    name_match_buffer_size=150,\n",
    ")\n",
    "schools.sample(3)"
   ]
  },
  {
   "cell_type": "markdown",
   "id": "be0c02be-926f-43da-b710-df7a93a208cb",
   "metadata": {},
   "source": [
    "## Clean Non-schools Dataset"
   ]
  },
  {
   "cell_type": "code",
   "execution_count": 3,
   "id": "4d215904-be27-4401-a3f9-2368dbf275d5",
   "metadata": {
    "tags": []
   },
   "outputs": [
    {
     "name": "stderr",
     "output_type": "stream",
     "text": [
      "INFO:root:Reading /home/itingzon.unicef/giga/data/vectors/school/clean.geojson...\n",
      "INFO:root:School data dimensions: (456787, 9)\n"
     ]
    },
    {
     "data": {
      "application/vnd.jupyter.widget-view+json": {
       "model_id": "108e2ff68f5f441bb71f26f6fbd86849",
       "version_major": 2,
       "version_minor": 0
      },
      "text/plain": [
       "  0%|          | 0/2 [00:00<?, ?it/s]"
      ]
     },
     "metadata": {},
     "output_type": "display_data"
    },
    {
     "name": "stderr",
     "output_type": "stream",
     "text": [
      "WARNING:fiona.ogrext:Expecting property name enclosed in double quotes: line 1 column 2 (char 1)\n",
      "INFO:root:Non-school data dimensions: (1016890, 8)\n"
     ]
    },
    {
     "data": {
      "application/vnd.jupyter.widget-view+json": {
       "model_id": "d74d8c1145644d159b0f5ff807af574b",
       "version_major": 2,
       "version_minor": 0
      },
      "text/plain": [
       "  0%|          | 0/39 [00:00<?, ?it/s]"
      ]
     },
     "metadata": {},
     "output_type": "display_data"
    },
    {
     "name": "stderr",
     "output_type": "stream",
     "text": [
      "INFO:root:Data dimensions: (747663, 8), CRS: EPSG:4326\n",
      "INFO:root:Generated /home/itingzon.unicef/giga/data/vectors/non_school/filtered.geojson\n"
     ]
    },
    {
     "data": {
      "application/vnd.jupyter.widget-view+json": {
       "model_id": "3c01cd7311b04377b478af1fb8c4077b",
       "version_major": 2,
       "version_minor": 0
      },
      "text/plain": [
       "  0%|          | 0/39 [00:00<?, ?it/s]"
      ]
     },
     "metadata": {},
     "output_type": "display_data"
    },
    {
     "name": "stderr",
     "output_type": "stream",
     "text": [
      "INFO:root:Data dimensions: (503767, 8), CRS: EPSG:4326\n",
      "INFO:root:Generated /home/itingzon.unicef/giga/data/vectors/non_school/clean.geojson\n"
     ]
    },
    {
     "data": {
      "text/html": [
       "<div>\n",
       "<style scoped>\n",
       "    .dataframe tbody tr th:only-of-type {\n",
       "        vertical-align: middle;\n",
       "    }\n",
       "\n",
       "    .dataframe tbody tr th {\n",
       "        vertical-align: top;\n",
       "    }\n",
       "\n",
       "    .dataframe thead th {\n",
       "        text-align: right;\n",
       "    }\n",
       "</style>\n",
       "<table border=\"1\" class=\"dataframe\">\n",
       "  <thead>\n",
       "    <tr style=\"text-align: right;\">\n",
       "      <th></th>\n",
       "      <th>UID</th>\n",
       "      <th>source</th>\n",
       "      <th>iso</th>\n",
       "      <th>country</th>\n",
       "      <th>region</th>\n",
       "      <th>subregion</th>\n",
       "      <th>name</th>\n",
       "      <th>geometry</th>\n",
       "    </tr>\n",
       "  </thead>\n",
       "  <tbody>\n",
       "    <tr>\n",
       "      <th>424976</th>\n",
       "      <td>OVERTURE-CRI-NON_SCHOOL-00002765</td>\n",
       "      <td>OVERTURE</td>\n",
       "      <td>CRI</td>\n",
       "      <td>Costa Rica</td>\n",
       "      <td>Americas</td>\n",
       "      <td>Latin America and the Caribbean</td>\n",
       "      <td>Bar Restaurante las Tejas</td>\n",
       "      <td>POINT (-83.95026 9.82435)</td>\n",
       "    </tr>\n",
       "    <tr>\n",
       "      <th>406448</th>\n",
       "      <td>OVERTURE-BRA-NON_SCHOOL-00229514</td>\n",
       "      <td>OVERTURE</td>\n",
       "      <td>BRA</td>\n",
       "      <td>Brazil</td>\n",
       "      <td>Americas</td>\n",
       "      <td>Latin America and the Caribbean</td>\n",
       "      <td>Bar do Boca 1</td>\n",
       "      <td>POINT (-59.94872 -3.12189)</td>\n",
       "    </tr>\n",
       "    <tr>\n",
       "      <th>305616</th>\n",
       "      <td>OVERTURE-BRA-NON_SCHOOL-00264641</td>\n",
       "      <td>OVERTURE</td>\n",
       "      <td>BRA</td>\n",
       "      <td>Brazil</td>\n",
       "      <td>Americas</td>\n",
       "      <td>Latin America and the Caribbean</td>\n",
       "      <td>Hospital E Maternidade Municipal De Viçosa Do ...</td>\n",
       "      <td>POINT (-41.09468 -3.56768)</td>\n",
       "    </tr>\n",
       "  </tbody>\n",
       "</table>\n",
       "</div>"
      ],
      "text/plain": [
       "                                     UID    source  iso     country    region  \\\n",
       "424976  OVERTURE-CRI-NON_SCHOOL-00002765  OVERTURE  CRI  Costa Rica  Americas   \n",
       "406448  OVERTURE-BRA-NON_SCHOOL-00229514  OVERTURE  BRA      Brazil  Americas   \n",
       "305616  OVERTURE-BRA-NON_SCHOOL-00264641  OVERTURE  BRA      Brazil  Americas   \n",
       "\n",
       "                              subregion  \\\n",
       "424976  Latin America and the Caribbean   \n",
       "406448  Latin America and the Caribbean   \n",
       "305616  Latin America and the Caribbean   \n",
       "\n",
       "                                                     name  \\\n",
       "424976                          Bar Restaurante las Tejas   \n",
       "406448                                      Bar do Boca 1   \n",
       "305616  Hospital E Maternidade Municipal De Viçosa Do ...   \n",
       "\n",
       "                          geometry  \n",
       "424976   POINT (-83.95026 9.82435)  \n",
       "406448  POINT (-59.94872 -3.12189)  \n",
       "305616  POINT (-41.09468 -3.56768)  "
      ]
     },
     "execution_count": 3,
     "metadata": {},
     "output_type": "execute_result"
    }
   ],
   "source": [
    "nonschools = clean_utils.filter_pois(\n",
    "    category=\"non_school\",\n",
    "    buffer_size=25,\n",
    "    school_file=\"clean.geojson\",\n",
    "    school_buffer_size=150,\n",
    "    name_match_threshold=85,\n",
    "    name_match_buffer_size=150,\n",
    ")\n",
    "nonschools.sample(3)"
   ]
  },
  {
   "cell_type": "code",
   "execution_count": 10,
   "id": "c8025ded-5e01-4d10-a3a8-c19af0ac466e",
   "metadata": {
    "tags": []
   },
   "outputs": [
    {
     "data": {
      "text/html": [
       "\n",
       "            <style>\n",
       "                .geemap-dark {\n",
       "                    --jp-widgets-color: white;\n",
       "                    --jp-widgets-label-color: white;\n",
       "                    --jp-ui-font-color1: white;\n",
       "                    --jp-layout-color2: #454545;\n",
       "                    background-color: #383838;\n",
       "                }\n",
       "                    \n",
       "                .geemap-dark .jupyter-button {\n",
       "                    --jp-layout-color3: #383838;\n",
       "                }\n",
       "                \n",
       "                .geemap-colab {\n",
       "                    background-color: var(--colab-primary-surface-color, white);\n",
       "                }\n",
       "                    \n",
       "                .geemap-colab .jupyter-button {\n",
       "                    --jp-layout-color3: var(--colab-primary-surface-color, white);\n",
       "                }\n",
       "            </style>\n",
       "            "
      ],
      "text/plain": [
       "<IPython.core.display.HTML object>"
      ]
     },
     "metadata": {},
     "output_type": "display_data"
    },
    {
     "data": {
      "text/html": [
       "<p>To authorize access needed by Earth Engine, open the following\n",
       "        URL in a web browser and follow the instructions:</p>\n",
       "        <p><a href=https://code.earthengine.google.com/client-auth?scopes=https%3A//www.googleapis.com/auth/earthengine%20https%3A//www.googleapis.com/auth/devstorage.full_control&request_id=wfZJYS8_mCLiK59tNoZy3rIO3agdZm-E7j0vtweXJOk&tc=S3HGAK07ri_NGZsRsipPjpSdxDX0CnOX7bA9PhFFKNA&cc=6_IhL0slwXqnaMb9Z1MIQUHwhnQIR_YfPb89ugXyULI>https://code.earthengine.google.com/client-auth?scopes=https%3A//www.googleapis.com/auth/earthengine%20https%3A//www.googleapis.com/auth/devstorage.full_control&request_id=wfZJYS8_mCLiK59tNoZy3rIO3agdZm-E7j0vtweXJOk&tc=S3HGAK07ri_NGZsRsipPjpSdxDX0CnOX7bA9PhFFKNA&cc=6_IhL0slwXqnaMb9Z1MIQUHwhnQIR_YfPb89ugXyULI</a></p>\n",
       "        <p>The authorization workflow will generate a code, which you should paste in the box below.</p>\n",
       "        "
      ],
      "text/plain": [
       "<IPython.core.display.HTML object>"
      ]
     },
     "metadata": {},
     "output_type": "display_data"
    },
    {
     "name": "stdin",
     "output_type": "stream",
     "text": [
      "Enter verification code:  4/1AfJohXnVqQneROnWxOgjtTMnTwrlxtRzpl5eTlWgF-CPHTkZoYS2NQx1Vo0\n"
     ]
    },
    {
     "name": "stdout",
     "output_type": "stream",
     "text": [
      "\n",
      "Successfully saved authorization token.\n",
      "100\n"
     ]
    },
    {
     "data": {
      "application/vnd.jupyter.widget-view+json": {
       "model_id": "7457e6ef2b8a43a885d61ba1c6b50ead",
       "version_major": 2,
       "version_minor": 0
      },
      "text/plain": [
       "  0%|          | 0/100 [00:00<?, ?it/s]"
      ]
     },
     "metadata": {},
     "output_type": "display_data"
    }
   ],
   "source": [
    "data = schools[schools.iso == 'NAM']\n",
    "data = clean_utils._filter_uninhabited_locations(data)"
   ]
  },
  {
   "cell_type": "code",
   "execution_count": 11,
   "id": "1580f164-e58a-44aa-9684-09a64e3b87a5",
   "metadata": {
    "tags": []
   },
   "outputs": [
    {
     "data": {
      "text/html": [
       "\n",
       "            <style>\n",
       "                .geemap-dark {\n",
       "                    --jp-widgets-color: white;\n",
       "                    --jp-widgets-label-color: white;\n",
       "                    --jp-ui-font-color1: white;\n",
       "                    --jp-layout-color2: #454545;\n",
       "                    background-color: #383838;\n",
       "                }\n",
       "                    \n",
       "                .geemap-dark .jupyter-button {\n",
       "                    --jp-layout-color3: #383838;\n",
       "                }\n",
       "                \n",
       "                .geemap-colab {\n",
       "                    background-color: var(--colab-primary-surface-color, white);\n",
       "                }\n",
       "                    \n",
       "                .geemap-colab .jupyter-button {\n",
       "                    --jp-layout-color3: var(--colab-primary-surface-color, white);\n",
       "                }\n",
       "            </style>\n",
       "            "
      ],
      "text/plain": [
       "<IPython.core.display.HTML object>"
      ]
     },
     "metadata": {},
     "output_type": "display_data"
    }
   ],
   "source": [
    "data.to_file(\"NAM_temp.geojson\", driver=\"GeoJSON\")"
   ]
  },
  {
   "cell_type": "markdown",
   "id": "37ade941-818a-4328-8958-e5abf23d4398",
   "metadata": {},
   "source": [
    "## Data Inspection"
   ]
  },
  {
   "cell_type": "code",
   "execution_count": 10,
   "id": "3640aad4-5efb-49a9-812a-8a5ca62f24ec",
   "metadata": {
    "tags": []
   },
   "outputs": [
    {
     "data": {
      "text/plain": [
       "region\n",
       "Africa      233783\n",
       "Americas    158712\n",
       "Asia         52459\n",
       "Europe       14882\n",
       "Oceania        108\n",
       "Name: count, dtype: int64"
      ]
     },
     "execution_count": 10,
     "metadata": {},
     "output_type": "execute_result"
    }
   ],
   "source": [
    "schools.region.value_counts()"
   ]
  },
  {
   "cell_type": "code",
   "execution_count": 11,
   "id": "3fc425fa-2f3b-4e9e-b235-abf1c85663f1",
   "metadata": {
    "tags": []
   },
   "outputs": [
    {
     "data": {
      "text/plain": [
       "subregion\n",
       "Sub-Saharan Africa                 233783\n",
       "Latin America and the Caribbean    158712\n",
       "South-eastern Asia                  33305\n",
       "Central Asia                        17943\n",
       "Eastern Europe                      13026\n",
       "Southern Europe                      1856\n",
       "Eastern Asia                         1211\n",
       "Micronesia                            108\n",
       "Name: count, dtype: int64"
      ]
     },
     "execution_count": 11,
     "metadata": {},
     "output_type": "execute_result"
    }
   ],
   "source": [
    "schools.subregion.value_counts()"
   ]
  },
  {
   "cell_type": "code",
   "execution_count": 12,
   "id": "3f5527a4-0d47-47a3-a485-075d9b0cc58a",
   "metadata": {
    "tags": []
   },
   "outputs": [
    {
     "data": {
      "text/plain": [
       "country\n",
       "Brazil                              127346\n",
       "Nigeria                             102725\n",
       "South Africa                         43861\n",
       "Thailand                             33305\n",
       "Niger                                17123\n",
       "Honduras                             15738\n",
       "Ghana                                14829\n",
       "Kenya                                13036\n",
       "Uzbekistan                           10297\n",
       "Ukraine                               9992\n",
       "Zimbabwe                              8768\n",
       "Kazakhstan                            7646\n",
       "Malawi                                7370\n",
       "Benin                                 6865\n",
       "Sierra Leone                          5763\n",
       "El Salvador                           5303\n",
       "Costa Rica                            4835\n",
       "South Sudan                           4533\n",
       "Rwanda                                3556\n",
       "Panama                                3293\n",
       "Hungary                               3034\n",
       "Namibia                               2141\n",
       "Bosnia and Herzegovina                1856\n",
       "Guinea                                1708\n",
       "Botswana                              1505\n",
       "Mongolia                              1211\n",
       "Trinidad and Tobago                    786\n",
       "Belize                                 476\n",
       "Barbados                               230\n",
       "Saint Lucia                            148\n",
       "Grenada                                139\n",
       "Saint Vincent and the Grenadines       116\n",
       "Kiribati                               108\n",
       "Dominica                                86\n",
       "Antigua and Barbuda                     81\n",
       "Saint Kitts and Nevis                   67\n",
       "Virgin Islands (British)                34\n",
       "Anguilla                                19\n",
       "Montserrat                              15\n",
       "Name: count, dtype: int64"
      ]
     },
     "execution_count": 12,
     "metadata": {},
     "output_type": "execute_result"
    }
   ],
   "source": [
    "schools.country.value_counts()"
   ]
  },
  {
   "cell_type": "code",
   "execution_count": 13,
   "id": "977ca355-e904-4aa3-8175-74274fd9b74d",
   "metadata": {
    "tags": []
   },
   "outputs": [
    {
     "data": {
      "text/plain": [
       "country\n",
       "Brazil                              242638\n",
       "Thailand                             79895\n",
       "Ukraine                              50034\n",
       "Hungary                              27088\n",
       "Nigeria                              19733\n",
       "Kazakhstan                           14123\n",
       "Kenya                                11790\n",
       "Uzbekistan                           11520\n",
       "Costa Rica                           10565\n",
       "Ghana                                10165\n",
       "South Africa                          7122\n",
       "Bosnia and Herzegovina                6408\n",
       "El Salvador                           3992\n",
       "Honduras                              3989\n",
       "Mongolia                              3634\n",
       "Panama                                3238\n",
       "Trinidad and Tobago                   3078\n",
       "Benin                                 2758\n",
       "Zimbabwe                              2725\n",
       "Guinea                                1984\n",
       "Botswana                              1953\n",
       "Niger                                 1713\n",
       "Malawi                                1522\n",
       "Namibia                               1220\n",
       "Belize                                1171\n",
       "Rwanda                                1081\n",
       "Barbados                               977\n",
       "Sierra Leone                           704\n",
       "South Sudan                            651\n",
       "Saint Lucia                            414\n",
       "Antigua and Barbuda                    356\n",
       "Saint Kitts and Nevis                  226\n",
       "Grenada                                216\n",
       "Saint Vincent and the Grenadines       182\n",
       "Dominica                               162\n",
       "Virgin Islands (British)               129\n",
       "Anguilla                                71\n",
       "Kiribati                                68\n",
       "Montserrat                              23\n",
       "Name: count, dtype: int64"
      ]
     },
     "execution_count": 13,
     "metadata": {},
     "output_type": "execute_result"
    }
   ],
   "source": [
    "nonschools.country.value_counts()"
   ]
  }
 ],
 "metadata": {
  "kernelspec": {
   "display_name": "giga",
   "language": "python",
   "name": "giga"
  },
  "language_info": {
   "codemirror_mode": {
    "name": "ipython",
    "version": 3
   },
   "file_extension": ".py",
   "mimetype": "text/x-python",
   "name": "python",
   "nbconvert_exporter": "python",
   "pygments_lexer": "ipython3",
   "version": "3.11.5"
  }
 },
 "nbformat": 4,
 "nbformat_minor": 5
}
