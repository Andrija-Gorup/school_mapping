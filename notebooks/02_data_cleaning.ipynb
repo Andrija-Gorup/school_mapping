{
 "cells": [
  {
   "cell_type": "markdown",
   "id": "db5974d1-7220-4373-9b16-7e2064e9d958",
   "metadata": {},
   "source": [
    "## Imports and Setup"
   ]
  },
  {
   "cell_type": "code",
   "execution_count": 1,
   "id": "870400b5-e8b5-4e1f-b488-6fc985d4dcb2",
   "metadata": {
    "tags": []
   },
   "outputs": [],
   "source": [
    "import os\n",
    "import pandas as pd\n",
    "import geopandas as gpd\n",
    "\n",
    "import sys\n",
    "sys.path.insert(0, \"../utils/\")\n",
    "import clean_utils\n",
    "\n",
    "%load_ext autoreload\n",
    "%autoreload 2"
   ]
  },
  {
   "cell_type": "markdown",
   "id": "2ad6167a-ccbb-45d0-a03c-16a84b55e997",
   "metadata": {},
   "source": [
    "## Data Deduplication"
   ]
  },
  {
   "cell_type": "code",
   "execution_count": 13,
   "id": "118344e9-5e52-4f5d-a72e-4744a869ad25",
   "metadata": {
    "tags": []
   },
   "outputs": [
    {
     "data": {
      "application/vnd.jupyter.widget-view+json": {
       "model_id": "a25e97ccdf1745d788b2f6335818f381",
       "version_major": 2,
       "version_minor": 0
      },
      "text/plain": [
       "  0%|          | 0/3 [00:00<?, ?it/s]"
      ]
     },
     "metadata": {},
     "output_type": "display_data"
    },
    {
     "data": {
      "application/vnd.jupyter.widget-view+json": {
       "model_id": "6b664ef51f5c429c8f3a5c8f5dc1add6",
       "version_major": 2,
       "version_minor": 0
      },
      "text/plain": [
       "  0%|          | 0/39 [00:00<?, ?it/s]"
      ]
     },
     "metadata": {},
     "output_type": "display_data"
    },
    {
     "name": "stdout",
     "output_type": "stream",
     "text": [
      "Data dimensions: (448897, 9), CRS: EPSG:4326\n",
      "Generated /home/itingzon.unicef/giga/data/vectors/school/clean.geojson\n"
     ]
    },
    {
     "data": {
      "text/html": [
       "<div>\n",
       "<style scoped>\n",
       "    .dataframe tbody tr th:only-of-type {\n",
       "        vertical-align: middle;\n",
       "    }\n",
       "\n",
       "    .dataframe tbody tr th {\n",
       "        vertical-align: top;\n",
       "    }\n",
       "\n",
       "    .dataframe thead th {\n",
       "        text-align: right;\n",
       "    }\n",
       "</style>\n",
       "<table border=\"1\" class=\"dataframe\">\n",
       "  <thead>\n",
       "    <tr style=\"text-align: right;\">\n",
       "      <th></th>\n",
       "      <th>UID</th>\n",
       "      <th>source</th>\n",
       "      <th>iso</th>\n",
       "      <th>country</th>\n",
       "      <th>region</th>\n",
       "      <th>subregion</th>\n",
       "      <th>name</th>\n",
       "      <th>giga_id_school</th>\n",
       "      <th>geometry</th>\n",
       "    </tr>\n",
       "  </thead>\n",
       "  <tbody>\n",
       "    <tr>\n",
       "      <th>153191</th>\n",
       "      <td>UNICEF-THA-SCHOOL-00024133</td>\n",
       "      <td>UNICEF</td>\n",
       "      <td>THA</td>\n",
       "      <td>Thailand</td>\n",
       "      <td>Asia</td>\n",
       "      <td>South-eastern Asia</td>\n",
       "      <td>บ้านลาเมาะ</td>\n",
       "      <td>e936d81d-92e4-326a-8b0c-022ad1769ab8</td>\n",
       "      <td>POINT (99.47092 20.04254)</td>\n",
       "    </tr>\n",
       "    <tr>\n",
       "      <th>330094</th>\n",
       "      <td>UNICEF-BRA-SCHOOL-00062299</td>\n",
       "      <td>UNICEF</td>\n",
       "      <td>BRA</td>\n",
       "      <td>Brazil</td>\n",
       "      <td>Americas</td>\n",
       "      <td>Latin America and the Caribbean</td>\n",
       "      <td>ESCOLA JOSE CAMARGO</td>\n",
       "      <td>94d36039-57e6-3e99-a8a6-70b25c8c71c5</td>\n",
       "      <td>POINT (-41.40183 -14.75036)</td>\n",
       "    </tr>\n",
       "    <tr>\n",
       "      <th>9588</th>\n",
       "      <td>UNICEF-HND-SCHOOL-00013222</td>\n",
       "      <td>UNICEF</td>\n",
       "      <td>HND</td>\n",
       "      <td>Honduras</td>\n",
       "      <td>Americas</td>\n",
       "      <td>Latin America and the Caribbean</td>\n",
       "      <td>HILARIO GUEVARA</td>\n",
       "      <td>ffe3c507-38e6-3cca-939f-272546ea4a43</td>\n",
       "      <td>POINT (-86.84442 13.40997)</td>\n",
       "    </tr>\n",
       "  </tbody>\n",
       "</table>\n",
       "</div>"
      ],
      "text/plain": [
       "                               UID  source  iso   country    region  \\\n",
       "153191  UNICEF-THA-SCHOOL-00024133  UNICEF  THA  Thailand      Asia   \n",
       "330094  UNICEF-BRA-SCHOOL-00062299  UNICEF  BRA    Brazil  Americas   \n",
       "9588    UNICEF-HND-SCHOOL-00013222  UNICEF  HND  Honduras  Americas   \n",
       "\n",
       "                              subregion                 name  \\\n",
       "153191               South-eastern Asia           บ้านลาเมาะ   \n",
       "330094  Latin America and the Caribbean  ESCOLA JOSE CAMARGO   \n",
       "9588    Latin America and the Caribbean      HILARIO GUEVARA   \n",
       "\n",
       "                              giga_id_school                     geometry  \n",
       "153191  e936d81d-92e4-326a-8b0c-022ad1769ab8    POINT (99.47092 20.04254)  \n",
       "330094  94d36039-57e6-3e99-a8a6-70b25c8c71c5  POINT (-41.40183 -14.75036)  \n",
       "9588    ffe3c507-38e6-3cca-939f-272546ea4a43   POINT (-86.84442 13.40997)  "
      ]
     },
     "execution_count": 13,
     "metadata": {},
     "output_type": "execute_result"
    }
   ],
   "source": [
    "clean_data = clean_utils.deduplicate_data(\n",
    "    data_dir='data/vectors/school', \n",
    "    out_dir='data/vectors/school/clean',\n",
    "    buffer_size=50\n",
    ")\n",
    "clean_data.sample(3)"
   ]
  },
  {
   "cell_type": "markdown",
   "id": "37ade941-818a-4328-8958-e5abf23d4398",
   "metadata": {},
   "source": [
    "## Data Inspection"
   ]
  },
  {
   "cell_type": "code",
   "execution_count": 3,
   "id": "3640aad4-5efb-49a9-812a-8a5ca62f24ec",
   "metadata": {
    "tags": []
   },
   "outputs": [
    {
     "data": {
      "text/plain": [
       "region\n",
       "Africa      232314\n",
       "Americas    150167\n",
       "Asia         51636\n",
       "Europe       14676\n",
       "Oceania        104\n",
       "Name: count, dtype: int64"
      ]
     },
     "execution_count": 3,
     "metadata": {},
     "output_type": "execute_result"
    }
   ],
   "source": [
    "clean_data.region.value_counts()"
   ]
  },
  {
   "cell_type": "code",
   "execution_count": 4,
   "id": "3fc425fa-2f3b-4e9e-b235-abf1c85663f1",
   "metadata": {
    "tags": []
   },
   "outputs": [
    {
     "data": {
      "text/plain": [
       "subregion\n",
       "Sub-Saharan Africa                 232314\n",
       "Latin America and the Caribbean    150167\n",
       "South-eastern Asia                  32423\n",
       "Central Asia                        18052\n",
       "Eastern Europe                      12839\n",
       "Southern Europe                      1837\n",
       "Eastern Asia                         1161\n",
       "Micronesia                            104\n",
       "Name: count, dtype: int64"
      ]
     },
     "execution_count": 4,
     "metadata": {},
     "output_type": "execute_result"
    }
   ],
   "source": [
    "clean_data.subregion.value_counts()"
   ]
  },
  {
   "cell_type": "code",
   "execution_count": 5,
   "id": "3f5527a4-0d47-47a3-a485-075d9b0cc58a",
   "metadata": {
    "tags": []
   },
   "outputs": [
    {
     "data": {
      "text/plain": [
       "country\n",
       "Brazil                              119959\n",
       "Nigeria                             102916\n",
       "South Africa                         43406\n",
       "Thailand                             32423\n",
       "Niger                                16961\n",
       "Honduras                             14883\n",
       "Ghana                                14265\n",
       "Kenya                                12496\n",
       "Uzbekistan                           10475\n",
       "Ukraine                               9892\n",
       "Zimbabwe                              8769\n",
       "Malawi                                7708\n",
       "Kazakhstan                            7577\n",
       "Benin                                 6770\n",
       "Sierra Leone                          5799\n",
       "El Salvador                           5135\n",
       "Costa Rica                            4785\n",
       "South Sudan                           4314\n",
       "Rwanda                                3533\n",
       "Panama                                3247\n",
       "Hungary                               2947\n",
       "Namibia                               2158\n",
       "Bosnia and Herzegovina                1837\n",
       "Botswana                              1617\n",
       "Guinea                                1602\n",
       "Mongolia                              1161\n",
       "Trinidad and Tobago                    781\n",
       "Belize                                 472\n",
       "Barbados                               225\n",
       "Grenada                                140\n",
       "Saint Lucia                            138\n",
       "Saint Vincent and the Grenadines       113\n",
       "Kiribati                               104\n",
       "Dominica                                82\n",
       "Antigua and Barbuda                     79\n",
       "Saint Kitts and Nevis                   65\n",
       "Virgin Islands (British)                30\n",
       "Anguilla                                20\n",
       "Montserrat                              13\n",
       "Name: count, dtype: int64"
      ]
     },
     "execution_count": 5,
     "metadata": {},
     "output_type": "execute_result"
    }
   ],
   "source": [
    "clean_data.country.value_counts()"
   ]
  }
 ],
 "metadata": {
  "kernelspec": {
   "display_name": "giga",
   "language": "python",
   "name": "giga"
  },
  "language_info": {
   "codemirror_mode": {
    "name": "ipython",
    "version": 3
   },
   "file_extension": ".py",
   "mimetype": "text/x-python",
   "name": "python",
   "nbconvert_exporter": "python",
   "pygments_lexer": "ipython3",
   "version": "3.11.5"
  }
 },
 "nbformat": 4,
 "nbformat_minor": 5
}
