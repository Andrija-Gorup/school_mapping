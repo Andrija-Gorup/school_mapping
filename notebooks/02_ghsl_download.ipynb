{
 "cells": [
  {
   "cell_type": "markdown",
   "id": "637c6bdf-1420-4eb6-ad4f-4138181502ac",
   "metadata": {},
   "source": [
    "## Imports and Setup"
   ]
  },
  {
   "cell_type": "code",
   "execution_count": 1,
   "id": "b1955704-98bf-47ee-9561-ededf9b36d10",
   "metadata": {},
   "outputs": [],
   "source": [
    "import os\n",
    "import pandas as pd\n",
    "import geopandas as gpd\n",
    "import geemap.foliumap as emap\n",
    "\n",
    "import sys\n",
    "sys.path.insert(0, \"../utils/\")\n",
    "import gee_utils\n",
    "import config_utils\n",
    "import clean_utils\n",
    "\n",
    "import warnings\n",
    "warnings.filterwarnings('ignore')\n",
    "warnings.simplefilter('ignore')\n",
    "\n",
    "%load_ext autoreload\n",
    "%autoreload 2"
   ]
  },
  {
   "cell_type": "markdown",
   "id": "b53e6579-43ee-43ea-a8ab-02ba943f7051",
   "metadata": {},
   "source": [
    "## Data Configs"
   ]
  },
  {
   "cell_type": "code",
   "execution_count": 2,
   "id": "e9c1afa4-0087-4a4d-a403-ccec948aa9dc",
   "metadata": {},
   "outputs": [
    {
     "data": {
      "text/html": [
       "\n",
       "            <style>\n",
       "                .geemap-dark {\n",
       "                    --jp-widgets-color: white;\n",
       "                    --jp-widgets-label-color: white;\n",
       "                    --jp-ui-font-color1: white;\n",
       "                    --jp-layout-color2: #454545;\n",
       "                    background-color: #383838;\n",
       "                }\n",
       "                    \n",
       "                .geemap-dark .jupyter-button {\n",
       "                    --jp-layout-color3: #383838;\n",
       "                }\n",
       "                \n",
       "                .geemap-colab {\n",
       "                    background-color: var(--colab-primary-surface-color, white);\n",
       "                }\n",
       "                    \n",
       "                .geemap-colab .jupyter-button {\n",
       "                    --jp-layout-color3: var(--colab-primary-surface-color, white);\n",
       "                }\n",
       "            </style>\n",
       "            "
      ],
      "text/plain": [
       "<IPython.core.display.HTML object>"
      ]
     },
     "metadata": {},
     "output_type": "display_data"
    }
   ],
   "source": [
    "cwd = os.path.dirname(os.getcwd())\n",
    "config_file = os.path.join(cwd, 'configs/data_config.yaml')\n",
    "config = config_utils.create_config(config_file)"
   ]
  },
  {
   "cell_type": "markdown",
   "id": "1298f7e7-2e7a-40bc-8726-5fd41ea42663",
   "metadata": {},
   "source": [
    "## Option 1: Download Directly from Data Source (Recommended)\n",
    "Download the GHS-BUILT-C Product directly from the JRC website: https://ghsl.jrc.ec.europa.eu/download.php?ds=builtC"
   ]
  },
  {
   "cell_type": "code",
   "execution_count": 3,
   "id": "794c9449-4322-4f6a-b292-d60ca7e692b2",
   "metadata": {},
   "outputs": [
    {
     "data": {
      "text/html": [
       "\n",
       "            <style>\n",
       "                .geemap-dark {\n",
       "                    --jp-widgets-color: white;\n",
       "                    --jp-widgets-label-color: white;\n",
       "                    --jp-ui-font-color1: white;\n",
       "                    --jp-layout-color2: #454545;\n",
       "                    background-color: #383838;\n",
       "                }\n",
       "                    \n",
       "                .geemap-dark .jupyter-button {\n",
       "                    --jp-layout-color3: #383838;\n",
       "                }\n",
       "                \n",
       "                .geemap-colab {\n",
       "                    background-color: var(--colab-primary-surface-color, white);\n",
       "                }\n",
       "                    \n",
       "                .geemap-colab .jupyter-button {\n",
       "                    --jp-layout-color3: var(--colab-primary-surface-color, white);\n",
       "                }\n",
       "            </style>\n",
       "            "
      ],
      "text/plain": [
       "<IPython.core.display.HTML object>"
      ]
     },
     "metadata": {},
     "output_type": "display_data"
    },
    {
     "name": "stderr",
     "output_type": "stream",
     "text": [
      "Processing HUN: 100%|████████████████████| 41/41 [00:00<00:00, 1854.97it/s]                                             \n"
     ]
    }
   ],
   "source": [
    "ghsl_zip = os.path.join(cwd, config[\"rasters_dir\"], \"ghsl/global/ghsl.zip\")\n",
    "ghsl_folder = os.path.join(cwd, config[\"rasters_dir\"], \"ghsl/global\")\n",
    "ghsl_path = os.path.join(cwd, config[\"rasters_dir\"], 'ghsl', config[\"ghsl_file\"])\n",
    "\n",
    "if not os.path.exists(ghsl_path):\n",
    "    !wget {config[\"ghsl_url\"]} -O {ghsl_zip}\n",
    "    !unzip {ghsl_zip} -d {ghsl_folder}\n",
    "    \n",
    "clean_utils.generate_ghsl_per_country(config, layer=\"ghsl\", exclude=[\"KIR\"])"
   ]
  },
  {
   "cell_type": "markdown",
   "id": "0f161890-56d8-42e4-a6d4-6b228ce6ebca",
   "metadata": {},
   "source": [
    "## Option 2: Download from Google Earth Engine (GEE)\n",
    "Download the GHSL Product via Google Earth Engine. Cropping the GHSL dataset per country may cause the system to crash; downloading from GEE is a good alternative for getting country-level GHSL data."
   ]
  },
  {
   "cell_type": "markdown",
   "id": "73c92b42-249f-4ffd-80b8-255f99a470c1",
   "metadata": {},
   "source": [
    "### Export GEE Images to Google Drive"
   ]
  },
  {
   "cell_type": "code",
   "execution_count": 4,
   "id": "44eb945c-7c3c-4b64-9f2a-f1a273e9929b",
   "metadata": {},
   "outputs": [
    {
     "data": {
      "text/html": [
       "\n",
       "            <style>\n",
       "                .geemap-dark {\n",
       "                    --jp-widgets-color: white;\n",
       "                    --jp-widgets-label-color: white;\n",
       "                    --jp-ui-font-color1: white;\n",
       "                    --jp-layout-color2: #454545;\n",
       "                    background-color: #383838;\n",
       "                }\n",
       "                    \n",
       "                .geemap-dark .jupyter-button {\n",
       "                    --jp-layout-color3: #383838;\n",
       "                }\n",
       "                \n",
       "                .geemap-colab {\n",
       "                    background-color: var(--colab-primary-surface-color, white);\n",
       "                }\n",
       "                    \n",
       "                .geemap-colab .jupyter-button {\n",
       "                    --jp-layout-color3: var(--colab-primary-surface-color, white);\n",
       "                }\n",
       "            </style>\n",
       "            "
      ],
      "text/plain": [
       "<IPython.core.display.HTML object>"
      ]
     },
     "metadata": {},
     "output_type": "display_data"
    },
    {
     "data": {
      "text/html": [
       "<p>To authorize access needed by Earth Engine, open the following\n",
       "        URL in a web browser and follow the instructions:</p>\n",
       "        <p><a href=https://code.earthengine.google.com/client-auth?scopes=https%3A//www.googleapis.com/auth/earthengine%20https%3A//www.googleapis.com/auth/devstorage.full_control&request_id=NL4bT7VVwnrd8m3w-Qixu6gySTu7imY-hH_J0ENwpYo&tc=FYDhIgZSVwl7FBAAIp2L451T0mNK7RIHby1O6xdsQlE&cc=wNVGc7iJ7hcxvPCs3omq6N-VDw_pZpcT70mbxdFpLaE>https://code.earthengine.google.com/client-auth?scopes=https%3A//www.googleapis.com/auth/earthengine%20https%3A//www.googleapis.com/auth/devstorage.full_control&request_id=NL4bT7VVwnrd8m3w-Qixu6gySTu7imY-hH_J0ENwpYo&tc=FYDhIgZSVwl7FBAAIp2L451T0mNK7RIHby1O6xdsQlE&cc=wNVGc7iJ7hcxvPCs3omq6N-VDw_pZpcT70mbxdFpLaE</a></p>\n",
       "        <p>The authorization workflow will generate a code, which you should paste in the box below.</p>\n",
       "        "
      ],
      "text/plain": [
       "<IPython.core.display.HTML object>"
      ]
     },
     "metadata": {},
     "output_type": "display_data"
    },
    {
     "name": "stdin",
     "output_type": "stream",
     "text": [
      "Enter verification code:  4/1AfJohXlyDSjzOabd7dUIAtur_WpGHDq6YnPmoOwjiY-MgSpyfUTvUVepPVI\n"
     ]
    },
    {
     "name": "stdout",
     "output_type": "stream",
     "text": [
      "\n",
      "Successfully saved authorization token.\n"
     ]
    },
    {
     "name": "stderr",
     "output_type": "stream",
     "text": [
      "Processing KIR: 100%|████████████████████| 1/1 [00:06<00:00,  6.08s/it]                                                 \n"
     ]
    }
   ],
   "source": [
    "gee_utils._initialize_gee()\n",
    "iso_codes = [\"KIR\"]\n",
    "gee_utils.generate_gee_images(config, iso_codes=iso_codes, folder='GHSL', layer=\"ghsl\")"
   ]
  },
  {
   "cell_type": "markdown",
   "id": "d893d757-7a1f-4513-b79f-b36934542008",
   "metadata": {},
   "source": [
    "### Merge and Upload GeoTiffs\n",
    "\n",
    "The `generate_gee_images()` function will export the GEE images to your GDrive folder. Download these images to your local system. Some TIFFs maybe broken down into multiple files; to merge these, simply use the following command:\n",
    "```sh\n",
    "conda install gdal\n",
    "gdalbuildvrt ISO_ghsl.vrt ./*.tif\n",
    "gdal_translate -of GTiff -co \"TILED=YES\" ISO_ghsl.vrt ISO_ghsl.tif\n",
    "```\n",
    "Once merged, upload the GeoTIFF place it in your GHSL rasters folder under the file name `{iso_code}_ghsl.tiff`, e.g. `data/rasters/ghsl/NAM_ghsl.tiff`. "
   ]
  }
 ],
 "metadata": {
  "kernelspec": {
   "display_name": "giga",
   "language": "python",
   "name": "giga"
  },
  "language_info": {
   "codemirror_mode": {
    "name": "ipython",
    "version": 3
   },
   "file_extension": ".py",
   "mimetype": "text/x-python",
   "name": "python",
   "nbconvert_exporter": "python",
   "pygments_lexer": "ipython3",
   "version": "3.11.5"
  }
 },
 "nbformat": 4,
 "nbformat_minor": 5
}
