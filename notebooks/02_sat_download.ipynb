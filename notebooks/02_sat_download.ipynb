{
 "cells": [
  {
   "cell_type": "markdown",
   "id": "6148df28-c45e-47de-aebc-90314bf098a6",
   "metadata": {},
   "source": [
    "## Imports and Setup"
   ]
  },
  {
   "cell_type": "code",
   "execution_count": 4,
   "id": "32fb21ec-02dd-4cc9-921c-85e6bb1ab2c5",
   "metadata": {
    "editable": true,
    "slideshow": {
     "slide_type": ""
    },
    "tags": []
   },
   "outputs": [],
   "source": [
    "import os\n",
    "import sys\n",
    "sys.path.insert(0, \"../\")\n",
    "import sat_download\n",
    "sys.path.insert(0, \"../utils/\")\n",
    "import config_utils\n",
    "\n",
    "%load_ext autoreload\n",
    "%autoreload 2"
   ]
  },
  {
   "cell_type": "markdown",
   "id": "95c83265-3702-439c-9ea5-5e6593d086b0",
   "metadata": {},
   "source": [
    "## File Locations"
   ]
  },
  {
   "cell_type": "code",
   "execution_count": 6,
   "id": "009328db-1720-4b88-87b7-1778f491c1a5",
   "metadata": {
    "tags": []
   },
   "outputs": [],
   "source": [
    "iso = \"ATG\"\n",
    "cwd = os.path.dirname(os.getcwd())\n",
    "\n",
    "# Config files\n",
    "config_file = os.path.join(cwd, \"configs/sat_config.yaml\")\n",
    "creds_file = os.path.join(cwd, \"configs/sat_creds.yaml\")\n",
    "\n",
    "# Load config files\n",
    "config = config_utils.create_config(config_file)\n",
    "creds = config_utils.create_config(creds_file)"
   ]
  },
  {
   "cell_type": "markdown",
   "id": "db842671-9d4f-483c-8f9b-f9aa5be2256b",
   "metadata": {},
   "source": [
    "## Download Dataset"
   ]
  },
  {
   "cell_type": "code",
   "execution_count": 4,
   "id": "60828c2a-73f2-4414-b0db-9f1c5f606952",
   "metadata": {
    "tags": []
   },
   "outputs": [
    {
     "name": "stdout",
     "output_type": "stream",
     "text": [
      "Data dimensions: (57, 7), CRS: EPSG:3857\n"
     ]
    },
    {
     "data": {
      "application/vnd.jupyter.widget-view+json": {
       "model_id": "9c068cbfd38240c2afcd31accd909666",
       "version_major": 2,
       "version_minor": 0
      },
      "text/plain": [
       "  0%|          | 0/57 [00:00<?, ?it/s]"
      ]
     },
     "metadata": {},
     "output_type": "display_data"
    }
   ],
   "source": [
    "filename= os.path.join(cwd, \"data/schools/overture.geojson\")\n",
    "out_dir = os.path.join(cwd, f'data/images/{iso}/schools')\n",
    "sat_download.download_images(filename, creds, config, out_dir, iso=iso)"
   ]
  },
  {
   "cell_type": "code",
   "execution_count": 4,
   "id": "dbdc7d51-1f13-486a-988b-d76eacbc83ea",
   "metadata": {
    "tags": []
   },
   "outputs": [
    {
     "name": "stdout",
     "output_type": "stream",
     "text": [
      "Data dimensions: (43, 9), CRS: EPSG:3857\n"
     ]
    },
    {
     "data": {
      "application/vnd.jupyter.widget-view+json": {
       "model_id": "263917a272f94886b6843f368c59a8ce",
       "version_major": 2,
       "version_minor": 0
      },
      "text/plain": [
       "  0%|          | 0/43 [00:00<?, ?it/s]"
      ]
     },
     "metadata": {},
     "output_type": "display_data"
    }
   ],
   "source": [
    "filename= os.path.join(cwd, \"data/schools/giga.geojson\")\n",
    "out_dir = os.path.join(cwd, f'data/images/{iso}/schools/')\n",
    "sat_download.download_images(filename, creds, config, out_dir, iso=iso)"
   ]
  },
  {
   "cell_type": "code",
   "execution_count": 8,
   "id": "a41ae5a1-25b6-4312-947c-4f2a39df6f32",
   "metadata": {
    "tags": []
   },
   "outputs": [
    {
     "name": "stdout",
     "output_type": "stream",
     "text": [
      "Data dimensions: (32, 7), CRS: EPSG:3857\n"
     ]
    },
    {
     "data": {
      "application/vnd.jupyter.widget-view+json": {
       "model_id": "9e13885776c84658b8976840c94acae3",
       "version_major": 2,
       "version_minor": 0
      },
      "text/plain": [
       "  0%|          | 0/32 [00:00<?, ?it/s]"
      ]
     },
     "metadata": {},
     "output_type": "display_data"
    }
   ],
   "source": [
    "filename= os.path.join(cwd, \"data/non_schools/osm.geojson\")\n",
    "out_dir = os.path.join(cwd, f'data/images/{iso}/non_schools/')\n",
    "sat_download.download_images(filename, creds, config, out_dir, iso=iso)"
   ]
  }
 ],
 "metadata": {
  "kernelspec": {
   "display_name": "giga",
   "language": "python",
   "name": "giga"
  },
  "language_info": {
   "codemirror_mode": {
    "name": "ipython",
    "version": 3
   },
   "file_extension": ".py",
   "mimetype": "text/x-python",
   "name": "python",
   "nbconvert_exporter": "python",
   "pygments_lexer": "ipython3",
   "version": "3.11.5"
  }
 },
 "nbformat": 4,
 "nbformat_minor": 5
}
