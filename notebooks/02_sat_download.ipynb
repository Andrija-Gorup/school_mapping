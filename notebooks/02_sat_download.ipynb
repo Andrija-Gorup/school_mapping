{
 "cells": [
  {
   "cell_type": "markdown",
   "id": "6148df28-c45e-47de-aebc-90314bf098a6",
   "metadata": {},
   "source": [
    "## Imports and Setup"
   ]
  },
  {
   "cell_type": "code",
   "execution_count": 1,
   "id": "7635846a-e130-42de-b95d-361f9a61ce0e",
   "metadata": {
    "editable": true,
    "slideshow": {
     "slide_type": ""
    },
    "tags": []
   },
   "outputs": [],
   "source": [
    "import os\n",
    "\n",
    "import sys\n",
    "sys.path.insert(0, \"../src\")\n",
    "import sat_download\n",
    "\n",
    "sys.path.insert(0, \"../utils/\")\n",
    "import config_utils\n",
    "import data_utils\n",
    "import geopandas as gpd\n",
    "import pandas as pd\n",
    "\n",
    "%load_ext autoreload\n",
    "%autoreload 2"
   ]
  },
  {
   "cell_type": "markdown",
   "id": "95c83265-3702-439c-9ea5-5e6593d086b0",
   "metadata": {},
   "source": [
    "## File Locations"
   ]
  },
  {
   "cell_type": "code",
   "execution_count": 75,
   "id": "009328db-1720-4b88-87b7-1778f491c1a5",
   "metadata": {
    "tags": []
   },
   "outputs": [],
   "source": [
    "iso = \"BIH\"\n",
    "cwd = os.path.dirname(os.getcwd())\n",
    "\n",
    "# Credential config file\n",
    "config_file = os.path.join(cwd, \"configs/sat_configs/sat_config_500x500_60cm.yaml\")\n",
    "creds_file = os.path.join(cwd, \"configs/sat_creds.yaml\")\n",
    "\n",
    "config = config_utils.create_config(config_file)\n",
    "creds = config_utils.create_config(creds_file)"
   ]
  },
  {
   "cell_type": "markdown",
   "id": "db842671-9d4f-483c-8f9b-f9aa5be2256b",
   "metadata": {},
   "source": [
    "## Download Dataset"
   ]
  },
  {
   "cell_type": "code",
   "execution_count": null,
   "id": "162546a2-afd1-4730-b30e-411e91275d72",
   "metadata": {
    "tags": []
   },
   "outputs": [
    {
     "name": "stderr",
     "output_type": "stream",
     "text": [
      "INFO:root:Data dimensions: (2043, 12), CRS: EPSG:3857\n",
      "  5%|▉                   | 93/2043 [01:57<35:43,  1.10s/it]                                                             "
     ]
    }
   ],
   "source": [
    "sat_download.download_sat_images(creds, config, category=\"school\", iso=iso)"
   ]
  },
  {
   "cell_type": "code",
   "execution_count": null,
   "id": "31cde5e0-6080-48d8-8390-90b82d3e719c",
   "metadata": {
    "tags": []
   },
   "outputs": [],
   "source": [
    "sat_download.download_sat_images(creds, config, category=\"non_school\", iso=iso)"
   ]
  },
  {
   "cell_type": "markdown",
   "id": "3ed2206b-ca12-42b7-a6d5-8bcf0f2c26d5",
   "metadata": {},
   "source": [
    "## Data Inspection"
   ]
  },
  {
   "cell_type": "code",
   "execution_count": null,
   "id": "9d563cc0-d699-4f41-b6e6-ea3a88668a45",
   "metadata": {},
   "outputs": [],
   "source": [
    "filename=\"configs/data_config.yaml\"\n",
    "config = config_utils.load_config(os.path.join(cwd, filename))\n",
    "counts = data_utils.get_counts(config, column='iso')\n",
    "counts"
   ]
  }
 ],
 "metadata": {
  "kernelspec": {
   "display_name": "giga2",
   "language": "python",
   "name": "giga2"
  },
  "language_info": {
   "codemirror_mode": {
    "name": "ipython",
    "version": 3
   },
   "file_extension": ".py",
   "mimetype": "text/x-python",
   "name": "python",
   "nbconvert_exporter": "python",
   "pygments_lexer": "ipython3",
   "version": "3.10.13"
  }
 },
 "nbformat": 4,
 "nbformat_minor": 5
}
